{
 "cells": [
  {
   "cell_type": "code",
   "execution_count": 8,
   "metadata": {},
   "outputs": [],
   "source": [
    "import numpy as np\n",
    "import pandas as pd"
   ]
  },
  {
   "cell_type": "code",
   "execution_count": 10,
   "metadata": {},
   "outputs": [
    {
     "name": "stdout",
     "output_type": "stream",
     "text": [
      "  species\n",
      "0       A\n",
      "1       A\n",
      "2       A\n",
      "3       B\n",
      "4       B\n",
      "5       B\n",
      "6       B\n",
      "7       B\n",
      "8       B\n",
      "9       B\n"
     ]
    }
   ],
   "source": [
    "category_data = pd.read_csv(\"3-3-1-fish-species.csv\")\n",
    "\n",
    "print(category_data)"
   ]
  },
  {
   "cell_type": "code",
   "execution_count": 11,
   "metadata": {},
   "outputs": [
    {
     "data": {
      "text/plain": [
       "species\n",
       "A    3\n",
       "B    7\n",
       "Name: count, dtype: int64"
      ]
     },
     "execution_count": 11,
     "metadata": {},
     "output_type": "execute_result"
    }
   ],
   "source": [
    "category_data.species.value_counts(sort=False)\n",
    "\n",
    "# 도수분포를 얻기위한 처리이며\n",
    "# sort = False 처리 한 것은 도수순 정렬을 회피하는 것"
   ]
  },
  {
   "cell_type": "code",
   "execution_count": 15,
   "metadata": {},
   "outputs": [
    {
     "name": "stdout",
     "output_type": "stream",
     "text": [
      "   length\n",
      "0    1.91\n",
      "1    1.21\n",
      "2    2.28\n",
      "3    1.01\n",
      "4    1.00\n",
      "5    4.50\n",
      "6    1.96\n",
      "7    0.72\n",
      "8    3.67\n",
      "9    2.55\n"
     ]
    }
   ],
   "source": [
    "numeric_data = pd.read_csv('3-3-2-fish-length.csv')\n",
    "print(numeric_data)"
   ]
  },
  {
   "cell_type": "code",
   "execution_count": 16,
   "metadata": {},
   "outputs": [
    {
     "data": {
      "text/plain": [
       "length\n",
       "1.91    1\n",
       "1.21    1\n",
       "2.28    1\n",
       "1.01    1\n",
       "1.00    1\n",
       "4.50    1\n",
       "1.96    1\n",
       "0.72    1\n",
       "3.67    1\n",
       "2.55    1\n",
       "Name: count, dtype: int64"
      ]
     },
     "execution_count": 16,
     "metadata": {},
     "output_type": "execute_result"
    }
   ],
   "source": [
    "numeric_data.length.value_counts()\n",
    "\n",
    "# 이건 사실상 의미 없는 값이 나오는데\n",
    "# 동일한 데이터를 갖는 값이 없기 때문임"
   ]
  },
  {
   "cell_type": "code",
   "execution_count": 19,
   "metadata": {},
   "outputs": [
    {
     "data": {
      "text/plain": [
       "(0.715, 1.98]    6\n",
       "(1.98, 3.24]     2\n",
       "(3.24, 4.5]      2\n",
       "Name: count, dtype: int64"
      ]
     },
     "execution_count": 19,
     "metadata": {},
     "output_type": "execute_result"
    }
   ],
   "source": [
    "numeric_data.length.value_counts(bins=3)\n",
    "\n",
    "# 그래서 이렇게 처리하면\n",
    "# 3개의 구간으로 합쳐서 처리한다는 뜻\n",
    "# 하한은 미포함, 상한은 포함한다는 점에 주의."
   ]
  },
  {
   "cell_type": "code",
   "execution_count": 22,
   "metadata": {},
   "outputs": [
    {
     "name": "stdout",
     "output_type": "stream",
     "text": [
      "(-0.001, 1.0]    2\n",
      "(1.0, 2.0]       4\n",
      "(2.0, 3.0]       2\n",
      "(3.0, 4.0]       1\n",
      "(4.0, 5.0]       1\n",
      "Name: count, dtype: int64\n"
     ]
    }
   ],
   "source": [
    "freq = numeric_data.length.value_counts(\n",
    "    bins=np.arange(0, 6, 1), sort=False\n",
    ")\n",
    "\n",
    "# 5개의 구간으로 만들 때, 이런 테크닉도 가능\n",
    "\n",
    "print(freq)"
   ]
  },
  {
   "cell_type": "code",
   "execution_count": 25,
   "metadata": {},
   "outputs": [
    {
     "name": "stdout",
     "output_type": "stream",
     "text": [
      "(-0.001, 1.0]    0.2\n",
      "(1.0, 2.0]       0.4\n",
      "(2.0, 3.0]       0.2\n",
      "(3.0, 4.0]       0.1\n",
      "(4.0, 5.0]       0.1\n",
      "Name: count, dtype: float64\n"
     ]
    }
   ],
   "source": [
    "# 상대도수분포와 누적도수분포\n",
    "\n",
    "rel_freq = freq / sum(freq)\n",
    "\n",
    "print(rel_freq)"
   ]
  },
  {
   "cell_type": "code",
   "execution_count": 27,
   "metadata": {},
   "outputs": [
    {
     "data": {
      "text/plain": [
       "(-0.001, 1.0]    0.2\n",
       "(1.0, 2.0]       0.4\n",
       "(2.0, 3.0]       0.2\n",
       "(3.0, 4.0]       0.1\n",
       "(4.0, 5.0]       0.1\n",
       "Name: proportion, dtype: float64"
      ]
     },
     "execution_count": 27,
     "metadata": {},
     "output_type": "execute_result"
    }
   ],
   "source": [
    "# value_count() 함수를 이용한 표현도 가능 함\n",
    "\n",
    "numeric_data.length.value_counts(bins=np.arange(0,6,1),\n",
    "                                 sort=False,\n",
    "                                 normalize=True)\n"
   ]
  },
  {
   "cell_type": "code",
   "execution_count": 29,
   "metadata": {},
   "outputs": [
    {
     "data": {
      "text/plain": [
       "(array([0.1, 0.5, 0.2, 0.1, 0.1]), array([0, 1, 2, 3, 4, 5]))"
      ]
     },
     "execution_count": 29,
     "metadata": {},
     "output_type": "execute_result"
    }
   ],
   "source": [
    "# histogram 함수 사용할 땐, density=True로 지정한다\n",
    "\n",
    "np.histogram(numeric_data.length, bins=np.arange(0,6,1),\n",
    "             density=True)"
   ]
  },
  {
   "cell_type": "code",
   "execution_count": 30,
   "metadata": {},
   "outputs": [
    {
     "data": {
      "text/plain": [
       "(-0.001, 1.0]     2\n",
       "(1.0, 2.0]        6\n",
       "(2.0, 3.0]        8\n",
       "(3.0, 4.0]        9\n",
       "(4.0, 5.0]       10\n",
       "Name: count, dtype: int64"
      ]
     },
     "execution_count": 30,
     "metadata": {},
     "output_type": "execute_result"
    }
   ],
   "source": [
    "# 누적도수분포를 구할 땐 cumsum 함수 사용\n",
    "\n",
    "freq.cumsum()"
   ]
  },
  {
   "cell_type": "code",
   "execution_count": null,
   "metadata": {},
   "outputs": [],
   "source": []
  }
 ],
 "metadata": {
  "kernelspec": {
   "display_name": "Python 3",
   "language": "python",
   "name": "python3"
  },
  "language_info": {
   "codemirror_mode": {
    "name": "ipython",
    "version": 3
   },
   "file_extension": ".py",
   "mimetype": "text/x-python",
   "name": "python",
   "nbconvert_exporter": "python",
   "pygments_lexer": "ipython3",
   "version": "3.13.0"
  }
 },
 "nbformat": 4,
 "nbformat_minor": 2
}
