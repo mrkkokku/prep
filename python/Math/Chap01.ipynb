{
 "cells": [
  {
   "cell_type": "code",
   "execution_count": 18,
   "metadata": {},
   "outputs": [
    {
     "name": "stdout",
     "output_type": "stream",
     "text": [
      "3\n"
     ]
    }
   ],
   "source": [
    "'''\n",
    "Find the factors of an integer (인수 찾기)\n",
    "'''\n",
    "\n",
    "def factors(b):\n",
    "    for i in range(2, b+1):\n",
    "        if b % i == 0:\n",
    "            print(i)\n",
    "\n",
    "if __name__ == \"__main__\":\n",
    "    b = input(\"Your Number Please : \")\n",
    "    b = float(b)\n",
    "\n",
    "    if b > 0 and b.is_integer():\n",
    "        factors(int(b))\n",
    "    else:\n",
    "        print(\"Please enter a positive integer.\")"
   ]
  },
  {
   "cell_type": "code",
   "execution_count": 31,
   "metadata": {},
   "outputs": [
    {
     "name": "stdout",
     "output_type": "stream",
     "text": [
      "7.0 x 1.0 = 7\n",
      "7.0 x 2.0 = 14\n",
      "7.0 x 3.0 = 21\n",
      "7.0 x 4.0 = 28\n",
      "7.0 x 5.0 = 35\n",
      "7.0 x 6.0 = 42\n",
      "7.0 x 7.0 = 49\n",
      "7.0 x 8.0 = 56\n",
      "7.0 x 9.0 = 63\n",
      "7.0 x 10.0 = 70\n"
     ]
    }
   ],
   "source": [
    "'''\n",
    "Multiplication table printer\n",
    "'''\n",
    "\n",
    "def multi_table(a):\n",
    "    for i in range(1, 11):\n",
    "        print(f\"{a} x {i:.1f} = {a*i:.0f}\")\n",
    "\n",
    "if __name__ == \"__main__\":\n",
    "    a = input(\"Enter a number : \")\n",
    "    multi_table(float(a))"
   ]
  },
  {
   "cell_type": "code",
   "execution_count": 43,
   "metadata": {},
   "outputs": [
    {
     "name": "stdout",
     "output_type": "stream",
     "text": [
      "1. Kilometers to Miles\n",
      "2. Miles to Kilometers\n"
     ]
    }
   ],
   "source": [
    "'''\n",
    "Unit converter : Miles and Kilometers\n",
    "'''\n",
    "\n",
    "def print_menu():\n",
    "    print(\"1. Kilometers to Miles\")\n",
    "    print(\"2. Miles to Kilometers\")\n",
    "\n",
    "def km_miles():\n",
    "    km = float(input(\"Enter distance in kilometers: \"))\n",
    "    miles = km / 1.609\n",
    "\n",
    "    print(f\"Distance in miles: {miles}\")\n",
    "\n",
    "def miles_km():\n",
    "    miles = float(input(\"Enter distance in miles: \"))\n",
    "    km = miles * 1.609\n",
    "\n",
    "    print(f\"Distance in miles: {miles}\")\n",
    "\n",
    "if __name__ == \"__main__\":\n",
    "    print_menu()\n",
    "    \n",
    "    choice = input('Which conversion would you like to do? : ')\n",
    "    if choice == '1':\n",
    "        km_miles()\n",
    "    \n",
    "    if choice == '2':\n",
    "        miles_km()"
   ]
  }
 ],
 "metadata": {
  "kernelspec": {
   "display_name": "Python 3",
   "language": "python",
   "name": "python3"
  },
  "language_info": {
   "codemirror_mode": {
    "name": "ipython",
    "version": 3
   },
   "file_extension": ".py",
   "mimetype": "text/x-python",
   "name": "python",
   "nbconvert_exporter": "python",
   "pygments_lexer": "ipython3",
   "version": "3.8.0"
  },
  "orig_nbformat": 4
 },
 "nbformat": 4,
 "nbformat_minor": 2
}
