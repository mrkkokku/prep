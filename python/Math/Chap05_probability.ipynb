{
 "cells": [
  {
   "cell_type": "code",
   "execution_count": 2,
   "metadata": {},
   "outputs": [
    {
     "name": "stdout",
     "output_type": "stream",
     "text": [
      "{2, 4, 6}\n",
      "<class 'sympy.sets.sets.FiniteSet'>\n"
     ]
    }
   ],
   "source": [
    "'''\n",
    "확률 관련 내용 배우기에 앞서\n",
    "sets에 대해 먼저 알아보자\n",
    "\n",
    "일반적 수학에선 {2, 4, 6} 와 같은 식으로\n",
    "집합표기를 하게되는데\n",
    "\n",
    "이번 시간엔 SymPy의 FiniteSet 클래스를 활용한다\n",
    "'''\n",
    "\n",
    "from sympy import FiniteSet\n",
    "\n",
    "s = FiniteSet(2, 4, 6)\n",
    "\n",
    "print(s)\n",
    "print(type(s))"
   ]
  },
  {
   "cell_type": "code",
   "execution_count": 3,
   "metadata": {},
   "outputs": [
    {
     "name": "stdout",
     "output_type": "stream",
     "text": [
      "{1/5, 1, 1.5}\n"
     ]
    }
   ],
   "source": [
    "from fractions import Fraction\n",
    "\n",
    "s = FiniteSet(1, 1.5, Fraction(1, 5))\n",
    "\n",
    "print(s)"
   ]
  },
  {
   "cell_type": "code",
   "execution_count": 4,
   "metadata": {},
   "outputs": [
    {
     "name": "stdout",
     "output_type": "stream",
     "text": [
      "Cardinality of s : 3\n"
     ]
    }
   ],
   "source": [
    "'''\n",
    "집합의 cardinality는 원소의 숫자와 같음.\n",
    "len()을 통해 cardinality를 확인할 수 있다\n",
    "'''\n",
    "\n",
    "print(f\"Cardinality of s : {len(s)}\")"
   ]
  },
  {
   "cell_type": "code",
   "execution_count": 5,
   "metadata": {},
   "outputs": [
    {
     "name": "stdout",
     "output_type": "stream",
     "text": [
      "False\n"
     ]
    }
   ],
   "source": [
    "'''\n",
    "Checking where a number is in a Set\n",
    "'''\n",
    "\n",
    "# 파이썬의 기본자료형을 다루는 것과 같은 방식으로도 작동하네\n",
    "print(4 in s)"
   ]
  },
  {
   "cell_type": "code",
   "execution_count": 6,
   "metadata": {},
   "outputs": [
    {
     "name": "stdout",
     "output_type": "stream",
     "text": [
      "EmptySet\n"
     ]
    }
   ],
   "source": [
    "# 비어있는 집합 만들기\n",
    "\n",
    "# 공집합\n",
    "\n",
    "s = FiniteSet()\n",
    "\n",
    "print(s)"
   ]
  },
  {
   "cell_type": "code",
   "execution_count": 7,
   "metadata": {},
   "outputs": [
    {
     "name": "stdout",
     "output_type": "stream",
     "text": [
      "{1, 2, 3}\n"
     ]
    },
    {
     "data": {
      "text/plain": [
       "'\\nHere, instead of passing in the set members directly to FiniteSet,\\nwe first stored them in a list, which we called members. Then, we passed the list\\nto FiniteSet using this special Python syntax, which basically translates to\\ncreating a FiniteSet object that passes the list members as separate arguments and not as a list.\\nThat is, this approach to creating a FiniteSet object is equivalent to FiniteSet(1, 2, 3).\\nWe will make use of this syntax when the set members are computed at runtime\\n'"
      ]
     },
     "execution_count": 7,
     "metadata": {},
     "output_type": "execute_result"
    }
   ],
   "source": [
    "# 리스트 또는 튜플로부터 set만들기\n",
    "\n",
    "members = [1, 2, 3]\n",
    "\n",
    "s = FiniteSet(*members) # asterisk관련 내용은 추후 확인하자\n",
    "\n",
    "print(s)\n",
    "\n",
    "'''\n",
    "Here, instead of passing in the set members directly to FiniteSet,\n",
    "we first stored them in a list, which we called members. Then, we passed the list\n",
    "to FiniteSet using this special Python syntax, which basically translates to\n",
    "creating a FiniteSet object that passes the list members as separate arguments and not as a list.\n",
    "That is, this approach to creating a FiniteSet object is equivalent to FiniteSet(1, 2, 3).\n",
    "We will make use of this syntax when the set members are computed at runtime\n",
    "'''"
   ]
  },
  {
   "cell_type": "code",
   "execution_count": 8,
   "metadata": {},
   "outputs": [
    {
     "name": "stdout",
     "output_type": "stream",
     "text": [
      "1\n",
      "2\n",
      "3\n",
      "4\n"
     ]
    }
   ],
   "source": [
    "# FiniteSet 역시, 파이썬 기본 자료형 set 처럼 중복자료는 저장하지 않음\n",
    "# 또한 저장되어있는 순서(order)도 뒤죽박죽으로 들어가 있을 수 있다.\n",
    "# 순서와 관련한 정보를 저장하지 않는 클래스라고 이해하자\n",
    "\n",
    "s = FiniteSet(1, 2, 3, 1, 2, 3, 4)\n",
    "\n",
    "for member in s:\n",
    "    print(member)"
   ]
  },
  {
   "cell_type": "code",
   "execution_count": 9,
   "metadata": {},
   "outputs": [
    {
     "name": "stdout",
     "output_type": "stream",
     "text": [
      "True\n"
     ]
    }
   ],
   "source": [
    "# 원소의 순서가 다르게 입력되었더라도\n",
    "# 집합의 역할은 그대로 갖고 있는 것을 확인\n",
    "\n",
    "s = FiniteSet(3, 4, 5)\n",
    "t = FiniteSet(5, 4, 3)\n",
    "\n",
    "print(s == t)"
   ]
  },
  {
   "cell_type": "code",
   "execution_count": 15,
   "metadata": {},
   "outputs": [
    {
     "name": "stdout",
     "output_type": "stream",
     "text": [
      "True\n",
      "False\n",
      "True\n"
     ]
    }
   ],
   "source": [
    "'''\n",
    "subset : 부분집합\n",
    "\n",
    "is_subset()으로 부분집합 여부 확인\n",
    "'''\n",
    "\n",
    "s = FiniteSet(1)\n",
    "t = FiniteSet(1, 2, 3)\n",
    "\n",
    "e = FiniteSet()\n",
    "\n",
    "print(s.is_subset(t)) # True\n",
    "\n",
    "print(t.is_subset(s)) # False\n",
    "\n",
    "print(e.is_subset(s)) # 공집합은 모든 집합의 부분집합임"
   ]
  },
  {
   "cell_type": "code",
   "execution_count": 19,
   "metadata": {},
   "outputs": [
    {
     "name": "stdout",
     "output_type": "stream",
     "text": [
      "FiniteSet(EmptySet, {1}, {2}, {3}, {1, 2}, {1, 3}, {2, 3}, {1, 2, 3})\n",
      "8\n"
     ]
    }
   ],
   "source": [
    "'''\n",
    "powerset : 상위집합 -> 해당 집합의 부분집합이 될 수 있는 모든 형태\n",
    "'''\n",
    "\n",
    "s = FiniteSet(1, 2, 3)\n",
    "\n",
    "ps = s.powerset()\n",
    "\n",
    "print(ps) # 가능한 모든 형태를 보여주는 것을 확인\n",
    "\n",
    "\n",
    "# 또한 이 powerset이 가지는 cardinality는 간단히 len()으로 확인\n",
    "# \n",
    "print(len(ps))"
   ]
  },
  {
   "cell_type": "code",
   "execution_count": 33,
   "metadata": {},
   "outputs": [
    {
     "name": "stdout",
     "output_type": "stream",
     "text": [
      "False\n",
      "False\n",
      "True\n",
      "True\n"
     ]
    }
   ],
   "source": [
    "'''\n",
    "proper subset : 진부분집합\n",
    "proper superset : 진상위집합\n",
    "\n",
    "부분집합이되, 같으면안되고 모든 원소를 다 갖고 있어야만 하는 것이 진 부분 집합임.\n",
    "'''\n",
    "\n",
    "s = FiniteSet(1, 2, 3)\n",
    "t = FiniteSet(1, 2, 3)\n",
    "\n",
    "print(s.is_proper_subset(t)) # False\n",
    "\n",
    "print(t.is_proper_superset(s)) # False\n",
    "\n",
    "\n",
    "# s를 t의 진부분집합(Proper Subset)이 되게 해보자\n",
    "\n",
    "s = FiniteSet(1, 2)\n",
    "\n",
    "print(s.is_proper_subset(t)) # True\n",
    "\n",
    "print(t.is_proper_superset(s)) # True"
   ]
  },
  {
   "cell_type": "code",
   "execution_count": 36,
   "metadata": {},
   "outputs": [
    {
     "data": {
      "text/latex": [
       "$\\displaystyle \\left\\{1, 2, 3, 4, 6\\right\\}$"
      ],
      "text/plain": [
       "{1, 2, 3, 4, 6}"
      ]
     },
     "execution_count": 36,
     "metadata": {},
     "output_type": "execute_result"
    }
   ],
   "source": [
    "'''\n",
    "Set Operation에 대해 배워보자\n",
    "'''\n",
    "\n",
    "# Union 교집합 : union()\n",
    "\n",
    "from sympy import FiniteSet\n",
    "\n",
    "s = FiniteSet(1, 2, 3)\n",
    "t = FiniteSet(2, 4, 6)\n",
    "\n",
    "s.union(t)"
   ]
  },
  {
   "cell_type": "code",
   "execution_count": 38,
   "metadata": {},
   "outputs": [
    {
     "name": "stdout",
     "output_type": "stream",
     "text": [
      "{2}\n",
      "{2}\n"
     ]
    }
   ],
   "source": [
    "# Intersection 교집합 intersect()\n",
    "\n",
    "s = FiniteSet(1, 2)\n",
    "t = FiniteSet(2, 3)\n",
    "\n",
    "print(s.intersect(t))\n",
    "\n",
    "print(t.intersect(s)) # 위나 아래나 같을 수 밖에 없는 점 확인"
   ]
  },
  {
   "cell_type": "code",
   "execution_count": 40,
   "metadata": {},
   "outputs": [
    {
     "data": {
      "text/latex": [
       "$\\displaystyle \\left\\{1, 2, 3, 4, 5, 6, 7\\right\\}$"
      ],
      "text/plain": [
       "{1, 2, 3, 4, 5, 6, 7}"
      ]
     },
     "execution_count": 40,
     "metadata": {},
     "output_type": "execute_result"
    }
   ],
   "source": [
    "# 여러 집합을 union() 할 때엔 아래와 같이 처리\n",
    "\n",
    "s = FiniteSet(1, 2, 3)\n",
    "t = FiniteSet(2, 4, 6)\n",
    "u = FiniteSet(3, 5, 7)\n",
    "\n",
    "s.union(t).union(u)"
   ]
  },
  {
   "cell_type": "code",
   "execution_count": 41,
   "metadata": {},
   "outputs": [
    {
     "data": {
      "text/latex": [
       "$\\displaystyle \\emptyset$"
      ],
      "text/plain": [
       "EmptySet"
      ]
     },
     "execution_count": 41,
     "metadata": {},
     "output_type": "execute_result"
    }
   ],
   "source": [
    "# 여러 집합을 intersect() 할 때엔 아래와 같이 처리\n",
    "\n",
    "s = FiniteSet(1, 2, 3)\n",
    "t = FiniteSet(2, 4, 6)\n",
    "u = FiniteSet(3, 5, 7)\n",
    "\n",
    "s.intersect(t).intersect(u)"
   ]
  }
 ],
 "metadata": {
  "kernelspec": {
   "display_name": "Python 3",
   "language": "python",
   "name": "python3"
  },
  "language_info": {
   "codemirror_mode": {
    "name": "ipython",
    "version": 3
   },
   "file_extension": ".py",
   "mimetype": "text/x-python",
   "name": "python",
   "nbconvert_exporter": "python",
   "pygments_lexer": "ipython3",
   "version": "3.8.0"
  },
  "orig_nbformat": 4
 },
 "nbformat": 4,
 "nbformat_minor": 2
}
