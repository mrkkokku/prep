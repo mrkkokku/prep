{
 "cells": [
  {
   "cell_type": "code",
   "execution_count": 1,
   "metadata": {},
   "outputs": [
    {
     "name": "stdout",
     "output_type": "stream",
     "text": [
      "{2, 4, 6}\n",
      "<class 'sympy.sets.sets.FiniteSet'>\n"
     ]
    }
   ],
   "source": [
    "'''\n",
    "확률 관련 내용 배우기에 앞서\n",
    "sets에 대해 먼저 알아보자\n",
    "\n",
    "일반적 수학에선 {2, 4, 6} 와 같은 식으로\n",
    "집합표기를 하게되는데\n",
    "\n",
    "이번 시간엔 SymPy의 FiniteSet 클래스를 활용한다\n",
    "'''\n",
    "\n",
    "from sympy import FiniteSet\n",
    "\n",
    "s = FiniteSet(2, 4, 6)\n",
    "\n",
    "print(s)\n",
    "print(type(s))"
   ]
  },
  {
   "cell_type": "code",
   "execution_count": 2,
   "metadata": {},
   "outputs": [
    {
     "name": "stdout",
     "output_type": "stream",
     "text": [
      "{1/5, 1, 1.5}\n"
     ]
    }
   ],
   "source": [
    "from fractions import Fraction\n",
    "\n",
    "s = FiniteSet(1, 1.5, Fraction(1, 5))\n",
    "\n",
    "print(s)"
   ]
  },
  {
   "cell_type": "code",
   "execution_count": 3,
   "metadata": {},
   "outputs": [
    {
     "name": "stdout",
     "output_type": "stream",
     "text": [
      "Cardinality of s : 3\n"
     ]
    }
   ],
   "source": [
    "'''\n",
    "집합의 cardinality는 원소의 숫자와 같음.\n",
    "len()을 통해 cardinality를 확인할 수 있다\n",
    "'''\n",
    "\n",
    "print(f\"Cardinality of s : {len(s)}\")"
   ]
  },
  {
   "cell_type": "code",
   "execution_count": 4,
   "metadata": {},
   "outputs": [
    {
     "name": "stdout",
     "output_type": "stream",
     "text": [
      "False\n"
     ]
    }
   ],
   "source": [
    "'''\n",
    "Checking where a number is in a Set\n",
    "'''\n",
    "\n",
    "# 파이썬의 기본자료형을 다루는 것과 같은 방식으로도 작동하네\n",
    "print(4 in s)"
   ]
  },
  {
   "cell_type": "code",
   "execution_count": 5,
   "metadata": {},
   "outputs": [
    {
     "name": "stdout",
     "output_type": "stream",
     "text": [
      "EmptySet\n"
     ]
    }
   ],
   "source": [
    "# 비어있는 집합 만들기\n",
    "\n",
    "# 공집합\n",
    "\n",
    "s = FiniteSet()\n",
    "\n",
    "print(s)"
   ]
  },
  {
   "cell_type": "code",
   "execution_count": 6,
   "metadata": {},
   "outputs": [
    {
     "name": "stdout",
     "output_type": "stream",
     "text": [
      "{1, 2, 3}\n"
     ]
    },
    {
     "data": {
      "text/plain": [
       "'\\nHere, instead of passing in the set members directly to FiniteSet,\\nwe first stored them in a list, which we called members. Then, we passed the list\\nto FiniteSet using this special Python syntax, which basically translates to\\ncreating a FiniteSet object that passes the list members as separate arguments and not as a list.\\nThat is, this approach to creating a FiniteSet object is equivalent to FiniteSet(1, 2, 3).\\nWe will make use of this syntax when the set members are computed at runtime\\n'"
      ]
     },
     "execution_count": 6,
     "metadata": {},
     "output_type": "execute_result"
    }
   ],
   "source": [
    "# 리스트 또는 튜플로부터 set만들기\n",
    "\n",
    "members = [1, 2, 3]\n",
    "\n",
    "s = FiniteSet(*members) # asterisk관련 내용은 추후 확인하자\n",
    "\n",
    "print(s)\n",
    "\n",
    "'''\n",
    "Here, instead of passing in the set members directly to FiniteSet,\n",
    "we first stored them in a list, which we called members. Then, we passed the list\n",
    "to FiniteSet using this special Python syntax, which basically translates to\n",
    "creating a FiniteSet object that passes the list members as separate arguments and not as a list.\n",
    "That is, this approach to creating a FiniteSet object is equivalent to FiniteSet(1, 2, 3).\n",
    "We will make use of this syntax when the set members are computed at runtime\n",
    "'''"
   ]
  },
  {
   "cell_type": "code",
   "execution_count": 7,
   "metadata": {},
   "outputs": [
    {
     "name": "stdout",
     "output_type": "stream",
     "text": [
      "1\n",
      "2\n",
      "3\n",
      "4\n"
     ]
    }
   ],
   "source": [
    "# FiniteSet 역시, 파이썬 기본 자료형 set 처럼 중복자료는 저장하지 않음\n",
    "# 또한 저장되어있는 순서(order)도 뒤죽박죽으로 들어가 있을 수 있다.\n",
    "# 순서와 관련한 정보를 저장하지 않는 클래스라고 이해하자\n",
    "\n",
    "s = FiniteSet(1, 2, 3, 1, 2, 3, 4)\n",
    "\n",
    "for member in s:\n",
    "    print(member)"
   ]
  },
  {
   "cell_type": "code",
   "execution_count": 8,
   "metadata": {},
   "outputs": [
    {
     "name": "stdout",
     "output_type": "stream",
     "text": [
      "True\n"
     ]
    }
   ],
   "source": [
    "# 원소의 순서가 다르게 입력되었더라도\n",
    "# 집합의 역할은 그대로 갖고 있는 것을 확인\n",
    "\n",
    "s = FiniteSet(3, 4, 5)\n",
    "t = FiniteSet(5, 4, 3)\n",
    "\n",
    "print(s == t)"
   ]
  },
  {
   "cell_type": "code",
   "execution_count": 9,
   "metadata": {},
   "outputs": [
    {
     "name": "stdout",
     "output_type": "stream",
     "text": [
      "True\n",
      "False\n",
      "True\n"
     ]
    }
   ],
   "source": [
    "'''\n",
    "subset : 부분집합\n",
    "\n",
    "is_subset()으로 부분집합 여부 확인\n",
    "'''\n",
    "\n",
    "s = FiniteSet(1)\n",
    "t = FiniteSet(1, 2, 3)\n",
    "\n",
    "e = FiniteSet()\n",
    "\n",
    "print(s.is_subset(t)) # True\n",
    "\n",
    "print(t.is_subset(s)) # False\n",
    "\n",
    "print(e.is_subset(s)) # 공집합은 모든 집합의 부분집합임"
   ]
  },
  {
   "cell_type": "code",
   "execution_count": 10,
   "metadata": {},
   "outputs": [
    {
     "name": "stdout",
     "output_type": "stream",
     "text": [
      "FiniteSet(EmptySet, {1}, {2}, {3}, {1, 2}, {1, 3}, {2, 3}, {1, 2, 3})\n",
      "8\n"
     ]
    }
   ],
   "source": [
    "'''\n",
    "powerset : 상위집합 -> 해당 집합의 부분집합이 될 수 있는 모든 형태\n",
    "'''\n",
    "\n",
    "s = FiniteSet(1, 2, 3)\n",
    "\n",
    "ps = s.powerset()\n",
    "\n",
    "print(ps) # 가능한 모든 형태를 보여주는 것을 확인\n",
    "\n",
    "\n",
    "# 또한 이 powerset이 가지는 cardinality는 간단히 len()으로 확인\n",
    "# \n",
    "print(len(ps))"
   ]
  },
  {
   "cell_type": "code",
   "execution_count": 11,
   "metadata": {},
   "outputs": [
    {
     "name": "stdout",
     "output_type": "stream",
     "text": [
      "False\n",
      "False\n",
      "True\n",
      "True\n"
     ]
    }
   ],
   "source": [
    "'''\n",
    "proper subset : 진부분집합\n",
    "proper superset : 진상위집합\n",
    "\n",
    "부분집합이되, 같으면안되고 모든 원소를 다 갖고 있어야만 하는 것이 진 부분 집합임.\n",
    "'''\n",
    "\n",
    "s = FiniteSet(1, 2, 3)\n",
    "t = FiniteSet(1, 2, 3)\n",
    "\n",
    "print(s.is_proper_subset(t)) # False\n",
    "\n",
    "print(t.is_proper_superset(s)) # False\n",
    "\n",
    "\n",
    "# s를 t의 진부분집합(Proper Subset)이 되게 해보자\n",
    "\n",
    "s = FiniteSet(1, 2)\n",
    "\n",
    "print(s.is_proper_subset(t)) # True\n",
    "\n",
    "print(t.is_proper_superset(s)) # True"
   ]
  },
  {
   "cell_type": "code",
   "execution_count": 12,
   "metadata": {},
   "outputs": [
    {
     "data": {
      "text/latex": [
       "$\\displaystyle \\left\\{1, 2, 3, 4, 6\\right\\}$"
      ],
      "text/plain": [
       "{1, 2, 3, 4, 6}"
      ]
     },
     "execution_count": 12,
     "metadata": {},
     "output_type": "execute_result"
    }
   ],
   "source": [
    "'''\n",
    "Set Operation에 대해 배워보자\n",
    "'''\n",
    "\n",
    "# Union 교집합 : union()\n",
    "\n",
    "from sympy import FiniteSet\n",
    "\n",
    "s = FiniteSet(1, 2, 3)\n",
    "t = FiniteSet(2, 4, 6)\n",
    "\n",
    "s.union(t)"
   ]
  },
  {
   "cell_type": "code",
   "execution_count": 13,
   "metadata": {},
   "outputs": [
    {
     "name": "stdout",
     "output_type": "stream",
     "text": [
      "{2}\n",
      "{2}\n"
     ]
    }
   ],
   "source": [
    "# Intersection 교집합 intersect()\n",
    "\n",
    "s = FiniteSet(1, 2)\n",
    "t = FiniteSet(2, 3)\n",
    "\n",
    "print(s.intersect(t))\n",
    "\n",
    "print(t.intersect(s)) # 위나 아래나 같을 수 밖에 없는 점 확인"
   ]
  },
  {
   "cell_type": "code",
   "execution_count": 14,
   "metadata": {},
   "outputs": [
    {
     "data": {
      "text/latex": [
       "$\\displaystyle \\left\\{1, 2, 3, 4, 5, 6, 7\\right\\}$"
      ],
      "text/plain": [
       "{1, 2, 3, 4, 5, 6, 7}"
      ]
     },
     "execution_count": 14,
     "metadata": {},
     "output_type": "execute_result"
    }
   ],
   "source": [
    "# 여러 집합을 union() 할 때엔 아래와 같이 처리\n",
    "\n",
    "s = FiniteSet(1, 2, 3)\n",
    "t = FiniteSet(2, 4, 6)\n",
    "u = FiniteSet(3, 5, 7)\n",
    "\n",
    "s.union(t).union(u)"
   ]
  },
  {
   "cell_type": "code",
   "execution_count": 16,
   "metadata": {},
   "outputs": [
    {
     "data": {
      "text/latex": [
       "$\\displaystyle \\emptyset$"
      ],
      "text/plain": [
       "EmptySet"
      ]
     },
     "execution_count": 16,
     "metadata": {},
     "output_type": "execute_result"
    }
   ],
   "source": [
    "# 여러 집합을 intersect() 할 때엔 아래와 같이 처리\n",
    "\n",
    "s = FiniteSet(1, 2, 3)\n",
    "t = FiniteSet(2, 4, 6)\n",
    "u = FiniteSet(3, 5, 7)\n",
    "\n",
    "s.intersect(t).intersect(u)"
   ]
  },
  {
   "cell_type": "code",
   "execution_count": 20,
   "metadata": {},
   "outputs": [
    {
     "name": "stdout",
     "output_type": "stream",
     "text": [
      "<class 'sympy.sets.sets.ProductSet'>\n"
     ]
    },
    {
     "data": {
      "text/latex": [
       "$\\displaystyle \\left\\{1, 2\\right\\} \\times \\left\\{3, 4\\right\\}$"
      ],
      "text/plain": [
       "ProductSet({1, 2}, {3, 4})"
      ]
     },
     "execution_count": 20,
     "metadata": {},
     "output_type": "execute_result"
    }
   ],
   "source": [
    "'''\n",
    "Cartesian Product\n",
    "\n",
    "각 집합에서 하나의 원소를 선택하여 만들어지는 모든 가능한 쌍(pair)으로 이루어진 집합을 생성\n",
    "'''\n",
    "\n",
    "from sympy import FiniteSet\n",
    "\n",
    "s = FiniteSet(1, 2)\n",
    "t = FiniteSet(3, 4)\n",
    "\n",
    "p = s * t # 이 부분이 Cartesian Product)\n",
    "\n",
    "print(type(p))\n",
    "p"
   ]
  },
  {
   "cell_type": "code",
   "execution_count": 23,
   "metadata": {},
   "outputs": [
    {
     "name": "stdout",
     "output_type": "stream",
     "text": [
      "(1, 3)\n",
      "(2, 3)\n",
      "(1, 4)\n",
      "(2, 4)\n"
     ]
    }
   ],
   "source": [
    "# ProductSet 클래스의 실제 모습을 보자\n",
    "# 실제 Cartesian Product의 결과를 볼 수 있다\n",
    "# tuple로 출력되는 것도 확인\n",
    "\n",
    "for elem in p:\n",
    "    print(elem)"
   ]
  },
  {
   "cell_type": "code",
   "execution_count": 25,
   "metadata": {},
   "outputs": [
    {
     "name": "stdout",
     "output_type": "stream",
     "text": [
      "4\n"
     ]
    }
   ],
   "source": [
    "# 그리고 이 결과값의 cardinality는 아래와 같이 확인할 수 있다\n",
    "\n",
    "print(len(p))"
   ]
  },
  {
   "cell_type": "code",
   "execution_count": 28,
   "metadata": {},
   "outputs": [
    {
     "data": {
      "text/plain": [
       "True"
      ]
     },
     "execution_count": 28,
     "metadata": {},
     "output_type": "execute_result"
    }
   ],
   "source": [
    "# cartesian product 하기 전의 cardianlity들의 곱과 같음을 확인\n",
    "\n",
    "len(p) == len(s) * len(t)"
   ]
  },
  {
   "cell_type": "code",
   "execution_count": 29,
   "metadata": {},
   "outputs": [],
   "source": [
    "# 이것의 쓸모는, 집합 원소로 조합가능한 모든 집합을 직접 확인해 볼 수 있다는 점"
   ]
  },
  {
   "cell_type": "code",
   "execution_count": 32,
   "metadata": {},
   "outputs": [
    {
     "name": "stdout",
     "output_type": "stream",
     "text": [
      "Length: 22.5cm Time Period: 0.952s\n",
      "Length: 15.0cm Time Period: 0.777s\n",
      "Length: 18.0cm Time Period: 0.852s\n",
      "Length: 21.0cm Time Period: 0.920s\n",
      "Length: 25.0cm Time Period: 1.004s\n"
     ]
    }
   ],
   "source": [
    "'''\n",
    "여러 길이 L에 대한 진자운동의 결과값을 구하는데에 FiniteSet을 활용해보자\n",
    "'''\n",
    "\n",
    "from sympy import FiniteSet, pi\n",
    "\n",
    "def time_period(length):\n",
    "    g = 9.8\n",
    "    T = 2 * pi * (length / g)**0.5 # 진자운동 관련 식\n",
    "\n",
    "    return T\n",
    "\n",
    "L = FiniteSet(15, 18, 21, 22.5, 25) # 여러 변수에 대한 결과를 한번에 확인하기 위해 집합 사용\n",
    "\n",
    "for l in L:\n",
    "    t = time_period(l / 100) # cm단위로 보기위해 100으로 나눠줌\n",
    "    \n",
    "    print(f\"Length: {float(l)}cm Time Period: {float(t):.3f}s\")"
   ]
  },
  {
   "cell_type": "code",
   "execution_count": 42,
   "metadata": {},
   "outputs": [
    {
     "name": "stdout",
     "output_type": "stream",
     "text": [
      "  Length(cm)    Gravity(m/s^2)  Time Period(s) \n",
      "     22.5            9.78       0.953019309238396\n",
      "     15.0            9.78       0.7781370075512535\n",
      "     22.5             9.8       0.9520463438910783\n",
      "     18.0            9.78       0.8524063837307787\n",
      "     15.0             9.8       0.7773425846718076\n",
      "     22.5            9.83       0.9505924672313103\n",
      "     21.0            9.78       0.9207041237711209\n",
      "     18.0             9.8       0.8515361370682372\n",
      "     15.0            9.83       0.7761554993500163\n",
      "     25.0            9.78       1.00457055710456\n",
      "     21.0             9.8       0.9197641499438565\n",
      "     18.0            9.83       0.8502357502513805\n",
      "     25.0             9.8       1.0035449615772465\n",
      "     21.0            9.83       0.9183595716492436\n",
      "     25.0            9.83       1.0020124410166384\n"
     ]
    }
   ],
   "source": [
    "'''\n",
    "위에서 알아본 진자운동 관련 함수를, Cartesian Product에 응용해보자\n",
    "\n",
    "g값이 달라지는 각 지역에서, 여러 L에 대한 실험을 하는 구성\n",
    "'''\n",
    "\n",
    "from sympy import FiniteSet, pi\n",
    "\n",
    "def time_period(length, g):\n",
    "    T = 2 * pi * (length / g)**0.5\n",
    "\n",
    "    return T\n",
    "\n",
    "L = FiniteSet(15, 18, 21, 22.5, 25)\n",
    "\n",
    "g_values = FiniteSet(9.8, 9.78, 9.83)\n",
    "\n",
    "print(f'{\"Length(cm)\":^15} {\"Gravity(m/s^2)\":^15} {\"Time Period(s)\":^15}')\n",
    "\n",
    "for elem in L * g_values: # Cartesian Product 진행\n",
    "    l = elem[0]\n",
    "    g = elem[1]\n",
    "    t = time_period(l/100, g)\n",
    "\n",
    "    print(f\"{float(l):^15} {float(g):^15} {float(t)}\")"
   ]
  },
  {
   "cell_type": "code",
   "execution_count": null,
   "metadata": {},
   "outputs": [],
   "source": [
    "'''\n",
    "위 코드에서 \" ^15 \"는 문자열 포맷팅에서 폭(Width)을 나타내는 부분입니다.\n",
    "여기서 ^는 가운데 정렬을 나타내며, 15는 해당 필드의 폭을 나타냅니다.\n",
    "\n",
    "결과적으로 이 코드는 텍스트를 각 필드에 가운데 정렬된 방식으로 출력하며,\n",
    "각 필드의 폭은 15 문자를 차지하도록 설정합니다.\n",
    "'''"
   ]
  }
 ],
 "metadata": {
  "kernelspec": {
   "display_name": "Python 3",
   "language": "python",
   "name": "python3"
  },
  "language_info": {
   "codemirror_mode": {
    "name": "ipython",
    "version": 3
   },
   "file_extension": ".py",
   "mimetype": "text/x-python",
   "name": "python",
   "nbconvert_exporter": "python",
   "pygments_lexer": "ipython3",
   "version": "3.8.0"
  },
  "orig_nbformat": 4
 },
 "nbformat": 4,
 "nbformat_minor": 2
}
