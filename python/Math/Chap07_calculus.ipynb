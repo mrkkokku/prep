{
 "cells": [
  {
   "cell_type": "code",
   "execution_count": 1,
   "metadata": {},
   "outputs": [
    {
     "data": {
      "text/plain": [
       "'\\nDomain : the set of input values that the independent variable can validly assume.\\n\\nRange : the output seet of a function.\\n'"
      ]
     },
     "execution_count": 1,
     "metadata": {},
     "output_type": "execute_result"
    }
   ],
   "source": [
    "'''\n",
    "Domain : the set of input values that the independent variable can validly assume.\n",
    "\n",
    "Range : the output seet of a function.\n",
    "'''\n",
    "\n",
    "# 아래에서 다양한 함수들을 가볍게 알아보자"
   ]
  },
  {
   "cell_type": "code",
   "execution_count": 4,
   "metadata": {},
   "outputs": [
    {
     "data": {
      "text/latex": [
       "$\\displaystyle 1.0$"
      ],
      "text/plain": [
       "1.00000000000000"
      ]
     },
     "execution_count": 4,
     "metadata": {},
     "output_type": "execute_result"
    }
   ],
   "source": [
    "import sympy\n",
    "import math\n",
    "\n",
    "sympy.sin(math.pi / 2)"
   ]
  },
  {
   "cell_type": "code",
   "execution_count": 6,
   "metadata": {},
   "outputs": [
    {
     "ename": "TypeError",
     "evalue": "Cannot convert expression to float",
     "output_type": "error",
     "traceback": [
      "\u001b[1;31m---------------------------------------------------------------------------\u001b[0m",
      "\u001b[1;31mTypeError\u001b[0m                                 Traceback (most recent call last)",
      "\u001b[1;32mc:\\git\\prep\\python\\Math\\Chap07_calculus.ipynb Cell 3\u001b[0m in \u001b[0;36m<cell line: 7>\u001b[1;34m()\u001b[0m\n\u001b[0;32m      <a href='vscode-notebook-cell:/c%3A/git/prep/python/Math/Chap07_calculus.ipynb#W2sZmlsZQ%3D%3D?line=2'>3</a>\u001b[0m \u001b[39mfrom\u001b[39;00m \u001b[39msympy\u001b[39;00m \u001b[39mimport\u001b[39;00m Symbol\n\u001b[0;32m      <a href='vscode-notebook-cell:/c%3A/git/prep/python/Math/Chap07_calculus.ipynb#W2sZmlsZQ%3D%3D?line=4'>5</a>\u001b[0m theta \u001b[39m=\u001b[39m Symbol(\u001b[39m\"\u001b[39m\u001b[39mtheta\u001b[39m\u001b[39m\"\u001b[39m)\n\u001b[1;32m----> <a href='vscode-notebook-cell:/c%3A/git/prep/python/Math/Chap07_calculus.ipynb#W2sZmlsZQ%3D%3D?line=6'>7</a>\u001b[0m math\u001b[39m.\u001b[39;49msin(theta) \u001b[39m+\u001b[39m math\u001b[39m.\u001b[39msin(theta)\n",
      "File \u001b[1;32mc:\\Users\\mrkkokku\\AppData\\Local\\Programs\\Python\\Python38\\lib\\site-packages\\sympy\\core\\expr.py:351\u001b[0m, in \u001b[0;36mExpr.__float__\u001b[1;34m(self)\u001b[0m\n\u001b[0;32m    349\u001b[0m \u001b[39mif\u001b[39;00m result\u001b[39m.\u001b[39mis_number \u001b[39mand\u001b[39;00m result\u001b[39m.\u001b[39mas_real_imag()[\u001b[39m1\u001b[39m]:\n\u001b[0;32m    350\u001b[0m     \u001b[39mraise\u001b[39;00m \u001b[39mTypeError\u001b[39;00m(\u001b[39m\"\u001b[39m\u001b[39mCannot convert complex to float\u001b[39m\u001b[39m\"\u001b[39m)\n\u001b[1;32m--> 351\u001b[0m \u001b[39mraise\u001b[39;00m \u001b[39mTypeError\u001b[39;00m(\u001b[39m\"\u001b[39m\u001b[39mCannot convert expression to float\u001b[39m\u001b[39m\"\u001b[39m)\n",
      "\u001b[1;31mTypeError\u001b[0m: Cannot convert expression to float"
     ]
    }
   ],
   "source": [
    "# 에러가 발생하는 사용법\n",
    "\n",
    "from sympy import Symbol\n",
    "\n",
    "theta = Symbol(\"theta\")\n",
    "\n",
    "math.sin(theta) + math.sin(theta)"
   ]
  },
  {
   "cell_type": "code",
   "execution_count": 8,
   "metadata": {},
   "outputs": [
    {
     "data": {
      "text/latex": [
       "$\\displaystyle 2 \\sin{\\left(\\theta \\right)}$"
      ],
      "text/plain": [
       "2*sin(theta)"
      ]
     },
     "execution_count": 8,
     "metadata": {},
     "output_type": "execute_result"
    }
   ],
   "source": [
    "# 에러 발생하지 않는 사용법.\n",
    "# 대수적 계산을 할 땐 sympy를 활용 해야한다는 것.\n",
    "\n",
    "from sympy import Symbol\n",
    "\n",
    "theta = Symbol(\"theta\")\n",
    "\n",
    "sympy.sin(theta) + sympy.sin(theta)"
   ]
  },
  {
   "cell_type": "code",
   "execution_count": 11,
   "metadata": {},
   "outputs": [
    {
     "data": {
      "text/plain": [
       "[u*sin(Theta)/g]"
      ]
     },
     "execution_count": 11,
     "metadata": {},
     "output_type": "execute_result"
    }
   ],
   "source": [
    "# solve() 함수를 이용해 해를 찾을 수 있다\n",
    "\n",
    "from sympy import sin, solve, Symbol\n",
    "\n",
    "u = Symbol('u')\n",
    "t = Symbol('t')\n",
    "g = Symbol('g')\n",
    "theta = Symbol('Theta')\n",
    "\n",
    "solve(u * sin(theta) - g*t, t) # t에 대한 해를 찾아라"
   ]
  },
  {
   "cell_type": "code",
   "execution_count": 13,
   "metadata": {},
   "outputs": [
    {
     "name": "stdout",
     "output_type": "stream",
     "text": [
      "Do something\n"
     ]
    }
   ],
   "source": [
    "'''\n",
    "Assumptions in Sympy\n",
    "'''\n",
    "\n",
    "x = Symbol('x', positive=True)\n",
    "\n",
    "if (x+5) > 0:\n",
    "    print(\"Do something\")\n",
    "else:\n",
    "    print(\"Do something else\")"
   ]
  },
  {
   "cell_type": "code",
   "execution_count": 17,
   "metadata": {},
   "outputs": [
    {
     "name": "stdout",
     "output_type": "stream",
     "text": [
      "Do something else\n"
     ]
    }
   ],
   "source": [
    "x = Symbol('x', negative=True)\n",
    "\n",
    "if (x) > 0:\n",
    "    print(\"Do something\")\n",
    "else:\n",
    "    print(\"Do something else\")"
   ]
  },
  {
   "cell_type": "code",
   "execution_count": 36,
   "metadata": {},
   "outputs": [
    {
     "name": "stdout",
     "output_type": "stream",
     "text": [
      "Limit(1/x, x, oo, dir='-')\n"
     ]
    },
    {
     "data": {
      "text/latex": [
       "$\\displaystyle 0$"
      ],
      "text/plain": [
       "0"
      ]
     },
     "execution_count": 36,
     "metadata": {},
     "output_type": "execute_result"
    }
   ],
   "source": [
    "'''\n",
    "Finding the Limit of Functions\n",
    "극한값 찾기\n",
    "'''\n",
    "\n",
    "# 1/x 의 극한값을 찾아보자\n",
    "\n",
    "from sympy import Limit, Symbol, S  # S는 무한대, 무한소 등 특별한 값을 모아놓은 클래스\n",
    "\n",
    "x = Symbol('x')\n",
    "\n",
    "L = Limit(1/x, x, S.Infinity)\n",
    "\n",
    "print(L)\n",
    "# Limit(1/x, x, oo, dir='-')\n",
    "# dir='-'의 뜻은  this symbol specifying that it is approaching the limit from the negative side\n",
    "# dir='-'은 결국 양의 x값에서 0의 x값 방향으로 이동한다는 느낌임\n",
    "# 위의 L을 예로들면 무한대의 양의 방향에서 음의방향까지 무한대로 간다는 것, 그리고 그 극한값이 0인것을 확인\n",
    "\n",
    "L.doit()"
   ]
  },
  {
   "cell_type": "code",
   "execution_count": 26,
   "metadata": {},
   "outputs": [
    {
     "data": {
      "text/latex": [
       "$\\displaystyle -\\infty$"
      ],
      "text/plain": [
       "-oo"
      ]
     },
     "execution_count": 26,
     "metadata": {},
     "output_type": "execute_result"
    }
   ],
   "source": [
    "L = Limit(1/x, x, 0, dir='-') # default direction을 바꾼 것임\n",
    "\n",
    "L.doit()"
   ]
  },
  {
   "cell_type": "code",
   "execution_count": 28,
   "metadata": {},
   "outputs": [
    {
     "data": {
      "text/latex": [
       "$\\displaystyle \\infty$"
      ],
      "text/plain": [
       "oo"
      ]
     },
     "execution_count": 28,
     "metadata": {},
     "output_type": "execute_result"
    }
   ],
   "source": [
    "L = Limit(1/x, x, 0, dir='+') # default direction을 바꾼 것임\n",
    "\n",
    "L.doit()"
   ]
  },
  {
   "cell_type": "code",
   "execution_count": 37,
   "metadata": {},
   "outputs": [
    {
     "data": {
      "text/latex": [
       "$\\displaystyle 1$"
      ],
      "text/plain": [
       "1"
      ]
     },
     "execution_count": 37,
     "metadata": {},
     "output_type": "execute_result"
    }
   ],
   "source": [
    "L = Limit(sin(x)/x, x, 0)\n",
    "\n",
    "L.doit()"
   ]
  },
  {
   "cell_type": "code",
   "execution_count": 41,
   "metadata": {},
   "outputs": [
    {
     "name": "stdout",
     "output_type": "stream",
     "text": [
      "Limit((1 + 1/n)**n, n, oo, dir='-')\n"
     ]
    },
    {
     "data": {
      "text/latex": [
       "$\\displaystyle e$"
      ],
      "text/plain": [
       "E"
      ]
     },
     "execution_count": 41,
     "metadata": {},
     "output_type": "execute_result"
    }
   ],
   "source": [
    "'''\n",
    "Continuous Compound Interest\n",
    "연속복리이자 계산 해보기\n",
    "\n",
    "연속 복리 이자는 시간 간격이 무한히 작은 것으로 가정하므로 실제 세계에서는 불가능한 이상적인 상황을 모델링합니다\n",
    "'''\n",
    "\n",
    "from sympy import Limit, Symbol, S\n",
    "\n",
    "n = Symbol('n')\n",
    "\n",
    "N = Limit( (1 + 1/n)**n, n, S.Infinity)\n",
    "\n",
    "print(N)\n",
    "N.doit()"
   ]
  },
  {
   "cell_type": "code",
   "execution_count": 44,
   "metadata": {},
   "outputs": [
    {
     "name": "stdout",
     "output_type": "stream",
     "text": [
      "Limit(p*(1 + r/n)**(n*t), n, oo, dir='-')\n"
     ]
    },
    {
     "data": {
      "text/latex": [
       "$\\displaystyle p e^{r t}$"
      ],
      "text/plain": [
       "p*exp(r*t)"
      ]
     },
     "execution_count": 44,
     "metadata": {},
     "output_type": "execute_result"
    }
   ],
   "source": [
    "p = Symbol('p', positive=True) # 금액\n",
    "r = Symbol('r', positive=True) # 이자율\n",
    "t = Symbol('t', positive=True) # 년수\n",
    "\n",
    "L = Limit(p * (1 + r/n)**(n*t), n, S.Infinity)\n",
    "\n",
    "print(L)\n",
    "L.doit()"
   ]
  },
  {
   "cell_type": "code",
   "execution_count": 46,
   "metadata": {},
   "outputs": [
    {
     "name": "stdout",
     "output_type": "stream",
     "text": [
      "Limit((2*delta_t - 5*t1**2 + 5*(delta_t + t1)**2)/delta_t, delta_t, 0, dir='+')\n"
     ]
    },
    {
     "data": {
      "text/latex": [
       "$\\displaystyle 10 t_{1} + 2$"
      ],
      "text/plain": [
       "10*t1 + 2"
      ]
     },
     "execution_count": 46,
     "metadata": {},
     "output_type": "execute_result"
    }
   ],
   "source": [
    "'''\n",
    "Instantaneous Rate of Change\n",
    "순간변화율 구하기\n",
    "'''\n",
    "\n",
    "from sympy import Symbol, Limit\n",
    "\n",
    "t = Symbol('t')\n",
    "St = 5*t**2 + 2*t + 8\n",
    "\n",
    "t1 = Symbol('t1')\n",
    "delta_t = Symbol('delta_t')\n",
    "\n",
    "St1 = St.subs({t:t1})\n",
    "St1_delta = St.subs({t: t1 + delta_t})\n",
    "\n",
    "L = Limit( (St1_delta - St1) / delta_t, delta_t, 0 )\n",
    "\n",
    "print(L)\n",
    "L.doit()\n",
    "\n",
    "# 이 결과값은 사실 미분값과 같은 것을 알 수 있다"
   ]
  }
 ],
 "metadata": {
  "kernelspec": {
   "display_name": "Python 3",
   "language": "python",
   "name": "python3"
  },
  "language_info": {
   "codemirror_mode": {
    "name": "ipython",
    "version": 3
   },
   "file_extension": ".py",
   "mimetype": "text/x-python",
   "name": "python",
   "nbconvert_exporter": "python",
   "pygments_lexer": "ipython3",
   "version": "3.8.5"
  },
  "orig_nbformat": 4
 },
 "nbformat": 4,
 "nbformat_minor": 2
}
