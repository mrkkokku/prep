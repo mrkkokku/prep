{
 "cells": [
  {
   "cell_type": "code",
   "execution_count": 52,
   "metadata": {},
   "outputs": [
    {
     "name": "stdout",
     "output_type": "stream",
     "text": [
      "<class 'sympy.core.symbol.Symbol'>\n",
      "2*x + 1\n",
      "<class 'sympy.core.add.Add'>\n"
     ]
    }
   ],
   "source": [
    "# Sympy를 이용한 대수학에 대해 배운다\n",
    "\n",
    "from sympy import Symbol\n",
    "\n",
    "x = Symbol('x') # String으로 넣는 것 확인\n",
    "\n",
    "print(type(x))\n",
    "print(x + x + 1)\n",
    "print(type(x + x + 1))"
   ]
  },
  {
   "cell_type": "code",
   "execution_count": 53,
   "metadata": {},
   "outputs": [
    {
     "name": "stdout",
     "output_type": "stream",
     "text": [
      "2*x + 1\n"
     ]
    }
   ],
   "source": [
    "a = Symbol('x')\n",
    "\n",
    "print(a + a + 1)\n",
    "\n",
    "# 아래와 같이 Symbol을 이용해 만든 클래스와 변수명이 다르면\n",
    "# 혼동이 올 수 있으니, 동일하게 맞춰주자"
   ]
  },
  {
   "cell_type": "code",
   "execution_count": 54,
   "metadata": {},
   "outputs": [
    {
     "name": "stdout",
     "output_type": "stream",
     "text": [
      "x\n"
     ]
    }
   ],
   "source": [
    "x = Symbol('x')\n",
    "\n",
    "print(x.name)\n",
    "\n",
    "# .name을 이용해 실제 이름을 확인할 수 있다"
   ]
  },
  {
   "cell_type": "code",
   "execution_count": 55,
   "metadata": {},
   "outputs": [
    {
     "name": "stdout",
     "output_type": "stream",
     "text": [
      "2*x*y\n",
      "2*x**2\n"
     ]
    }
   ],
   "source": [
    "from sympy import Symbol\n",
    "\n",
    "# 하나씩 생성할 땐 이렇게.\n",
    "x = Symbol('x')\n",
    "y = Symbol('y')\n",
    "z = Symbol('z')\n",
    "\n",
    "\n",
    "from sympy import symbols\n",
    "\n",
    "# 한꺼번에 생성할 땐 이렇게.\n",
    "x,y,z = symbols('x,y,z')\n",
    "\n",
    "\n",
    "# 몇가지 활용 예시\n",
    "s = x*y + x*y\n",
    "print(s)\n",
    "\n",
    "p = x*(x + x)\n",
    "print(p)"
   ]
  },
  {
   "cell_type": "code",
   "execution_count": 56,
   "metadata": {},
   "outputs": [
    {
     "name": "stdout",
     "output_type": "stream",
     "text": [
      "(x - y)*(x + y)\n",
      "x**2 - y**2\n",
      "\n",
      "또 다른 예시\n",
      "\n",
      "(x + y)**3\n",
      "x**3 + 3*x**2*y + 3*x*y**2 + y**3\n"
     ]
    }
   ],
   "source": [
    "'''\n",
    "factor() -> 주어진 함수를 인수로 쪼갬\n",
    "expand() -> 주어진 함수를 확장형태로 표현함(항들의 합 형태)\n",
    "\n",
    "Original Expression : x**2 - y**2\n",
    "Factored Expression : (x - y)*(x + y)\n",
    "Expanded Expression : x**2 - y**2\n",
    "'''\n",
    "\n",
    "from sympy import Symbol\n",
    "x = Symbol('x')\n",
    "y = Symbol('y')\n",
    "\n",
    "from sympy import factor\n",
    "\n",
    "expr = x**2 - y**2\n",
    "\n",
    "print(factor(expr))\n",
    "\n",
    "\n",
    "from sympy import expand\n",
    "\n",
    "factors = factor(expr)\n",
    "\n",
    "print(expand(factors))\n",
    "\n",
    "\n",
    "# 또 다른 예시\n",
    "print(\"\\n또 다른 예시\\n\")\n",
    "\n",
    "expr = x**3 + 3*x**2*y + 3*x*y**2 + y**3\n",
    "factors = factor(expr)\n",
    "print(factors)\n",
    "print(expand(factors))"
   ]
  },
  {
   "cell_type": "code",
   "execution_count": 57,
   "metadata": {},
   "outputs": [
    {
     "name": "stdout",
     "output_type": "stream",
     "text": [
      " 2            2\n",
      "y  + 2⋅x⋅y + x \n"
     ]
    }
   ],
   "source": [
    "'''\n",
    "Pretty Printing\n",
    "\n",
    "pprint()를 활용하면 흔히 쓰는 수식의 형태로 출력 함\n",
    "\n",
    "Sympy printing 관련 문서\n",
    "https://docs.sympy.org/latest/tutorials/intro-tutorial/printing.html\n",
    "'''\n",
    "from sympy import pprint\n",
    "\n",
    "expr = x*x + 2*x*y + y*y\n",
    "\n",
    "pprint(expr)"
   ]
  },
  {
   "cell_type": "code",
   "execution_count": 58,
   "metadata": {},
   "outputs": [
    {
     "name": "stdout",
     "output_type": "stream",
     "text": [
      "     2    3    4    5    6    7\n",
      "    x    x    x    x    x    x \n",
      "x + ── + ── + ── + ── + ── + ──\n",
      "    2    3    4    5    6    7 \n"
     ]
    }
   ],
   "source": [
    "'''\n",
    "Printing a Series\n",
    "\n",
    "\n",
    "Print the series:\n",
    "x + x**2 + x**3 + ... + x**n\n",
    "    ____  _____  _____\n",
    "      2     3      n\n",
    "\n",
    "만들어 보기\n",
    "'''\n",
    "\n",
    "from sympy import Symbol, pprint, init_printing\n",
    "\n",
    "def print_series(n):\n",
    "    # Initialize printing system with reverse order\n",
    "    # x의 차수가 놓은 것 부터 출력하는 것이 기본인데\n",
    "    # 아래와 같이 설정해주면 역순으로 출력해 줌\n",
    "    # 자세한 내용은 위의 공식 문서 참조\n",
    "    init_printing(order=\"rev-lex\")\n",
    "\n",
    "    x = Symbol('x')\n",
    "    series = x\n",
    "\n",
    "    for i in range(2, n+1):\n",
    "        series = series + (x**i) / i\n",
    "    \n",
    "    pprint(series)\n",
    "\n",
    "# n = input('Enter the number of terms you want in the series: ')\n",
    "\n",
    "print_series(int(7))"
   ]
  },
  {
   "cell_type": "code",
   "execution_count": 59,
   "metadata": {},
   "outputs": [
    {
     "name": "stdout",
     "output_type": "stream",
     "text": [
      " 2            2\n",
      "y  + 2⋅x⋅y + x \n",
      "9\n"
     ]
    }
   ],
   "source": [
    "'''\n",
    "Substituting in Values\n",
    "'''\n",
    "\n",
    "x = Symbol('x')\n",
    "y = Symbol('y')\n",
    "\n",
    "expr = x*x + x*y + x*y + y*y\n",
    "\n",
    "res = expr.subs({x:1, y:2})\n",
    "\n",
    "pprint(expr)\n",
    "\n",
    "print(res)"
   ]
  },
  {
   "cell_type": "code",
   "execution_count": 60,
   "metadata": {},
   "outputs": [
    {
     "name": "stdout",
     "output_type": "stream",
     "text": [
      "       2                  2\n",
      "(1 - y)  + 2⋅y⋅(1 - y) + y \n"
     ]
    }
   ],
   "source": [
    "# 아래와 같은 응용도 가능하며\n",
    "# 딕셔너리 형태로 값이 전달되는 부분 확인\n",
    "\n",
    "pprint(expr.subs({x:1-y}))"
   ]
  },
  {
   "cell_type": "code",
   "execution_count": 72,
   "metadata": {},
   "outputs": [
    {
     "name": "stdout",
     "output_type": "stream",
     "text": [
      "factor()\n",
      "(2*y - 1)**2\n",
      "\n",
      "\n",
      "\n",
      "expand()\n",
      "4*y**2 - 4*y + 1\n",
      "\n",
      "\n",
      "\n",
      "pprint()\n",
      "        2                   2\n",
      "(-1 + y)  + 2⋅y⋅(-1 + y) + y \n",
      "\n",
      "\n",
      "\n",
      "simplify()\n"
     ]
    },
    {
     "data": {
      "text/latex": [
       "$\\displaystyle 1 - 4 y + 4 y^{2}$"
      ],
      "text/plain": [
       "             2\n",
       "1 - 4⋅y + 4⋅y "
      ]
     },
     "execution_count": 72,
     "metadata": {},
     "output_type": "execute_result"
    }
   ],
   "source": [
    "'''\n",
    "simplify()를 활용한 프린팅 방법 확인 \n",
    "및 지금까지 배운 출력과의 비교\n",
    "'''\n",
    "\n",
    "expr_subs = expr.subs({x:y-1})\n",
    "\n",
    "\n",
    "print(\"factor()\")\n",
    "print(factor(expr_subs))\n",
    "print(\"\\n\\n\")\n",
    "\n",
    "print(\"expand()\")\n",
    "print(expand(expr_subs))\n",
    "print(\"\\n\\n\")\n",
    "\n",
    "print(\"pprint()\")\n",
    "pprint(expr_subs)\n",
    "print(\"\\n\\n\")\n",
    "\n",
    "from sympy import simplify\n",
    "\n",
    "print(\"simplify()\")\n",
    "simplify(expr_subs) # print로 출력되지 않음에 유의"
   ]
  },
  {
   "cell_type": "code",
   "execution_count": 79,
   "metadata": {},
   "outputs": [
    {
     "name": "stdout",
     "output_type": "stream",
     "text": [
      "     2    3    4    5    6    7\n",
      "    x    x    x    x    x    x \n",
      "x + ── + ── + ── + ── + ── + ──\n",
      "    2    3    4    5    6    7 \n",
      "Value of the series at 1.0: 2.59285714285714\n"
     ]
    }
   ],
   "source": [
    "'''\n",
    "Print the series:\n",
    "x + x**2 + x**3 + ... + x**n\n",
    "    ____   _____       ______\n",
    "     2       3            n\n",
    "\n",
    "앞서 구현한 것을 조금 더 확장해\n",
    "결과값 출력까지 진행해 보자\n",
    "'''\n",
    "\n",
    "from sympy import Symbol, pprint, init_printing\n",
    "\n",
    "def print_series(n, x_value):\n",
    "\n",
    "    init_printing(order=\"rev-lex\")\n",
    "\n",
    "    x = Symbol('x')\n",
    "    series = x\n",
    "\n",
    "    for i in range(2, n+1):\n",
    "        series = series + (x**i) / i\n",
    "    \n",
    "    pprint(series)\n",
    "\n",
    "    # Evaluate the series at x_value\n",
    "    series_value = series.subs({x:x_value})\n",
    "    print(f\"Value of the series at {x_value}: {series_value}\")\n",
    "\n",
    "n = 7\n",
    "x_value = 1\n",
    "\n",
    "print_series(int(n), float(x_value))"
   ]
  }
 ],
 "metadata": {
  "kernelspec": {
   "display_name": "Python 3",
   "language": "python",
   "name": "python3"
  },
  "language_info": {
   "codemirror_mode": {
    "name": "ipython",
    "version": 3
   },
   "file_extension": ".py",
   "mimetype": "text/x-python",
   "name": "python",
   "nbconvert_exporter": "python",
   "pygments_lexer": "ipython3",
   "version": "3.8.0"
  },
  "orig_nbformat": 4
 },
 "nbformat": 4,
 "nbformat_minor": 2
}
