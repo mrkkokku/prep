{
 "cells": [
  {
   "cell_type": "code",
   "execution_count": 52,
   "metadata": {},
   "outputs": [
    {
     "name": "stdout",
     "output_type": "stream",
     "text": [
      "<class 'sympy.core.symbol.Symbol'>\n",
      "2*x + 1\n",
      "<class 'sympy.core.add.Add'>\n"
     ]
    }
   ],
   "source": [
    "# Sympy를 이용한 대수학에 대해 배운다\n",
    "\n",
    "from sympy import Symbol\n",
    "\n",
    "x = Symbol('x') # String으로 넣는 것 확인\n",
    "\n",
    "print(type(x))\n",
    "print(x + x + 1)\n",
    "print(type(x + x + 1))"
   ]
  },
  {
   "cell_type": "code",
   "execution_count": 53,
   "metadata": {},
   "outputs": [
    {
     "name": "stdout",
     "output_type": "stream",
     "text": [
      "2*x + 1\n"
     ]
    }
   ],
   "source": [
    "a = Symbol('x')\n",
    "\n",
    "print(a + a + 1)\n",
    "\n",
    "# 아래와 같이 Symbol을 이용해 만든 클래스와 변수명이 다르면\n",
    "# 혼동이 올 수 있으니, 동일하게 맞춰주자"
   ]
  },
  {
   "cell_type": "code",
   "execution_count": 54,
   "metadata": {},
   "outputs": [
    {
     "name": "stdout",
     "output_type": "stream",
     "text": [
      "x\n"
     ]
    }
   ],
   "source": [
    "x = Symbol('x')\n",
    "\n",
    "print(x.name)\n",
    "\n",
    "# .name을 이용해 실제 이름을 확인할 수 있다"
   ]
  },
  {
   "cell_type": "code",
   "execution_count": 55,
   "metadata": {},
   "outputs": [
    {
     "name": "stdout",
     "output_type": "stream",
     "text": [
      "2*x*y\n",
      "2*x**2\n"
     ]
    }
   ],
   "source": [
    "from sympy import Symbol\n",
    "\n",
    "# 하나씩 생성할 땐 이렇게.\n",
    "x = Symbol('x')\n",
    "y = Symbol('y')\n",
    "z = Symbol('z')\n",
    "\n",
    "\n",
    "from sympy import symbols\n",
    "\n",
    "# 한꺼번에 생성할 땐 이렇게.\n",
    "x,y,z = symbols('x,y,z')\n",
    "\n",
    "\n",
    "# 몇가지 활용 예시\n",
    "s = x*y + x*y\n",
    "print(s)\n",
    "\n",
    "p = x*(x + x)\n",
    "print(p)"
   ]
  },
  {
   "cell_type": "code",
   "execution_count": 56,
   "metadata": {},
   "outputs": [
    {
     "name": "stdout",
     "output_type": "stream",
     "text": [
      "(x - y)*(x + y)\n",
      "x**2 - y**2\n",
      "\n",
      "또 다른 예시\n",
      "\n",
      "(x + y)**3\n",
      "x**3 + 3*x**2*y + 3*x*y**2 + y**3\n"
     ]
    }
   ],
   "source": [
    "'''\n",
    "factor() -> 주어진 함수를 인수로 쪼갬\n",
    "expand() -> 주어진 함수를 확장형태로 표현함(항들의 합 형태)\n",
    "\n",
    "Original Expression : x**2 - y**2\n",
    "Factored Expression : (x - y)*(x + y)\n",
    "Expanded Expression : x**2 - y**2\n",
    "'''\n",
    "\n",
    "from sympy import Symbol\n",
    "x = Symbol('x')\n",
    "y = Symbol('y')\n",
    "\n",
    "from sympy import factor\n",
    "\n",
    "expr = x**2 - y**2\n",
    "\n",
    "print(factor(expr))\n",
    "\n",
    "\n",
    "from sympy import expand\n",
    "\n",
    "factors = factor(expr)\n",
    "\n",
    "print(expand(factors))\n",
    "\n",
    "\n",
    "# 또 다른 예시\n",
    "print(\"\\n또 다른 예시\\n\")\n",
    "\n",
    "expr = x**3 + 3*x**2*y + 3*x*y**2 + y**3\n",
    "factors = factor(expr)\n",
    "print(factors)\n",
    "print(expand(factors))"
   ]
  },
  {
   "cell_type": "code",
   "execution_count": 57,
   "metadata": {},
   "outputs": [
    {
     "name": "stdout",
     "output_type": "stream",
     "text": [
      " 2            2\n",
      "y  + 2⋅x⋅y + x \n"
     ]
    }
   ],
   "source": [
    "'''\n",
    "Pretty Printing\n",
    "\n",
    "pprint()를 활용하면 흔히 쓰는 수식의 형태로 출력 함\n",
    "\n",
    "Sympy printing 관련 문서\n",
    "https://docs.sympy.org/latest/tutorials/intro-tutorial/printing.html\n",
    "'''\n",
    "from sympy import pprint\n",
    "\n",
    "expr = x*x + 2*x*y + y*y\n",
    "\n",
    "pprint(expr)"
   ]
  },
  {
   "cell_type": "code",
   "execution_count": 58,
   "metadata": {},
   "outputs": [
    {
     "name": "stdout",
     "output_type": "stream",
     "text": [
      "     2    3    4    5    6    7\n",
      "    x    x    x    x    x    x \n",
      "x + ── + ── + ── + ── + ── + ──\n",
      "    2    3    4    5    6    7 \n"
     ]
    }
   ],
   "source": [
    "'''\n",
    "Printing a Series\n",
    "\n",
    "\n",
    "Print the series:\n",
    "x + x**2 + x**3 + ... + x**n\n",
    "    ____  _____  _____\n",
    "      2     3      n\n",
    "\n",
    "만들어 보기\n",
    "'''\n",
    "\n",
    "from sympy import Symbol, pprint, init_printing\n",
    "\n",
    "def print_series(n):\n",
    "    # Initialize printing system with reverse order\n",
    "    # x의 차수가 놓은 것 부터 출력하는 것이 기본인데\n",
    "    # 아래와 같이 설정해주면 역순으로 출력해 줌\n",
    "    # 자세한 내용은 위의 공식 문서 참조\n",
    "    init_printing(order=\"rev-lex\")\n",
    "\n",
    "    x = Symbol('x')\n",
    "    series = x\n",
    "\n",
    "    for i in range(2, n+1):\n",
    "        series = series + (x**i) / i\n",
    "    \n",
    "    pprint(series)\n",
    "\n",
    "# n = input('Enter the number of terms you want in the series: ')\n",
    "\n",
    "print_series(int(7))"
   ]
  },
  {
   "cell_type": "code",
   "execution_count": 59,
   "metadata": {},
   "outputs": [
    {
     "name": "stdout",
     "output_type": "stream",
     "text": [
      " 2            2\n",
      "y  + 2⋅x⋅y + x \n",
      "9\n"
     ]
    }
   ],
   "source": [
    "'''\n",
    "Substituting in Values\n",
    "'''\n",
    "\n",
    "x = Symbol('x')\n",
    "y = Symbol('y')\n",
    "\n",
    "expr = x*x + x*y + x*y + y*y\n",
    "\n",
    "res = expr.subs({x:1, y:2})\n",
    "\n",
    "pprint(expr)\n",
    "\n",
    "print(res)"
   ]
  },
  {
   "cell_type": "code",
   "execution_count": 60,
   "metadata": {},
   "outputs": [
    {
     "name": "stdout",
     "output_type": "stream",
     "text": [
      "       2                  2\n",
      "(1 - y)  + 2⋅y⋅(1 - y) + y \n"
     ]
    }
   ],
   "source": [
    "# 아래와 같은 응용도 가능하며\n",
    "# 딕셔너리 형태로 값이 전달되는 부분 확인\n",
    "\n",
    "pprint(expr.subs({x:1-y}))"
   ]
  },
  {
   "cell_type": "code",
   "execution_count": 72,
   "metadata": {},
   "outputs": [
    {
     "name": "stdout",
     "output_type": "stream",
     "text": [
      "factor()\n",
      "(2*y - 1)**2\n",
      "\n",
      "\n",
      "\n",
      "expand()\n",
      "4*y**2 - 4*y + 1\n",
      "\n",
      "\n",
      "\n",
      "pprint()\n",
      "        2                   2\n",
      "(-1 + y)  + 2⋅y⋅(-1 + y) + y \n",
      "\n",
      "\n",
      "\n",
      "simplify()\n"
     ]
    },
    {
     "data": {
      "text/latex": [
       "$\\displaystyle 1 - 4 y + 4 y^{2}$"
      ],
      "text/plain": [
       "             2\n",
       "1 - 4⋅y + 4⋅y "
      ]
     },
     "execution_count": 72,
     "metadata": {},
     "output_type": "execute_result"
    }
   ],
   "source": [
    "'''\n",
    "simplify()를 활용한 프린팅 방법 확인 \n",
    "및 지금까지 배운 출력과의 비교\n",
    "'''\n",
    "\n",
    "expr_subs = expr.subs({x:y-1})\n",
    "\n",
    "\n",
    "print(\"factor()\")\n",
    "print(factor(expr_subs))\n",
    "print(\"\\n\\n\")\n",
    "\n",
    "print(\"expand()\")\n",
    "print(expand(expr_subs))\n",
    "print(\"\\n\\n\")\n",
    "\n",
    "print(\"pprint()\")\n",
    "pprint(expr_subs)\n",
    "print(\"\\n\\n\")\n",
    "\n",
    "from sympy import simplify\n",
    "\n",
    "print(\"simplify()\")\n",
    "simplify(expr_subs) # print로 출력되지 않음에 유의"
   ]
  },
  {
   "cell_type": "code",
   "execution_count": 1,
   "metadata": {},
   "outputs": [
    {
     "name": "stdout",
     "output_type": "stream",
     "text": [
      "     2    3    4    5    6    7\n",
      "    x    x    x    x    x    x \n",
      "x + ── + ── + ── + ── + ── + ──\n",
      "    2    3    4    5    6    7 \n",
      "Value of the series at 1.0: 2.59285714285714\n"
     ]
    }
   ],
   "source": [
    "'''\n",
    "Print the series:\n",
    "x + x**2 + x**3 + ... + x**n\n",
    "    ____   _____       ______\n",
    "     2       3            n\n",
    "\n",
    "앞서 구현한 것을 조금 더 확장해\n",
    "결과값 출력까지 진행해 보자\n",
    "'''\n",
    "\n",
    "from sympy import Symbol, pprint, init_printing\n",
    "\n",
    "def print_series(n, x_value):\n",
    "\n",
    "    init_printing(order=\"rev-lex\")\n",
    "\n",
    "    x = Symbol('x')\n",
    "    series = x\n",
    "\n",
    "    for i in range(2, n+1):\n",
    "        series = series + (x**i) / i\n",
    "    \n",
    "    pprint(series)\n",
    "\n",
    "    # Evaluate the series at x_value\n",
    "    series_value = series.subs({x:x_value})\n",
    "    print(f\"Value of the series at {x_value}: {series_value}\")\n",
    "\n",
    "n = 7\n",
    "x_value = 1\n",
    "\n",
    "print_series(int(n), float(x_value))"
   ]
  },
  {
   "cell_type": "code",
   "execution_count": 14,
   "metadata": {},
   "outputs": [
    {
     "name": "stdout",
     "output_type": "stream",
     "text": [
      "x**2*y**3 + 4*x**2*y + 3*x*y**3 + 12*x*y\n"
     ]
    }
   ],
   "source": [
    "'''\n",
    "simplify()를 활용한 두 수식의 곱 함수 작성\n",
    "'''\n",
    "\n",
    "from sympy import expand, sympify, simplify\n",
    "from sympy.core.sympify import SympifyError\n",
    "\n",
    "def product(expr1, expr2):\n",
    "    prod = expand(expr1 * expr2)\n",
    "    print(prod)\n",
    "    \n",
    "\n",
    "x = Symbol('x')\n",
    "y = Symbol('y')\n",
    "\n",
    "expr1 = x**2 + x*2 + x\n",
    "expr2 = y**3 + y*3 + y\n",
    "\n",
    "try:\n",
    "    expr1 = sympify(expr1)\n",
    "    expr2 = sympify(expr2)\n",
    "except SympifyError:\n",
    "    print(\"Invalid Input\")\n",
    "else:\n",
    "    product(expr1, expr2)"
   ]
  },
  {
   "cell_type": "code",
   "execution_count": 16,
   "metadata": {},
   "outputs": [
    {
     "data": {
      "text/latex": [
       "$\\displaystyle \\left[ 12\\right]$"
      ],
      "text/plain": [
       "[12]"
      ]
     },
     "execution_count": 16,
     "metadata": {},
     "output_type": "execute_result"
    }
   ],
   "source": [
    "'''\n",
    "Solving Equations\n",
    "\n",
    "Using solve() function of sympy.\n",
    "\n",
    "* solve() 쓸때, 작성된 수식의 반대편 항은 무조건 0으로 세팅해야함 *\n",
    "'''\n",
    "\n",
    "from sympy import Symbol, solve\n",
    "\n",
    "x = Symbol('x')\n",
    "\n",
    "expr = x - 5 - 7\n",
    "\n",
    "solve(expr)"
   ]
  },
  {
   "cell_type": "code",
   "execution_count": 22,
   "metadata": {},
   "outputs": [
    {
     "data": {
      "text/latex": [
       "$\\displaystyle \\left[ \\left\\{ x : -4\\right\\}, \\  \\left\\{ x : -1\\right\\}\\right]$"
      ],
      "text/plain": [
       "[{x: -4}, {x: -1}]"
      ]
     },
     "execution_count": 22,
     "metadata": {},
     "output_type": "execute_result"
    }
   ],
   "source": [
    "'''\n",
    "Solving Quadratic Equations\n",
    "'''\n",
    "\n",
    "from sympy import solve\n",
    "\n",
    "x = Symbol('x')\n",
    "\n",
    "expr = x**2 + 5*x + 4\n",
    "\n",
    "solve(expr, dict=True)\n",
    "# dict 옵션을 활용하면, 좀 더 보기좋게 출력됨\n",
    "# 해당 옵션 쓰지 않으면 그냥 리스트로 [-4, -1] 이라고 나옴"
   ]
  },
  {
   "cell_type": "code",
   "execution_count": 26,
   "metadata": {},
   "outputs": [
    {
     "data": {
      "text/latex": [
       "$\\displaystyle \\left[ \\left\\{ x : - \\frac{\\sqrt{3} i}{2} - \\frac{1}{2}\\right\\}, \\  \\left\\{ x : \\frac{\\sqrt{3} i}{2} - \\frac{1}{2}\\right\\}\\right]$"
      ],
      "text/plain": [
       "⎡⎧     √3⋅ⅈ   1⎫  ⎧   √3⋅ⅈ   1⎫⎤\n",
       "⎢⎨x: - ──── - ─⎬, ⎨x: ──── - ─⎬⎥\n",
       "⎣⎩      2     2⎭  ⎩    2     2⎭⎦"
      ]
     },
     "execution_count": 26,
     "metadata": {},
     "output_type": "execute_result"
    }
   ],
   "source": [
    "# 추가 예제\n",
    "\n",
    "expr = x**2 + x + 1\n",
    "\n",
    "solve(expr, dict=True)"
   ]
  },
  {
   "cell_type": "code",
   "execution_count": 28,
   "metadata": {},
   "outputs": [
    {
     "data": {
      "text/latex": [
       "$\\displaystyle \\left[ \\left\\{ x : \\frac{- \\sqrt{b^{2} - 4 a c} - b}{2 a}\\right\\}, \\  \\left\\{ x : \\frac{\\sqrt{b^{2} - 4 a c} - b}{2 a}\\right\\}\\right]$"
      ],
      "text/plain": [
       "⎡⎧        ____________    ⎫  ⎧      ____________    ⎫⎤\n",
       "⎢⎪       ╱  2             ⎪  ⎪     ╱  2             ⎪⎥\n",
       "⎢⎨   - ╲╱  b  - 4⋅a⋅c  - b⎬  ⎨   ╲╱  b  - 4⋅a⋅c  - b⎬⎥\n",
       "⎢⎪x: ─────────────────────⎪, ⎪x: ───────────────────⎪⎥\n",
       "⎣⎩            2⋅a         ⎭  ⎩           2⋅a        ⎭⎦"
      ]
     },
     "execution_count": 28,
     "metadata": {},
     "output_type": "execute_result"
    }
   ],
   "source": [
    "# 추가 예제\n",
    "\n",
    "x = Symbol('x')\n",
    "a = Symbol('a')\n",
    "b = Symbol('b')\n",
    "c = Symbol('c')\n",
    "\n",
    "expr = a*x**2 + b*x + c\n",
    "\n",
    "solve(expr, x, dict=True)\n",
    "# x에 대해 해를 찾는 것은 이와 같이 사용"
   ]
  },
  {
   "cell_type": "code",
   "execution_count": 35,
   "metadata": {},
   "outputs": [
    {
     "name": "stdout",
     "output_type": "stream",
     "text": [
      "⎡⎧                        ______________    ⎫  ⎧                      ________\n",
      "⎢⎪                       ╱      2           ⎪  ⎪                     ╱      2 \n",
      "⎢⎨   - 1.4142135623731⋅╲╱  0.5⋅u  + a⋅s  - u⎬  ⎨   1.4142135623731⋅╲╱  0.5⋅u  \n",
      "⎢⎪t: ───────────────────────────────────────⎪, ⎪t: ───────────────────────────\n",
      "⎣⎩                      a                   ⎭  ⎩                     a        \n",
      "\n",
      "______    ⎫⎤\n",
      "          ⎪⎥\n",
      "+ a⋅s  - u⎬⎥\n",
      "──────────⎪⎥\n",
      "          ⎭⎦\n"
     ]
    }
   ],
   "source": [
    "# 추가 예제\n",
    "'''\n",
    "a : 가속도\n",
    "u : 초기 속도\n",
    "t : 시간\n",
    "s : 거리\n",
    "'''\n",
    "\n",
    "from sympy import Symbol, solve, pprint\n",
    "\n",
    "s = Symbol('s')\n",
    "u = Symbol('u')\n",
    "t = Symbol('t')\n",
    "a = Symbol('a')\n",
    "\n",
    "expr = u*t + (1/2)*a*t**2 - s\n",
    "\n",
    "t_expr = solve(expr, t, dict=True)\n",
    "\n",
    "pprint(t_expr)\n",
    "\n",
    "# 여기에 더해 subs() 사용하면, 답을 구할 수 있을 것이라 예상할 수 있다"
   ]
  },
  {
   "cell_type": "code",
   "execution_count": 37,
   "metadata": {},
   "outputs": [
    {
     "data": {
      "text/latex": [
       "$\\displaystyle \\left[ \\left\\{ x : \\frac{24}{5}, \\  y : - \\frac{6}{5}\\right\\}\\right]$"
      ],
      "text/plain": [
       "[{x: 24/5, y: -6/5}]"
      ]
     },
     "execution_count": 37,
     "metadata": {},
     "output_type": "execute_result"
    }
   ],
   "source": [
    "'''\n",
    "이차방정식의 근을 찾아보자\n",
    "'''\n",
    "\n",
    "expr1 = 2*x + 3*y - 6\n",
    "expr2 = 3*x + 2*y - 12\n",
    "\n",
    "# tuple로 값 넘겨주는 모습 확인\n",
    "solve((expr1, expr2), dict=True)"
   ]
  },
  {
   "cell_type": "code",
   "execution_count": 42,
   "metadata": {},
   "outputs": [
    {
     "data": {
      "text/latex": [
       "$\\displaystyle 0$"
      ],
      "text/plain": [
       "0"
      ]
     },
     "execution_count": 42,
     "metadata": {},
     "output_type": "execute_result"
    }
   ],
   "source": [
    "'''\n",
    "위의 x, y 값이 실제로 만족되는 값인지 확인해보자\n",
    "'''\n",
    "\n",
    "soln = solve((expr1, expr2), dict=True)\n",
    "\n",
    "soln = soln[0]\n",
    "\n",
    "expr1.subs({x:soln[x], y:soln[y]})\n",
    "# expr1 수식에 대해 만족함을 확인\n",
    "\n",
    "expr2.subs({x:soln[x], y:soln[y]})\n",
    "# expr2 수식에 대해 만족함을 확인"
   ]
  },
  {
   "cell_type": "code",
   "execution_count": 44,
   "metadata": {},
   "outputs": [
    {
     "data": {
      "image/png": "[encoded data removed]",
      "text/plain": [
       "<Figure size 432x288 with 1 Axes>"
      ]
     },
     "metadata": {
      "needs_background": "light"
     },
     "output_type": "display_data"
    },
    {
     "data": {
      "text/plain": [
       "<sympy.plotting.plot.Plot at 0x1abfab98ac0>"
      ]
     },
     "execution_count": 44,
     "metadata": {},
     "output_type": "execute_result"
    }
   ],
   "source": [
    "'''\n",
    "Plotting Using sympy\n",
    "'''\n",
    "\n",
    "# 수식만 주고, 그래프 그리게 해보자\n",
    "# (sympy 내부에서 matplotlib을 포크해서 쓰고 있음)\n",
    "# (물론 사용방식 등은 다름, 코어 코드만 비슷하다고 이해하자)\n",
    "\n",
    "from sympy.plotting import plot\n",
    "from sympy import Symbol\n",
    "\n",
    "x = Symbol('x')\n",
    "\n",
    "plot(2*x + 3)"
   ]
  },
  {
   "cell_type": "code",
   "execution_count": 47,
   "metadata": {},
   "outputs": [
    {
     "data": {
      "image/png": "[encoded data removed]",
      "text/plain": [
       "<Figure size 432x288 with 1 Axes>"
      ]
     },
     "metadata": {
      "needs_background": "light"
     },
     "output_type": "display_data"
    },
    {
     "data": {
      "text/plain": [
       "<sympy.plotting.plot.Plot at 0x1ab9537ab20>"
      ]
     },
     "execution_count": 47,
     "metadata": {},
     "output_type": "execute_result"
    }
   ],
   "source": [
    "# 그래프 범위를 x축 기준 -5, 5 로 제한해보자\n",
    "\n",
    "plot(2*x + 3, (x, -5 ,5))"
   ]
  },
  {
   "cell_type": "code",
   "execution_count": 51,
   "metadata": {},
   "outputs": [
    {
     "data": {
      "image/png": "[encoded data removed]",
      "text/plain": [
       "<Figure size 432x288 with 1 Axes>"
      ]
     },
     "metadata": {
      "needs_background": "light"
     },
     "output_type": "display_data"
    },
    {
     "data": {
      "text/plain": [
       "<sympy.plotting.plot.Plot at 0x1ab95501be0>"
      ]
     },
     "execution_count": 51,
     "metadata": {},
     "output_type": "execute_result"
    }
   ],
   "source": [
    "# 다양한 옵션을 지정해보자\n",
    "\n",
    "plot((2*x + 3), (x, -5, 5), title=\"A Line\", xlabel='x', ylabel=\"y = 2x+3\")"
   ]
  },
  {
   "cell_type": "code",
   "execution_count": 53,
   "metadata": {},
   "outputs": [],
   "source": [
    "# 로컬에 저장하기\n",
    "\n",
    "# show 옵션을 False로 주면 그래프가 표기되지 않는데,\n",
    "# 이는 찐 matplotlib과 다르게 기본값이 그냥 그래프 띄우는 거기때문.\n",
    "# 어쨋든 이렇게 한 결과값을 변수에 할당하고 save() 함수 활용하면 로컬에 저장 가능\n",
    "p = plot((2*x + 3), (x, -5, 5), title=\"A Line\", xlabel='x', ylabel=\"y = 2x+3\", show=False)\n",
    "\n",
    "# p.save(\"LINE.png\")"
   ]
  },
  {
   "cell_type": "code",
   "execution_count": null,
   "metadata": {},
   "outputs": [],
   "source": []
  }
 ],
 "metadata": {
  "kernelspec": {
   "display_name": "Python 3",
   "language": "python",
   "name": "python3"
  },
  "language_info": {
   "codemirror_mode": {
    "name": "ipython",
    "version": 3
   },
   "file_extension": ".py",
   "mimetype": "text/x-python",
   "name": "python",
   "nbconvert_exporter": "python",
   "pygments_lexer": "ipython3",
   "version": "3.8.0"
  },
  "orig_nbformat": 4
 },
 "nbformat": 4,
 "nbformat_minor": 2
}
