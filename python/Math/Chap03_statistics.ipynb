{
 "cells": [
  {
   "cell_type": "code",
   "execution_count": 3,
   "metadata": {},
   "outputs": [
    {
     "name": "stdout",
     "output_type": "stream",
     "text": [
      "Mean donation over the last 12 days is 477.75\n"
     ]
    }
   ],
   "source": [
    "'''\n",
    "Calculating the mean\n",
    "'''\n",
    "\n",
    "def calculate_mean(numbers):\n",
    "    s = sum(numbers)\n",
    "    N = len(numbers)\n",
    "\n",
    "    mean = s / N\n",
    "\n",
    "    return mean\n",
    "\n",
    "donations = [100, 60, 70, 900, 100, 200, 500, 500, 503, 600, 1000, 1200]\n",
    "\n",
    "mean = calculate_mean(donations)\n",
    "\n",
    "N = len(donations)\n",
    "\n",
    "print(f\"Mean donation over the last {N} days is {mean}\")"
   ]
  },
  {
   "cell_type": "code",
   "execution_count": 5,
   "metadata": {},
   "outputs": [
    {
     "name": "stdout",
     "output_type": "stream",
     "text": [
      "Median donation voer the last 12 days is 500.0\n"
     ]
    }
   ],
   "source": [
    "'''\n",
    "Calculating the median\n",
    "'''\n",
    "\n",
    "def calculate_median(numbers):\n",
    "    N = len(numbers)\n",
    "    numbers.sort()\n",
    "\n",
    "    # Find the median\n",
    "    if N % 2 == 0:\n",
    "        # if N is even.\n",
    "        m1 = N / 2\n",
    "        m2 = (N / 2) + 1\n",
    "\n",
    "        # Conver to integer, match position\n",
    "        m1 = int(m1) - 1\n",
    "        m2 = int(m2) - 1\n",
    "        median = (numbers[m1] + numbers[m2]) / 2\n",
    "    else:\n",
    "        m = (N + 1) / 2\n",
    "\n",
    "        # Convert to integer, match position to using it as index\n",
    "        m = int(m) - 1\n",
    "        median = numbers[m]\n",
    "    \n",
    "    return median\n",
    "\n",
    "median = calculate_median(donations)\n",
    "\n",
    "N = len(donations)\n",
    "\n",
    "print(f\"Median donation voer the last {N} days is {median}\")"
   ]
  },
  {
   "cell_type": "code",
   "execution_count": 8,
   "metadata": {},
   "outputs": [
    {
     "name": "stdout",
     "output_type": "stream",
     "text": [
      "The mode of the list of numbers is : 9\n"
     ]
    }
   ],
   "source": [
    "'''\n",
    "Calculating the mode(최빈값)\n",
    "'''\n",
    "\n",
    "from collections import Counter\n",
    "# 여기서 Counter는 class임\n",
    "# collections는 module\n",
    "\n",
    "def calculate_mode(numbers):\n",
    "    c = Counter(numbers)\n",
    "    mode = c.most_common(1)\n",
    "    # [(값, 갯수)] 리스트 내의 튜플 형태로 나옴\n",
    "\n",
    "    return mode[0][0]\n",
    "\n",
    "scores = [7, 8, 9, 2, 10, 9, 9, 9, 9, 4, 5, 6, 1, 5, 6, 7, 8, 6, 1, 10]\n",
    "mode = calculate_mode(scores)\n",
    "\n",
    "print(f\"The mode of the list of numbers is : {mode}\")"
   ]
  },
  {
   "cell_type": "code",
   "execution_count": 9,
   "metadata": {},
   "outputs": [
    {
     "name": "stdout",
     "output_type": "stream",
     "text": [
      "The mode(s) of the list of numbers are : \n",
      "5\n",
      "4\n"
     ]
    }
   ],
   "source": [
    "'''\n",
    "Calculating the mode when the list of numbers\n",
    "may have multiple modes\n",
    "'''\n",
    "\n",
    "def calculate_mode(numbers):\n",
    "    c = Counter(numbers)\n",
    "    numbers_freq = c.most_common()\n",
    "    max_count = numbers_freq[0][1]\n",
    "\n",
    "    modes = []\n",
    "\n",
    "    for num in numbers_freq:\n",
    "        if num[1] == max_count:\n",
    "            modes.append(num[0])\n",
    "    return modes\n",
    "\n",
    "scores = [5, 5, 5, 4, 4, 4, 9, 1, 3]\n",
    "modes = calculate_mode(scores)\n",
    "\n",
    "print(f\"The mode(s) of the list of numbers are : \")\n",
    "for mode in modes:\n",
    "    print(mode)"
   ]
  }
 ],
 "metadata": {
  "kernelspec": {
   "display_name": "Python 3",
   "language": "python",
   "name": "python3"
  },
  "language_info": {
   "codemirror_mode": {
    "name": "ipython",
    "version": 3
   },
   "file_extension": ".py",
   "mimetype": "text/x-python",
   "name": "python",
   "nbconvert_exporter": "python",
   "pygments_lexer": "ipython3",
   "version": "3.8.0"
  },
  "orig_nbformat": 4
 },
 "nbformat": 4,
 "nbformat_minor": 2
}
