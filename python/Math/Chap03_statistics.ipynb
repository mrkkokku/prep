{
 "cells": [
  {
   "cell_type": "code",
   "execution_count": 3,
   "metadata": {},
   "outputs": [
    {
     "name": "stdout",
     "output_type": "stream",
     "text": [
      "Mean donation over the last 12 days is 477.75\n"
     ]
    }
   ],
   "source": [
    "'''\n",
    "Calculating the mean\n",
    "'''\n",
    "\n",
    "def calculate_mean(numbers):\n",
    "    s = sum(numbers)\n",
    "    N = len(numbers)\n",
    "\n",
    "    mean = s / N\n",
    "\n",
    "    return mean\n",
    "\n",
    "donations = [100, 60, 70, 900, 100, 200, 500, 500, 503, 600, 1000, 1200]\n",
    "\n",
    "mean = calculate_mean(donations)\n",
    "\n",
    "N = len(donations)\n",
    "\n",
    "print(f\"Mean donation over the last {N} days is {mean}\")"
   ]
  },
  {
   "cell_type": "code",
   "execution_count": 5,
   "metadata": {},
   "outputs": [
    {
     "name": "stdout",
     "output_type": "stream",
     "text": [
      "Median donation voer the last 12 days is 500.0\n"
     ]
    }
   ],
   "source": [
    "'''\n",
    "Calculating the median\n",
    "'''\n",
    "\n",
    "def calculate_median(numbers):\n",
    "    N = len(numbers)\n",
    "    numbers.sort()\n",
    "\n",
    "    # Find the median\n",
    "    if N % 2 == 0:\n",
    "        # if N is even.\n",
    "        m1 = N / 2\n",
    "        m2 = (N / 2) + 1\n",
    "\n",
    "        # Conver to integer, match position\n",
    "        m1 = int(m1) - 1\n",
    "        m2 = int(m2) - 1\n",
    "        median = (numbers[m1] + numbers[m2]) / 2\n",
    "    else:\n",
    "        m = (N + 1) / 2\n",
    "\n",
    "        # Convert to integer, match position to using it as index\n",
    "        m = int(m) - 1\n",
    "        median = numbers[m]\n",
    "    \n",
    "    return median\n",
    "\n",
    "median = calculate_median(donations)\n",
    "\n",
    "N = len(donations)\n",
    "\n",
    "print(f\"Median donation voer the last {N} days is {median}\")"
   ]
  },
  {
   "cell_type": "code",
   "execution_count": 8,
   "metadata": {},
   "outputs": [
    {
     "name": "stdout",
     "output_type": "stream",
     "text": [
      "The mode of the list of numbers is : 9\n"
     ]
    }
   ],
   "source": [
    "'''\n",
    "Calculating the mode(최빈값)\n",
    "'''\n",
    "\n",
    "from collections import Counter\n",
    "# 여기서 Counter는 class임\n",
    "# collections는 module\n",
    "\n",
    "def calculate_mode(numbers):\n",
    "    c = Counter(numbers)\n",
    "    mode = c.most_common(1)\n",
    "    # [(값, 갯수)] 리스트 내의 튜플 형태로 나옴\n",
    "\n",
    "    return mode[0][0]\n",
    "\n",
    "scores = [7, 8, 9, 2, 10, 9, 9, 9, 9, 4, 5, 6, 1, 5, 6, 7, 8, 6, 1, 10]\n",
    "mode = calculate_mode(scores)\n",
    "\n",
    "print(f\"The mode of the list of numbers is : {mode}\")"
   ]
  },
  {
   "cell_type": "code",
   "execution_count": null,
   "metadata": {},
   "outputs": [
    {
     "name": "stdout",
     "output_type": "stream",
     "text": [
      "The mode(s) of the list of numbers are : \n",
      "5\n",
      "4\n"
     ]
    }
   ],
   "source": [
    "'''\n",
    "Calculating the mode when the list of numbers\n",
    "may have multiple modes\n",
    "'''\n",
    "\n",
    "def calculate_mode(numbers):\n",
    "    c = Counter(numbers)\n",
    "    numbers_freq = c.most_common()\n",
    "    max_count = numbers_freq[0][1]\n",
    "\n",
    "    modes = []\n",
    "\n",
    "    for num in numbers_freq:\n",
    "        if num[1] == max_count:\n",
    "            modes.append(num[0])\n",
    "    return modes\n",
    "\n",
    "scores = [5, 5, 5, 4, 4, 4, 9, 1, 3]\n",
    "modes = calculate_mode(scores)\n",
    "\n",
    "print(f\"The mode(s) of the list of numbers are : \")\n",
    "for mode in modes:\n",
    "    print(mode)"
   ]
  },
  {
   "cell_type": "code",
   "execution_count": 2,
   "metadata": {},
   "outputs": [
    {
     "name": "stdout",
     "output_type": "stream",
     "text": [
      "Number\tFrequency\n",
      "9\t5\n",
      "6\t3\n",
      "7\t2\n",
      "8\t2\n",
      "10\t2\n",
      "5\t2\n",
      "1\t2\n",
      "2\t1\n",
      "4\t1\n"
     ]
    }
   ],
   "source": [
    "'''\n",
    "Frequency table for a list of numbers\n",
    "'''\n",
    "\n",
    "from collections import Counter\n",
    "\n",
    "def frequency_table(numbers):\n",
    "    table = Counter(numbers)\n",
    "    print(\"Number\\tFrequency\")\n",
    "\n",
    "    for number in table.most_common():\n",
    "        print(f\"{number[0]}\\t{number[1]}\")\n",
    "\n",
    "scores = [7, 8, 9, 2, 10, 9, 9, 9, 9, 4, 5, 6, 1, 5, 6, 7, 8, 6, 1, 10]\n",
    "\n",
    "frequency_table(scores)"
   ]
  },
  {
   "cell_type": "code",
   "execution_count": 4,
   "metadata": {},
   "outputs": [
    {
     "name": "stdout",
     "output_type": "stream",
     "text": [
      "Number\tFrequency\n",
      "9\t5\n",
      "6\t3\n",
      "7\t2\n",
      "8\t2\n",
      "10\t2\n",
      "5\t2\n",
      "1\t2\n",
      "2\t1\n",
      "4\t1\n"
     ]
    }
   ],
   "source": [
    "'''\n",
    "Frequency table for a list of numbers\n",
    "Enhanced to display the table sorted by the numbers\n",
    "'''\n",
    "\n",
    "from collections import Counter\n",
    "\n",
    "def frequency_table(numbers):\n",
    "    table = Counter(numbers)\n",
    "    numbers_freq = table.most_common()\n",
    "    numbers_freq.sort()\n",
    "    print(\"Number\\tFrequency\")\n",
    "\n",
    "    for number in table.most_common():\n",
    "        print(f\"{number[0]}\\t{number[1]}\")\n",
    "\n",
    "scores = [7, 8, 9, 2, 10, 9, 9, 9, 9, 4, 5, 6, 1, 5, 6, 7, 8, 6, 1, 10]\n",
    "\n",
    "frequency_table(scores)"
   ]
  },
  {
   "cell_type": "code",
   "execution_count": null,
   "metadata": {},
   "outputs": [],
   "source": [
    "'''\n",
    "지금까지 중앙값, 평균, 최빈값을 배웠고\n",
    "이제는 분산을 배워 값들의 전체 특성을 조금 더 깊게 이해해 보자\n",
    "'''"
   ]
  },
  {
   "cell_type": "code",
   "execution_count": 7,
   "metadata": {},
   "outputs": [
    {
     "name": "stdout",
     "output_type": "stream",
     "text": [
      "Lowest: 60, Highest: 1200, Range: 1140\n"
     ]
    }
   ],
   "source": [
    "'''\n",
    "Find the Range\n",
    "'''\n",
    "\n",
    "def find_range(numbers):\n",
    "    lowest = min(numbers)\n",
    "    highest = max(numbers)\n",
    "\n",
    "    # Find the range\n",
    "    r = highest - lowest\n",
    "\n",
    "    return lowest, highest, r\n",
    "\n",
    "donations = [100, 60, 70, 900, 100, 200, 500, 500, 503, 600, 1000, 1200]\n",
    "\n",
    "lowest, highest, r = find_range(donations)\n",
    "\n",
    "print(f\"Lowest: {lowest}, Highest: {highest}, Range: {r}\")"
   ]
  },
  {
   "cell_type": "code",
   "execution_count": 1,
   "metadata": {},
   "outputs": [
    {
     "name": "stdout",
     "output_type": "stream",
     "text": [
      "The variance of the list of numbers is 141047.35416666666\n",
      "The standard deviation of the list of numbers is 375.5627166887931\n"
     ]
    }
   ],
   "source": [
    "'''\n",
    "Find the variance and standard deviation of a list of numbers\n",
    "'''\n",
    "\n",
    "def calculate_mean(numbers):\n",
    "    s = sum(numbers)\n",
    "    N = len(numbers)\n",
    "\n",
    "    # Calculate the mean\n",
    "    mean = s / N\n",
    "\n",
    "    return mean\n",
    "\n",
    "def find_differences(numbers):\n",
    "    # Find the mean\n",
    "    mean = calculate_mean(numbers)\n",
    "\n",
    "    # Find the differences from the mean\n",
    "    diff = []\n",
    "    for num in numbers:\n",
    "        diff.append(num - mean)\n",
    "    \n",
    "    return diff\n",
    "\n",
    "def calculate_variance(numbers):\n",
    "\n",
    "    # Find the list of differences\n",
    "    diff = find_differences(numbers)\n",
    "\n",
    "    # Find the squared differences\n",
    "    squared_diff = []\n",
    "    for d in diff:\n",
    "        squared_diff.append(d**2)\n",
    "\n",
    "    # Find the variance\n",
    "    sum_squared_diff = sum(squared_diff)\n",
    "\n",
    "    variance = sum_squared_diff / len(numbers)\n",
    "\n",
    "    return variance\n",
    "\n",
    "\n",
    "donations = [100, 60, 70, 900, 100, 200, 500, 500, 503, 600, 1000, 1200]\n",
    "\n",
    "variance = calculate_variance(donations)\n",
    "\n",
    "print(f\"The variance of the list of numbers is {variance}\")\n",
    "\n",
    "std = variance**0.5\n",
    "\n",
    "print(f\"The standard deviation of the list of numbers is {std}\")"
   ]
  },
  {
   "cell_type": "code",
   "execution_count": 1,
   "metadata": {},
   "outputs": [],
   "source": [
    "'''\n",
    "Calculate correlation\n",
    "(아래 쪽에서 scatter plot과 함께 쓰게 될 것)\n",
    "'''\n",
    "\n",
    "def find_corr_x_y(x, y):\n",
    "    n = len(x)\n",
    "\n",
    "    # Find the sum of the products\n",
    "    prod = []\n",
    "    for xi, yi in zip(x, y):\n",
    "        prod.append(xi * yi)\n",
    "    \n",
    "    sum_prod_x_y = sum(prod)\n",
    "    \n",
    "    sum_x = sum(x)\n",
    "    sum_y = sum(y)\n",
    "    squared_sum_x = sum_x**2\n",
    "    squared_sum_y = sum_y**2\n",
    "\n",
    "    x_square = []\n",
    "    for xi in x:\n",
    "        x_square.append(xi**2)\n",
    "    # Find the sum\n",
    "    x_square_sum = sum(x_square)\n",
    "\n",
    "    y_square = []\n",
    "    for yi in y:\n",
    "        y_square.append(yi**2)\n",
    "    # Find the sum\n",
    "    y_square_sum = sum(y_square)\n",
    "\n",
    "\n",
    "    # Use formula to calculate correlation\n",
    "    numerator = n * sum_prod_x_y - sum_x * sum_y\n",
    "    denominator_term1 = n * x_square_sum - squared_sum_x\n",
    "    denominator_term2 = n * y_square_sum - squared_sum_y\n",
    "    \n",
    "    denominator = (denominator_term1 * denominator_term2)**0.5\n",
    "    \n",
    "    correlation = numerator / denominator\n",
    "\n",
    "    return correlation"
   ]
  },
  {
   "cell_type": "code",
   "execution_count": 5,
   "metadata": {},
   "outputs": [
    {
     "data": {
      "image/png": "[encoded data removed]",
      "text/plain": [
       "<Figure size 432x288 with 1 Axes>"
      ]
     },
     "metadata": {
      "needs_background": "light"
     },
     "output_type": "display_data"
    }
   ],
   "source": [
    "'''\n",
    "Scatter Plots\n",
    "'''\n",
    "\n",
    "import matplotlib.pyplot as plt\n",
    "\n",
    "x = [1, 2, 3, 4]\n",
    "y = [2, 4, 6, 8]\n",
    "\n",
    "plt.scatter(x, y)\n",
    "# plot 대신 scatter 쓴 것 확인\n",
    "\n",
    "plt.show()"
   ]
  },
  {
   "cell_type": "code",
   "execution_count": 9,
   "metadata": {},
   "outputs": [
    {
     "name": "stdout",
     "output_type": "stream",
     "text": [
      "Sum of the numbers: 5733.0\n"
     ]
    }
   ],
   "source": [
    "'''\n",
    "Reading Data from a Text File\n",
    "'''\n",
    "\n",
    "def sum_data(filename):\n",
    "    s = 0\n",
    "    with open(filename) as f:\n",
    "\n",
    "        for line in f:\n",
    "            s = s + float(line)\n",
    "\n",
    "    print(f\"Sum of the numbers: {s}\")\n",
    "\n",
    "sum_data(\"mydata.txt\")"
   ]
  },
  {
   "cell_type": "code",
   "execution_count": 11,
   "metadata": {},
   "outputs": [
    {
     "name": "stdout",
     "output_type": "stream",
     "text": [
      "Mean : 477.75\n"
     ]
    }
   ],
   "source": [
    "'''\n",
    "Calculating the mean of numbers stored in a file\n",
    "'''\n",
    "\n",
    "# 파일을 list로 반환\n",
    "def read_data(filename):\n",
    "    numbers = []\n",
    "\n",
    "    with open(filename) as f:\n",
    "        for line in f:\n",
    "            numbers.append(float(line))\n",
    "    return numbers\n",
    "\n",
    "def calculate_mean(numbers):\n",
    "    s = sum(numbers)\n",
    "    N = len(numbers)\n",
    "    mean = s / N\n",
    "\n",
    "    return mean\n",
    "\n",
    "data = read_data(\"mydata.txt\")\n",
    "mean = calculate_mean(data)\n",
    "\n",
    "print(f\"Mean : {mean}\")"
   ]
  },
  {
   "cell_type": "code",
   "execution_count": 15,
   "metadata": {},
   "outputs": [
    {
     "data": {
      "image/png": "[encoded data removed]",
      "text/plain": [
       "<Figure size 432x288 with 1 Axes>"
      ]
     },
     "metadata": {
      "needs_background": "light"
     },
     "output_type": "display_data"
    }
   ],
   "source": [
    "'''\n",
    "Scatter plot, csv\n",
    "'''\n",
    "\n",
    "import csv\n",
    "import matplotlib.pyplot as plt\n",
    "\n",
    "def scatter_plot(x, y):\n",
    "    plt.scatter(x, y)\n",
    "    plt.xlabel(\"Number\")\n",
    "    plt.ylabel(\"Square\")\n",
    "    plt.show()\n",
    "\n",
    "def read_csv(filename):\n",
    "    numbers = []\n",
    "    squared = []\n",
    "\n",
    "    with open(filename) as f:\n",
    "        \n",
    "        reader = csv.reader(f)\n",
    "\n",
    "        next(reader) # 파일을 처음열고나면 포인터가 header를 가리키는데 이 행을 스킵하기 위한 명령\n",
    "\n",
    "        for row in reader:\n",
    "            numbers.append(int(row[0]))\n",
    "            squared.append(int(row[1]))\n",
    "        return numbers, squared\n",
    "\n",
    "numbers, squared = read_csv(\"numbers.csv\")\n",
    "\n",
    "scatter_plot(numbers, squared)"
   ]
  },
  {
   "cell_type": "code",
   "execution_count": 16,
   "metadata": {},
   "outputs": [
    {
     "name": "stdout",
     "output_type": "stream",
     "text": [
      "Highest correlation: 0.9605138954331739\n"
     ]
    },
    {
     "data": {
      "image/png": "[encoded data removed]",
      "text/plain": [
       "<Figure size 432x288 with 1 Axes>"
      ]
     },
     "metadata": {
      "needs_background": "light"
     },
     "output_type": "display_data"
    }
   ],
   "source": [
    "'''\n",
    "외부파일 이용한 응용 예제\n",
    "'''\n",
    "\n",
    "def read_csv(filename):\n",
    "    with open(filename) as f:\n",
    "        reader = csv.reader(f)\n",
    "        next(reader)\n",
    "\n",
    "        summer = []\n",
    "        highest_correlated = []\n",
    "\n",
    "        for row in reader:\n",
    "            summer.append(float(row[1]))\n",
    "            highest_correlated.append(float(row[2]))\n",
    "    \n",
    "    return summer, highest_correlated\n",
    "\n",
    "summer, highest_correlated = read_csv(\"correlate-summer.csv\")\n",
    "\n",
    "corr = find_corr_x_y(summer, highest_correlated)\n",
    "\n",
    "print(f\"Highest correlation: {corr}\")\n",
    "\n",
    "scatter_plot(summer, highest_correlated)"
   ]
  }
 ],
 "metadata": {
  "kernelspec": {
   "display_name": "Python 3",
   "language": "python",
   "name": "python3"
  },
  "language_info": {
   "codemirror_mode": {
    "name": "ipython",
    "version": 3
   },
   "file_extension": ".py",
   "mimetype": "text/x-python",
   "name": "python",
   "nbconvert_exporter": "python",
   "pygments_lexer": "ipython3",
   "version": "3.8.0"
  },
  "orig_nbformat": 4
 },
 "nbformat": 4,
 "nbformat_minor": 2
}
