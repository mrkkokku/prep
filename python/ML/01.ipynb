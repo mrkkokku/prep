{
 "cells": [
  {
   "cell_type": "code",
   "execution_count": 3,
   "metadata": {},
   "outputs": [
    {
     "data": {
      "text/plain": [
       "Text(0.5, 1.0, 'D2')"
      ]
     },
     "execution_count": 3,
     "metadata": {},
     "output_type": "execute_result"
    },
    {
     "data": {
      "image/png": "[encoded data removed]",
      "text/plain": [
       "<Figure size 1080x432 with 2 Axes>"
      ]
     },
     "metadata": {
      "needs_background": "light"
     },
     "output_type": "display_data"
    }
   ],
   "source": [
    "import numpy as np\n",
    "import matplotlib.pyplot as plt\n",
    "\n",
    "D1 = np.array([[1.0, 1.2, 3, 4, 5, 6],\n",
    "              [1.5, 3, 2.3, 5.3, 3.8, 5.5]])\n",
    "D2 = np.array([[-0.6, 1.0, 1.2, 3, 4, 5, 6],\n",
    "              [2.9, 1.5, 3, 2.3, 5.3, 3.8, 5.5]])\n",
    "\n",
    "fig, (ax1, ax2) = plt.subplots(1, 2, sharex=True, sharey=True)\n",
    "fig.set_size_inches((15,6))\n",
    "\n",
    "ax1.plot(D1[0], D1[1], 'ko', markersize=10)\n",
    "ax1.set_xlim([-1,7])\n",
    "ax1.set_ylim([1,6])\n",
    "ax1.set_title('D1', fontsize=18)\n",
    "\n",
    "ax2.plot(D2[0], D2[1], 'ko', markersize=10)\n",
    "ax2.set_xlim([-1,7])\n",
    "ax2.set_ylim([1,6])\n",
    "ax2.set_title('D2', fontsize=18)"
   ]
  },
  {
   "cell_type": "code",
   "execution_count": 7,
   "metadata": {},
   "outputs": [
    {
     "ename": "TypeError",
     "evalue": "'tuple' object is not callable",
     "output_type": "error",
     "traceback": [
      "\u001b[1;31m---------------------------------------------------------------------------\u001b[0m",
      "\u001b[1;31mTypeError\u001b[0m                                 Traceback (most recent call last)",
      "\u001b[1;32m~\\AppData\\Local\\Temp/ipykernel_1136/3153033740.py\u001b[0m in \u001b[0;36m<module>\u001b[1;34m\u001b[0m\n\u001b[0;32m     19\u001b[0m \u001b[1;33m\u001b[0m\u001b[0m\n\u001b[0;32m     20\u001b[0m \u001b[1;33m\u001b[0m\u001b[0m\n\u001b[1;32m---> 21\u001b[1;33m \u001b[0mw_ml_d1\u001b[0m \u001b[1;33m=\u001b[0m \u001b[0mmachine_learning\u001b[0m\u001b[1;33m(\u001b[0m\u001b[0mD1\u001b[0m\u001b[1;33m)\u001b[0m\u001b[1;33m\u001b[0m\u001b[1;33m\u001b[0m\u001b[0m\n\u001b[0m\u001b[0;32m     22\u001b[0m \u001b[0mw_mc_d1\u001b[0m \u001b[1;33m=\u001b[0m \u001b[0mmore_clever\u001b[0m\u001b[1;33m(\u001b[0m\u001b[0mD1\u001b[0m\u001b[1;33m)\u001b[0m\u001b[1;33m\u001b[0m\u001b[1;33m\u001b[0m\u001b[0m\n\u001b[0;32m     23\u001b[0m \u001b[1;33m\u001b[0m\u001b[0m\n",
      "\u001b[1;32m~\\AppData\\Local\\Temp/ipykernel_1136/3153033740.py\u001b[0m in \u001b[0;36mmachine_learning\u001b[1;34m(D)\u001b[0m\n\u001b[0;32m      1\u001b[0m \u001b[1;31m# 최적의 직선을 계산\u001b[0m\u001b[1;33m\u001b[0m\u001b[1;33m\u001b[0m\u001b[1;33m\u001b[0m\u001b[0m\n\u001b[0;32m      2\u001b[0m \u001b[1;32mdef\u001b[0m \u001b[0mmachine_learning\u001b[0m\u001b[1;33m(\u001b[0m\u001b[0mD\u001b[0m\u001b[1;33m)\u001b[0m\u001b[1;33m:\u001b[0m\u001b[1;33m\u001b[0m\u001b[1;33m\u001b[0m\u001b[0m\n\u001b[1;32m----> 3\u001b[1;33m     \u001b[0mN\u001b[0m \u001b[1;33m=\u001b[0m \u001b[0mD\u001b[0m\u001b[1;33m.\u001b[0m\u001b[0mshape\u001b[0m\u001b[1;33m(\u001b[0m\u001b[1;36m1\u001b[0m\u001b[1;33m)\u001b[0m\u001b[1;33m\u001b[0m\u001b[1;33m\u001b[0m\u001b[0m\n\u001b[0m\u001b[0;32m      4\u001b[0m     \u001b[0mX\u001b[0m \u001b[1;33m=\u001b[0m \u001b[0mnp\u001b[0m\u001b[1;33m.\u001b[0m\u001b[0mc_\u001b[0m\u001b[1;33m[\u001b[0m\u001b[0mnp\u001b[0m\u001b[1;33m.\u001b[0m\u001b[0mones\u001b[0m\u001b[1;33m(\u001b[0m\u001b[0mN\u001b[0m\u001b[1;33m)\u001b[0m\u001b[1;33m,\u001b[0m \u001b[0mD\u001b[0m\u001b[1;33m[\u001b[0m\u001b[1;36m0\u001b[0m\u001b[1;33m]\u001b[0m\u001b[1;33m]\u001b[0m\u001b[1;33m\u001b[0m\u001b[1;33m\u001b[0m\u001b[0m\n\u001b[0;32m      5\u001b[0m     \u001b[0my\u001b[0m \u001b[1;33m=\u001b[0m \u001b[0mD\u001b[0m\u001b[1;33m[\u001b[0m\u001b[1;36m1\u001b[0m\u001b[1;33m]\u001b[0m\u001b[1;33m\u001b[0m\u001b[1;33m\u001b[0m\u001b[0m\n",
      "\u001b[1;31mTypeError\u001b[0m: 'tuple' object is not callable"
     ]
    }
   ],
   "source": [
    "# 최적의 직선을 계산\n",
    "def machine_learning(D):\n",
    "    N = D.shape[1]\n",
    "    X = np.c_[np.ones(N), D[0]]\n",
    "    y = D[1]\n",
    "    w = np.linalg.solve(np.dot(X.Y, X), np.dot(X.T, y))\n",
    "    return w\n",
    "\n",
    "# 첫 점과 끝 점을 잇는 방식으로 직선을 계산\n",
    "def more_clever(D):\n",
    "    first, last = D[:,0], D[:,-1]\n",
    "    w1 = (last[1]-first[1]) / (last[0]-first[0])\n",
    "    w0 = -w1 * first[0] + first[1]\n",
    "    return (w0, w1)\n",
    "\n",
    "# 직선을 그릴 때 사용\n",
    "def f(x, w):\n",
    "    return w[1]*x + w[0]\n",
    "\n",
    "\n",
    "w_ml_d1 = machine_learning(D1)\n",
    "w_mc_d1 = more_clever(D1)\n",
    "\n",
    "w_ml_d2 = machine_learning(D2)\n",
    "w_mc_d2 = more_clever(D2)\n",
    "\n",
    "x = np.linspace(-1, 7, 100)\n",
    "\n",
    "fig, (ax1, ax2) = plt.subplots(1, 2, sharex=True, sharey=True)\n",
    "fig.set_size_inches((15,6))\n",
    "\n",
    "ax1.plot(D1[0], D1[1], 'ko', markersize=10)\n",
    "ax1.plot(x, f(x, w_mc_d1), '--', c='k', lw=2, label='more clever')\n",
    "ax1.set_xlim([-1,7])\n",
    "ax1.set_ylim([1,6])\n",
    "ax1.legend(fontsize=18)\n",
    "\n",
    "ax2.plot(D2[0], D2[1], 'ko', markersize=10) # ❹\n",
    "ax2.plot(x, f(x, w_ml_d2), c='k', lw=2, label='machine learning')\n",
    "ax2.plot(x, f(x, w_mc_d2), '--', c='k', lw=2, label='more clever')\n",
    "ax2.set_xlim([-1,7])\n",
    "ax2.set_ylim([1,6])\n",
    "ax2.legend(fontsize=18)\n",
    "plt.show()"
   ]
  }
 ],
 "metadata": {
  "interpreter": {
   "hash": "7b4a2db395c35728927dfc07449f855852b1ee9f20779aff79941da530431f91"
  },
  "kernelspec": {
   "display_name": "Python 3.8.0 64-bit",
   "language": "python",
   "name": "python3"
  },
  "language_info": {
   "codemirror_mode": {
    "name": "ipython",
    "version": 3
   },
   "file_extension": ".py",
   "mimetype": "text/x-python",
   "name": "python",
   "nbconvert_exporter": "python",
   "pygments_lexer": "ipython3",
   "version": "3.8.0"
  },
  "orig_nbformat": 4
 },
 "nbformat": 4,
 "nbformat_minor": 2
}
