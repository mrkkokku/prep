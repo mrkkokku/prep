{
 "cells": [
  {
   "cell_type": "code",
   "execution_count": null,
   "metadata": {},
   "outputs": [],
   "source": [
    "# matplotlib.pyplot 모듈의 xlim(), ylim(), axis() 함수를 사용하면\n",
    "# X, Y축이 표시되는 범위를 지정할 수 있다\n",
    "\n",
    "import matplotlib.pyplt as plt\n"
   ]
  }
 ],
 "metadata": {
  "language_info": {
   "name": "python"
  },
  "orig_nbformat": 4
 },
 "nbformat": 4,
 "nbformat_minor": 2
}
