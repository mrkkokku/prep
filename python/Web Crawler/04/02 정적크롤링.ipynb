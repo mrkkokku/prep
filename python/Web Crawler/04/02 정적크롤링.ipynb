{
 "cells": [
  {
   "cell_type": "code",
   "execution_count": 1,
   "id": "a2d62403",
   "metadata": {},
   "outputs": [
    {
     "name": "stdout",
     "output_type": "stream",
     "text": [
      "b'<!doctype html>\\n<html lang=\"ko\">\\n\\n                                                                                <head>\\n                <script type=\"text/javascript\">if (!window.T) { window.T = {} }\\nwindow.T.config = {\"TOP_SSL_URL\":\"https://www.tistory.com\",\"PREVIEW\":false,\"ROLE\":\"guest\",\"PREV_PAGE\":\"\",\"NEXT_PAGE\":\"\",\"BLOG\":{\"id\":4442027,\"name\":\"ai-dev\",\"title\":\"\\xec\\x9d\\xb8\\xea\\xb3\\xb5\\xec\\xa7\\x80\\xeb\\x8a\\xa5 \\xea\\xb0\\x9c\\xeb\\xb0\\x9c\\xec\\x9d\\x98 \\xeb\\xaa\\xa8\\xeb\\x93\\xa0 \\xea\\xb2\\x83\",\"isDormancy\":false,\"nickName\":\"\\xeb\\xa1\\x9c\\xec\\x8a\\xa4\\xec\\xb9\\xb4\\xec\\xb8\\xa0\",\"status\":\"open\",\"profileStatus\":\"normal\"},\"NEED_COMMENT_LOGIN\":false,\"COMMENT_LOGIN_CONFIRM_MESSAGE\":\"\",\"LOGIN_URL\":\"https://www.tistory.com/auth/login/?redirectUrl=https://ai-dev.tistory.com/1\",\"DEFAULT_URL\":\"https://ai-dev.tistory.com\",\"USER\":{\"name\":null,\"homepage\":null,\"id\":0,\"profileImage\":null},\"SUBSCRIPTION\":{\"status\":\"none\",\"isConnected\":false,\"isPending\":false,\"isWait\":false,\"isProcessing\":false,\"isNone\":true},\"IS_LOGIN\":false,\"HAS_BLOG\":false,\"IS_SUPPORT\":false,\"IS_SCRAPABLE\":false,\"TOP_URL\":\"http://www.tistory.com\",\"JOIN_URL\":\"https://www.tistory.com/member/join\",\"PHASE\":\"prod\",\"ROLE_GROUP\":\"visitor\"};\\nwindow.T.entryInfo = {\"entryId\":1,\"isAuthor\":false,\"categoryId\":836119,\"categoryLabel\":\"\\xed\\x81\\xac\\xeb\\xa1\\xa4\\xeb\\xa7\\x81\"};\\nwindow.appInfo = {\"domain\":\"tistory.com\",\"topUrl\":\"https://www.tistory.com\",\"loginUrl\":\"https://www.tistory.com/auth/login\",\"logoutUrl\":\"https://www.tistory.com/auth/logout\"};\\nwindow.initData = {};\\n\\nwindow.TistoryBlog = {\\n    basePath: \"\",\\n    url: \"https://ai-dev.tistory.com\",\\n    tistoryUrl: \"https://ai-dev.tistory.com\",\\n    manageUrl: \"https://ai-dev.tistory.com/manage\",\\n    token: \"PNS/R1m2UcNBVhK9X1U76+ZSJO7MV+MF2CufTXZM+EiJPt0yNO4M8t7T1Ss8pnTQ\"\\n};\\nvar servicePath = \"\";\\nvar blogURL = \"\";</script>\\n\\n                \\n                \\n                \\n                        <!-- BusinessLicenseInfo - START -->\\n        \\n            <link href=\"https://tistory1.daumcdn.net/tistory_admin/userblog/userblog-2f42fbf504a9342b3fd8297ed4953c4384cc5c1f/static/plugin/BusinessLicenseInfo/style.css\" rel=\"stylesheet\" type=\"text/css\"/>\\n\\n            <script>function switchFold(entryId) {\\n    var businessLayer = document.getElementById(\"businessInfoLayer_\" + entryId);\\n\\n    if (businessLayer) {\\n        if (businessLayer.className.indexOf(\"unfold_license\") > 0) {\\n            businessLayer.className = \"business_license_layer\";\\n        } else {\\n            businessLayer.className = \"business_license_layer unfold_license\";\\n        }\\n    }\\n}\\n</script>\\n\\n        \\n        <!-- BusinessLicenseInfo - END -->\\n        <!-- DaumShow - START -->\\n        <style type=\"text/css\">#daumSearchBox {\\n    height: 21px;\\n    background-image: url(//i1.daumcdn.net/imgsrc.search/search_all/show/tistory/plugin/bg_search2_2.gif);\\n    margin: 5px auto;\\n    padding: 0;\\n}\\n\\n#daumSearchBox input {\\n    background: none;\\n    margin: 0;\\n    padding: 0;\\n    border: 0;\\n}\\n\\n#daumSearchBox #daumLogo {\\n    width: 34px;\\n    height: 21px;\\n    float: left;\\n    margin-right: 5px;\\n    background-image: url(//i1.daumcdn.net/img-media/tistory/img/bg_search1_2_2010ci.gif);\\n}\\n\\n#daumSearchBox #show_q {\\n    background-color: transparent;\\n    border: none;\\n    font: 12px Gulim, Sans-serif;\\n    color: #555;\\n    margin-top: 4px;\\n    margin-right: 15px;\\n    float: left;\\n}\\n\\n#daumSearchBox #show_btn {\\n    background-image: url(//i1.daumcdn.net/imgsrc.search/search_all/show/tistory/plugin/bt_search_2.gif);\\n    width: 37px;\\n    height: 21px;\\n    float: left;\\n    margin: 0;\\n    cursor: pointer;\\n    text-indent: -1000em;\\n}\\n</style>\\n\\n        <!-- DaumShow - END -->\\n\\n<!-- System - START -->\\n\\n<!-- System - END -->\\n\\n        <!-- TistoryProfileLayer - START -->\\n        <link href=\"https://tistory1.daumcdn.net/tistory_admin/userblog/userblog-2f42fbf504a9342b3fd8297ed4953c4384cc5c1f/static/plugin/TistoryProfileLayer/style.css\" rel=\"stylesheet\" type=\"text/css\"/>\\n<script type=\"text/javascript\" src=\"https://tistory1.daumcdn.net/tistory_admin/userblog/userblog-2f42fbf504a9342b3fd8297ed4953c4384cc5c1f/static/plugin/TistoryProfileLayer/script.js\"></script>\\n\\n        <!-- TistoryProfileLayer - END -->\\n\\n                \\n                <meta http-equiv=\"X-UA-Compatible\" content=\"IE=Edge\">\\n<meta name=\"format-detection\" content=\"telephone=no\">\\n<script src=\"//t1.daumcdn.net/tistory_admin/lib/jquery/jquery-3.5.1.min.js\" integrity=\"sha256-9/aliU8dGd2tb6OSsuzixeV4y/faTqgFtohetphbbj0=\" crossorigin=\"anonymous\"></script>\\n<script type=\"text/javascript\" src=\"//t1.daumcdn.net/tiara/js/v1/tiara.min.js\"></script><meta name=\"referrer\" content=\"always\"/>\\n<meta name=\"google-adsense-platform-account\" content=\"ca-host-pub-9691043933427338\"/>\\n<meta name=\"google-adsense-platform-domain\" content=\"tistory.com\"/>\\n<meta name=\"description\" content=\"Hello, world!\"/>\\n<meta property=\"og:type\" content=\"article\"/>\\n<meta property=\"og:url\" content=\"https://ai-dev.tistory.com/1\"/>\\n<meta property=\"og.article.author\" content=\"\\xeb\\xa1\\x9c\\xec\\x8a\\xa4\\xec\\xb9\\xb4\\xec\\xb8\\xa0\"/>\\n<meta property=\"og:site_name\" content=\"\\xec\\x9d\\xb8\\xea\\xb3\\xb5\\xec\\xa7\\x80\\xeb\\x8a\\xa5 \\xea\\xb0\\x9c\\xeb\\xb0\\x9c\\xec\\x9d\\x98 \\xeb\\xaa\\xa8\\xeb\\x93\\xa0 \\xea\\xb2\\x83\"/>\\n<meta property=\"og:title\" content=\"\\xed\\x81\\xac\\xeb\\xa1\\xa4\\xeb\\xa7\\x81\\xec\\x9d\\x98 \\xec\\x84\\xb8\\xea\\xb3\\x84\\xec\\x97\\x90 \\xec\\x98\\xa4\\xec\\x8b\\xa0 \\xea\\xb2\\x83\\xec\\x9d\\x84 \\xed\\x99\\x98\\xec\\x98\\x81\\xed\\x95\\xa9\\xeb\\x8b\\x88\\xeb\\x8b\\xa4.\"/>\\n<meta name=\"by\" content=\"\\xeb\\xa1\\x9c\\xec\\x8a\\xa4\\xec\\xb9\\xb4\\xec\\xb8\\xa0\"/>\\n<meta property=\"og:description\" content=\"Hello, world!\"/>\\n<meta property=\"og:image\" content=\"https://img1.daumcdn.net/thumb/R800x0/?scode=mtistory2&fname=https%3A%2F%2Ft1.daumcdn.net%2Ftistory_admin%2Fstatic%2Fimages%2FopenGraph%2Fopengraph.png\"/>\\n<meta name=\"twitter:card\" content=\"summary_large_image\"/>\\n<meta name=\"twitter:site\" content=\"@TISTORY\"/>\\n<meta name=\"twitter:title\" content=\"\\xed\\x81\\xac\\xeb\\xa1\\xa4\\xeb\\xa7\\x81\\xec\\x9d\\x98 \\xec\\x84\\xb8\\xea\\xb3\\x84\\xec\\x97\\x90 \\xec\\x98\\xa4\\xec\\x8b\\xa0 \\xea\\xb2\\x83\\xec\\x9d\\x84 \\xed\\x99\\x98\\xec\\x98\\x81\\xed\\x95\\xa9\\xeb\\x8b\\x88\\xeb\\x8b\\xa4.\"/>\\n<meta name=\"twitter:description\" content=\"Hello, world!\"/>\\n<meta property=\"twitter:image\" content=\"https://img1.daumcdn.net/thumb/R800x0/?scode=mtistory2&fname=https%3A%2F%2Ft1.daumcdn.net%2Ftistory_admin%2Fstatic%2Fimages%2FopenGraph%2Fopengraph.png\"/>\\n<meta content=\"https://ai-dev.tistory.com/1\" property=\"dg:plink\" content=\"https://ai-dev.tistory.com/1\"/>\\n<meta name=\"plink\"/>\\n<meta name=\"title\" content=\"\\xed\\x81\\xac\\xeb\\xa1\\xa4\\xeb\\xa7\\x81\\xec\\x9d\\x98 \\xec\\x84\\xb8\\xea\\xb3\\x84\\xec\\x97\\x90 \\xec\\x98\\xa4\\xec\\x8b\\xa0 \\xea\\xb2\\x83\\xec\\x9d\\x84 \\xed\\x99\\x98\\xec\\x98\\x81\\xed\\x95\\xa9\\xeb\\x8b\\x88\\xeb\\x8b\\xa4.\"/>\\n<meta name=\"article:media_name\" content=\"\\xec\\x9d\\xb8\\xea\\xb3\\xb5\\xec\\xa7\\x80\\xeb\\x8a\\xa5 \\xea\\xb0\\x9c\\xeb\\xb0\\x9c\\xec\\x9d\\x98 \\xeb\\xaa\\xa8\\xeb\\x93\\xa0 \\xea\\xb2\\x83\"/>\\n<meta property=\"article:mobile_url\" content=\"https://ai-dev.tistory.com/m/1\"/>\\n<meta property=\"article:pc_url\" content=\"https://ai-dev.tistory.com/1\"/>\\n<meta property=\"article:mobile_view_url\" content=\"https://ai-dev.tistory.com/m/1\"/>\\n<meta property=\"article:pc_view_url\" content=\"https://ai-dev.tistory.com/1\"/>\\n<meta property=\"article:talk_channel_view_url\" content=\"https://ai-dev.tistory.com/m/1\"/>\\n<meta property=\"article:pc_service_home\" content=\"https://www.tistory.com\"/>\\n<meta property=\"article:mobile_service_home\" content=\"https://www.tistory.com/m\"/>\\n<meta property=\"article:txid\" content=\"4442027_1\"/>\\n<meta property=\"article:published_time\" content=\"2021-01-21T14:06:56+09:00\"/>\\n<meta property=\"og:regDate\" content=\"20210121020656\"/>\\n<meta property=\"article:modified_time\" content=\"2021-01-21T14:06:56+09:00\"/>\\n<script type=\"module\" src=\"https://tistory1.daumcdn.net/tistory_admin/userblog/userblog-2f42fbf504a9342b3fd8297ed4953c4384cc5c1f/static/pc/dist/index.js\" defer=\"\"></script>\\n<script type=\"text/javascript\" src=\"https://tistory1.daumcdn.net/tistory_admin/userblog/userblog-2f42fbf504a9342b3fd8297ed4953c4384cc5c1f/static/pc/dist/index-legacy.js\" defer=\"\" nomodule=\"true\"></script>\\n<script type=\"text/javascript\" src=\"https://tistory1.daumcdn.net/tistory_admin/userblog/userblog-2f42fbf504a9342b3fd8297ed4953c4384cc5c1f/static/pc/dist/polyfills-legacy.js\" defer=\"\" nomodule=\"true\"></script>\\n<link rel=\"icon\" sizes=\"any\" href=\"https://t1.daumcdn.net/tistory_admin/favicon/tistory_favicon_32x32.ico\"/>\\n<link rel=\"icon\" type=\"image/svg+xml\" href=\"https://t1.daumcdn.net/tistory_admin/top_v2/bi-tistory-favicon.svg\"/>\\n<link rel=\"apple-touch-icon\" href=\"https://t1.daumcdn.net/tistory_admin/top_v2/tistory-apple-touch-favicon.png\"/>\\n<link rel=\"stylesheet\" type=\"text/css\" href=\"https://t1.daumcdn.net/tistory_admin/www/style/font.css\"/>\\n<link rel=\"stylesheet\" type=\"text/css\" href=\"https://tistory1.daumcdn.net/tistory_admin/userblog/userblog-2f42fbf504a9342b3fd8297ed4953c4384cc5c1f/static/style/content.css\"/>\\n<link rel=\"stylesheet\" type=\"text/css\" href=\"https://tistory1.daumcdn.net/tistory_admin/userblog/userblog-2f42fbf504a9342b3fd8297ed4953c4384cc5c1f/static/pc/dist/index.css\"/>\\n<link rel=\"stylesheet\" type=\"text/css\" href=\"https://tistory1.daumcdn.net/tistory_admin/userblog/userblog-2f42fbf504a9342b3fd8297ed4953c4384cc5c1f/static/style/uselessPMargin.css\"/>\\n<script type=\"text/javascript\">(function() {\\n    var tjQuery = jQuery.noConflict(true);\\n    window.tjQuery = tjQuery;\\n    window.orgjQuery = window.jQuery; window.jQuery = tjQuery;\\n    window.jQuery = window.orgjQuery; delete window.orgjQuery;\\n})()</script>\\n<script type=\"text/javascript\" src=\"https://tistory1.daumcdn.net/tistory_admin/userblog/userblog-2f42fbf504a9342b3fd8297ed4953c4384cc5c1f/static/script/base.js\"></script>\\n<script type=\"text/javascript\" src=\"//developers.kakao.com/sdk/js/kakao.min.js\"></script>\\n\\n                \\n  <meta charset=\"UTF-8\">\\n  <meta name=\"viewport\"\\n    content=\"user-scalable=no, initial-scale=1.0, maximum-scale=1.0, minimum-scale=1.0, width=device-width\">\\n  <title>\\xed\\x81\\xac\\xeb\\xa1\\xa4\\xeb\\xa7\\x81\\xec\\x9d\\x98 \\xec\\x84\\xb8\\xea\\xb3\\x84\\xec\\x97\\x90 \\xec\\x98\\xa4\\xec\\x8b\\xa0 \\xea\\xb2\\x83\\xec\\x9d\\x84 \\xed\\x99\\x98\\xec\\x98\\x81\\xed\\x95\\xa9\\xeb\\x8b\\x88\\xeb\\x8b\\xa4.</title>\\n  <link rel=\"stylesheet\" href=\"https://tistory1.daumcdn.net/tistory/0/pg_Poster/style.css\">\\n  <script src=\"//t1.daumcdn.net/tistory_admin/lib/jquery/jquery-1.12.4.min.js\"></script>\\n\\n                \\n                \\n                <style type=\"text/css\">.another_category {\\n    border: 1px solid #E5E5E5;\\n    padding: 10px 10px 5px;\\n    margin: 10px 0;\\n    clear: both;\\n}\\n\\n.another_category h4 {\\n    font-size: 12px !important;\\n    margin: 0 !important;\\n    border-bottom: 1px solid #E5E5E5 !important;\\n    padding: 2px 0 6px !important;\\n}\\n\\n.another_category h4 a {\\n    font-weight: bold !important;\\n}\\n\\n.another_category table {\\n    table-layout: fixed;\\n    border-collapse: collapse;\\n    width: 100% !important;\\n    margin-top: 10px !important;\\n}\\n\\n* html .another_category table {\\n    width: auto !important;\\n}\\n\\n*:first-child + html .another_category table {\\n    width: auto !important;\\n}\\n\\n.another_category th, .another_category td {\\n    padding: 0 0 4px !important;\\n}\\n\\n.another_category th {\\n    text-align: left;\\n    font-size: 12px !important;\\n    font-weight: normal;\\n    word-break: break-all;\\n    overflow: hidden;\\n    line-height: 1.5;\\n}\\n\\n.another_category td {\\n    text-align: right;\\n    width: 80px;\\n    font-size: 11px;\\n}\\n\\n.another_category th a {\\n    font-weight: normal;\\n    text-decoration: none;\\n    border: none !important;\\n}\\n\\n.another_category th a.current {\\n    font-weight: bold;\\n    text-decoration: none !important;\\n    border-bottom: 1px solid !important;\\n}\\n\\n.another_category th span {\\n    font-weight: normal;\\n    text-decoration: none;\\n    font: 10px Tahoma, Sans-serif;\\n    border: none !important;\\n}\\n\\n.another_category_color_gray, .another_category_color_gray h4 {\\n    border-color: #E5E5E5 !important;\\n}\\n\\n.another_category_color_gray * {\\n    color: #909090 !important;\\n}\\n\\n.another_category_color_gray th a.current {\\n    border-color: #909090 !important;\\n}\\n\\n.another_category_color_gray h4, .another_category_color_gray h4 a {\\n    color: #737373 !important;\\n}\\n\\n.another_category_color_red, .another_category_color_red h4 {\\n    border-color: #F6D4D3 !important;\\n}\\n\\n.another_category_color_red * {\\n    color: #E86869 !important;\\n}\\n\\n.another_category_color_red th a.current {\\n    border-color: #E86869 !important;\\n}\\n\\n.another_category_color_red h4, .another_category_color_red h4 a {\\n    color: #ED0908 !important;\\n}\\n\\n.another_category_color_green, .another_category_color_green h4 {\\n    border-color: #CCE7C8 !important;\\n}\\n\\n.another_category_color_green * {\\n    color: #64C05B !important;\\n}\\n\\n.another_category_color_green th a.current {\\n    border-color: #64C05B !important;\\n}\\n\\n.another_category_color_green h4, .another_category_color_green h4 a {\\n    color: #3EA731 !important;\\n}\\n\\n.another_category_color_blue, .another_category_color_blue h4 {\\n    border-color: #C8DAF2 !important;\\n}\\n\\n.another_category_color_blue * {\\n    color: #477FD6 !important;\\n}\\n\\n.another_category_color_blue th a.current {\\n    border-color: #477FD6 !important;\\n}\\n\\n.another_category_color_blue h4, .another_category_color_blue h4 a {\\n    color: #1960CA !important;\\n}\\n\\n.another_category_color_violet, .another_category_color_violet h4 {\\n    border-color: #E1CEEC !important;\\n}\\n\\n.another_category_color_violet * {\\n    color: #9D64C5 !important;\\n}\\n\\n.another_category_color_violet th a.current {\\n    border-color: #9D64C5 !important;\\n}\\n\\n.another_category_color_violet h4, .another_category_color_violet h4 a {\\n    color: #7E2CB5 !important;\\n}\\n</style>\\n\\n                \\n                <link rel=\"stylesheet\" type=\"text/css\" href=\"https://tistory1.daumcdn.net/tistory_admin/userblog/userblog-2f42fbf504a9342b3fd8297ed4953c4384cc5c1f/static/style/revenue.css\"/>\\n<link rel=\"canonical\" href=\"https://ai-dev.tistory.com/1\"/>\\n\\n<!-- BEGIN STRUCTURED_DATA -->\\n<script type=\"application/ld+json\">\\n    {\"@context\":\"http://schema.org\",\"@type\":\"BlogPosting\",\"mainEntityOfPage\":{\"@id\":\"https://ai-dev.tistory.com/1\",\"name\":null},\"url\":\"https://ai-dev.tistory.com/1\",\"headline\":\"\\xed\\x81\\xac\\xeb\\xa1\\xa4\\xeb\\xa7\\x81\\xec\\x9d\\x98 \\xec\\x84\\xb8\\xea\\xb3\\x84\\xec\\x97\\x90 \\xec\\x98\\xa4\\xec\\x8b\\xa0 \\xea\\xb2\\x83\\xec\\x9d\\x84 \\xed\\x99\\x98\\xec\\x98\\x81\\xed\\x95\\xa9\\xeb\\x8b\\x88\\xeb\\x8b\\xa4.\",\"description\":\"Hello, world!\",\"author\":{\"@type\":\"Person\",\"name\":\"\\xeb\\xa1\\x9c\\xec\\x8a\\xa4\\xec\\xb9\\xb4\\xec\\xb8\\xa0\",\"logo\":null},\"image\":{\"@type\":\"ImageObject\",\"url\":\"https://img1.daumcdn.net/thumb/R800x0/?scode=mtistory2&fname=https%3A%2F%2Ft1.daumcdn.net%2Ftistory_admin%2Fstatic%2Fimages%2FopenGraph%2Fopengraph.png\",\"width\":\"800px\",\"height\":\"800px\"},\"datePublished\":\"2021-01-21T14:06:56+09:00\",\"dateModified\":\"2021-01-21T14:06:56+09:00\",\"publisher\":{\"@type\":\"Organization\",\"name\":\"TISTORY\",\"logo\":{\"@type\":\"ImageObject\",\"url\":\"https://t1.daumcdn.net/tistory_admin/static/images/openGraph/opengraph.png\",\"width\":\"800px\",\"height\":\"800px\"}}}\\n</script>\\n<!-- END STRUCTURED_DATA -->\\n<link rel=\"stylesheet\" type=\"text/css\" href=\"https://tistory1.daumcdn.net/tistory_admin/userblog/userblog-2f42fbf504a9342b3fd8297ed4953c4384cc5c1f/static/style/dialog.css\"/>\\n<link rel=\"stylesheet\" type=\"text/css\" href=\"//t1.daumcdn.net/tistory_admin/www/style/top/font.css\"/>\\n<link rel=\"stylesheet\" type=\"text/css\" href=\"https://tistory1.daumcdn.net/tistory_admin/userblog/userblog-2f42fbf504a9342b3fd8297ed4953c4384cc5c1f/static/style/postBtn.css\"/>\\n<link rel=\"stylesheet\" type=\"text/css\" href=\"https://tistory1.daumcdn.net/tistory_admin/userblog/userblog-2f42fbf504a9342b3fd8297ed4953c4384cc5c1f/static/style/tistory.css\"/>\\n<script type=\"text/javascript\" src=\"https://tistory1.daumcdn.net/tistory_admin/userblog/userblog-2f42fbf504a9342b3fd8297ed4953c4384cc5c1f/static/script/common.js\"></script>\\n\\n                \\n                </head>\\n\\n                                                <body id=\"tt-body-page\"\\n  class=\"color-gray post-type-text paging-view-more\">\\n                \\n                \\n                \\n  \\n    <div id=\"acc-nav\">\\n      <a href=\"#content\">\\xeb\\xb3\\xb8\\xeb\\xac\\xb8 \\xeb\\xb0\\x94\\xeb\\xa1\\x9c\\xea\\xb0\\x80\\xea\\xb8\\xb0</a>\\n    </div>\\n    <div id=\"wrap\">\\n      <header id=\"header\">\\n        <h1><a href=\"https://ai-dev.tistory.com/\">\\xec\\x9d\\xb8\\xea\\xb3\\xb5\\xec\\xa7\\x80\\xeb\\x8a\\xa5 \\xea\\xb0\\x9c\\xeb\\xb0\\x9c\\xec\\x9d\\x98 \\xeb\\xaa\\xa8\\xeb\\x93\\xa0 \\xea\\xb2\\x83</a></h1>\\n        <button type=\"button\" class=\"mobile-menu\"><span>\\xeb\\xa9\\x94\\xeb\\x89\\xb4</span></button>\\n        <div class=\"menu\">\\n          <nav id=\"gnb\">\\n            <ul class=\"tt_category\"><li class=\"\"><a href=\"/category\" class=\"link_tit\"> \\xeb\\xb6\\x84\\xeb\\xa5\\x98 \\xec\\xa0\\x84\\xec\\xb2\\xb4\\xeb\\xb3\\xb4\\xea\\xb8\\xb0 <span class=\"c_cnt\">(2)</span> </a>\\n  <ul class=\"category_list\"><li class=\"\"><a href=\"/category/%ED%81%AC%EB%A1%A4%EB%A7%81\" class=\"link_item\"> \\xed\\x81\\xac\\xeb\\xa1\\xa4\\xeb\\xa7\\x81 <span class=\"c_cnt\">(2)</span> </a></li>\\n</ul>\\n</li>\\n</ul>\\n\\n          </nav>\\n          <div class=\"social-link\">\\n            \\n            \\n            \\n            \\n          </div>\\n          <p>POWERED BY TISTORY</p>\\n        </div>\\n        <div class=\"search\">\\n          \\n            <label for=\"search\" class=\"screen_out\">\\xeb\\xb8\\x94\\xeb\\xa1\\x9c\\xea\\xb7\\xb8 \\xeb\\x82\\xb4 \\xea\\xb2\\x80\\xec\\x83\\x89</label>\\n            <input id=\"search\" type=\"text\" name=\"search\" value=\"\"\\n              placeholder=\"\\xea\\xb2\\x80\\xec\\x83\\x89\\xeb\\x82\\xb4\\xec\\x9a\\xa9\\xec\\x9d\\x84 \\xec\\x9e\\x85\\xeb\\xa0\\xa5\\xed\\x95\\x98\\xec\\x84\\xb8\\xec\\x9a\\x94.\" onkeypress=\"if (event.keyCode == 13) { try {\\n    window.location.href = \\'/search\\' + \\'/\\' + looseURIEncode(document.getElementsByName(\\'search\\')[0].value);\\n    document.getElementsByName(\\'search\\')[0].value = \\'\\';\\n    return false;\\n} catch (e) {} }\">\\n            <button type=\"submit\" onclick=\"try {\\n    window.location.href = \\'/search\\' + \\'/\\' + looseURIEncode(document.getElementsByName(\\'search\\')[0].value);\\n    document.getElementsByName(\\'search\\')[0].value = \\'\\';\\n    return false;\\n} catch (e) {}\">\\xea\\xb2\\x80\\xec\\x83\\x89</button>\\n          \\n        </div>\\n      </header>\\n      <hr>\\n      <section class=\"container\">\\n        \\n        <article id=\"content\">\\n          \\n\\n          \\n\\n          \\n\\n          \\n\\n          <div class=\"inner\">\\n            \\n\\n                \\n        \\n  \\n  \\n    <div class=\"hgroup\">\\n      <div class=\"category\">\\xed\\x81\\xac\\xeb\\xa1\\xa4\\xeb\\xa7\\x81</div>\\n      <h1>\\xed\\x81\\xac\\xeb\\xa1\\xa4\\xeb\\xa7\\x81\\xec\\x9d\\x98 \\xec\\x84\\xb8\\xea\\xb3\\x84\\xec\\x97\\x90 \\xec\\x98\\xa4\\xec\\x8b\\xa0 \\xea\\xb2\\x83\\xec\\x9d\\x84 \\xed\\x99\\x98\\xec\\x98\\x81\\xed\\x95\\xa9\\xeb\\x8b\\x88\\xeb\\x8b\\xa4. </h1>\\n      <div class=\"post-meta\">\\n        <span class=\"author\">\\xeb\\xa1\\x9c\\xec\\x8a\\xa4\\xec\\xb9\\xb4\\xec\\xb8\\xa0</span>\\n        <span class=\"date\">2021. 1. 21. 14:06</span>\\n        \\n      </div>\\n    </div>\\n    <div class=\"entry-content\" id=\"article-view\">\\n                  <!-- System - START -->\\n\\n<!-- System - END -->\\n\\n            <div class=\"tt_article_useless_p_margin contents_style\"><p>Hello, world!</p></div>\\n            <!-- System - START -->\\n\\n<!-- System - END -->\\n\\n                    <div class=\"container_postbtn #post_button_group\">\\n  <div class=\"postbtn_like\"><script>window.ReactionButtonType = \\'reaction\\';\\nwindow.ReactionApiUrl = \\'//ai-dev.tistory.com/reaction\\';\\nwindow.ReactionReqBody = {\\n    entryId: 1\\n}</script>\\n<div class=\"wrap_btn\" id=\"reaction-1\" data-tistory-react-app=\"Reaction\"></div><div class=\"wrap_btn wrap_btn_share\"><button type=\"button\" class=\"btn_post sns_btn btn_share\" aria-expanded=\"false\" data-thumbnail-url=\"https://t1.daumcdn.net/tistory_admin/static/images/openGraph/opengraph.png\" data-title=\"\\xed\\x81\\xac\\xeb\\xa1\\xa4\\xeb\\xa7\\x81\\xec\\x9d\\x98 \\xec\\x84\\xb8\\xea\\xb3\\x84\\xec\\x97\\x90 \\xec\\x98\\xa4\\xec\\x8b\\xa0 \\xea\\xb2\\x83\\xec\\x9d\\x84 \\xed\\x99\\x98\\xec\\x98\\x81\\xed\\x95\\xa9\\xeb\\x8b\\x88\\xeb\\x8b\\xa4.\" data-description=\"Hello, world!\" data-profile-image=\"https://t1.daumcdn.net/tistory_admin/static/manage/images/r3/default_L.png\" data-profile-name=\"\\xeb\\xa1\\x9c\\xec\\x8a\\xa4\\xec\\xb9\\xb4\\xec\\xb8\\xa0\" data-pc-url=\"https://ai-dev.tistory.com/1\" data-relative-pc-url=\"/1\" data-blog-title=\"\\xec\\x9d\\xb8\\xea\\xb3\\xb5\\xec\\xa7\\x80\\xeb\\x8a\\xa5 \\xea\\xb0\\x9c\\xeb\\xb0\\x9c\\xec\\x9d\\x98 \\xeb\\xaa\\xa8\\xeb\\x93\\xa0 \\xea\\xb2\\x83\"><span class=\"ico_postbtn ico_share\">\\xea\\xb3\\xb5\\xec\\x9c\\xa0\\xed\\x95\\x98\\xea\\xb8\\xb0</span></button>\\n  <div class=\"layer_post\" id=\"tistorySnsLayer\"></div>\\n</div><div class=\"wrap_btn wrap_btn_etc\" data-entry-id=\"1\" data-entry-visibility=\"public\" data-category-visibility=\"public\"><button type=\"button\" class=\"btn_post btn_etc2\" aria-expanded=\"false\"><span class=\"ico_postbtn ico_etc\">\\xea\\xb2\\x8c\\xec\\x8b\\x9c\\xea\\xb8\\x80 \\xea\\xb4\\x80\\xeb\\xa6\\xac</span></button>\\n  <div class=\"layer_post\" id=\"tistoryEtcLayer\"></div>\\n</div></div>\\n<button type=\"button\" class=\"btn_menu_toolbar btn_subscription #subscribe\" data-blog-id=\"4442027\" data-url=\"https://ai-dev.tistory.com/1\" data-device=\"web_pc\" data-tiara-action-name=\"\\xea\\xb5\\xac\\xeb\\x8f\\x85 \\xeb\\xb2\\x84\\xed\\x8a\\xbc_\\xed\\x81\\xb4\\xeb\\xa6\\xad\"><em class=\"txt_state\"></em><strong class=\"txt_tool_id\">\\xec\\x9d\\xb8\\xea\\xb3\\xb5\\xec\\xa7\\x80\\xeb\\x8a\\xa5 \\xea\\xb0\\x9c\\xeb\\xb0\\x9c\\xec\\x9d\\x98 \\xeb\\xaa\\xa8\\xeb\\x93\\xa0 \\xea\\xb2\\x83</strong><span class=\"img_common_tistory ico_check_type1\"></span></button>  <div data-tistory-react-app=\"SupportButton\"></div>\\n</div>\\n\\n                    <!-- PostListinCategory - START -->\\n<div class=\"another_category another_category_color_gray\">\\n  <h4>\\'<a href=\"/category/%ED%81%AC%EB%A1%A4%EB%A7%81\">\\xed\\x81\\xac\\xeb\\xa1\\xa4\\xeb\\xa7\\x81</a>\\' \\xec\\xb9\\xb4\\xed\\x85\\x8c\\xea\\xb3\\xa0\\xeb\\xa6\\xac\\xec\\x9d\\x98 \\xeb\\x8b\\xa4\\xeb\\xa5\\xb8 \\xea\\xb8\\x80</h4>\\n  <table>\\n    <tr>\\n      <th><a href=\"/2\">\\xed\\x81\\xac\\xeb\\xa1\\xa4\\xeb\\xa7\\x81 \\xec\\x98\\x88\\xec\\xa0\\x9c \\xed\\x8e\\x98\\xec\\x9d\\xb4\\xec\\xa7\\x80 - 02</a>&nbsp;&nbsp;<span>(7)</span></th>\\n      <td>2021.08.08</td>\\n    </tr>\\n  </table>\\n</div>\\n\\n<!-- PostListinCategory - END -->\\n\\n    </div>\\n    \\n\\n    \\n      <div class=\"related-articles\">\\n        <h2><strong>\\'\\xed\\x81\\xac\\xeb\\xa1\\xa4\\xeb\\xa7\\x81\\'</strong> Related Articles</h2>\\n        <ul>\\n          \\n            <li>\\n              <a href=\"/2?category=836119\">\\n                <span class=\"thum\">\\n                  \\n                </span>\\n                <span class=\"title\">\\xed\\x81\\xac\\xeb\\xa1\\xa4\\xeb\\xa7\\x81 \\xec\\x98\\x88\\xec\\xa0\\x9c \\xed\\x8e\\x98\\xec\\x9d\\xb4\\xec\\xa7\\x80 - 02</span>\\n              </a>\\n            </li>\\n          \\n        </ul>\\n      </div>\\n    \\n\\n    <div data-tistory-react-app=\"Namecard\"></div><div id=\"entry1Comment\">\\n      <div class=\"comments\">\\n        <div data-tistory-react-app=\"Comment\"></div>\\n\\n      </div>\\n    </div>\\n<script type=\"text/javascript\">loadedComments[1]=true;\\nfindFragmentAndHighlight(1);</script>\\n\\n\\n  \\n\\n        \\n    \\n          </div>\\n\\n          \\n\\n          \\n\\n          \\n\\n        </article>\\n      </section>\\n      <hr>\\n      \\n      <footer id=\"footer\">\\n        <p class=\"copyright\">DESIGN BY <a href=\"#\">TISTORY</a> <a href=\"https://ai-dev.tistory.com/manage\" class=\"admin\">\\xea\\xb4\\x80\\xeb\\xa6\\xac\\xec\\x9e\\x90</a></p>\\n      </footer>\\n    </div>\\n    <script src=\"https://tistory1.daumcdn.net/tistory/0/pg_Poster/images/script.js\"></script>\\n  \\n<div class=\"#menubar menu_toolbar \">\\n  <h2 class=\"screen_out\">\\xed\\x8b\\xb0\\xec\\x8a\\xa4\\xed\\x86\\xa0\\xeb\\xa6\\xac\\xed\\x88\\xb4\\xeb\\xb0\\x94</h2>\\n</div>\\n<div class=\"#menubar menu_toolbar \"></div>\\n<div class=\"layer_tooltip\">\\n  <div class=\"inner_layer_tooltip\">\\n    <p class=\"desc_g\"></p>\\n  </div>\\n</div>\\n<div id=\"editEntry\" style=\"position:absolute;width:1px;height:1px;left:-100px;top:-100px\"></div>\\n\\n\\n                <!-- DragSearchHandler - START -->\\n<script src=\"//search1.daumcdn.net/search/statics/common/js/g/search_dragselection.min.js\"></script>\\n\\n<!-- DragSearchHandler - END -->\\n\\n                \\n                <div style=\"margin:0; padding:0; border:none; background:none; float:none; clear:none; z-index:0\"></div>\\n<script type=\"text/javascript\" src=\"https://tistory1.daumcdn.net/tistory_admin/userblog/userblog-2f42fbf504a9342b3fd8297ed4953c4384cc5c1f/static/script/common.js\"></script>\\n<script type=\"text/javascript\">window.roosevelt_params_queue = window.roosevelt_params_queue || [{channel_id: \\'dk\\', channel_label: \\'{tistory}\\'}]</script>\\n<script type=\"text/javascript\" src=\"//t1.daumcdn.net/midas/rt/dk_bt/roosevelt_dk_bt.js\" async=\"async\"></script>\\n\\n                \\n                <script>window.tiara = {\"svcDomain\":\"user.tistory.com\",\"section\":\"\\xea\\xb8\\x80\\xeb\\xb7\\xb0\",\"trackPage\":\"\\xea\\xb8\\x80\\xeb\\xb7\\xb0_\\xeb\\xb3\\xb4\\xea\\xb8\\xb0\",\"page\":\"\\xea\\xb8\\x80\\xeb\\xb7\\xb0\",\"key\":\"4442027-1\",\"customProps\":{\"userId\":\"0\",\"blogId\":\"4442027\",\"entryId\":\"1\",\"role\":\"guest\",\"trackPage\":\"\\xea\\xb8\\x80\\xeb\\xb7\\xb0_\\xeb\\xb3\\xb4\\xea\\xb8\\xb0\",\"filterTarget\":false},\"entry\":{\"entryId\":\"1\",\"entryTitle\":\"\\xed\\x81\\xac\\xeb\\xa1\\xa4\\xeb\\xa7\\x81\\xec\\x9d\\x98 \\xec\\x84\\xb8\\xea\\xb3\\x84\\xec\\x97\\x90 \\xec\\x98\\xa4\\xec\\x8b\\xa0 \\xea\\xb2\\x83\\xec\\x9d\\x84 \\xed\\x99\\x98\\xec\\x98\\x81\\xed\\x95\\xa9\\xeb\\x8b\\x88\\xeb\\x8b\\xa4.\",\"entryType\":\"POST\",\"categoryName\":\"\\xed\\x81\\xac\\xeb\\xa1\\xa4\\xeb\\xa7\\x81\",\"categoryId\":\"836119\",\"serviceCategoryName\":null,\"serviceCategoryId\":null,\"author\":\"4727327\",\"authorNickname\":\"\\xeb\\xa1\\x9c\\xec\\x8a\\xa4\\xec\\xb9\\xb4\\xec\\xb8\\xa0\",\"blogNmae\":\"\\xec\\x9d\\xb8\\xea\\xb3\\xb5\\xec\\xa7\\x80\\xeb\\x8a\\xa5 \\xea\\xb0\\x9c\\xeb\\xb0\\x9c\\xec\\x9d\\x98 \\xeb\\xaa\\xa8\\xeb\\x93\\xa0 \\xea\\xb2\\x83\",\"image\":\"\",\"plink\":\"/1\",\"tags\":[]},\"kakaoAppKey\":\"3e6ddd834b023f24221217e370daed18\",\"appUserId\":\"null\"}</script>\\n<script type=\"module\" src=\"https://t1.daumcdn.net/tistory_admin/frontend/tiara/v1.0.5/index.js\"></script>\\n<script src=\"https://t1.daumcdn.net/tistory_admin/frontend/tiara/v1.0.5/polyfills-legacy.js\" nomodule=\"true\" defer=\"true\"></script>\\n<script src=\"https://t1.daumcdn.net/tistory_admin/frontend/tiara/v1.0.5/index-legacy.js\" nomodule=\"true\" defer=\"true\"></script>\\n\\n                </body>\\n\\n</html>'\n"
     ]
    }
   ],
   "source": [
    "from urllib.request import urlopen\n",
    "from bs4 import BeautifulSoup\n",
    "\n",
    "url = \"https://ai-dev.tistory.com/1\"\n",
    "\n",
    "html = urlopen(url)\n",
    "\n",
    "print(html.read())"
   ]
  },
  {
   "cell_type": "code",
   "execution_count": 2,
   "id": "a5a1f36c",
   "metadata": {},
   "outputs": [
    {
     "name": "stdout",
     "output_type": "stream",
     "text": [
      "[<h1><a href=\"https://ai-dev.tistory.com/\">인공지능 개발의 모든 것</a></h1>, <h1>크롤링의 세계에 오신 것을 환영합니다. </h1>]\n"
     ]
    }
   ],
   "source": [
    "# 위 웹의 제목을 가져와 보자\n",
    "\n",
    "url = \"https://ai-dev.tistory.com/1\"\n",
    "\n",
    "html = urlopen(url)\n",
    "\n",
    "bs_obj = BeautifulSoup(html, \"html.parser\")\n",
    "\n",
    "title = bs_obj.find_all(\"h1\")\n",
    "\n",
    "print(title)"
   ]
  },
  {
   "cell_type": "code",
   "execution_count": 3,
   "id": "77f83f55",
   "metadata": {},
   "outputs": [
    {
     "name": "stdout",
     "output_type": "stream",
     "text": [
      "<h1>크롤링의 세계에 오신 것을 환영합니다. </h1>\n"
     ]
    }
   ],
   "source": [
    "print(title[1])"
   ]
  },
  {
   "cell_type": "code",
   "execution_count": 4,
   "id": "c1de9273",
   "metadata": {},
   "outputs": [
    {
     "name": "stdout",
     "output_type": "stream",
     "text": [
      "크롤링의 세계에 오신 것을 환영합니다. \n"
     ]
    }
   ],
   "source": [
    "print(title[1].text)"
   ]
  },
  {
   "cell_type": "code",
   "execution_count": 5,
   "id": "067e38c8",
   "metadata": {},
   "outputs": [
    {
     "name": "stdout",
     "output_type": "stream",
     "text": [
      "[<p>POWERED BY TISTORY</p>, <p>Hello, world!</p>, <p class=\"copyright\">DESIGN BY <a href=\"#\">TISTORY</a> <a class=\"admin\" href=\"https://ai-dev.tistory.com/manage\">관리자</a></p>, <p class=\"desc_g\"></p>]\n"
     ]
    }
   ],
   "source": [
    "# 이제 본문을 추출 해보자.\n",
    "\n",
    "contents = bs_obj.find_all(\"p\")\n",
    "\n",
    "print(contents)"
   ]
  },
  {
   "cell_type": "code",
   "execution_count": 6,
   "id": "9dc19bf5",
   "metadata": {},
   "outputs": [
    {
     "name": "stdout",
     "output_type": "stream",
     "text": [
      "<p>Hello, world!</p>\n"
     ]
    }
   ],
   "source": [
    "print(contents[1])"
   ]
  },
  {
   "cell_type": "code",
   "execution_count": 7,
   "id": "0ba8c67d",
   "metadata": {},
   "outputs": [
    {
     "name": "stdout",
     "output_type": "stream",
     "text": [
      "Hello, world!\n"
     ]
    }
   ],
   "source": [
    "print(contents[1].text)"
   ]
  },
  {
   "cell_type": "code",
   "execution_count": 8,
   "id": "7ee0cc98",
   "metadata": {},
   "outputs": [
    {
     "data": {
      "text/plain": [
       "'\\n이제는 좀 더 복잡한 웹을 크롤링 해보자\\n'"
      ]
     },
     "execution_count": 8,
     "metadata": {},
     "output_type": "execute_result"
    }
   ],
   "source": [
    "\"\"\"\n",
    "이제는 좀 더 복잡한 웹을 크롤링 해보자\n",
    "\"\"\""
   ]
  },
  {
   "cell_type": "code",
   "execution_count": 9,
   "id": "f13edfc3",
   "metadata": {},
   "outputs": [
    {
     "name": "stdout",
     "output_type": "stream",
     "text": [
      "[<table border=\"1\" data-ke-align=\"alignLeft\" data-ke-style=\"style1\" style=\"border-collapse: collapse; width: 100%;\">\n",
      "<tbody>\n",
      "<tr>\n",
      "<td style=\"width: 33.3333%; text-align: center;\">상품</td>\n",
      "<td style=\"width: 33.3333%; text-align: center;\">색상</td>\n",
      "<td style=\"width: 33.3333%; text-align: center;\">가격</td>\n",
      "</tr>\n",
      "<tr>\n",
      "<td style=\"width: 33.3333%; text-align: center;\">셔츠1</td>\n",
      "<td style=\"width: 33.3333%; text-align: center;\">빨강</td>\n",
      "<td style=\"width: 33.3333%; text-align: center;\">20000</td>\n",
      "</tr>\n",
      "<tr>\n",
      "<td style=\"width: 33.3333%; text-align: center;\">셔츠2</td>\n",
      "<td style=\"width: 33.3333%; text-align: center;\">파랑</td>\n",
      "<td style=\"width: 33.3333%; text-align: center;\">19000</td>\n",
      "</tr>\n",
      "<tr>\n",
      "<td style=\"width: 33.3333%; text-align: center;\">셔츠3</td>\n",
      "<td style=\"width: 33.3333%; text-align: center;\">초록</td>\n",
      "<td style=\"width: 33.3333%; text-align: center;\">18000</td>\n",
      "</tr>\n",
      "<tr>\n",
      "<td style=\"width: 33.3333%; text-align: center;\">바지1</td>\n",
      "<td style=\"width: 33.3333%; text-align: center;\">검정</td>\n",
      "<td style=\"width: 33.3333%; text-align: center;\">50000</td>\n",
      "</tr>\n",
      "<tr>\n",
      "<td style=\"width: 33.3333%; text-align: center;\">바지2</td>\n",
      "<td style=\"width: 33.3333%; text-align: center;\">파랑</td>\n",
      "<td style=\"width: 33.3333%; text-align: center;\">51000</td>\n",
      "</tr>\n",
      "</tbody>\n",
      "</table>, <table>\n",
      "<tr>\n",
      "<th><a href=\"/1\">크롤링의 세계에 오신 것을 환영합니다.</a>  <span>(6)</span></th>\n",
      "<td>2021.01.21</td>\n",
      "</tr>\n",
      "</table>]\n"
     ]
    }
   ],
   "source": [
    "url = \"https://ai-dev.tistory.com/2\"\n",
    "\n",
    "html = urlopen(url)\n",
    "\n",
    "bs_obj = BeautifulSoup(html, \"html.parser\")\n",
    "\n",
    "table_tag = bs_obj.find_all(\"table\")\n",
    "\n",
    "print(table_tag)"
   ]
  },
  {
   "cell_type": "code",
   "execution_count": 10,
   "id": "f1f466ea",
   "metadata": {},
   "outputs": [
    {
     "name": "stdout",
     "output_type": "stream",
     "text": [
      "<table border=\"1\" data-ke-align=\"alignLeft\" data-ke-style=\"style1\" style=\"border-collapse: collapse; width: 100%;\">\n",
      "<tbody>\n",
      "<tr>\n",
      "<td style=\"width: 33.3333%; text-align: center;\">상품</td>\n",
      "<td style=\"width: 33.3333%; text-align: center;\">색상</td>\n",
      "<td style=\"width: 33.3333%; text-align: center;\">가격</td>\n",
      "</tr>\n",
      "<tr>\n",
      "<td style=\"width: 33.3333%; text-align: center;\">셔츠1</td>\n",
      "<td style=\"width: 33.3333%; text-align: center;\">빨강</td>\n",
      "<td style=\"width: 33.3333%; text-align: center;\">20000</td>\n",
      "</tr>\n",
      "<tr>\n",
      "<td style=\"width: 33.3333%; text-align: center;\">셔츠2</td>\n",
      "<td style=\"width: 33.3333%; text-align: center;\">파랑</td>\n",
      "<td style=\"width: 33.3333%; text-align: center;\">19000</td>\n",
      "</tr>\n",
      "<tr>\n",
      "<td style=\"width: 33.3333%; text-align: center;\">셔츠3</td>\n",
      "<td style=\"width: 33.3333%; text-align: center;\">초록</td>\n",
      "<td style=\"width: 33.3333%; text-align: center;\">18000</td>\n",
      "</tr>\n",
      "<tr>\n",
      "<td style=\"width: 33.3333%; text-align: center;\">바지1</td>\n",
      "<td style=\"width: 33.3333%; text-align: center;\">검정</td>\n",
      "<td style=\"width: 33.3333%; text-align: center;\">50000</td>\n",
      "</tr>\n",
      "<tr>\n",
      "<td style=\"width: 33.3333%; text-align: center;\">바지2</td>\n",
      "<td style=\"width: 33.3333%; text-align: center;\">파랑</td>\n",
      "<td style=\"width: 33.3333%; text-align: center;\">51000</td>\n",
      "</tr>\n",
      "</tbody>\n",
      "</table>\n"
     ]
    }
   ],
   "source": [
    "print(table_tag[0])"
   ]
  },
  {
   "cell_type": "code",
   "execution_count": 11,
   "id": "67158634",
   "metadata": {},
   "outputs": [
    {
     "name": "stdout",
     "output_type": "stream",
     "text": [
      "0 <td style=\"width: 33.3333%; text-align: center;\">상품</td>\n",
      "1 <td style=\"width: 33.3333%; text-align: center;\">색상</td>\n",
      "2 <td style=\"width: 33.3333%; text-align: center;\">가격</td>\n",
      "3 <td style=\"width: 33.3333%; text-align: center;\">셔츠1</td>\n",
      "4 <td style=\"width: 33.3333%; text-align: center;\">빨강</td>\n",
      "5 <td style=\"width: 33.3333%; text-align: center;\">20000</td>\n",
      "6 <td style=\"width: 33.3333%; text-align: center;\">셔츠2</td>\n",
      "7 <td style=\"width: 33.3333%; text-align: center;\">파랑</td>\n",
      "8 <td style=\"width: 33.3333%; text-align: center;\">19000</td>\n",
      "9 <td style=\"width: 33.3333%; text-align: center;\">셔츠3</td>\n",
      "10 <td style=\"width: 33.3333%; text-align: center;\">초록</td>\n",
      "11 <td style=\"width: 33.3333%; text-align: center;\">18000</td>\n",
      "12 <td style=\"width: 33.3333%; text-align: center;\">바지1</td>\n",
      "13 <td style=\"width: 33.3333%; text-align: center;\">검정</td>\n",
      "14 <td style=\"width: 33.3333%; text-align: center;\">50000</td>\n",
      "15 <td style=\"width: 33.3333%; text-align: center;\">바지2</td>\n",
      "16 <td style=\"width: 33.3333%; text-align: center;\">파랑</td>\n",
      "17 <td style=\"width: 33.3333%; text-align: center;\">51000</td>\n"
     ]
    }
   ],
   "source": [
    "table_tag01 = table_tag[0].find_all(\"td\")\n",
    "\n",
    "for idx, element in enumerate(table_tag01):\n",
    "    print(idx, element)"
   ]
  },
  {
   "cell_type": "code",
   "execution_count": 12,
   "id": "9b09400d",
   "metadata": {},
   "outputs": [
    {
     "name": "stdout",
     "output_type": "stream",
     "text": [
      "0 상품\n",
      "1 색상\n",
      "2 가격\n",
      "3 셔츠1\n",
      "4 빨강\n",
      "5 20000\n",
      "6 셔츠2\n",
      "7 파랑\n",
      "8 19000\n",
      "9 셔츠3\n",
      "10 초록\n",
      "11 18000\n",
      "12 바지1\n",
      "13 검정\n",
      "14 50000\n",
      "15 바지2\n",
      "16 파랑\n",
      "17 51000\n"
     ]
    }
   ],
   "source": [
    "for idx, element in enumerate(table_tag01):\n",
    "    print(idx, element.text)"
   ]
  },
  {
   "cell_type": "code",
   "execution_count": 13,
   "id": "0a3d0dbf",
   "metadata": {},
   "outputs": [
    {
     "data": {
      "text/plain": [
       "'\\n위에서 한 것과 유사하지만,\\ntd 태그를 추출하는 것을 해보자\\n'"
      ]
     },
     "execution_count": 13,
     "metadata": {},
     "output_type": "execute_result"
    }
   ],
   "source": [
    "\"\"\"\n",
    "위에서 한 것과 유사하지만,\n",
    "td 태그를 추출하는 것을 해보자\n",
    "\"\"\""
   ]
  },
  {
   "cell_type": "code",
   "execution_count": 14,
   "id": "9f6f18ed",
   "metadata": {},
   "outputs": [
    {
     "name": "stdout",
     "output_type": "stream",
     "text": [
      "[<td style=\"width: 33.3333%; text-align: center;\">상품</td>, <td style=\"width: 33.3333%; text-align: center;\">색상</td>, <td style=\"width: 33.3333%; text-align: center;\">가격</td>, <td style=\"width: 33.3333%; text-align: center;\">셔츠1</td>, <td style=\"width: 33.3333%; text-align: center;\">빨강</td>, <td style=\"width: 33.3333%; text-align: center;\">20000</td>, <td style=\"width: 33.3333%; text-align: center;\">셔츠2</td>, <td style=\"width: 33.3333%; text-align: center;\">파랑</td>, <td style=\"width: 33.3333%; text-align: center;\">19000</td>, <td style=\"width: 33.3333%; text-align: center;\">셔츠3</td>, <td style=\"width: 33.3333%; text-align: center;\">초록</td>, <td style=\"width: 33.3333%; text-align: center;\">18000</td>, <td style=\"width: 33.3333%; text-align: center;\">바지1</td>, <td style=\"width: 33.3333%; text-align: center;\">검정</td>, <td style=\"width: 33.3333%; text-align: center;\">50000</td>, <td style=\"width: 33.3333%; text-align: center;\">바지2</td>, <td style=\"width: 33.3333%; text-align: center;\">파랑</td>, <td style=\"width: 33.3333%; text-align: center;\">51000</td>]\n"
     ]
    }
   ],
   "source": [
    "url = \"https://ai-dev.tistory.com/2\"\n",
    "\n",
    "html = urlopen(url)\n",
    "\n",
    "bs_obj = BeautifulSoup(html, \"html.parser\")\n",
    "\n",
    "table = bs_obj.find_all(\"td\", {\"style\": \"width: 33.3333%; text-align: center;\"})\n",
    "\n",
    "print(table)"
   ]
  },
  {
   "cell_type": "code",
   "execution_count": 15,
   "id": "0698f201",
   "metadata": {},
   "outputs": [
    {
     "name": "stdout",
     "output_type": "stream",
     "text": [
      "0 <td style=\"width: 33.3333%; text-align: center;\">상품</td>\n",
      "1 <td style=\"width: 33.3333%; text-align: center;\">색상</td>\n",
      "2 <td style=\"width: 33.3333%; text-align: center;\">가격</td>\n",
      "3 <td style=\"width: 33.3333%; text-align: center;\">셔츠1</td>\n",
      "4 <td style=\"width: 33.3333%; text-align: center;\">빨강</td>\n",
      "5 <td style=\"width: 33.3333%; text-align: center;\">20000</td>\n",
      "6 <td style=\"width: 33.3333%; text-align: center;\">셔츠2</td>\n",
      "7 <td style=\"width: 33.3333%; text-align: center;\">파랑</td>\n",
      "8 <td style=\"width: 33.3333%; text-align: center;\">19000</td>\n",
      "9 <td style=\"width: 33.3333%; text-align: center;\">셔츠3</td>\n",
      "10 <td style=\"width: 33.3333%; text-align: center;\">초록</td>\n",
      "11 <td style=\"width: 33.3333%; text-align: center;\">18000</td>\n",
      "12 <td style=\"width: 33.3333%; text-align: center;\">바지1</td>\n",
      "13 <td style=\"width: 33.3333%; text-align: center;\">검정</td>\n",
      "14 <td style=\"width: 33.3333%; text-align: center;\">50000</td>\n",
      "15 <td style=\"width: 33.3333%; text-align: center;\">바지2</td>\n",
      "16 <td style=\"width: 33.3333%; text-align: center;\">파랑</td>\n",
      "17 <td style=\"width: 33.3333%; text-align: center;\">51000</td>\n"
     ]
    }
   ],
   "source": [
    "for idx, element in enumerate(table):\n",
    "    print(idx, element)"
   ]
  },
  {
   "cell_type": "code",
   "execution_count": 16,
   "id": "cb1ac5c5",
   "metadata": {},
   "outputs": [
    {
     "name": "stdout",
     "output_type": "stream",
     "text": [
      "0 상품\n",
      "1 색상\n",
      "2 가격\n",
      "3 셔츠1\n",
      "4 빨강\n",
      "5 20000\n",
      "6 셔츠2\n",
      "7 파랑\n",
      "8 19000\n",
      "9 셔츠3\n",
      "10 초록\n",
      "11 18000\n",
      "12 바지1\n",
      "13 검정\n",
      "14 50000\n",
      "15 바지2\n",
      "16 파랑\n",
      "17 51000\n"
     ]
    }
   ],
   "source": [
    "for idx, element in enumerate(table):\n",
    "    print(idx, element.text)"
   ]
  },
  {
   "cell_type": "code",
   "execution_count": 17,
   "id": "67910c99",
   "metadata": {},
   "outputs": [
    {
     "name": "stdout",
     "output_type": "stream",
     "text": [
      "[<ul class=\"tt_category\"><li class=\"\"><a class=\"link_tit\" href=\"/category\"> 분류 전체보기 <span class=\"c_cnt\">(2)</span> </a>\n",
      "<ul class=\"category_list\"><li class=\"\"><a class=\"link_item\" href=\"/category/%ED%81%AC%EB%A1%A4%EB%A7%81\"> 크롤링 <span class=\"c_cnt\">(2)</span> </a></li>\n",
      "</ul>\n",
      "</li>\n",
      "</ul>, <ul class=\"category_list\"><li class=\"\"><a class=\"link_item\" href=\"/category/%ED%81%AC%EB%A1%A4%EB%A7%81\"> 크롤링 <span class=\"c_cnt\">(2)</span> </a></li>\n",
      "</ul>, <ul data-ke-list-type=\"disc\" style=\"list-style-type: disc;\">\n",
      "<li>모니터</li>\n",
      "<li>CPU</li>\n",
      "<li>메모리</li>\n",
      "<li>그래픽카드</li>\n",
      "<li>하드디스크</li>\n",
      "<li>키보드</li>\n",
      "<li>마우스</li>\n",
      "</ul>, <ul>\n",
      "<li>\n",
      "<a href=\"/1?category=836119\">\n",
      "<span class=\"thum\">\n",
      "</span>\n",
      "<span class=\"title\">크롤링의 세계에 오신 것을 환영합니다.</span>\n",
      "</a>\n",
      "</li>\n",
      "</ul>]\n"
     ]
    }
   ],
   "source": [
    "url = \"https://ai-dev.tistory.com/2\"\n",
    "\n",
    "html = urlopen(url)\n",
    "\n",
    "bs_obj = BeautifulSoup(html, \"html.parser\")\n",
    "\n",
    "com_list = bs_obj.find_all(\"ul\")\n",
    "\n",
    "print(com_list)"
   ]
  },
  {
   "cell_type": "code",
   "execution_count": 18,
   "id": "0e6c99ce",
   "metadata": {},
   "outputs": [
    {
     "name": "stdout",
     "output_type": "stream",
     "text": [
      "[<ul data-ke-list-type=\"disc\" style=\"list-style-type: disc;\">\n",
      "<li>모니터</li>\n",
      "<li>CPU</li>\n",
      "<li>메모리</li>\n",
      "<li>그래픽카드</li>\n",
      "<li>하드디스크</li>\n",
      "<li>키보드</li>\n",
      "<li>마우스</li>\n",
      "</ul>]\n"
     ]
    }
   ],
   "source": [
    "# 속성까지 지정해서 원하는 영역만 딱 뽑아낸다.\n",
    "\n",
    "com_list01 = bs_obj.find_all(\"ul\", {\"style\":\"list-style-type: disc;\"})\n",
    "\n",
    "print(com_list01)"
   ]
  },
  {
   "cell_type": "code",
   "execution_count": 19,
   "id": "89d48ec5",
   "metadata": {},
   "outputs": [
    {
     "name": "stdout",
     "output_type": "stream",
     "text": [
      "<ul data-ke-list-type=\"disc\" style=\"list-style-type: disc;\">\n",
      "<li>모니터</li>\n",
      "<li>CPU</li>\n",
      "<li>메모리</li>\n",
      "<li>그래픽카드</li>\n",
      "<li>하드디스크</li>\n",
      "<li>키보드</li>\n",
      "<li>마우스</li>\n",
      "</ul>\n"
     ]
    }
   ],
   "source": [
    "print(com_list01[0])"
   ]
  },
  {
   "cell_type": "code",
   "execution_count": 20,
   "id": "bfbc1cf4",
   "metadata": {},
   "outputs": [
    {
     "name": "stdout",
     "output_type": "stream",
     "text": [
      "[<li>모니터</li>, <li>CPU</li>, <li>메모리</li>, <li>그래픽카드</li>, <li>하드디스크</li>, <li>키보드</li>, <li>마우스</li>]\n"
     ]
    }
   ],
   "source": [
    "com_list02 = com_list01[0].find_all(\"li\")\n",
    "\n",
    "print(com_list02)"
   ]
  },
  {
   "cell_type": "code",
   "execution_count": 21,
   "id": "2c84eada",
   "metadata": {},
   "outputs": [
    {
     "name": "stdout",
     "output_type": "stream",
     "text": [
      "0 모니터\n",
      "1 CPU\n",
      "2 메모리\n",
      "3 그래픽카드\n",
      "4 하드디스크\n",
      "5 키보드\n",
      "6 마우스\n"
     ]
    }
   ],
   "source": [
    "for idx, element in enumerate(com_list02):\n",
    "    print(idx, element.text)"
   ]
  }
 ],
 "metadata": {
  "kernelspec": {
   "display_name": "Python 3",
   "language": "python",
   "name": "python3"
  },
  "language_info": {
   "codemirror_mode": {
    "name": "ipython",
    "version": 3
   },
   "file_extension": ".py",
   "mimetype": "text/x-python",
   "name": "python",
   "nbconvert_exporter": "python",
   "pygments_lexer": "ipython3",
   "version": "3.8.0"
  }
 },
 "nbformat": 4,
 "nbformat_minor": 5
}
