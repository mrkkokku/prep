{
 "cells": [
  {
   "cell_type": "code",
   "execution_count": 1,
   "id": "fa4daa97",
   "metadata": {},
   "outputs": [
    {
     "name": "stdout",
     "output_type": "stream",
     "text": [
      "<head>\n",
      "<title>\n",
      "            기초 크롤링\n",
      "        </title>\n",
      "</head>\n"
     ]
    }
   ],
   "source": [
    "from bs4 import BeautifulSoup\n",
    "\n",
    "html_doc = \"\"\"\n",
    "<!DOCTYPE html>\n",
    "<html>\n",
    "    <head>\n",
    "        <title>\n",
    "            기초 크롤링\n",
    "        </title>\n",
    "    </head>\n",
    "    <body>\n",
    "        크롤링을 하자\n",
    "    </body>\n",
    "</html>\n",
    "\"\"\"\n",
    "\n",
    "bs_obj = BeautifulSoup(html_doc, \"html.parser\")\n",
    "\n",
    "head = bs_obj.find(\"head\")\n",
    "\n",
    "print(head)"
   ]
  },
  {
   "cell_type": "code",
   "execution_count": 2,
   "id": "ef740376",
   "metadata": {},
   "outputs": [
    {
     "name": "stdout",
     "output_type": "stream",
     "text": [
      "<body>\n",
      "        크롤링을 하자\n",
      "    </body>\n"
     ]
    }
   ],
   "source": [
    "body = bs_obj.find(\"body\")\n",
    "\n",
    "print(body)"
   ]
  },
  {
   "cell_type": "code",
   "execution_count": 3,
   "id": "a3f02a3d",
   "metadata": {},
   "outputs": [
    {
     "name": "stdout",
     "output_type": "stream",
     "text": [
      "<div>\n",
      "            첫 번째 영역\n",
      "        </div>\n"
     ]
    }
   ],
   "source": [
    "html_doc = \"\"\"\n",
    "<!DOCTYPE html>\n",
    "<html>\n",
    "    <head>\n",
    "        <title>\n",
    "            기초 크롤링\n",
    "        </title>\n",
    "    </head>\n",
    "    <body>\n",
    "        <div>\n",
    "            첫 번째 영역\n",
    "        </div>\n",
    "        <div>\n",
    "            두 번째 영역\n",
    "        </div>\n",
    "    </body>\n",
    "</html>\n",
    "\n",
    "\"\"\"\n",
    "bs_obj = BeautifulSoup(html_doc, \"html.parser\")\n",
    "\n",
    "div1 = bs_obj.find(\"div\")\n",
    "\n",
    "print(div1)"
   ]
  },
  {
   "cell_type": "code",
   "execution_count": 4,
   "id": "07b5c39c",
   "metadata": {},
   "outputs": [
    {
     "name": "stdout",
     "output_type": "stream",
     "text": [
      "<div>\n",
      "            첫 번째 영역\n",
      "        </div>\n"
     ]
    }
   ],
   "source": [
    "div_total = bs_obj.find_all(\"div\")\n",
    "\n",
    "print(div_total[0])"
   ]
  },
  {
   "cell_type": "code",
   "execution_count": 5,
   "id": "2329df01",
   "metadata": {},
   "outputs": [
    {
     "name": "stdout",
     "output_type": "stream",
     "text": [
      "<div>\n",
      "            두 번째 영역\n",
      "        </div>\n"
     ]
    }
   ],
   "source": [
    "print(div_total[1])"
   ]
  },
  {
   "cell_type": "code",
   "execution_count": 6,
   "id": "ee7991b9",
   "metadata": {},
   "outputs": [
    {
     "name": "stdout",
     "output_type": "stream",
     "text": [
      "\n",
      "            첫 번째 영역\n",
      "        \n"
     ]
    }
   ],
   "source": [
    "print(div_total[0].text)"
   ]
  },
  {
   "cell_type": "code",
   "execution_count": 7,
   "id": "b7d84469",
   "metadata": {},
   "outputs": [
    {
     "name": "stdout",
     "output_type": "stream",
     "text": [
      "\n",
      "            두 번째 영역\n",
      "        \n"
     ]
    }
   ],
   "source": [
    "print(div_total[1].text)"
   ]
  },
  {
   "cell_type": "code",
   "execution_count": 8,
   "id": "ee6eecb2",
   "metadata": {},
   "outputs": [],
   "source": [
    "from bs4 import BeautifulSoup\n",
    "\n",
    "html_doc = \"\"\"\n",
    "<!doctype html>\n",
    "<html>\n",
    "   <head> \n",
    "    <title> 기초 웹 크롤링 </title> \n",
    "    </head>\n",
    "    <body> \n",
    "        <table border=\"1\">\n",
    "           <caption> 과일 가격 </caption>\n",
    "            <tr>\n",
    "                <th> 상품 </th>\n",
    "                <th> 가격 </th>\n",
    "            </tr>\n",
    "\n",
    "            <tr>\n",
    "                <td> 오렌지 </td>\n",
    "                <td> 100 </td>\n",
    "            </tr>\n",
    "            <tr>\n",
    "                <td> 사과 </td>\n",
    "                <td> 150 </td>\n",
    "            </tr>\n",
    "       </table>\n",
    "\n",
    "       <table border=\"2\">\n",
    "            <caption> 의류 가격 </caption>\n",
    "            <tr>\n",
    "                <th> 상품 </th>\n",
    "                <th> 가격 </th>\n",
    "            </tr>\n",
    "            <tr>\n",
    "                <td> 셔츠 </td>\n",
    "                <td> 30000 </td>\n",
    "            </tr>\n",
    "            <tr>\n",
    "                <td> 바지 </td>\n",
    "                <td> 50000 </td>\n",
    "            </tr>\n",
    "        </table>\n",
    "    </body>\n",
    "</html>\n",
    " \"\"\""
   ]
  },
  {
   "cell_type": "code",
   "execution_count": 9,
   "id": "f46000df",
   "metadata": {},
   "outputs": [
    {
     "name": "stdout",
     "output_type": "stream",
     "text": [
      "[<table border=\"1\">\n",
      "<caption> 과일 가격 </caption>\n",
      "<tr>\n",
      "<th> 상품 </th>\n",
      "<th> 가격 </th>\n",
      "</tr>\n",
      "<tr>\n",
      "<td> 오렌지 </td>\n",
      "<td> 100 </td>\n",
      "</tr>\n",
      "<tr>\n",
      "<td> 사과 </td>\n",
      "<td> 150 </td>\n",
      "</tr>\n",
      "</table>, <table border=\"2\">\n",
      "<caption> 의류 가격 </caption>\n",
      "<tr>\n",
      "<th> 상품 </th>\n",
      "<th> 가격 </th>\n",
      "</tr>\n",
      "<tr>\n",
      "<td> 셔츠 </td>\n",
      "<td> 30000 </td>\n",
      "</tr>\n",
      "<tr>\n",
      "<td> 바지 </td>\n",
      "<td> 50000 </td>\n",
      "</tr>\n",
      "</table>]\n"
     ]
    }
   ],
   "source": [
    "bs_obj = BeautifulSoup(html_doc, \"html.parser\")\n",
    "\n",
    "clothes = bs_obj.find_all(\"table\")\n",
    "\n",
    "print(clothes)"
   ]
  },
  {
   "cell_type": "code",
   "execution_count": 10,
   "id": "edaef36b",
   "metadata": {},
   "outputs": [
    {
     "name": "stdout",
     "output_type": "stream",
     "text": [
      "[<table border=\"2\">\n",
      "<caption> 의류 가격 </caption>\n",
      "<tr>\n",
      "<th> 상품 </th>\n",
      "<th> 가격 </th>\n",
      "</tr>\n",
      "<tr>\n",
      "<td> 셔츠 </td>\n",
      "<td> 30000 </td>\n",
      "</tr>\n",
      "<tr>\n",
      "<td> 바지 </td>\n",
      "<td> 50000 </td>\n",
      "</tr>\n",
      "</table>]\n"
     ]
    }
   ],
   "source": [
    "clothes = bs_obj.find_all(\"table\", {\"border\" : \"2\"})\n",
    "\n",
    "print(clothes)"
   ]
  }
 ],
 "metadata": {
  "kernelspec": {
   "display_name": "Python 3",
   "language": "python",
   "name": "python3"
  },
  "language_info": {
   "codemirror_mode": {
    "name": "ipython",
    "version": 3
   },
   "file_extension": ".py",
   "mimetype": "text/x-python",
   "name": "python",
   "nbconvert_exporter": "python",
   "pygments_lexer": "ipython3",
   "version": "3.8.0"
  }
 },
 "nbformat": 4,
 "nbformat_minor": 5
}
