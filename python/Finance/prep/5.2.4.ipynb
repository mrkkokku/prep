{
 "cells": [
  {
   "cell_type": "code",
   "execution_count": 3,
   "metadata": {},
   "outputs": [
    {
     "name": "stdout",
     "output_type": "stream",
     "text": [
      "MariaDB version : ('10.6.7-MariaDB',)\n"
     ]
    }
   ],
   "source": [
    "# MariaDB 설치가 되어야한다 200 페이지 정도를 확인해서 MariaDB.org 통해서 설치하고 진행하자\n",
    "\n",
    "# 5.2.4 내용\n",
    "\n",
    "# pip install pymysql\n",
    "\n",
    "import pymysql\n",
    "\n",
    "connection = pymysql.connect(host='localhost', port=3306, db='Investar', user='root', passwd='@@@@@@@@', autocommit=True)\n",
    "\n",
    "cursor = connection.cursor()\n",
    "\n",
    "cursor.execute(\"SELECT VERSION();\")\n",
    "\n",
    "result = cursor.fetchone()\n",
    "\n",
    "print(\"MariaDB version : {}\".format(result))   # 결과값에 ,가 찍히는건 결과값이 하나인 튜플이란 말임\n",
    "\n",
    "connection.close()"
   ]
  },
  {
   "cell_type": "code",
   "execution_count": 1,
   "metadata": {},
   "outputs": [
    {
     "data": {
      "text/plain": [
       "'\\nclass DBUpdater:\\n    def __init__(self):\\n        \"\"\"생성자: MariaDB 연결 및 종목코드 딕셔너리 생성\"\"\"\\n    \\n    def __del__(self):\\n        \"\"\"소명자\" MariaDB 연결 해제\"\"\"\\n    \\n    def red_krx_code(self):\\n        \"\"\"KRX로 부터 상장법인 목록 파일을 읽어와서 DataFrame으로 변환\"\"\"\\n    \\n    def update_comp_info(self):\\n        \"\"\"종목코드를 company_info 테이블에 업데이트한 후 딕셔너리에 저장\"\"\"\\n    \\n    def read_naver(self, code, company, pages_to_fetch):\\n        \"\"\"네이버 금융에서 주싟 시세를 읽어서 DataFrame으로 반환\"\"\"\\n    \\n    def replace_into_db(self, df, num code, company):\\n        \"\"\"네이버 금융에서 읽어온 주식 시세를 DB에 REPLACE\"\"\"\\n\\n    def update_daily_price(self, pages_to_fetch):\\n        \"\"\"KRX 상장법인의 주식 시세를 네이버로부터 읽어서 DB에 업데이트\"\"\"\\n    \\n    def execute_daily(self):\\n        \"\"\"실행 즉시 및 매일 오후 다섯시에 daily_price 테이블 업데이트\"\"\"\\n\\nif __name__ == \\'__main__\\':\\n    dbu = DBUpdater()\\n    dbu.execute_daily()\\n'"
      ]
     },
     "execution_count": 1,
     "metadata": {},
     "output_type": "execute_result"
    }
   ],
   "source": [
    "# 여기선 네이버 금융의 주식 시세를 bs4와 pandas로 읽어와서 MariaDB에 매일 자동으로 업데이트해주는 DBUpdate모듈을 만든다\n",
    "\n",
    "# DBUpdate.py를 만들고 스텁코드를 작성하겠다\n",
    "\n",
    "# 내용은 다음과 같고 모두 주석처리 해두겠다\n",
    "'''\n",
    "class DBUpdater:\n",
    "    def __init__(self):\n",
    "        \"\"\"생성자: MariaDB 연결 및 종목코드 딕셔너리 생성\"\"\"\n",
    "    \n",
    "    def __del__(self):\n",
    "        \"\"\"소멸자\" MariaDB 연결 해제\"\"\"\n",
    "    \n",
    "    def red_krx_code(self):\n",
    "        \"\"\"KRX로 부터 상장법인 목록 파일을 읽어와서 DataFrame으로 변환\"\"\"\n",
    "    \n",
    "    def update_comp_info(self):\n",
    "        \"\"\"종목코드를 company_info 테이블에 업데이트한 후 딕셔너리에 저장\"\"\"\n",
    "    \n",
    "    def read_naver(self, code, company, pages_to_fetch):\n",
    "        \"\"\"네이버 금융에서 주싟 시세를 읽어서 DataFrame으로 반환\"\"\"\n",
    "    \n",
    "    def replace_into_db(self, df, num code, company):\n",
    "        \"\"\"네이버 금융에서 읽어온 주식 시세를 DB에 REPLACE\"\"\"\n",
    "\n",
    "    def update_daily_price(self, pages_to_fetch):\n",
    "        \"\"\"KRX 상장법인의 주식 시세를 네이버로부터 읽어서 DB에 업데이트\"\"\"\n",
    "    \n",
    "    def execute_daily(self):\n",
    "        \"\"\"실행 즉시 및 매일 오후 다섯시에 daily_price 테이블 업데이트\"\"\"\n",
    "\n",
    "if __name__ == '__main__':\n",
    "    dbu = DBUpdater()\n",
    "    dbu.execute_daily()\n",
    "'''"
   ]
  },
  {
   "cell_type": "code",
   "execution_count": null,
   "metadata": {},
   "outputs": [],
   "source": [
    "# cmd 관리자모드에서 net stop | start mariadb 로 윈도우 서비스 내용을 컨트롤 할 수 있다\n",
    "\n",
    "# 그리고나서 223페이지 참고해서 테이블을 생성한다"
   ]
  }
 ],
 "metadata": {
  "interpreter": {
   "hash": "7b4a2db395c35728927dfc07449f855852b1ee9f20779aff79941da530431f91"
  },
  "kernelspec": {
   "display_name": "Python 3.8.0 64-bit",
   "language": "python",
   "name": "python3"
  },
  "language_info": {
   "codemirror_mode": {
    "name": "ipython",
    "version": 3
   },
   "file_extension": ".py",
   "mimetype": "text/x-python",
   "name": "python",
   "nbconvert_exporter": "python",
   "pygments_lexer": "ipython3",
   "version": "3.8.0"
  },
  "orig_nbformat": 4
 },
 "nbformat": 4,
 "nbformat_minor": 2
}
