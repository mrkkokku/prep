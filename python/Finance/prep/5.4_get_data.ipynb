{
 "cells": [
  {
   "cell_type": "code",
   "execution_count": null,
   "metadata": {},
   "outputs": [],
   "source": [
    "# 지금까지 DB에 데이터를 쌓는 것을 한 것이고\n",
    "# 이번엔 쌓아놓은 DB 내 데이터를 조회하는 API를 만들어보자\n",
    "\n",
    "# 종목코드 대신 기업명으로 조회하는 기능도 추가될 것이며\n",
    "# 조회일자 형식을 다르게 입력하더라도 자동으로 양식을 보정하게 할 것이다\n",
    "\n",
    "# 클래스 구조는 다음과 같다\n",
    "'''\n",
    "class MarketDB:\n",
    "    def __init__(self):\n",
    "        \"\"\"생성자: MariaDB 연결 및 종목코드 딕셔너리 생성\"\"\"\n",
    "    \n",
    "    def __del__(self):\n",
    "        \"\"\"소멸자: MariaDB 연결 해제\"\"\"\n",
    "    \n",
    "    def get_comp_info(self):\n",
    "        \"\"\"COMPANY_INFO 테이블에서 읽어와서 codes에 저장\"\"\"\n",
    "    \n",
    "    def get_daily_price(self, code, start_date=None, end_date=None):\n",
    "        \"\"\"KRX 종목별 시세를 DataFrame형태로 반환\"\"\"\n",
    "'''\n",
    "\n",
    "class MarketDB:\n",
    "    def __init__(self):\n",
    "        \"\"\"생성자: MariaDB 연결 및 종목코드 딕셔너리 생성\"\"\"\n",
    "    \n",
    "    def __del__(self):\n",
    "        \"\"\"소멸자: MariaDB 연결 해제\"\"\"\n",
    "    \n",
    "    def get_comp_info(self):\n",
    "        \"\"\"COMPANY_INFO 테이블에서 읽어와서 codes에 저장\"\"\"\n",
    "    \n",
    "    def get_daily_price(self, code, start_date=None, end_date=None):\n",
    "        \"\"\"KRX 종목별 시세를 DataFrame형태로 반환\"\"\""
   ]
  }
 ],
 "metadata": {
  "language_info": {
   "name": "python"
  },
  "orig_nbformat": 4
 },
 "nbformat": 4,
 "nbformat_minor": 2
}
