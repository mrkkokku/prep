{
 "cells": [
  {
   "cell_type": "code",
   "execution_count": 1,
   "metadata": {},
   "outputs": [
    {
     "name": "stdout",
     "output_type": "stream",
     "text": [
      "[*********************100%***********************]  1 of 1 completed\n",
      "[*********************100%***********************]  1 of 1 completed\n"
     ]
    }
   ],
   "source": [
    "from pandas_datareader import data as pdr\n",
    "import yfinance as yf #pip install yfinance -U\n",
    "\n",
    "yf.pdr_override()\n",
    "\n",
    "sec = pdr.get_data_yahoo('005930.KS', start='2018-05-04')\n",
    "msft = pdr.get_data_yahoo('MSFT', start='2018-05-04')"
   ]
  },
  {
   "cell_type": "code",
   "execution_count": 2,
   "metadata": {},
   "outputs": [
    {
     "name": "stdout",
     "output_type": "stream",
     "text": [
      "<class 'pandas.core.series.Series'>\n"
     ]
    }
   ],
   "source": [
    "print( type( sec['Close'] ) )"
   ]
  },
  {
   "cell_type": "code",
   "execution_count": 3,
   "metadata": {},
   "outputs": [
    {
     "name": "stdout",
     "output_type": "stream",
     "text": [
      "Date\n",
      "2018-05-04    51900.0\n",
      "2018-05-08    52600.0\n",
      "2018-05-09    50900.0\n",
      "2018-05-10    51600.0\n",
      "2018-05-11    51300.0\n",
      "               ...   \n",
      "2022-03-24    69800.0\n",
      "2022-03-25    69800.0\n",
      "2022-03-28    69700.0\n",
      "2022-03-29    70200.0\n",
      "2022-03-30    69900.0\n",
      "Name: Close, Length: 959, dtype: float64\n"
     ]
    }
   ],
   "source": [
    "print( sec['Close'] )"
   ]
  },
  {
   "cell_type": "code",
   "execution_count": 4,
   "metadata": {},
   "outputs": [
    {
     "name": "stdout",
     "output_type": "stream",
     "text": [
      "Date\n",
      "2018-05-04        NaN\n",
      "2018-05-08    51900.0\n",
      "2018-05-09    52600.0\n",
      "2018-05-10    50900.0\n",
      "2018-05-11    51600.0\n",
      "               ...   \n",
      "2022-03-24    70500.0\n",
      "2022-03-25    69800.0\n",
      "2022-03-28    69800.0\n",
      "2022-03-29    69700.0\n",
      "2022-03-30    70200.0\n",
      "Name: Close, Length: 959, dtype: float64\n"
     ]
    }
   ],
   "source": [
    "print( sec['Close'].shift(1) )"
   ]
  },
  {
   "cell_type": "code",
   "execution_count": 5,
   "metadata": {},
   "outputs": [
    {
     "name": "stdout",
     "output_type": "stream",
     "text": [
      "Date\n",
      "2018-05-04         NaN\n",
      "2018-05-08    1.348748\n",
      "2018-05-09   -3.231939\n",
      "2018-05-10    1.375246\n",
      "2018-05-11   -0.581395\n",
      "Name: Close, dtype: float64\n"
     ]
    }
   ],
   "source": [
    "sec_dpc = (sec['Close'] / sec['Close'].shift(1) - 1) * 100\n",
    "print( sec_dpc.head() )"
   ]
  },
  {
   "cell_type": "code",
   "execution_count": 6,
   "metadata": {},
   "outputs": [],
   "source": [
    "#NaN 부분 보정을 위해 아래 수행\n",
    "sec_dpc.iloc[0] = 0"
   ]
  },
  {
   "cell_type": "code",
   "execution_count": 7,
   "metadata": {},
   "outputs": [
    {
     "name": "stdout",
     "output_type": "stream",
     "text": [
      "Date\n",
      "2018-05-03    0.000000\n",
      "2018-05-04    1.158716\n",
      "2018-05-07    1.113911\n",
      "2018-05-08   -0.426111\n",
      "2018-05-09    1.179423\n",
      "Name: Close, dtype: float64\n"
     ]
    }
   ],
   "source": [
    "# 삼성 것 했으니, msft도 동일하게 처리하자.\n",
    "msft_dpc = (msft['Close'] / msft['Close'].shift(1) - 1) * 100\n",
    "msft_dpc.iloc[0] = 0\n",
    "\n",
    "print( msft_dpc.head() )"
   ]
  },
  {
   "cell_type": "code",
   "execution_count": 8,
   "metadata": {},
   "outputs": [
    {
     "data": {
      "image/png": "[encoded data removed]",
      "text/plain": [
       "<Figure size 432x288 with 1 Axes>"
      ]
     },
     "metadata": {
      "needs_background": "light"
     },
     "output_type": "display_data"
    },
    {
     "data": {
      "text/plain": [
       "count    959.000000\n",
       "mean       0.044415\n",
       "std        1.639275\n",
       "min       -6.387665\n",
       "25%       -0.932505\n",
       "50%        0.000000\n",
       "75%        0.899192\n",
       "max       10.470588\n",
       "Name: Close, dtype: float64"
      ]
     },
     "execution_count": 8,
     "metadata": {},
     "output_type": "execute_result"
    }
   ],
   "source": [
    "# 주가 일간 변동률 히스토그램\n",
    "# 삼전 주식 종가의 일간 변동률을 히스토그램으로 출력해보자\n",
    "\n",
    "import matplotlib.pyplot as plt\n",
    "sec_dpc = (sec['Close'] - sec['Close'].shift(1)) / sec['Close'].shift(1) * 100\n",
    "sec_dpc.iloc[0] = 0\n",
    "plt.hist(sec_dpc, bins=18)\n",
    "plt.grid(True)\n",
    "plt.show()\n",
    "sec_dpc.describe()"
   ]
  },
  {
   "cell_type": "code",
   "execution_count": 9,
   "metadata": {},
   "outputs": [
    {
     "name": "stdout",
     "output_type": "stream",
     "text": [
      "Date\n",
      "2018-05-04     0.000000\n",
      "2018-05-08     1.348748\n",
      "2018-05-09    -1.883192\n",
      "2018-05-10    -0.507946\n",
      "2018-05-11    -1.089341\n",
      "                ...    \n",
      "2022-03-24    42.447221\n",
      "2022-03-25    42.447221\n",
      "2022-03-28    42.303955\n",
      "2022-03-29    43.021315\n",
      "2022-03-30    42.593964\n",
      "Name: Close, Length: 959, dtype: float64\n"
     ]
    }
   ],
   "source": [
    "# sec_dpc는 일간 변동률이기 때문에 전체적인 변동률을 누적합으로 구해보자\n",
    "# cumsum()을 이용한다\n",
    "\n",
    "sec_dpc_cs = sec_dpc.cumsum()\n",
    "print( sec_dpc_cs )"
   ]
  }
 ],
 "metadata": {
  "interpreter": {
   "hash": "7b4a2db395c35728927dfc07449f855852b1ee9f20779aff79941da530431f91"
  },
  "kernelspec": {
   "display_name": "Python 3.8.0 64-bit",
   "language": "python",
   "name": "python3"
  },
  "language_info": {
   "codemirror_mode": {
    "name": "ipython",
    "version": 3
   },
   "file_extension": ".py",
   "mimetype": "text/x-python",
   "name": "python",
   "nbconvert_exporter": "python",
   "pygments_lexer": "ipython3",
   "version": "3.8.0"
  },
  "orig_nbformat": 4
 },
 "nbformat": 4,
 "nbformat_minor": 2
}
