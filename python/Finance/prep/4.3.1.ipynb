{
 "cells": [
  {
   "cell_type": "code",
   "execution_count": 22,
   "metadata": {},
   "outputs": [],
   "source": [
    "# 네이버금융에서 특정 종목을 검색해보자\n",
    "# https://finance.naver.com/item/main.nhn?code=068270 <-- 과거 버전\n",
    "# https://finance.naver.com/item/main.naver?code=068760\n",
    "# 068270이 셀트리온의 종목코드다\n",
    "# 다른종목을 보려면 이 코드만 바꾸면 되는 것.\n",
    "\n",
    "# 셀트리온의 일별 시세 데이터 전부가져오자\n",
    "# 페이지당 10개씩 표시되는 상황이다\n",
    "# 첫 페이지는 최신 날짜의 주가이다\n",
    "# 화면에서 맨뒤를 클릭하면 가장 오래된 날짜의 종가가 표기된다\n",
    "\n",
    "# 일별 시세 페이지의 맨뒤버튼에 우클릭을 통해 \"페이지 소스 보기\"하면\n",
    "# 아래의 주소가 표시된다\n",
    "# https://finance.naver.com/item/sise_day.naver?code=068760&page=399\n",
    "# 여기서 페이지와 종목코드를 넣어서 특정 위치로 갈 수 있다\n",
    "\n",
    "\n",
    "# beautiful soup와 유명 parser 중 하나인 lxml로 크롤링해보자\n",
    "# pip install beautifulsoup4\n",
    "# pip install lxml\n",
    "\n",
    "# bs4에서 가장 중요한 함수는 find_all() , find() 함수일 것이다\n",
    "\n",
    "# find_all(['검색할 태그'][, class_='클래스 속성값'][, id='아이디 속성값'][, limit=찾을 개수])\n",
    "# find(['검색할 태그'][, class_='클래스 속성값'][, id='아이디 속성값'])\n",
    "\n",
    "# find_all 함수는 문서 전체를 대상으로 조건에 맞는 모든 태그를 찾는다\n",
    "# 아무것도 못 찾을 때엔 find_all은 비어있는 리스트를 반환, find는 None을 반환"
   ]
  },
  {
   "cell_type": "code",
   "execution_count": null,
   "metadata": {},
   "outputs": [],
   "source": [
    "# 네이버 금융이 현재 크롤링을 막아놨는데, 접속자의 http 헤더를 없애버리는 식 인듯 함\n",
    "# https://ekyoo.tistory.com/15 여기서 해결법을 찾았고\n",
    "# 여기서 헤더에 넣을 데이터를 확인할 수 있음 (User Agent 확인)\n",
    "# http://m.avalon.co.kr/check.html"
   ]
  },
  {
   "cell_type": "code",
   "execution_count": 28,
   "metadata": {},
   "outputs": [
    {
     "name": "stdout",
     "output_type": "stream",
     "text": [
      "/item/sise_day.naver?code=068760&page=399\n"
     ]
    }
   ],
   "source": [
    "# bs4를 이용해 네이버금융의  셀트리온의 맨 뒤 페이지 숫자를 구해보자\n",
    "# 결과를 아래 실제 소스와 비교하면서 보자\n",
    "# view-source:https://finance.naver.com/item/sise_day.naver?code=068760&page=1\n",
    "\n",
    "\"\"\" 네이버에서 이 코드 막아서 아래것으로 전환 함\n",
    "url = 'https://finance.naver.com/item/sise_day.naver?code=068760&page=1'\n",
    "with urlopen(url) as doc:\n",
    "    html = BeautifulSoup(doc, 'lxml')\n",
    "    pgrr = html.find('td', class_='pgRR')\n",
    "    #print(pgrr.a['href'])\n",
    "\"\"\"\n",
    "\n",
    "from bs4 import BeautifulSoup\n",
    "from urllib.request import urlopen\n",
    "from urllib import request\n",
    "\n",
    "headers = ('User-Agent','Mozilla/5.0 (Windows NT 10.0; Win64; x64) AppleWebKit/537.36 (KHTML, like Gecko) Chrome/99.0.4844.82 Safari/537.36')\n",
    "url = 'https://finance.naver.com/item/sise_day.naver?code=068760&page=1'\n",
    "opener = request.build_opener()\n",
    "opener.addheaders = [headers]\n",
    "response = opener.open(url)\n",
    "\n",
    "html = BeautifulSoup(response, 'lxml')\n",
    "pgrr = html.find('td', class_='pgRR')\n",
    "print(pgrr.a['href'])"
   ]
  }
 ],
 "metadata": {
  "interpreter": {
   "hash": "7b4a2db395c35728927dfc07449f855852b1ee9f20779aff79941da530431f91"
  },
  "kernelspec": {
   "display_name": "Python 3.8.0 64-bit",
   "language": "python",
   "name": "python3"
  },
  "language_info": {
   "codemirror_mode": {
    "name": "ipython",
    "version": 3
   },
   "file_extension": ".py",
   "mimetype": "text/x-python",
   "name": "python",
   "nbconvert_exporter": "python",
   "pygments_lexer": "ipython3",
   "version": "3.8.0"
  },
  "orig_nbformat": 4
 },
 "nbformat": 4,
 "nbformat_minor": 2
}
