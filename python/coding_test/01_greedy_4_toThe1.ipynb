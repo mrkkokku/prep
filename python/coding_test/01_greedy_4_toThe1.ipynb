{
 "cells": [
  {
   "cell_type": "code",
   "execution_count": 8,
   "metadata": {},
   "outputs": [
    {
     "name": "stdout",
     "output_type": "stream",
     "text": [
      "3\n"
     ]
    }
   ],
   "source": [
    "'''\n",
    "숫자 2개를 입력 받고, 아래의 두가지 행위만 할 수 있는데\n",
    "1: n을 k로 나누거나\n",
    "2: n에서 1을 빼거나 \n",
    "이 작업을 통해 가장 빨리 1을 만드는 연산횟수를 출력하는 문제\n",
    "'''\n",
    "\n",
    "n, k = map(int, input().split())\n",
    "cnt = 0\n",
    "\n",
    "while(True):\n",
    "    if((n // k) > 0):\n",
    "        n //= k\n",
    "        cnt += 1\n",
    "    else:\n",
    "        n -= 1\n",
    "        cnt += 1\n",
    "    if(n == 1):\n",
    "        break\n",
    "\n",
    "print(cnt)\n"
   ]
  }
 ],
 "metadata": {
  "kernelspec": {
   "display_name": "Python 3",
   "language": "python",
   "name": "python3"
  },
  "language_info": {
   "codemirror_mode": {
    "name": "ipython",
    "version": 3
   },
   "file_extension": ".py",
   "mimetype": "text/x-python",
   "name": "python",
   "nbconvert_exporter": "python",
   "pygments_lexer": "ipython3",
   "version": "3.8.0"
  },
  "orig_nbformat": 4
 },
 "nbformat": 4,
 "nbformat_minor": 2
}
