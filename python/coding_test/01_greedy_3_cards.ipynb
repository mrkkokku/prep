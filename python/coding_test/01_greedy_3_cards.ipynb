{
 "cells": [
  {
   "cell_type": "code",
   "execution_count": 2,
   "metadata": {},
   "outputs": [
    {
     "name": "stdout",
     "output_type": "stream",
     "text": [
      "3\n"
     ]
    }
   ],
   "source": [
    "'''\n",
    "숫자 카드 게임1은 여러 개의 숫자 카드 중에서 가장 높은 숫자가 쓰인 카드 한 장을 뽑는 게임이다. \n",
    "단, 게임의 룰을 지기며 가드를 뽑아야 하고 룰은 다음과 같다 \n",
    "1. 숫자가 쓰인 가드들이 N x M 형태로 놓여 있다. 이때 N은 행의 개수를 의미하며, M은 열 \n",
    "의 개수를 의미한다. \n",
    "2. 먼저 뽑고자 하는 카드가 포함되어 있는 행을 선택한다. \n",
    "3. 그다음 선택된 행에 포함된 카드들 중 가장 숫자가 낮은 카드를 뽑아야 한다. \n",
    "4. 띠라서 처음에 가드를골라낼 행을 선택할때, 이후에 해당 행에서 가장 숫자가 낮은가드를뿌을 \n",
    "것을 고려하여 최종적 0 로 가상 높은 숫자의 카드를 뽑을 수 있도록 전략을 세워야 한다. \n",
    "예를 들어 3 x 3 형태로 카드들이 다음과 같이 놓여 있다고 가정하자. \n",
    "\n",
    "여기서 카드를 골라낼 행을 고를 때 첫번째 혹은 두 번째 행을 선택하는 경우, 최종적으로 뽑는 카 \n",
    "드는 1 이다. 하지만 세 번째 행을 선택하는 경우 최종적으로 뽑는 카드는 2이다. 따라서 이 예제에 \n",
    "서는 세 번째 행을 선택하여 숫자 2가 쓰여진 카드를 뽑는 것이 정답이다. \n",
    "카드들이 N x M 형태로 놓여 있을 때, 게임의 물에 맞게 카드를 뽑는 프로그램을 만드시오. \n",
    "'''\n",
    "\n",
    "n, m = map(int, input().split())\n",
    "listR = []\n",
    "\n",
    "listA = []\n",
    "for _ in range(n):\n",
    "    listA = list(map(int, input().split()))\n",
    "    listR.append(min(listA))\n",
    "    \n",
    "print(max(listR))"
   ]
  }
 ],
 "metadata": {
  "kernelspec": {
   "display_name": "Python 3",
   "language": "python",
   "name": "python3"
  },
  "language_info": {
   "codemirror_mode": {
    "name": "ipython",
    "version": 3
   },
   "file_extension": ".py",
   "mimetype": "text/x-python",
   "name": "python",
   "nbconvert_exporter": "python",
   "pygments_lexer": "ipython3",
   "version": "3.8.0"
  },
  "orig_nbformat": 4
 },
 "nbformat": 4,
 "nbformat_minor": 2
}
