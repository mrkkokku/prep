{
 "cells": [
  {
   "cell_type": "code",
   "execution_count": 4,
   "metadata": {},
   "outputs": [
    {
     "name": "stdout",
     "output_type": "stream",
     "text": [
      "2 1 1 "
     ]
    }
   ],
   "source": [
    "'''\n",
    "n 입력을 받고\n",
    "n 만큼 추가 인풋을 받음\n",
    "받은 데이터들을 정렬해서, 큰수부터 한줄씩 출력\n",
    "'''\n",
    "\n",
    "n = int(input())\n",
    "\n",
    "rList = []\n",
    "\n",
    "for _ in range(n):\n",
    "    rList.append(int(input()))\n",
    "\n",
    "rList.sort(reverse=True) # 이렇게 쓰면, rList자체가 정렬 됨\n",
    "# result = sorted(rList, reverse=True)  <-- 이렇게 쓰면, rList는 안 변함\n",
    "\n",
    "for i in rList:\n",
    "    print(i, end=' ')"
   ]
  },
  {
   "cell_type": "code",
   "execution_count": 2,
   "metadata": {},
   "outputs": [
    {
     "name": "stdout",
     "output_type": "stream",
     "text": [
      "[('asd', 1), ('qwe', 2), ('asd', 2)]\n",
      "asd qwe asd "
     ]
    }
   ],
   "source": [
    "'''\n",
    "학생 수 n을 입력받은 뒤,\n",
    "이름과 성적이 동시에 입력되는 것을 받아서\n",
    "성적이 낮은 순으로 이름을 출력\n",
    "'''\n",
    "\n",
    "n = int(input())\n",
    "\n",
    "rList = []\n",
    "\n",
    "for _ in range(n):\n",
    "    tple = input().split() # 이 때 tple의 타입은 list임\n",
    "\n",
    "    rList.append((tple[0], int(tple[1]))) # list를 tuple로 변경 저장\n",
    "\n",
    "rList = sorted(rList, key=lambda student: student[1])\n",
    "    \n",
    "print(rList)\n",
    "\n",
    "for student in rList:\n",
    "    print(student[0], end=' ')"
   ]
  },
  {
   "cell_type": "code",
   "execution_count": 3,
   "metadata": {},
   "outputs": [
    {
     "name": "stdout",
     "output_type": "stream",
     "text": [
      "26\n"
     ]
    }
   ],
   "source": [
    "'''\n",
    "n개의 원소들을 가진 리스트 2개에서\n",
    "원소들을 서로 교체해서 하나의 리스트에 든 것들의\n",
    "합이 가장 큰 경우의 수로 조립되도록 리스트간 \n",
    "스왑을 하는 문제\n",
    "'''\n",
    "\n",
    "n, k = map(int, input().split())\n",
    "\n",
    "a = list(map(int, input().split()))\n",
    "b = list(map(int, input().split()))\n",
    "\n",
    "a.sort() # a는 오름차순 정렬\n",
    "b.sort(reverse=True) # b는 내림차순 정렬\n",
    "\n",
    "for i in range(k):\n",
    "    if a[i] < b[i]:\n",
    "        a[i], b[i] = b[i], a[i]\n",
    "    else:\n",
    "        break\n",
    "\n",
    "print(sum(a))"
   ]
  },
  {
   "cell_type": "code",
   "execution_count": 1,
   "metadata": {},
   "outputs": [
    {
     "name": "stdout",
     "output_type": "stream",
     "text": [
      "[0, 1, 2, 3, 4, 5, 6, 7, 8, 9]\n"
     ]
    }
   ],
   "source": [
    "# Selection Sort\n",
    "\n",
    "target = [7, 5, 9, 0, 3, 1, 6, 2, 4, 8]\n",
    "\n",
    "def selectionSort(target):\n",
    "    \n",
    "    for i in range(len(target)-1):\n",
    "        min_index = i\n",
    "\n",
    "        for j in range(i + 1, len(target)):\n",
    "            if target[j] < target[min_index]:\n",
    "                min_index = j\n",
    "\n",
    "        target[min_index] ,target[i] = target[i], target[min_index]\n",
    "        \n",
    "\n",
    "selectionSort(target)\n",
    "\n",
    "print(target)"
   ]
  },
  {
   "cell_type": "code",
   "execution_count": 6,
   "metadata": {},
   "outputs": [
    {
     "name": "stdout",
     "output_type": "stream",
     "text": [
      "[0, 1, 2, 3, 4, 5, 6, 7, 8, 9]\n"
     ]
    }
   ],
   "source": [
    "# Insertion Sort\n",
    "\n",
    "target = [7, 5, 9, 0, 3, 1, 6, 2, 4, 8]\n",
    "\n",
    "def InsertionSort(target):\n",
    "    for i in range(len(target)-1):\n",
    "        for j in range(i + 1, 0, -1):\n",
    "            if target[j] < target[j-1]:\n",
    "                target[j], target[j-1] = target[j-1], target[j]\n",
    "            else:     \n",
    "                break\n",
    "                # else 부분은 없어도 돌아가지만, 삽입정렬의 특징을 이용한것\n",
    "                # 현재 타겟으로 잡고있는 것보다 왼쪽 부분은 이미 정렬 완료되었다는\n",
    "                # 특징을 이용한 구문임\n",
    "\n",
    "InsertionSort(target)\n",
    "\n",
    "print(target)"
   ]
  },
  {
   "cell_type": "code",
   "execution_count": 8,
   "metadata": {},
   "outputs": [
    {
     "name": "stdout",
     "output_type": "stream",
     "text": [
      "[0, 1, 2, 3, 4, 5, 6, 7, 8, 9]\n"
     ]
    }
   ],
   "source": [
    "# Quick Sort\n",
    "\n",
    "target = [7, 5, 9, 0, 3, 1, 6, 2, 4, 8]\n",
    "\n",
    "def QuickSort(target, s, e):\n",
    "\n",
    "    if s >= e:\n",
    "        return\n",
    "\n",
    "    pivot = s # pivot도 인덱스로 활용 함\n",
    "    left = s+1\n",
    "    right = e\n",
    "\n",
    "    while left <= right:\n",
    "        \n",
    "        while left <= e and target[left] <= target[pivot]:\n",
    "            left += 1\n",
    "        \n",
    "        while right > s and target[right] >= target[pivot]:\n",
    "            right -= 1\n",
    "        \n",
    "        if left > right: # 엇갈림 생기면, right가 가리키는 곳이 더 작을테니 이거랑 교체\n",
    "            target[right], target[pivot] = target[pivot], target[right]\n",
    "        else:\n",
    "            target[left], target[right] = target[right], target[left]\n",
    "    \n",
    "    QuickSort(target, s, right-1)\n",
    "    QuickSort(target, right+1, e)\n",
    "\n",
    "QuickSort(target, 0, len(target)-1)\n",
    "\n",
    "print(target)"
   ]
  }
 ],
 "metadata": {
  "kernelspec": {
   "display_name": "Python 3",
   "language": "python",
   "name": "python3"
  },
  "language_info": {
   "codemirror_mode": {
    "name": "ipython",
    "version": 3
   },
   "file_extension": ".py",
   "mimetype": "text/x-python",
   "name": "python",
   "nbconvert_exporter": "python",
   "pygments_lexer": "ipython3",
   "version": "3.8.0"
  },
  "orig_nbformat": 4,
  "vscode": {
   "interpreter": {
    "hash": "5f625378c10bd958049b952b3c2553ca13e790d061932832b9cac71667f79963"
   }
  }
 },
 "nbformat": 4,
 "nbformat_minor": 2
}
