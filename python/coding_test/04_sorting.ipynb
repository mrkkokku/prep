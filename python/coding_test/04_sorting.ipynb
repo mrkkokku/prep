{
 "cells": [
  {
   "cell_type": "code",
   "execution_count": 4,
   "metadata": {},
   "outputs": [
    {
     "name": "stdout",
     "output_type": "stream",
     "text": [
      "2 1 1 "
     ]
    }
   ],
   "source": [
    "'''\n",
    "n 입력을 받고\n",
    "n 만큼 추가 인풋을 받음\n",
    "받은 데이터들을 정렬해서, 큰수부터 한줄씩 출력\n",
    "'''\n",
    "\n",
    "n = int(input())\n",
    "\n",
    "rList = []\n",
    "\n",
    "for _ in range(n):\n",
    "    rList.append(int(input()))\n",
    "\n",
    "rList.sort(reverse=True) # 이렇게 쓰면, rList자체가 정렬 됨\n",
    "# result = sorted(rList, reverse=True)  <-- 이렇게 쓰면, rList는 안 변함\n",
    "\n",
    "for i in rList:\n",
    "    print(i, end=' ')"
   ]
  },
  {
   "cell_type": "code",
   "execution_count": 2,
   "metadata": {},
   "outputs": [
    {
     "name": "stdout",
     "output_type": "stream",
     "text": [
      "[('asd', 1), ('qwe', 2), ('asd', 2)]\n",
      "asd qwe asd "
     ]
    }
   ],
   "source": [
    "'''\n",
    "학생 수 n을 입력받은 뒤,\n",
    "이름과 성적이 동시에 입력되는 것을 받아서\n",
    "성적이 낮은 순으로 이름을 출력\n",
    "'''\n",
    "\n",
    "n = int(input())\n",
    "\n",
    "rList = []\n",
    "\n",
    "for _ in range(n):\n",
    "    tple = input().split() # 이 때 tple의 타입은 list임\n",
    "\n",
    "    rList.append((tple[0], int(tple[1]))) # list를 tuple로 변경 저장\n",
    "\n",
    "rList = sorted(rList, key=lambda student: student[1])\n",
    "    \n",
    "print(rList)\n",
    "\n",
    "for student in rList:\n",
    "    print(student[0], end=' ')"
   ]
  },
  {
   "cell_type": "code",
   "execution_count": 3,
   "metadata": {},
   "outputs": [
    {
     "name": "stdout",
     "output_type": "stream",
     "text": [
      "26\n"
     ]
    }
   ],
   "source": [
    "'''\n",
    "n개의 원소들을 가진 리스트 2개에서\n",
    "원소들을 서로 교체해서 하나의 리스트에 든 것들의\n",
    "합이 가장 큰 경우의 수로 조립되도록 리스트간 \n",
    "스왑을 하는 문제\n",
    "'''\n",
    "\n",
    "n, k = map(int, input().split())\n",
    "\n",
    "a = list(map(int, input().split()))\n",
    "b = list(map(int, input().split()))\n",
    "\n",
    "a.sort() # a는 오름차순 정렬\n",
    "b.sort(reverse=True) # b는 내림차순 정렬\n",
    "\n",
    "for i in range(k):\n",
    "    if a[i] < b[i]:\n",
    "        a[i], b[i] = b[i], a[i]\n",
    "    else:\n",
    "        break\n",
    "\n",
    "print(sum(a))"
   ]
  }
 ],
 "metadata": {
  "kernelspec": {
   "display_name": "Python 3",
   "language": "python",
   "name": "python3"
  },
  "language_info": {
   "codemirror_mode": {
    "name": "ipython",
    "version": 3
   },
   "file_extension": ".py",
   "mimetype": "text/x-python",
   "name": "python",
   "nbconvert_exporter": "python",
   "pygments_lexer": "ipython3",
   "version": "3.8.0"
  },
  "orig_nbformat": 4
 },
 "nbformat": 4,
 "nbformat_minor": 2
}
