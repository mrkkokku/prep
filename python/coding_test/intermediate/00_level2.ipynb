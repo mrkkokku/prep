{
 "cells": [
  {
   "cell_type": "code",
   "execution_count": null,
   "metadata": {},
   "outputs": [],
   "source": [
    "'''\n",
    "Leo는 카펫을 사러 갔다가 아래 그림과 같이 중앙에는 노란색으로 칠해져 있고 테두리 1줄은 갈색으로 칠해져 있는 격자 모양 카펫을 봤습니다.\n",
    "\n",
    "Leo는 집으로 돌아와서 아까 본 카펫의 노란색과 갈색으로 색칠된 격자의 개수는 기억했지만, 전체 카펫의 크기는 기억하지 못했습니다.\n",
    "\n",
    "Leo가 본 카펫에서 갈색 격자의 수 brown, 노란색 격자의 수 yellow가 매개변수로 주어질 때 카펫의 가로, 세로 크기를 순서대로 배열에 담아 return 하도록 solution 함수를 작성해주세요.\n",
    "\n",
    "제한사항\n",
    "갈색 격자의 수 brown은 8 이상 5,000 이하인 자연수입니다.\n",
    "노란색 격자의 수 yellow는 1 이상 2,000,000 이하인 자연수입니다.\n",
    "카펫의 가로 길이는 세로 길이와 같거나, 세로 길이보다 깁니다.\n",
    "\n",
    "입출력 예\n",
    "brown\tyellow\treturn\n",
    "10\t2\t[4, 3]\n",
    "8\t1\t[3, 3]\n",
    "24\t24\t[8, 6]\n",
    "'''\n",
    "\n",
    "# 수학적 원리가 있는 것으로 생각되며, 코드구현적으론 어려운게 아닐 것으로 봄\n"
   ]
  },
  {
   "cell_type": "code",
<<<<<<< HEAD
   "execution_count": 5,
=======
   "execution_count": 3,
>>>>>>> 7c82ac0bb879b6126b15c506a60de70d58a251a0
   "metadata": {},
   "outputs": [
    {
     "name": "stdout",
     "output_type": "stream",
     "text": [
<<<<<<< HEAD
      "2\n"
=======
      "[1, 1, 1, 1, 1, -1, -1, -1, -1, -1]\n"
>>>>>>> 7c82ac0bb879b6126b15c506a60de70d58a251a0
     ]
    }
   ],
   "source": [
    "'''\n",
    "n개의 음이 아닌 정수들이 있습니다. 이 정수들을 순서를 바꾸지 않고 적절히 더하거나 빼서 타겟 넘버를 만들려고 합니다. 예를 들어 [1, 1, 1, 1, 1]로 숫자 3을 만들려면 다음 다섯 방법을 쓸 수 있습니다.\n",
    "\n",
    "-1+1+1+1+1 = 3\n",
    "+1-1+1+1+1 = 3\n",
    "+1+1-1+1+1 = 3\n",
    "+1+1+1-1+1 = 3\n",
    "+1+1+1+1-1 = 3\n",
    "사용할 수 있는 숫자가 담긴 배열 numbers, 타겟 넘버 target이 매개변수로 주어질 때 숫자를 적절히 더하고 빼서 타겟 넘버를 만드는 방법의 수를 return 하도록 solution 함수를 작성해주세요.\n",
    "\n",
    "제한사항\n",
    "주어지는 숫자의 개수는 2개 이상 20개 이하입니다.\n",
    "각 숫자는 1 이상 50 이하인 자연수입니다.\n",
    "타겟 넘버는 1 이상 1000 이하인 자연수입니다.\n",
    "입출력 예\n",
    "numbers\ttarget\treturn\n",
    "[1, 1, 1, 1, 1]\t3\t5\n",
    "[4, 1, 2, 1]\t4\t2\n",
    "입출력 예 설명\n",
    "입출력 예 #1\n",
    "\n",
    "문제 예시와 같습니다.\n",
    "\n",
    "입출력 예 #2\n",
    "\n",
    "+4+1-2+1 = 4\n",
    "+4-1+2-1 = 4\n",
    "총 2가지 방법이 있으므로, 2를 return 합니다.\n",
<<<<<<< HEAD
    "''' \n",
    "\n",
    "# 이거 실제론 DFS 관련 문제인 것으로 보임\n",
    "\n",
    "num = [4, 1, 2, 1]\n",
    "target = 4\n",
    "\n",
    "# [4, -1, -2, -1]\n",
    "# [-4, 1, 2, 1]\n",
    "# --> 위 두가지의 경우만 가능이며 2가 나와야 함\n",
    "\n",
    "\n",
    "def solution(numbers, target):\n",
    "    result = [0]\n",
    "    cnt = 0\n",
    "\n",
    "    for num in numbers:\n",
    "        temp = []\n",
    "\n",
    "        for r in result:\n",
    "            temp.append(num + r)\n",
    "            temp.append(num - r)\n",
    "        \n",
    "        result = temp\n",
    "    \n",
    "    for r in result:\n",
    "        if r == target:\n",
    "           cnt += 1\n",
    "\n",
    "    return cnt \n",
    "\n",
    "print(solution(num, 4))"
=======
    "'''\n",
    "\n",
    "input = [1, 1, 1, 1, 1]\n",
    "target = 3\n",
    "# 모든 경우의 수를 가진 양음수 전환 리스트를 만들어서 다 곱해서 다더해야하나..?\n",
    "# -> 아니다, 다 양수로 들어오니까 다 음수인 리스트를 만든 뒤에\n",
    "# 전체값을 가진 리스트를 만든 후 target을 만들어내는지 전체 체크 하는 방식으로 해보자\n",
    "\n",
    "input_m = []\n",
    "for i in input:\n",
    "    input_m.append(i*(-1))\n",
    "\n",
    "temp = input + input_m\n",
    "\n",
    "\n"
>>>>>>> 7c82ac0bb879b6126b15c506a60de70d58a251a0
   ]
  },
  {
   "cell_type": "code",
   "execution_count": 1,
   "metadata": {},
   "outputs": [],
   "source": [
    "'''\n",
    "0 또는 양의 정수가 주어졌을 때, 정수를 이어 붙여 만들 수 있는 가장 큰 수를 알아내 주세요.\n",
    "\n",
    "예를 들어, 주어진 정수가 [6, 10, 2]라면 [6102, 6210, 1062, 1026, 2610, 2106]를 만들 수 있고, 이중 가장 큰 수는 6210입니다.\n",
    "\n",
    "0 또는 양의 정수가 담긴 배열 numbers가 매개변수로 주어질 때, 순서를 재배치하여 만들 수 있는 가장 큰 수를 문자열로 바꾸어 return 하도록 solution 함수를 작성해주세요.\n",
    "\n",
    "제한 사항\n",
    "numbers의 길이는 1 이상 100,000 이하입니다.\n",
    "numbers의 원소는 0 이상 1,000 이하입니다.\n",
    "정답이 너무 클 수 있으니 문자열로 바꾸어 return 합니다.\n",
    "입출력 예\n",
    "numbers\treturn\n",
    "[6, 10, 2]\t\"6210\"\n",
    "[3, 30, 34, 5, 9]\t\"9534330\"\n",
    "'''\n",
    "\n",
    "numbers = [3, 30, 34, 5, 9]\n",
    "\n"
   ]
  }
 ],
 "metadata": {
  "kernelspec": {
   "display_name": "Python 3",
   "language": "python",
   "name": "python3"
  },
  "language_info": {
   "codemirror_mode": {
    "name": "ipython",
    "version": 3
   },
   "file_extension": ".py",
   "mimetype": "text/x-python",
   "name": "python",
   "nbconvert_exporter": "python",
   "pygments_lexer": "ipython3",
   "version": "3.8.5"
  },
  "orig_nbformat": 4
 },
 "nbformat": 4,
 "nbformat_minor": 2
}
