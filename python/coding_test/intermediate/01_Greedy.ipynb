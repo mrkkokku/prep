{
 "cells": [
  {
   "cell_type": "code",
   "execution_count": 1,
   "metadata": {},
   "outputs": [
    {
     "name": "stdout",
     "output_type": "stream",
     "text": [
      "6\n"
     ]
    }
   ],
   "source": [
    "'''\n",
    "당신은 음식점의 계산을 도와주는 점원이다. 카운터에는 거스름돈으로 사용할 500원, 100원, 50\n",
    "원, 10원짜리 동전이 무한히 존재한다고 가정한다. 손님에게 거슬러 줘야 할 돈이 N원일 때 거슬러\n",
    "줘야 할 동전의 최소 개수를 구하라. 단, 거슬러 줘야 할 돈 N은 항상 10의 배수이다.\n",
    "'''\n",
    "\n",
    "n = 1260\n",
    "cnt = 0\n",
    "\n",
    "coin_types = [500, 100, 50, 10]\n",
    "\n",
    "for coin in coin_types:\n",
    "    cnt += n // coin\n",
    "    n %= coin\n",
    "\n",
    "print(cnt)"
   ]
  },
  {
   "cell_type": "code",
   "execution_count": 2,
   "metadata": {},
   "outputs": [
    {
     "ename": "ValueError",
     "evalue": "not enough values to unpack (expected 3, got 0)",
     "output_type": "error",
     "traceback": [
      "\u001b[1;31m---------------------------------------------------------------------------\u001b[0m",
      "\u001b[1;31mValueError\u001b[0m                                Traceback (most recent call last)",
      "\u001b[1;32mc:\\git\\prep\\python\\coding_test\\01_greedy.ipynb 셀 2\u001b[0m in \u001b[0;36m<cell line: 17>\u001b[1;34m()\u001b[0m\n\u001b[0;32m      <a href='vscode-notebook-cell:/c%3A/git/prep/python/coding_test/01_greedy.ipynb#W1sZmlsZQ%3D%3D?line=0'>1</a>\u001b[0m \u001b[39m'''\u001b[39;00m\n\u001b[0;32m      <a href='vscode-notebook-cell:/c%3A/git/prep/python/coding_test/01_greedy.ipynb#W1sZmlsZQ%3D%3D?line=1'>2</a>\u001b[0m \u001b[39m'큰 수의 법칙은 일반적으로 통계 분야에서 다루어지는 내용이지만 동빈이는 본인만의 방식으로 다 \u001b[39;00m\n\u001b[0;32m      <a href='vscode-notebook-cell:/c%3A/git/prep/python/coding_test/01_greedy.ipynb#W1sZmlsZQ%3D%3D?line=2'>3</a>\u001b[0m \u001b[39m르게 시용하고 있다 동빈이의 큰 수의 법칙은 다%냐} 수로 이루어진 배열이 있을 때 주어진 수들을 \u001b[39;00m\n\u001b[1;32m   (...)\u001b[0m\n\u001b[0;32m     <a href='vscode-notebook-cell:/c%3A/git/prep/python/coding_test/01_greedy.ipynb#W1sZmlsZQ%3D%3D?line=13'>14</a>\u001b[0m \u001b[39m괴를 출력 하시오. \u001b[39;00m\n\u001b[0;32m     <a href='vscode-notebook-cell:/c%3A/git/prep/python/coding_test/01_greedy.ipynb#W1sZmlsZQ%3D%3D?line=14'>15</a>\u001b[0m \u001b[39m'''\u001b[39;00m\n\u001b[1;32m---> <a href='vscode-notebook-cell:/c%3A/git/prep/python/coding_test/01_greedy.ipynb#W1sZmlsZQ%3D%3D?line=16'>17</a>\u001b[0m n, m, k \u001b[39m=\u001b[39m \u001b[39mmap\u001b[39m(\u001b[39mint\u001b[39m, \u001b[39minput\u001b[39m()\u001b[39m.\u001b[39msplit())\n\u001b[0;32m     <a href='vscode-notebook-cell:/c%3A/git/prep/python/coding_test/01_greedy.ipynb#W1sZmlsZQ%3D%3D?line=18'>19</a>\u001b[0m listA \u001b[39m=\u001b[39m \u001b[39mlist\u001b[39m(\u001b[39mmap\u001b[39m(\u001b[39mint\u001b[39m, \u001b[39minput\u001b[39m()\u001b[39m.\u001b[39msplit()))\n\u001b[0;32m     <a href='vscode-notebook-cell:/c%3A/git/prep/python/coding_test/01_greedy.ipynb#W1sZmlsZQ%3D%3D?line=20'>21</a>\u001b[0m listA\u001b[39m.\u001b[39msort()\n",
      "\u001b[1;31mValueError\u001b[0m: not enough values to unpack (expected 3, got 0)"
     ]
    }
   ],
   "source": [
    "'''\n",
    "'큰 수의 법칙은 일반적으로 통계 분야에서 다루어지는 내용이지만 동빈이는 본인만의 방식으로 다 \n",
    "르게 시용하고 있다 동빈이의 큰 수의 법칙은 다%냐} 수로 이루어진 배열이 있을 때 주어진 수들을 \n",
    "M번 더하여 가장 큰 수를 만드는 법칙이다. 단, 배열의 특정한 인덱스(번호)에 해당하는 수가 연속 \n",
    "해서 K번을 초과하여 더하질 수 없는 것이 이 법칙의 특징이다. \n",
    "예를 들어 순서대로 2, 4, 5, 4, 6으로 이루어진 배열이 있을 때 M이 8이고, K가 3이라고 가정하자. \n",
    "이 경우 특정한 인덱스의 수가 연속해서 세 번까지만 더해질 수 있으므로 큰 수의 법칙에 따른 결과 \n",
    "는 6+6+6+5 +6+6+6+5인46이된다. \n",
    "단, 서로 다른 인덱스에 해당하는 수가 같은 경우에도 서로 다른 것으로 간주한다 예를 들어 순서 \n",
    "대로 3, 4, 3.4. 3으로 이루어진 배열이 있을 때 M이 7이고, K가2라고 가정하자. 이 경우 두 번째 \n",
    "원소에 해당하는 4와 네 번째 원소에 해당하는 4를 번갈아 두 번씩 더하는 것이 기능하다. 결과적으 \n",
    "로 4十4十4十4 十4十4十 4인 28이 도출된다. \n",
    "배열의 크기 N, 숫자가 더해지는 횟수 M. 그리고 K가 주어질 때 동빈이의 큰 수의 법칙에 따른 결 \n",
    "괴를 출력 하시오. \n",
    "'''\n",
    "\n",
    "n, m, k = map(int, input().split())\n",
    "\n",
    "listA = list(map(int, input().split()))\n",
    "\n",
    "listA.sort()\n",
    "first = listA[n-1]\n",
    "second = listA[n-2]\n",
    "print(first, second)\n",
    "\n",
    "'''\n",
    "# first가 더해지는 횟수 계산\n",
    "cnt = int(m / (k + 1)) * k\n",
    "cnt += m % (k + 1)\n",
    "\n",
    "result = 0\n",
    "result += (cnt) * first # first 더하기\n",
    "result += (m - cnt) * second # second 더하기\n",
    "'''\n",
    "\n",
    "result = 0\n",
    "\n",
    "while(True):\n",
    "    if(m == 0):\n",
    "        break\n",
    "    for i in range(k):\n",
    "        result += first\n",
    "        m -= 1\n",
    "    if(m == 0):\n",
    "        break\n",
    "    result += second\n",
    "    m -= 1\n",
    "\n",
    "print(result)"
   ]
  },
  {
   "cell_type": "code",
   "execution_count": null,
   "metadata": {},
   "outputs": [],
   "source": [
    "'''\n",
    "숫자 카드 게임1은 여러 개의 숫자 카드 중에서 가장 높은 숫자가 쓰인 카드 한 장을 뽑는 게임이다. \n",
    "단, 게임의 룰을 지기며 가드를 뽑아야 하고 룰은 다음과 같다 \n",
    "1. 숫자가 쓰인 가드들이 N x M 형태로 놓여 있다. 이때 N은 행의 개수를 의미하며, M은 열 \n",
    "의 개수를 의미한다. \n",
    "2. 먼저 뽑고자 하는 카드가 포함되어 있는 행을 선택한다. \n",
    "3. 그다음 선택된 행에 포함된 카드들 중 가장 숫자가 낮은 카드를 뽑아야 한다. \n",
    "4. 띠라서 처음에 가드를골라낼 행을 선택할때, 이후에 해당 행에서 가장 숫자가 낮은가드를뿌을 \n",
    "것을 고려하여 최종적 0 로 가상 높은 숫자의 카드를 뽑을 수 있도록 전략을 세워야 한다. \n",
    "예를 들어 3 x 3 형태로 카드들이 다음과 같이 놓여 있다고 가정하자. \n",
    "\n",
    "여기서 카드를 골라낼 행을 고를 때 첫번째 혹은 두 번째 행을 선택하는 경우, 최종적으로 뽑는 카 \n",
    "드는 1 이다. 하지만 세 번째 행을 선택하는 경우 최종적으로 뽑는 카드는 2이다. 따라서 이 예제에 \n",
    "서는 세 번째 행을 선택하여 숫자 2가 쓰여진 카드를 뽑는 것이 정답이다. \n",
    "카드들이 N x M 형태로 놓여 있을 때, 게임의 물에 맞게 카드를 뽑는 프로그램을 만드시오. \n",
    "'''\n",
    "\n",
    "n, m = map(int, input().split())\n",
    "listR = []\n",
    "\n",
    "listA = []\n",
    "for _ in range(n):\n",
    "    listA = list(map(int, input().split()))\n",
    "    listR.append(min(listA))\n",
    "    \n",
    "print(max(listR))"
   ]
  },
  {
   "cell_type": "code",
   "execution_count": 3,
   "metadata": {},
   "outputs": [
    {
     "name": "stdout",
     "output_type": "stream",
     "text": [
      "2\n"
     ]
    }
   ],
   "source": [
    "'''\n",
    "숫자 2개를 입력 받고, 아래의 두가지 행위만 할 수 있는데\n",
    "1: n을 k로 나누거나\n",
    "2: n에서 1을 빼거나 \n",
    "이 작업을 통해 가장 빨리 1을 만드는 연산횟수를 출력하는 문제\n",
    "'''\n",
    "\n",
    "n, k = map(int, input().split())\n",
    "cnt = 0\n",
    "\n",
    "while(True):\n",
    "    if((n // k) > 0):\n",
    "        n //= k\n",
    "        cnt += 1\n",
    "    else:\n",
    "        n -= 1\n",
    "        cnt += 1\n",
    "    if(n == 1):\n",
    "        break\n",
    "\n",
    "print(cnt)\n"
   ]
  }
 ],
 "metadata": {
  "kernelspec": {
   "display_name": "Python 3.8.5 64-bit",
   "language": "python",
   "name": "python3"
  },
  "language_info": {
   "codemirror_mode": {
    "name": "ipython",
    "version": 3
   },
   "file_extension": ".py",
   "mimetype": "text/x-python",
   "name": "python",
   "nbconvert_exporter": "python",
   "pygments_lexer": "ipython3",
   "version": "3.8.5"
  },
  "orig_nbformat": 4,
  "vscode": {
   "interpreter": {
    "hash": "5f625378c10bd958049b952b3c2553ca13e790d061932832b9cac71667f79963"
   }
  }
 },
 "nbformat": 4,
 "nbformat_minor": 2
}
