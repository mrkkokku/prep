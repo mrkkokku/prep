{
 "cells": [
  {
   "cell_type": "code",
   "execution_count": 5,
   "metadata": {},
   "outputs": [
    {
     "name": "stdout",
     "output_type": "stream",
     "text": [
      "['R', 'R', 'R', 'U', 'D', 'D']\n",
      "3 4\n"
     ]
    }
   ],
   "source": [
    "'''\n",
    "O(n)\n",
    "맵 전체 크기를 n으로 받고,\n",
    "이동 명령어를 문자로 입력 받은 뒤에\n",
    "이동을 해서 최종 위치를 찍는 문제\n",
    "\n",
    "첫시작은 1,1에서 시작하고\n",
    "position을 매핑하는 문제인데,\n",
    "좌표계로 생각하며 문제를 풀었음\n",
    "\n",
    "문제 자체가 흔히 아는 x,y축이아니어서\n",
    "좀 헷갈린 부분이 있지만 구현하면서 \n",
    "수정하는 방식으로 해결\n",
    "'''\n",
    "\n",
    "n = int(input())\n",
    "m_list = list(map(str, input().split()))\n",
    "\n",
    "dx = 1\n",
    "dy = 1\n",
    "\n",
    "print(m_list)\n",
    "\n",
    "for i in m_list:\n",
    "    if(i == 'L' and dy != 1):\n",
    "        dy -= 1\n",
    "    elif(i == 'R' and dy != n):\n",
    "        dy += 1\n",
    "    elif(i == 'U' and dx != 1):\n",
    "        dx -= 1\n",
    "    elif(i == 'D' and dx != n):\n",
    "        dx += 1\n",
    "\n",
    "print(dx, dy)\n"
   ]
  },
  {
   "cell_type": "code",
   "execution_count": 3,
   "metadata": {},
   "outputs": [
    {
     "name": "stdout",
     "output_type": "stream",
     "text": [
      "11475\n"
     ]
    }
   ],
   "source": [
    "'''\n",
    "정수 하나 입력받아서\n",
    "00시부터 N시 59분 59초까지의 모든 시각 중에\n",
    "하나라도 3이 들어가는 모든 경우의 수를 구하는 프로그램\n",
    "'''\n",
    "\n",
    "h = int(input())\n",
    "\n",
    "cnt = 0\n",
    "\n",
    "for i in range(h + 1):\n",
    "    for m in range(60): # m,s가 초기화 또는 재설정 없이 모두 잘 반복된 점\n",
    "        for s in range(60):\n",
    "            if '3' in str(i) + str(m) + str(s):\n",
    "                cnt += 1\n",
    "\n",
    "print(cnt)"
   ]
  },
  {
   "cell_type": "code",
   "execution_count": 32,
   "metadata": {},
   "outputs": [
    {
     "name": "stdout",
     "output_type": "stream",
     "text": [
      "2\n"
     ]
    }
   ],
   "source": [
    "'''\n",
    "8x8 체스판에서 a1 자리에서 시작해서\n",
    "knight가 움직일 수 있는 경우의 수를 체크하는 문제인데\n",
    "\n",
    "우선 입력에서 ord()를 이용해 문자를 유니코드로 변환하는 작업을 함\n",
    "chr()은 이것의 반대작업\n",
    "* ord() <-> chr()\n",
    "\n",
    "어쨋든 이렇게 해서\n",
    "입력값을 2개로 나누어 x,y축으로 생각했고\n",
    "모든 경우의 수를 체크하며\n",
    "이동범위 제한걸리지 않으면 cnt++ 하는 식으로 처리 함\n",
    "\n",
    "최선의 방법은 아닐 것이란 생각은 했는데, 글쎄.\n",
    "\n",
    "이런 좌표문제 또는 position문제의 경우\n",
    "내가 자연스레 떠올리는 방식으로 다 편히 해결가능할지\n",
    "추후에도 계속 생각해보자\n",
    "'''\n",
    "pos = input()\n",
    "\n",
    "x = ord(str(pos)[0])-96\n",
    "y = int(str(pos)[1])\n",
    "cnt = 0\n",
    "\n",
    "if(x+2 <= 8):\n",
    "    if(y+1 <= 8):\n",
    "        cnt += 1\n",
    "    if(y-1 >= 1):\n",
    "        cnt += 1\n",
    "if(x-2 >= 1):\n",
    "    if(y+1 <= 8):\n",
    "        cnt += 1\n",
    "    if(y-1 >= 1):\n",
    "        cnt += 1\n",
    "if(y+2 <= 8):\n",
    "    if(x+1 <= 8):\n",
    "        cnt += 1\n",
    "    if(x-1 >= 1):\n",
    "        cnt += 1\n",
    "if(y-2 >= 1):\n",
    "    if(x+1 <= 8):\n",
    "        cnt += 1\n",
    "    if(x-1 >= 1):\n",
    "        cnt += 1\n",
    "\n",
    "print(cnt)"
   ]
  },
  {
   "cell_type": "code",
   "execution_count": 3,
   "metadata": {},
   "outputs": [
    {
     "name": "stdout",
     "output_type": "stream",
     "text": [
      "2\n"
     ]
    }
   ],
   "source": [
    "'''\n",
    "위 문제에 대한 책에서 작성한 코드\n",
    "'''\n",
    "input_data = input()\n",
    "\n",
    "row = int(input_data[1])\n",
    "column = int(ord(input_data[0])) - int(ord('a')) + 1\n",
    "\n",
    "steps = [(-2, -1), (-1, -2,), (1, -2), (2, -1), (2, 1), (1, 2), (-1, 2), (-2, 1)]\n",
    "\n",
    "result = 0\n",
    "\n",
    "for step in steps:\n",
    "    next_row = row + step[0]\n",
    "    next_column = column + step[1]\n",
    "\n",
    "    if next_row >= 1 and next_row <= 8 and next_column >= 1 and next_column <= 8:\n",
    "        result += 1\n",
    "\n",
    "print(result)"
   ]
  },
  {
   "cell_type": "code",
   "execution_count": 6,
   "metadata": {},
   "outputs": [
    {
     "name": "stdout",
     "output_type": "stream",
     "text": [
      "3\n"
     ]
    }
   ],
   "source": [
    "'''\n",
    "(1, 1)에서 움직임을 시작하는 캐릭터, 동서남북 중 한 곳을 바라봄\n",
    "세로, 가로 = n, m을 입력받아 맵의 사이즈를 구성하고\n",
    "(0, 북쪽),(1, 동쪽),(2, 남쪽),(3, 서쪽)\n",
    "육지와 바다로 나뉘고 바다는 갈 수 없음\n",
    "pos = (a,b)로 나타내고\n",
    "a는 북쪽으로부터 떨어진 수\n",
    "b는 서쪽으로부터 떨어진 수\n",
    "'''\n",
    "# 아래는 답안 예시\n",
    "# N, M을 공백을 기준으로 구분하여 입력받기\n",
    "n, m = map(int, input().split())\n",
    "\n",
    "# 방문한 위치를 저장하기 위한 맵을 생성하여 0으로 초기화\n",
    "d = [[0] * m for _ in range(n)]\n",
    "# 현재 캐릭터의 X 좌표, Y 좌표, 방향을 입력받기\n",
    "x, y, direction = map(int, input().split())\n",
    "d[x][y] = 1 # 현재 좌표 방문 처리\n",
    "\n",
    "# 전체 맵 정보를 입력받기\n",
    "array = []\n",
    "for i in range(n):\n",
    "    array.append(list(map(int, input().split())))\n",
    "\n",
    "# 북, 동, 남, 서 방향 정의\n",
    "dx = [-1, 0, 1, 0]\n",
    "dy = [0, 1, 0, -1]\n",
    "\n",
    "# 왼쪽으로 회전\n",
    "def turn_left():\n",
    "    global direction\n",
    "    direction -= 1\n",
    "    if direction == -1:\n",
    "        direction = 3\n",
    "\n",
    "# 시뮬레이션 시작\n",
    "count = 1\n",
    "turn_time = 0\n",
    "while True:\n",
    "    # 왼쪽으로 회전\n",
    "    turn_left()\n",
    "    nx = x + dx[direction]\n",
    "    ny = y + dy[direction]\n",
    "    # 회전한 이후 정면에 가보지 않은 칸이 존재하는 경우 이동\n",
    "    if d[nx][ny] == 0 and array[nx][ny] == 0:\n",
    "        d[nx][ny] = 1\n",
    "        x = nx\n",
    "        y = ny\n",
    "        count += 1\n",
    "        turn_time = 0\n",
    "        continue\n",
    "    # 회전한 이후 정면에 가보지 않은 칸이 없거나 바다인 경우\n",
    "    else:\n",
    "        turn_time += 1\n",
    "    # 네 방향 모두 갈 수 없는 경우\n",
    "    if turn_time == 4:\n",
    "        nx = x - dx[direction]\n",
    "        ny = y - dy[direction]\n",
    "        # 뒤로 갈 수 있다면 이동하기\n",
    "        if array[nx][ny] == 0:\n",
    "            x = nx\n",
    "            y = ny\n",
    "        # 뒤가 바다로 막혀있는 경우\n",
    "        else:\n",
    "            break\n",
    "        turn_time = 0\n",
    "\n",
    "# 정답 출력\n",
    "print(count)"
   ]
  }
 ],
 "metadata": {
  "kernelspec": {
   "display_name": "Python 3.8.5 64-bit",
   "language": "python",
   "name": "python3"
  },
  "language_info": {
   "codemirror_mode": {
    "name": "ipython",
    "version": 3
   },
   "file_extension": ".py",
   "mimetype": "text/x-python",
   "name": "python",
   "nbconvert_exporter": "python",
   "pygments_lexer": "ipython3",
   "version": "3.8.0"
  },
  "orig_nbformat": 4,
  "vscode": {
   "interpreter": {
    "hash": "5f625378c10bd958049b952b3c2553ca13e790d061932832b9cac71667f79963"
   }
  }
 },
 "nbformat": 4,
 "nbformat_minor": 2
}
