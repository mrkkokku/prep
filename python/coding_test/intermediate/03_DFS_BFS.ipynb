{
 "cells": [
  {
   "cell_type": "code",
   "execution_count": 2,
   "metadata": {},
   "outputs": [
    {
     "name": "stdout",
     "output_type": "stream",
     "text": [
      "1 2 7 6 8 3 4 5 "
     ]
    }
   ],
   "source": [
    "'''\n",
    "DFS 예제.\n",
    "DFS는 스택을 활용하며, 스택은 재귀함수와 잘 어울림\n",
    "'''\n",
    "\n",
    "def dfs(graph, v, visited):\n",
    "    # 현재 노드를 방문처리\n",
    "    visited[v] = True\n",
    "    print(v, end=' ')\n",
    "\n",
    "    # 현재 노드와 연결된 다른 노드를 재귀적으로 방문\n",
    "    for i in graph[v]:\n",
    "        if not visited[i]:\n",
    "            dfs(graph, i, visited)\n",
    "\n",
    "\n",
    "# 각 노드가 연결된 정보를 시트르 자료형으로 표현 (2차원 리스트)\n",
    "graph = [\n",
    "    [],         # 0번 노드\n",
    "    [2, 3, 8],  # 1번 노드\n",
    "    [1, 7],     # 2번 노드\n",
    "    [1, 4, 5],  # 3번 노드\n",
    "    [3, 5],     # 4번 노드\n",
    "    [3, 4],     # 5번 노드\n",
    "    [7],        # 6번 노드\n",
    "    [2, 6, 8],  # 7번 노드\n",
    "    [1, 7]      # 8번 노드\n",
    "]\n",
    "\n",
    "# 각 노드가 방문된 정로를 리스트 자료형으로 표현 (1차원 리스트)\n",
    "visited = [False] * 9\n",
    "\n",
    "# DFS 호출\n",
    "dfs(graph, 1, visited)"
   ]
  },
  {
   "cell_type": "code",
   "execution_count": 3,
   "metadata": {},
   "outputs": [
    {
     "name": "stdout",
     "output_type": "stream",
     "text": [
      "1\n",
      "2\n",
      "7\n",
      "6\n",
      "8\n",
      "3\n",
      "4\n",
      "5\n"
     ]
    }
   ],
   "source": [
    "# DFS 만들기 실습\n",
    "\n",
    "def DFS(graph, v, visited):\n",
    "    visited[v] = True  # Stack에 들어가는 순간 방문처리 함\n",
    "    print(v)\n",
    "\n",
    "    for i in graph[v]:\n",
    "        if not visited[i]:\n",
    "            DFS(graph, i, visited)\n",
    "\n",
    "graph = [\n",
    "    [],         # 0번 노드\n",
    "    [2, 3, 8],  # 1번 노드\n",
    "    [1, 7],     # 2번 노드\n",
    "    [1, 4, 5],  # 3번 노드\n",
    "    [3, 5],     # 4번 노드\n",
    "    [3, 4],     # 5번 노드\n",
    "    [7],        # 6번 노드\n",
    "    [2, 6, 8],  # 7번 노드\n",
    "    [1, 7]      # 8번 노드\n",
    "]\n",
    "\n",
    "visited = [False] * 9\n",
    "\n",
    "DFS(graph, 1, visited)"
   ]
  },
  {
   "cell_type": "code",
   "execution_count": 9,
   "metadata": {},
   "outputs": [
    {
     "name": "stdout",
     "output_type": "stream",
     "text": [
      "1 2 3 8 7 4 5 6 "
     ]
    }
   ],
   "source": [
    "'''\n",
    "BFS 예제\n",
    "BFS는 우선순위 큐와 궁합이 잘 맞으며,\n",
    "파이썬에선 collections패키지의 deque함수를 이용한다\n",
    "(이게 속도가 빠름)\n",
    "'''\n",
    "\n",
    "from collections import deque\n",
    "\n",
    "# BFS 정의\n",
    "def bfs(graph, start, visited):\n",
    "    # Queue 구현을 위해 deque 라이브러리 사용\n",
    "    queue = deque([start])\n",
    "\n",
    "    # 현재 노드를 방문 처리\n",
    "    visited[start] = True\n",
    "\n",
    "    # 큐가 빌 때 까지 반복\n",
    "    while queue:\n",
    "        v = queue.popleft()\n",
    "        print(v, end=' ')\n",
    "\n",
    "        # 해당 원소와 연결된, 아직 방문하지 않은 원소들을 큐에 삽입\n",
    "        for i in graph[v]:\n",
    "            if not visited[i]:\n",
    "                queue.append(i)\n",
    "                visited[i] = True\n",
    "\n",
    "# 각 노드가 연결된 정보를 리스트 자료형으로 표현 (2차원 리스트)\n",
    "graph = [\n",
    "    [],         # 0번 노드\n",
    "    [2, 3, 8],  # 1번 노드\n",
    "    [1, 7],     # 2번 노드\n",
    "    [1, 4, 5],  # 3번 노드\n",
    "    [3, 5],     # 4번 노드\n",
    "    [3, 4],     # 5번 노드\n",
    "    [7],        # 6번 노드\n",
    "    [2, 6, 8],  # 7번 노드\n",
    "    [1, 7]      # 8번 노드\n",
    "]\n",
    "\n",
    "# 각 노드가 방문된 정보를 리스트 자료형으로 표현 (1차원 리스트)\n",
    "visited = [False] * 9\n",
    "\n",
    "# 정의된 BFS 함수 호출\n",
    "bfs(graph, 1, visited)"
   ]
  },
  {
   "cell_type": "code",
   "execution_count": 16,
   "metadata": {},
   "outputs": [
    {
     "name": "stdout",
     "output_type": "stream",
     "text": [
      "1\n",
      "2\n",
      "3\n",
      "8\n",
      "7\n",
      "4\n",
      "5\n",
      "6\n"
     ]
    }
   ],
   "source": [
    "# BFS 실습\n",
    "\n",
    "from collections import deque\n",
    "\n",
    "def BFS(graph, v, visited):\n",
    "    queue = deque([v])\n",
    "\n",
    "    visited[v] = True # 빠져나간 노드를 방문처리\n",
    "\n",
    "    while queue:\n",
    "        v = queue.popleft()\n",
    "        print(v)\n",
    "\n",
    "        for i in graph[v]:\n",
    "            if not visited[i]:\n",
    "                queue.append(i)\n",
    "                visited[i] = True\n",
    "\n",
    "\n",
    "graph = [\n",
    "    [],         # 0번 노드\n",
    "    [2, 3, 8],  # 1번 노드\n",
    "    [1, 7],     # 2번 노드\n",
    "    [1, 4, 5],  # 3번 노드\n",
    "    [3, 5],     # 4번 노드\n",
    "    [3, 4],     # 5번 노드\n",
    "    [7],        # 6번 노드\n",
    "    [2, 6, 8],  # 7번 노드\n",
    "    [1, 7]      # 8번 노드\n",
    "]\n",
    "\n",
    "visited = [False] * 9\n",
    "\n",
    "BFS(graph, 1, visited)"
   ]
  }
 ],
 "metadata": {
  "kernelspec": {
   "display_name": "Python 3",
   "language": "python",
   "name": "python3"
  },
  "language_info": {
   "codemirror_mode": {
    "name": "ipython",
    "version": 3
   },
   "file_extension": ".py",
   "mimetype": "text/x-python",
   "name": "python",
   "nbconvert_exporter": "python",
   "pygments_lexer": "ipython3",
   "version": "3.8.0"
  },
  "orig_nbformat": 4
 },
 "nbformat": 4,
 "nbformat_minor": 2
}
