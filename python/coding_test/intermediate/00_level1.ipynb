{
 "cells": [
  {
   "cell_type": "code",
   "execution_count": 91,
   "metadata": {},
   "outputs": [
    {
     "name": "stdout",
     "output_type": "stream",
     "text": [
      "HeLlO HeLl\n"
     ]
    }
   ],
   "source": [
    "'''\n",
    "문제 설명\n",
    "문자열 s는 한 개 이상의 단어로 구성되어 있습니다. 각 단어는 하나 이상의 공백문자로 구분되어 있습니다. 각 단어의 짝수번째 알파벳은 대문자로, 홀수번째 알파벳은 소문자로 바꾼 문자열을 리턴하는 함수, solution을 완성하세요.\n",
    "\n",
    "제한 사항\n",
    "문자열 전체의 짝/홀수 인덱스가 아니라, 단어(공백을 기준)별로 짝/홀수 인덱스를 판단해야합니다.\n",
    "첫 번째 글자는 0번째 인덱스로 보아 짝수번째 알파벳으로 처리해야 합니다.\n",
    "입출력 예\n",
    "s\treturn\n",
    "\"try hello world\"\t\"TrY HeLlO WoRlD\"\n",
    "입출력 예 설명\n",
    "\"try hello world\"는 세 단어 \"try\", \"hello\", \"world\"로 구성되어 있습니다. 각 단어의 짝수번째 문자를 대문자로, 홀수번째 문자를 소문자로 바꾸면 \"TrY\", \"HeLlO\", \"WoRlD\"입니다. 따라서 \"TrY HeLlO WoRlD\" 를 리턴합니다.\n",
    "'''\n",
    "def solution(s):\n",
    "    answer = []\n",
    "    s = list(s.split())\n",
    "    \n",
    "    for i in range(len(s)):\n",
    "        s_sub = list(s[i])\n",
    "        for j in range(len(s_sub)):\n",
    "            if j % 2 == 0:\n",
    "                s_sub[j] = s_sub[j].upper()\n",
    "            else:\n",
    "                s_sub[j] = s_sub[j].lower()\n",
    "        answer += s_sub\n",
    "        answer += ' '\n",
    "\n",
    "    answer = answer[:len(answer)-1]\n",
    "    answer = ''.join(answer)\n",
    "    return answer\n",
    "\n",
    "print(solution('hello hell'))"
   ]
  },
  {
   "cell_type": "code",
   "execution_count": 127,
   "metadata": {},
   "outputs": [
    {
     "name": "stdout",
     "output_type": "stream",
     "text": [
      "[12, 6, 5, 4, 3]\n",
      "[-1]\n"
     ]
    }
   ],
   "source": [
    "'''\n",
    "문제 설명\n",
    "정수를 저장한 배열, arr 에서 가장 작은 수를 제거한 배열을 리턴하는 함수, solution을 완성해주세요. 단, 리턴하려는 배열이 빈 배열인 경우엔 배열에 -1을 채워 리턴하세요. 예를들어 arr이 [4,3,2,1]인 경우는 [4,3,2]를 리턴 하고, [10]면 [-1]을 리턴 합니다.\n",
    "\n",
    "제한 조건\n",
    "arr은 길이 1 이상인 배열입니다.\n",
    "인덱스 i, j에 대해 i ≠ j이면 arr[i] ≠ arr[j] 입니다.\n",
    "입출력 예\n",
    "arr\treturn\n",
    "[4,3,2,1]\t[4,3,2]\n",
    "[10]\t[-1]\n",
    "'''\n",
    "\n",
    "def solution(arr):\n",
    "    answer = []\n",
    "    \n",
    "    if len(arr) <= 1 or arr is None:\n",
    "        answer = arr\n",
    "        answer = [-1]\n",
    "    else:\n",
    "        answer = arr\n",
    "        answer.sort(reverse=True)\n",
    "        answer.remove(min(answer))\n",
    "    \n",
    "    return answer\n",
    "\n",
    "print(solution([4,12,5,1,3,6]))\n",
    "print(solution([10]))"
   ]
  },
  {
   "cell_type": "code",
   "execution_count": 128,
   "metadata": {},
   "outputs": [],
   "source": [
    "''' PASSED\n",
    "문제 설명\n",
    "행렬의 덧셈은 행과 열의 크기가 같은 두 행렬의 같은 행, 같은 열의 값을 서로 더한 결과가 됩니다. 2개의 행렬 arr1과 arr2를 입력받아, 행렬 덧셈의 결과를 반환하는 함수, solution을 완성해주세요.\n",
    "\n",
    "제한 조건\n",
    "행렬 arr1, arr2의 행과 열의 길이는 500을 넘지 않습니다.\n",
    "입출력 예\n",
    "arr1\tarr2\treturn\n",
    "[[1,2],[2,3]]\t[[3,4],[5,6]]\t[[4,6],[7,9]]\n",
    "[[1],[2]]\t[[3],[4]]\t[[4],[6]]\n",
    "'''\n",
    "\n",
    "def solution(arr1, arr2):\n",
    "    answer = []\n",
    "    \n",
    "    for i in range(len(arr1)):\n",
    "        temp = []\n",
    "        for j in range(len(arr1[i])):\n",
    "            temp.append(int(arr1[i][j]) + int(arr2[i][j]))\n",
    "        answer.append(temp)\n",
    "    return answer"
   ]
  },
  {
   "cell_type": "code",
   "execution_count": 129,
   "metadata": {},
   "outputs": [],
   "source": [
    "''' PASSED\n",
    "문제 설명\n",
    "길이가 같은 두 1차원 정수 배열 a, b가 매개변수로 주어집니다. a와 b의 내적을 return 하도록 solution 함수를 완성해주세요.\n",
    "\n",
    "이때, a와 b의 내적은 a[0]*b[0] + a[1]*b[1] + ... + a[n-1]*b[n-1] 입니다. (n은 a, b의 길이)\n",
    "\n",
    "제한사항\n",
    "a, b의 길이는 1 이상 1,000 이하입니다.\n",
    "a, b의 모든 수는 -1,000 이상 1,000 이하입니다.\n",
    "입출력 예\n",
    "a\tb\tresult\n",
    "[1,2,3,4]\t[-3,-1,0,2]\t3\n",
    "[-1,0,1]\t[1,0,-1]\t-2\n",
    "입출력 예 설명\n",
    "입출력 예 #1\n",
    "\n",
    "a와 b의 내적은 1*(-3) + 2*(-1) + 3*0 + 4*2 = 3 입니다.\n",
    "입출력 예 #2\n",
    "\n",
    "a와 b의 내적은 (-1)*1 + 0*0 + 1*(-1) = -2 입니다.\n",
    "'''\n",
    "\n",
    "def solution(a, b):\n",
    "    answer = 1234567890\n",
    "    c = []\n",
    "    for i in range(len(a)):\n",
    "        c.append(a[i]*b[i])\n",
    "    \n",
    "    answer = sum(c)\n",
    "    \n",
    "    return answer"
   ]
  }
 ],
 "metadata": {
  "kernelspec": {
   "display_name": "Python 3",
   "language": "python",
   "name": "python3"
  },
  "language_info": {
   "codemirror_mode": {
    "name": "ipython",
    "version": 3
   },
   "file_extension": ".py",
   "mimetype": "text/x-python",
   "name": "python",
   "nbconvert_exporter": "python",
   "pygments_lexer": "ipython3",
   "version": "3.8.0"
  },
  "orig_nbformat": 4
 },
 "nbformat": 4,
 "nbformat_minor": 2
}
