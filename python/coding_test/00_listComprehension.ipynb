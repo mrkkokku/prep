{
 "cells": [
  {
   "cell_type": "code",
   "execution_count": 3,
   "metadata": {},
   "outputs": [
    {
     "name": "stdout",
     "output_type": "stream",
     "text": [
      "[1, 2, 3, 4, 5, 6, 7, 8, 9, 10]\n"
     ]
    }
   ],
   "source": [
    "# https://wikidocs.net/22805\n",
    "\n",
    "# 기존에 알던 문법으로 정수 몇개를 리스트로 만드는 방식은 아래와 같음\n",
    "numbers = []\n",
    "for n in range(1, 10+1):\n",
    "    numbers.append(n)\n",
    "\n",
    "print(numbers)"
   ]
  },
  {
   "cell_type": "code",
   "execution_count": 9,
   "metadata": {},
   "outputs": [
    {
     "name": "stdout",
     "output_type": "stream",
     "text": [
      "[0, 1, 2, 3, 4, 5, 6, 7, 8, 9]\n"
     ]
    }
   ],
   "source": [
    "# 위의 코드를 컴프리헨션으로 바꾸면 이렇게 변함\n",
    "rList = [x for x in range(10)]\n",
    "\n",
    "print(rList)"
   ]
  },
  {
   "cell_type": "code",
   "execution_count": 13,
   "metadata": {},
   "outputs": [
    {
     "name": "stdout",
     "output_type": "stream",
     "text": [
      "[2, 4, 6, 8, 10, 12, 14, 16, 18, 20]\n"
     ]
    }
   ],
   "source": [
    "# 응용 예제\n",
    "rList = [2*x for x in range(1, 11)]\n",
    "\n",
    "print(rList)"
   ]
  },
  {
   "cell_type": "code",
   "execution_count": 15,
   "metadata": {},
   "outputs": [
    {
     "name": "stdout",
     "output_type": "stream",
     "text": [
      "[2, 4, 6, 8, 10]\n"
     ]
    }
   ],
   "source": [
    "# 일반적으로 리스트 만들 때, 어떠한 조건을 걸어야한다면 아래와 같음\n",
    "even_numbers = []\n",
    "for n in range(1, 10+1):\n",
    "    if n % 2 == 0:\n",
    "        even_numbers.append(n)\n",
    "\n",
    "print(even_numbers)"
   ]
  },
  {
   "cell_type": "code",
   "execution_count": 17,
   "metadata": {},
   "outputs": [
    {
     "name": "stdout",
     "output_type": "stream",
     "text": [
      "[2, 4, 6, 8, 10]\n"
     ]
    }
   ],
   "source": [
    "# 위의 예제를 리스트 컴프리헨션으로 하면 이렇게 됨\n",
    "\n",
    "# 기본1\n",
    "even_numbers = [x for x in range(1, 10+1) if x % 2 == 0]\n",
    "\n",
    "print(even_numbers)"
   ]
  },
  {
   "cell_type": "code",
   "execution_count": 22,
   "metadata": {},
   "outputs": [
    {
     "name": "stdout",
     "output_type": "stream",
     "text": [
      "[('쌈밥', '사과'), ('쌈밥', '아이스크림'), ('쌈밥', '커피'), ('치킨', '사과'), ('치킨', '아이스크림'), ('치킨', '커피'), ('피자', '사과'), ('피자', '아이스크림'), ('피자', '커피')]\n"
     ]
    }
   ],
   "source": [
    "# 놀랍게도, 리스트 컴프리헨션 할때 조건문은 몇번이고 반복이 가능 함\n",
    "# 이것으로 인해 이중리스트 선언에 쓰이는 것으로 생각 됨\n",
    "\n",
    "# 응용1\n",
    "rList = [(x, y) for x in ['쌈밥', '치킨', '피자'] for y in ['사과', '아이스크림', '커피']]\n",
    "\n",
    "print(rList)"
   ]
  },
  {
   "cell_type": "code",
   "execution_count": 25,
   "metadata": {},
   "outputs": [
    {
     "name": "stdout",
     "output_type": "stream",
     "text": [
      "쌈밥 사과 배달 시키기\n",
      "쌈밥 사과 가서 먹기\n",
      "쌈밥 아이스크림 배달 시키기\n",
      "쌈밥 아이스크림 가서 먹기\n",
      "쌈밥 커피 배달 시키기\n",
      "쌈밥 커피 가서 먹기\n",
      "치킨 사과 배달 시키기\n",
      "치킨 사과 가서 먹기\n",
      "치킨 아이스크림 배달 시키기\n",
      "치킨 아이스크림 가서 먹기\n",
      "치킨 커피 배달 시키기\n",
      "치킨 커피 가서 먹기\n",
      "피자 사과 배달 시키기\n",
      "피자 사과 가서 먹기\n",
      "피자 아이스크림 배달 시키기\n",
      "피자 아이스크림 가서 먹기\n",
      "피자 커피 배달 시키기\n",
      "피자 커피 가서 먹기\n"
     ]
    }
   ],
   "source": [
    "# 기본2\n",
    "for x in ['쌈밥', '치킨', '피자']:\n",
    "    for y in ['사과', '아이스크림', '커피']:\n",
    "        for z in ['배달 시키기', '가서 먹기']:\n",
    "            print(x, y, z)"
   ]
  },
  {
   "cell_type": "code",
   "execution_count": 27,
   "metadata": {},
   "outputs": [
    {
     "name": "stdout",
     "output_type": "stream",
     "text": [
      "[('쌈밥', '배달 시키기', '사과'), ('쌈밥', '가서 먹기', '사과'), ('쌈밥', '배달 시키기', '아이스크림'), ('쌈밥', '가서 먹기', '아이스크림'), ('쌈밥', '배달 시키기', '커피'), ('쌈밥', '가서 먹기', '커피'), ('치킨', '배달 시키기', '사과'), ('치킨', '가서 먹기', '사과'), ('치킨', '배달 시키기', '아이스크림'), ('치킨', '가서 먹기', '아이스크림'), ('치킨', '배달 시키기', '커피'), ('치킨', '가서 먹기', '커피'), ('피자', '배달 시키기', '사과'), ('피자', '가서 먹기', '사과'), ('피자', '배달 시키기', '아이스크림'), ('피자', '가서 먹기', '아이스크림'), ('피자', '배달 시키기', '커피'), ('피자', '가서 먹기', '커피')]\n"
     ]
    }
   ],
   "source": [
    "# 응용2\n",
    "rList = [(x, z, y) for x in ['쌈밥', '치킨', '피자'] for y in ['사과', '아이스크림', '커피'] for z in ['배달 시키기', '가서 먹기']]\n",
    "\n",
    "print(rList)"
   ]
  },
  {
   "cell_type": "code",
   "execution_count": 29,
   "metadata": {},
   "outputs": [
    {
     "name": "stdout",
     "output_type": "stream",
     "text": [
      "[0, 2, 4]\n"
     ]
    }
   ],
   "source": [
    "# if문 중복 응용\n",
    "rList = [x for x in range(10) if x < 5 if x % 2 == 0]\n",
    "\n",
    "print(rList)"
   ]
  }
 ],
 "metadata": {
  "kernelspec": {
   "display_name": "Python 3",
   "language": "python",
   "name": "python3"
  },
  "language_info": {
   "codemirror_mode": {
    "name": "ipython",
    "version": 3
   },
   "file_extension": ".py",
   "mimetype": "text/x-python",
   "name": "python",
   "nbconvert_exporter": "python",
   "pygments_lexer": "ipython3",
   "version": "3.8.0"
  },
  "orig_nbformat": 4
 },
 "nbformat": 4,
 "nbformat_minor": 2
}
