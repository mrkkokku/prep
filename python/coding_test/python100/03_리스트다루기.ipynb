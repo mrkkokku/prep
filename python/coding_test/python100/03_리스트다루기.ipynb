{
 "cells": [
  {
   "cell_type": "code",
   "execution_count": 3,
   "metadata": {},
   "outputs": [
    {
     "name": "stdout",
     "output_type": "stream",
     "text": [
      "['우진', '시은', '메이린']\n",
      "['우진', '메이린']\n",
      "['우진', '메이린', '시은']\n"
     ]
    }
   ],
   "source": [
    "# 021 리스트 추가, 삭제하기\n",
    "\n",
    "t = [\"우진\", \"시은\", \"메이린\"]\n",
    "print(t)\n",
    "\n",
    "del t[1]\n",
    "print(t)\n",
    "\n",
    "t.append(\"시은\")\n",
    "print(t)"
   ]
  },
  {
   "cell_type": "code",
   "execution_count": 5,
   "metadata": {},
   "outputs": [
    {
     "name": "stdout",
     "output_type": "stream",
     "text": [
      "['우진', '시은', '메이린']\n",
      "['우진', '유리', '시은', '메이린']\n"
     ]
    }
   ],
   "source": [
    "# 022 리스트 원하는 위치에 삽입하기\n",
    "'''\n",
    "우진 다음에 유리 넣기\n",
    "'''\n",
    "\n",
    "t = [\"우진\", \"시은\", \"메이린\"]\n",
    "print(t)\n",
    "\n",
    "t.insert(1, \"유리\")\n",
    "print(t)"
   ]
  },
  {
   "cell_type": "code",
   "execution_count": 9,
   "metadata": {},
   "outputs": [
    {
     "name": "stdout",
     "output_type": "stream",
     "text": [
      "['우진', '시은', '메이린']\n"
     ]
    }
   ],
   "source": [
    "# 023 리스트 합치기\n",
    "\n",
    "t = [\"우진\", \"시은\", \"메이린\"]\n",
    "t2 = [\"유리\", \"제시카\"]\n",
    "\n",
    "t3 = []\n",
    "\n",
    "t3.extend(t)\n",
    "print(t3)"
   ]
  },
  {
   "cell_type": "code",
   "execution_count": 12,
   "metadata": {},
   "outputs": [
    {
     "name": "stdout",
     "output_type": "stream",
     "text": [
      "6\n",
      "5.5\n"
     ]
    }
   ],
   "source": [
    "# 025 리스트 길이, 평균 구하기\n",
    "\n",
    "a = [3, 7, 4, 5, 6, 8]\n",
    "\n",
    "print(len(a))\n",
    "\n",
    "print( sum(a) / len(a) )"
   ]
  },
  {
   "cell_type": "code",
   "execution_count": 1,
   "metadata": {},
   "outputs": [
    {
     "name": "stdout",
     "output_type": "stream",
     "text": [
      "제시카의 점수는 95\n",
      "수진의 점수는 100\n",
      "시은의 점수는 98\n"
     ]
    }
   ],
   "source": [
    "# 028 리스트 안의 리스트\n",
    "\n",
    "a = [['제시카', 95], ['수진', 100], ['시은', 98]]\n",
    "\n",
    "print(f\"{a[0][0]}의 점수는 {a[0][1]}\")\n",
    "print(f\"{a[1][0]}의 점수는 {a[1][1]}\")\n",
    "print(f\"{a[2][0]}의 점수는 {a[2][1]}\")"
   ]
  },
  {
   "cell_type": "code",
   "execution_count": 5,
   "metadata": {},
   "outputs": [
    {
     "name": "stdout",
     "output_type": "stream",
     "text": [
      "우진 시은 메이린\n",
      "우진, 시은, 메이린\n"
     ]
    }
   ],
   "source": [
    "# 029 join 리스트안의 문자로 하나의 문자열 만들기\n",
    "\n",
    "t = [\"우진\", \"시은\", \"메이린\"]\n",
    "\n",
    "print(' '.join(t))\n",
    "\n",
    "print(', '.join(t))"
   ]
  },
  {
   "cell_type": "code",
   "execution_count": 8,
   "metadata": {},
   "outputs": [
    {
     "name": "stdout",
     "output_type": "stream",
     "text": [
      "['우진', '시은', '메이린']\n"
     ]
    }
   ],
   "source": [
    "# 030 split 문자열 분리해서 리스트 만들기\n",
    "\n",
    "t = \"우진 시은 메이린\"\n",
    "\n",
    "print(t.split(' '))"
   ]
  },
  {
   "cell_type": "code",
   "execution_count": 14,
   "metadata": {},
   "outputs": [
    {
     "name": "stdout",
     "output_type": "stream",
     "text": [
      "3\n",
      "['우진', '시은', '메이린']\n",
      "['우진', '시은', '메이린']\n"
     ]
    }
   ],
   "source": [
    "t = \"우진 시은 메이린\"\n",
    "\n",
    "L = list(t.split(' '))\n",
    "\n",
    "print(len(L))\n",
    "\n",
    "print(L)\n",
    "print(L[:])"
   ]
  },
  {
   "cell_type": "code",
   "execution_count": 20,
   "metadata": {},
   "outputs": [
    {
     "name": "stdout",
     "output_type": "stream",
     "text": [
      "10\n",
      "2\n",
      "123\n"
     ]
    }
   ],
   "source": [
    "# 031 여러개의 값 입력 받기\n",
    "\n",
    "'''\n",
    "10 2 123 이 입력되는 걸 받아보자\n",
    "'''\n",
    "# 첫 입력되는 \"10 2 123\" <-- 이것 자체로 str로들어옴에 유의\n",
    "\n",
    "# int로 mapping한다는 것\n",
    "a, b, c = map(int, input().split(' '))\n",
    "\n",
    "print(a)\n",
    "print(b)\n",
    "print(c)"
   ]
  }
 ],
 "metadata": {
  "kernelspec": {
   "display_name": "Python 3",
   "language": "python",
   "name": "python3"
  },
  "language_info": {
   "codemirror_mode": {
    "name": "ipython",
    "version": 3
   },
   "file_extension": ".py",
   "mimetype": "text/x-python",
   "name": "python",
   "nbconvert_exporter": "python",
   "pygments_lexer": "ipython3",
   "version": "3.8.0"
  },
  "orig_nbformat": 4
 },
 "nbformat": 4,
 "nbformat_minor": 2
}
