{
 "cells": [
  {
   "cell_type": "code",
   "execution_count": 3,
   "metadata": {},
   "outputs": [
    {
     "name": "stdout",
     "output_type": "stream",
     "text": [
      "['우진', '시은', '메이린']\n",
      "['우진', '메이린']\n",
      "['우진', '메이린', '시은']\n"
     ]
    }
   ],
   "source": [
    "# 021 리스트 추가, 삭제하기\n",
    "\n",
    "t = [\"우진\", \"시은\", \"메이린\"]\n",
    "print(t)\n",
    "\n",
    "del t[1]\n",
    "print(t)\n",
    "\n",
    "t.append(\"시은\")\n",
    "print(t)"
   ]
  },
  {
   "cell_type": "code",
   "execution_count": 5,
   "metadata": {},
   "outputs": [
    {
     "name": "stdout",
     "output_type": "stream",
     "text": [
      "['우진', '시은', '메이린']\n",
      "['우진', '유리', '시은', '메이린']\n"
     ]
    }
   ],
   "source": [
    "# 022 리스트 원하는 위치에 삽입하기\n",
    "'''\n",
    "우진 다음에 유리 넣기\n",
    "'''\n",
    "\n",
    "t = [\"우진\", \"시은\", \"메이린\"]\n",
    "print(t)\n",
    "\n",
    "t.insert(1, \"유리\")\n",
    "print(t)"
   ]
  },
  {
   "cell_type": "code",
   "execution_count": 9,
   "metadata": {},
   "outputs": [
    {
     "name": "stdout",
     "output_type": "stream",
     "text": [
      "['우진', '시은', '메이린']\n"
     ]
    }
   ],
   "source": [
    "# 023 리스트 합치기\n",
    "\n",
    "t = [\"우진\", \"시은\", \"메이린\"]\n",
    "t2 = [\"유리\", \"제시카\"]\n",
    "\n",
    "t3 = []\n",
    "\n",
    "t3.extend(t)\n",
    "print(t3)"
   ]
  },
  {
   "cell_type": "code",
   "execution_count": 12,
   "metadata": {},
   "outputs": [
    {
     "name": "stdout",
     "output_type": "stream",
     "text": [
      "6\n",
      "5.5\n"
     ]
    }
   ],
   "source": [
    "# 025 리스트 길이, 평균 구하기\n",
    "\n",
    "a = [3, 7, 4, 5, 6, 8]\n",
    "\n",
    "print(len(a))\n",
    "\n",
    "print( sum(a) / len(a) )"
   ]
  },
  {
   "cell_type": "code",
   "execution_count": 13,
   "metadata": {},
   "outputs": [
    {
     "name": "stdout",
     "output_type": "stream",
     "text": [
      "제시카의 점수는 95\n",
      "수진의 점수는 100\n",
      "시은의 점수는 98\n"
     ]
    }
   ],
   "source": [
    "# 028 리스트 안의 리스트\n",
    "\n",
    "a = [['제시카', 95], ['수진', 100], ['시은', 98]]\n",
    "\n",
    "print(f\"{a[0][0]}의 점수는 {a[0][1]}\")\n",
    "print(f\"{a[1][0]}의 점수는 {a[1][1]}\")\n",
    "print(f\"{a[2][0]}의 점수는 {a[2][1]}\")"
   ]
  }
 ],
 "metadata": {
  "kernelspec": {
   "display_name": "Python 3",
   "language": "python",
   "name": "python3"
  },
  "language_info": {
   "codemirror_mode": {
    "name": "ipython",
    "version": 3
   },
   "file_extension": ".py",
   "mimetype": "text/x-python",
   "name": "python",
   "nbconvert_exporter": "python",
   "pygments_lexer": "ipython3",
   "version": "3.8.0"
  },
  "orig_nbformat": 4
 },
 "nbformat": 4,
 "nbformat_minor": 2
}
