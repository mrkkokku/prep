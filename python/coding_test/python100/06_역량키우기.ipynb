{
 "cells": [
  {
   "cell_type": "code",
   "execution_count": null,
   "metadata": {},
   "outputs": [
    {
     "name": "stdout",
     "output_type": "stream",
     "text": [
      "1\n"
     ]
    }
   ],
   "source": [
    "# 070 세개의 숫자를 입력받고 가장 작은 숫자 출력하기\n",
    "\n",
    "a = list(map(int, input(\"숫자 3개 입력하세요 : \").split()))\n",
    "\n",
    "print(f\"min : {min(a)}\")"
   ]
  },
  {
   "cell_type": "code",
   "execution_count": null,
   "metadata": {},
   "outputs": [
    {
     "name": "stdout",
     "output_type": "stream",
     "text": [
      "\n",
      "\n",
      "[1]에서 통과 불가능\n"
     ]
    }
   ],
   "source": [
    "# 071 터널 통과하기\n",
    "\n",
    "'''\n",
    "첫 입력은 트럭의 높기\n",
    "두번째 입력은 터널의 높이 3개 입력받고\n",
    "\n",
    "결과적으로 통과 가능한지 불가한지 출력하기\n",
    "'''\n",
    "\n",
    "t = int(input(\"트럭의 높이 : \"))\n",
    "print(\"\\n\")\n",
    "tunnel = list(map(int, input(\"터널의 높이 3개 : \").split()))\n",
    "\n",
    "result = [] # 통과안되는 터널의 높이 기록\n",
    "\n",
    "for i in range(len(tunnel)):\n",
    "    if tunnel[i] <= t:\n",
    "        result.append(tunnel[i])\n",
    "\n",
    "if result == []:\n",
    "    print(\"통과 가능\")\n",
    "else:\n",
    "    print(f\"{result}에서 통과 불가능\")"
   ]
  },
  {
   "cell_type": "code",
   "execution_count": null,
   "metadata": {},
   "outputs": [
    {
     "name": "stdout",
     "output_type": "stream",
     "text": [
      "<map object at 0x0000014C0453DA60>\n",
      "<class 'map'>\n",
      "[1, 2, 3]\n",
      "<class 'list'>\n"
     ]
    }
   ],
   "source": [
    "# 알아둬야할 부분\n",
    "\n",
    "a = map(int, input(\"3개 띄워서 입력 : \").split())\n",
    "\n",
    "print(a)\n",
    "print(type(a)) # 이건 type이 map임\n",
    "\n",
    "print(list(a))\n",
    "print(type(list(a))) # 이렇게 받아야 list됨"
   ]
  },
  {
   "cell_type": "code",
   "execution_count": null,
   "metadata": {},
   "outputs": [
    {
     "name": "stdout",
     "output_type": "stream",
     "text": [
      "['1', '2', '4', '1', '6', '7', '2', '4', '2', '4']\n",
      "사용된 횟수는 1\n",
      "사용된 횟수는 1\n"
     ]
    }
   ],
   "source": [
    "# 072 행운의 숫자 7 찾기\n",
    "\n",
    "'''\n",
    "숫자하나 입력받고 거기서 7이 사용된 횟수 구하기\n",
    "'''\n",
    "\n",
    "# str로 변환 후 리스트로 받으면 각각 들어가는 것\n",
    "inin = list(str(input(\"숫자 입력하세요 : \")))\n",
    "print(inin)\n",
    "\n",
    "cnt = 0\n",
    "\n",
    "for i in inin:\n",
    "    if i == '7':\n",
    "        cnt += 1\n",
    "\n",
    "print(f\"사용된 횟수는 {cnt}\")\n",
    "\n",
    "cnt = 0 \n",
    "\n",
    "# 이렇게도 가능함\n",
    "cnt = inin.count('7')\n",
    "print(f\"사용된 횟수는 {cnt}\")"
   ]
  },
  {
   "cell_type": "code",
   "execution_count": null,
   "metadata": {},
   "outputs": [
    {
     "name": "stdout",
     "output_type": "stream",
     "text": [
      "오름차순으론\n",
      "1 2 47 94 131 262 6157 12314 \n",
      "\n",
      "내린차순으론\n",
      "12314 6157 262 131 94 47 2 1 "
     ]
    }
   ],
   "source": [
    "# 073 약수 구하기\n",
    "\n",
    "'''\n",
    "자연수 하나 입력받아서\n",
    "그것의 약수를 오름차순으로, 내림차순으로\n",
    "각각 출력하기\n",
    "'''\n",
    "rList = []\n",
    "a = int(input(\"숫자 하나 입력하세요 : \"))\n",
    "\n",
    "for i in range(1, a + 1):\n",
    "    if a % i == 0:\n",
    "        rList.append(i)\n",
    "\n",
    "print(\"오름차순으론\")\n",
    "for i in rList:\n",
    "    print(i, end=' ')\n",
    "\n",
    "print(\"\\n\")\n",
    "\n",
    "print(\"내린차순으론\")\n",
    "for i in sorted(rList, reverse=True):\n",
    "    print(i, end=' ')"
   ]
  },
  {
   "cell_type": "code",
   "execution_count": null,
   "metadata": {},
   "outputs": [
    {
     "name": "stdout",
     "output_type": "stream",
     "text": [
      "최소는 -20, type : <class 'int'>\n",
      "최대는 100, type : <class 'int'>\n",
      "평균은 24.0, type : <class 'float'>\n"
     ]
    }
   ],
   "source": [
    "# 074 리스트 내 최대, 최소, 평균 구하기\n",
    "\n",
    "'''\n",
    "정수 n개를 입력받아 입력받은 수 중 \n",
    "최대, 최소, 평균을 출력하는 코드\n",
    "'''\n",
    "\n",
    "n = int(input(\"몇개 입력할래요? : \"))\n",
    "\n",
    "iList = list(map(int, input(f\"{n}개 입력하세요 : \").split()))\n",
    "\n",
    "print(f\"최소는 {min(iList)}, type : {type(min(iList))}\")\n",
    "print(f\"최대는 {max(iList)}, type : {type(max(iList))}\")\n",
    "print(f\"평균은 {sum(iList)/n}, type : {type(sum(iList)/n)}\")"
   ]
  },
  {
   "cell_type": "code",
   "execution_count": null,
   "metadata": {},
   "outputs": [
    {
     "name": "stdout",
     "output_type": "stream",
     "text": [
      "최소값은 -20 입니다, type : <class 'int'>\n",
      "최대값은 100 입니다, type : <class 'int'>\n",
      "평균은 24.0 입니다, type : <class 'float'>\n"
     ]
    }
   ],
   "source": [
    "# 075 위의 것과 같지만, 내장함수 없이 구현하기\n",
    "\n",
    "n = int(input(\"몇개 입력할래요? : \"))\n",
    "\n",
    "iList = list(map(int, input(f\"{n}개 입력하세요 : \").split()))\n",
    "\n",
    "min, max, avg, sum = None, None, None, 0\n",
    "\n",
    "\n",
    "min = iList[0]\n",
    "for i in range(len(iList)):\n",
    "    if min > iList[i]:\n",
    "        min = iList[i]\n",
    "print(f\"최소값은 {min} 입니다, type : {type(min)}\")\n",
    "\n",
    "\n",
    "max = iList[0]\n",
    "for i in range(len(iList)):\n",
    "    if max < iList[i]:\n",
    "        max = iList[i]\n",
    "print(f\"최대값은 {max} 입니다, type : {type(max)}\")\n",
    "\n",
    "\n",
    "for i in iList:\n",
    "    sum += i\n",
    "avg = sum / len(iList)\n",
    "\n",
    "print(f\"평균은 {avg} 입니다, type : {type(avg)}\")"
   ]
  },
  {
   "cell_type": "code",
   "execution_count": null,
   "metadata": {},
   "outputs": [
    {
     "name": "stdout",
     "output_type": "stream",
     "text": [
      "입력된 1234의 각 자릿수를 모두 더하면 10입니다\n"
     ]
    }
   ],
   "source": [
    "# 076 각 자릿수의 합 구하기\n",
    "\n",
    "'''\n",
    "숫자하나를 입력받은 뒤\n",
    "각 자리의 숫자를 모두 더한 값을 출력\n",
    "'''\n",
    "\n",
    "a = int(input(\"숫자 하나를 입력하세요 : \"))\n",
    "\n",
    "print(f\"입력된 {a}의 각 자릿수를 모두 더하면 \", end='')\n",
    "\n",
    "aList = list(str(a))\n",
    "# String을 list화 하면 각 요소들이 모두 분리되어 들어간다는 점\n",
    "sum = 0\n",
    "\n",
    "for i in aList:\n",
    "    sum += int(i)\n",
    "\n",
    "print(f\"{sum}입니다\")"
   ]
  },
  {
   "cell_type": "code",
   "execution_count": null,
   "metadata": {},
   "outputs": [
    {
     "name": "stdout",
     "output_type": "stream",
     "text": [
      "입력된 숫자는 1234입니다\n",
      "10\n"
     ]
    }
   ],
   "source": [
    "# 077 각 자릿수의 합 구하기2\n",
    "\n",
    "'''\n",
    "위의 문제를 %와 //를 이용해 풀어보기\n",
    "'''\n",
    "\n",
    "a = int(input(\"숫자 하나를 입력하세요 : \"))\n",
    "print(f\"입력된 숫자는 {a}입니다\")\n",
    "\n",
    "p1 = a // 1000\n",
    "a = a % 1000\n",
    "\n",
    "p2 = a // 100\n",
    "a = a % 100\n",
    "\n",
    "p3 = a // 10\n",
    "a = a % 10\n",
    "\n",
    "p4 = a // 1\n",
    "a = a % 1\n",
    "\n",
    "sum = p1 + p2 + p3 + p4\n",
    "\n",
    "print(sum)"
   ]
  },
  {
   "cell_type": "code",
   "execution_count": null,
   "metadata": {},
   "outputs": [],
   "source": [
    "# 위의 문제를 반복문으로 간략화해서 구현해보자\n",
    "\n"
   ]
  },
  {
   "cell_type": "code",
   "execution_count": null,
   "metadata": {},
   "outputs": [
    {
     "name": "stdout",
     "output_type": "stream",
     "text": [
      "DEFG"
     ]
    }
   ],
   "source": [
    "# 078 카이사르 암호\n",
    "\n",
    "'''\n",
    "특정 문자열을 입력받아\n",
    "사전순서의 몇글자 뒤로 (ex. A->D)\n",
    "변경하여 출력하는 코드를 작성해보자\n",
    "'''\n",
    "\n",
    "# ord() 함수는 사전순서의 숫자를 반환함\n",
    "# ord() 함수의 반대 역할을 하는 것이 char()\n",
    "\n",
    "# ord()      <----> chr()\n",
    "# 문자를 입력 <----> 숫자를 입력\n",
    "# 숫자를 반환 <----> 문자를 반환\n",
    "\n",
    "sList = list(str(input(\"문자를 입력하세요 : \")))\n",
    "\n",
    "for i in sList:\n",
    "    print(f\"{chr(ord(i) + 3)}\", end='')"
   ]
  },
  {
   "cell_type": "code",
   "execution_count": null,
   "metadata": {},
   "outputs": [
    {
     "name": "stdout",
     "output_type": "stream",
     "text": [
      "mAKIT cODE lAB !!"
     ]
    }
   ],
   "source": [
    "# 079 소문자는 대문자로, 대문자는 소문자로 변환하기\n",
    "\n",
    "'''\n",
    "문자열을 입력받은 뒤\n",
    "문자열 내의 모든 값들을 변환하기\n",
    "'''\n",
    "\n",
    "s = input(\"문자를 입력하세요 : \")\n",
    "\n",
    "s = list(s)\n",
    "\n",
    "for i in range(0, len(s)):\n",
    "    if s[i] == s[i].upper():\n",
    "        s[i] = s[i].lower()\n",
    "    else:\n",
    "        s[i] = s[i].upper()\n",
    "\n",
    "\n",
    "for i in s:\n",
    "    print(i, end='')"
   ]
  }
 ],
 "metadata": {
  "language_info": {
   "name": "python"
  }
 },
 "nbformat": 4,
 "nbformat_minor": 2
}
