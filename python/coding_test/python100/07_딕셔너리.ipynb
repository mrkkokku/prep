{
 "cells": [
  {
   "cell_type": "code",
   "execution_count": 3,
   "metadata": {},
   "outputs": [
    {
     "name": "stdout",
     "output_type": "stream",
     "text": [
      "{'메이킷': 17, '우진': 9, '시은': 11, '제임스': 10}\n"
     ]
    }
   ],
   "source": [
    "# 80 우리 반 학생들의 이름과 나이 저장하기\n",
    "\n",
    "'''\n",
    "우리 반 학생들의 이름과 나이가 적힌 명단이 있습니다.\n",
    "이것을 딕셔너리를 이용해 저장해보세요\n",
    "\n",
    "메이킷 17\n",
    "우진 9\n",
    "시은 11\n",
    "제임스 10\n",
    "'''\n",
    "\n",
    "d = {\"메이킷\" : 17,\n",
    "     \"우진\" : 9,\n",
    "     \"시은\" : 11,\n",
    "     \"제임스\" : 10\n",
    "    }\n",
    "\n",
    "print(d)"
   ]
  },
  {
   "cell_type": "code",
   "execution_count": 12,
   "metadata": {},
   "outputs": [
    {
     "name": "stdout",
     "output_type": "stream",
     "text": [
      "내가 살고있는 곳은 서울입니다.\n",
      "나의 성별은 여자이고 이름은 시은 입니다.\n",
      "나이는 11이고 혈액형은 b입니다.\n"
     ]
    }
   ],
   "source": [
    "# 81 자기소개하기\n",
    "\n",
    "'''\n",
    "아래와 같은 내용을 저장하는 딕셔너리 자료형을 s로 만들고\n",
    "s를 활용해 다음과 같이 출력하는 코드를 작성하세요\n",
    "\n",
    "사는 곳 : 서울\n",
    "성별 : 여자\n",
    "이름 : 시은\n",
    "나이 : 11\n",
    "혈액형 : b\n",
    "'''\n",
    "\n",
    "dic = {\"사는 곳\" : \"서울\",\n",
    "     \"성별\" : \"여자\",\n",
    "     \"이름\" : \"시은\",\n",
    "     \"나이\" : 11,\n",
    "     \"혈액형\" : \"b\"\n",
    "    }\n",
    "\n",
    "print(f\"내가 살고있는 곳은 {dic['사는 곳']}입니다.\")\n",
    "print(f\"나의 성별은 {dic['성별']}이고 이름은 {dic['이름']} 입니다.\")\n",
    "print(f\"나이는 {dic['나이']}이고 혈액형은 {dic['혈액형']}입니다.\")"
   ]
  },
  {
   "cell_type": "code",
   "execution_count": 14,
   "metadata": {},
   "outputs": [
    {
     "name": "stdout",
     "output_type": "stream",
     "text": [
      "서울\n",
      "서울\n"
     ]
    }
   ],
   "source": [
    "# 아래와 같이도 사용 가능 함\n",
    "\n",
    "print(f\"{dic.get('사는 곳')}\")\n",
    "print(f\"{dic['사는 곳']}\")"
   ]
  },
  {
   "cell_type": "code",
   "execution_count": 1,
   "metadata": {},
   "outputs": [
    {
     "name": "stdout",
     "output_type": "stream",
     "text": [
      "{'사는 곳': '인천 송도', '성별': '남자', '이름': '우진'}\n",
      "{'사는 곳': '인천 송도', '성별': '남자', '이름': '우진', '나이': 15, '혈액형': 'A'}\n"
     ]
    }
   ],
   "source": [
    "# 082 딕셔너리에 추가하기\n",
    "\n",
    "'''\n",
    "아래의 내용 딕셔너리 s를 만들고\n",
    "나이와 혈액형을 입력받아 딕셔너리 s에 추가하자\n",
    "'''\n",
    "\n",
    "s = {\"사는 곳\" : \"인천 송도\",\n",
    "     \"성별\" : \"남자\",\n",
    "     \"이름\" : \"우진\"\n",
    "    }\n",
    "\n",
    "print(s)\n",
    "\n",
    "a = int(input(\"나이는 몇살인가요? : \"))\n",
    "b = input(\"혈액형은 무엇인가요? : \")\n",
    "\n",
    "s['나이'] = a\n",
    "s['혈액형'] = b\n",
    "\n",
    "print(s)"
   ]
  },
  {
   "cell_type": "code",
   "execution_count": 11,
   "metadata": {},
   "outputs": [
    {
     "name": "stdout",
     "output_type": "stream",
     "text": [
      "{'성별': '남자', '이름': '우진'}\n"
     ]
    }
   ],
   "source": [
    "# 083 딕셔너리에서 삭제하기\n",
    "\n",
    "s = {\"사는 곳\" : \"인천 송도\",\n",
    "     \"성별\" : \"남자\",\n",
    "     \"이름\" : \"우진\"\n",
    "    }\n",
    "\n",
    "\n",
    "del s[\"사는 곳\"]\n",
    "\n",
    "print(s)"
   ]
  },
  {
   "cell_type": "code",
   "execution_count": 12,
   "metadata": {},
   "outputs": [
    {
     "name": "stdout",
     "output_type": "stream",
     "text": [
      "{'이름': '우진'}\n"
     ]
    }
   ],
   "source": [
    "s.pop(\"성별\")\n",
    "\n",
    "print(s)"
   ]
  },
  {
   "cell_type": "code",
   "execution_count": 19,
   "metadata": {},
   "outputs": [
    {
     "name": "stdout",
     "output_type": "stream",
     "text": [
      "dict_keys(['사는 곳', '성별', '이름'])\n",
      "<class 'dict_keys'>\n",
      "['사는 곳', '성별', '이름']\n"
     ]
    }
   ],
   "source": [
    "# 084 딕셔너리에서 뽑아내기\n",
    "\n",
    "\n",
    "'''\n",
    "keys() -> key만 리턴함\n",
    "'''\n",
    "\n",
    "s = {\"사는 곳\" : \"인천 송도\",\n",
    "     \"성별\" : \"남자\",\n",
    "     \"이름\" : \"우진\"\n",
    "    }\n",
    "\n",
    "print(s.keys())\n",
    "print(type(s.keys()))\n",
    "\n",
    "# 이렇게 쓰면 됨\n",
    "a = list(s.keys())\n",
    "print(a)"
   ]
  },
  {
   "cell_type": "code",
   "execution_count": 21,
   "metadata": {},
   "outputs": [
    {
     "name": "stdout",
     "output_type": "stream",
     "text": [
      "dict_values(['인천 송도', '남자', '우진'])\n",
      "<class 'dict_values'>\n",
      "['인천 송도', '남자', '우진']\n"
     ]
    }
   ],
   "source": [
    "'''\n",
    "values() -> value만 리턴함\n",
    "'''\n",
    "\n",
    "print(s.values())\n",
    "print(type(s.values()))\n",
    "\n",
    "# 이렇게 쓰면 됨\n",
    "a = list(s.values())\n",
    "print(a)"
   ]
  },
  {
   "cell_type": "code",
   "execution_count": 24,
   "metadata": {},
   "outputs": [
    {
     "name": "stdout",
     "output_type": "stream",
     "text": [
      "dict_items([('사는 곳', '인천 송도'), ('성별', '남자'), ('이름', '우진')])\n",
      "<class 'dict_items'>\n",
      "[('사는 곳', '인천 송도'), ('성별', '남자'), ('이름', '우진')]\n",
      "('사는 곳', '인천 송도')\n",
      "사는 곳\n"
     ]
    }
   ],
   "source": [
    "'''\n",
    "items() -> key-value 쌍을 리턴함\n",
    "'''\n",
    "\n",
    "print(s.items())\n",
    "print(type(s.items()))\n",
    "\n",
    "# 이렇게 쓰면 됨\n",
    "a = list(s.items())\n",
    "print(a)\n",
    "print(a[0])\n",
    "print(a[0][0])"
   ]
  },
  {
   "cell_type": "code",
   "execution_count": 32,
   "metadata": {},
   "outputs": [
    {
     "name": "stdout",
     "output_type": "stream",
     "text": [
      "물품을 입력하면 가격을 알려드립니다\n",
      "콜라의 가격은 700원 입니다.\n"
     ]
    }
   ],
   "source": [
    "# 085 딕셔너리와 조건문\n",
    "\n",
    "'''\n",
    "물건 이름 입력하면 가격을 올려주는 코드 작성\n",
    "'''\n",
    "\n",
    "s = {\"새우칩\" : 1500, \"옥수수칩\" : 1800, \"콜라\" : 700, \"양파칩\" : 1300}\n",
    "\n",
    "print(\"물품을 입력하면 가격을 알려드립니다\")\n",
    "\n",
    "a = input(\"물품 이름은? : \")\n",
    "\n",
    "if a in s:  # 여기서 in 쓰는게 핵심\n",
    "    print(f\"{a}의 가격은 {s[a]}원 입니다.\")\n",
    "else:\n",
    "    print(\"없는 상품입니다.\")"
   ]
  },
  {
   "cell_type": "code",
   "execution_count": 2,
   "metadata": {},
   "outputs": [
    {
     "name": "stdout",
     "output_type": "stream",
     "text": [
      "1번 물품은 새우칩이고, 가격은 1500입니다.\n",
      "2번 물품은 옥수수칩이고, 가격은 1800입니다.\n",
      "3번 물품은 콜라이고, 가격은 700입니다.\n",
      "4번 물품은 양파칩이고, 가격은 1300입니다.\n"
     ]
    }
   ],
   "source": [
    "# 086 딕셔너리와 반복문\n",
    "\n",
    "s = {\"새우칩\" : 1500, \"옥수수칩\" : 1800, \"콜라\" : 700, \"양파칩\" : 1300}\n",
    "\n",
    "a = list(s.keys())\n",
    "b = list(s.values())\n",
    "\n",
    "for i in range(len(a)):\n",
    "    print(f\"{i+1}번 물품은 {a[i]}이고, 가격은 {b[i]}입니다.\")"
   ]
  },
  {
   "cell_type": "code",
   "execution_count": 3,
   "metadata": {},
   "outputs": [
    {
     "name": "stdout",
     "output_type": "stream",
     "text": [
      "1번 물품은 새우칩이고, 가격은 1500 입니다.\n",
      "2번 물품은 옥수수칩이고, 가격은 1800 입니다.\n",
      "3번 물품은 콜라이고, 가격은 700 입니다.\n",
      "4번 물품은 양파칩이고, 가격은 1300 입니다.\n"
     ]
    }
   ],
   "source": [
    "# 또 다른방식의 표현으론 아래 처럼\n",
    "\n",
    "cnt = 1\n",
    "\n",
    "for i in s.items(): # i들이 (\"새우칩\", 1500) 이런식으로 tuple로 나오는 것에 착안\n",
    "    print(f\"{cnt}번 물품은 {i[0]}이고, 가격은 {i[1]} 입니다.\")\n",
    "    cnt += 1"
   ]
  },
  {
   "cell_type": "code",
   "execution_count": 6,
   "metadata": {},
   "outputs": [
    {
     "name": "stdout",
     "output_type": "stream",
     "text": [
      "1번 물품은 새우칩이고, 가격은 1500, 수량은 3입니다.\n",
      "2번 물품은 옥수수칩이고, 가격은 1800, 수량은 2입니다.\n",
      "3번 물품은 콜라이고, 가격은 700, 수량은 4입니다.\n",
      "4번 물품은 양파칩이고, 가격은 1300, 수량은 1입니다.\n",
      "\n",
      "우리 가게는 4개의 물건 종류가 있습니다\n",
      "우리가게 모든 물건의 수량은 10개 입니다\n",
      "우리 가게 모든 물건들의 가격 합계는 12200입니다\n",
      "우리 가게 모든 물건들의 평균가격은 1220.0입니다\n"
     ]
    }
   ],
   "source": [
    "# 087 딕셔너리 안에 리스트 넣기\n",
    "\n",
    "store = {\"새우칩\" : [1500, 3],\n",
    "         \"옥수수칩\" : [1800, 2],\n",
    "         \"콜라\" : [700, 4],\n",
    "         \"양파칩\" : [1300, 1]\n",
    "        }\n",
    "\n",
    "sum = 0\n",
    "item = 1\n",
    "cnt = 0\n",
    "\n",
    "for i in store.items():\n",
    "    print(f\"{item}번 물품은 {i[0]}이고, 가격은 {i[1][0]}, 수량은 {i[1][1]}입니다.\")\n",
    "    sum += i[1][0] * i[1][1]\n",
    "    cnt += i[1][1]\n",
    "    item += 1\n",
    "\n",
    "print()\n",
    "\n",
    "print(f\"우리 가게는 {len(store)}개의 물건 종류가 있습니다\")\n",
    "print(f\"우리가게 모든 물건의 수량은 {cnt}개 입니다\")\n",
    "print(f\"우리 가게 모든 물건들의 가격 합계는 {sum}입니다\")\n",
    "print(f\"우리 가게 모든 물건들의 평균가격은 {sum / cnt}입니다\")"
   ]
  },
  {
   "cell_type": "code",
   "execution_count": 7,
   "metadata": {},
   "outputs": [
    {
     "name": "stdout",
     "output_type": "stream",
     "text": [
      "우진이의 코딩 점수는? : 95\n",
      "시은이의 코딩 점수는? : 100\n",
      "메이킷이의 코딩 점수는? : 85\n"
     ]
    }
   ],
   "source": [
    "# 088 딕셔너리 안의 딕셔너리\n",
    "\n",
    "'''\n",
    "학생들의 성적표를 저장하고 특정 출력문구 출력하기\n",
    "'''\n",
    "\n",
    "store = {\"우진\" : {\"코딩\" : 95, \"수학\" : 99},\n",
    "         \"시은\" : {\"과학\" : 100, \"코딩\" : 99},\n",
    "         \"메이킷\" : {\"영어\" : 85, \"코딩\" : 100}\n",
    "        }\n",
    "\n",
    "print(f\"우진이의 코딩 점수는? : {store['우진']['코딩']}\")\n",
    "print(f\"시은이의 코딩 점수는? : {store['시은']['과학']}\")\n",
    "print(f\"메이킷이의 코딩 점수는? : {store['메이킷']['영어']}\")"
   ]
  }
 ],
 "metadata": {
  "kernelspec": {
   "display_name": "Python 3",
   "language": "python",
   "name": "python3"
  },
  "language_info": {
   "codemirror_mode": {
    "name": "ipython",
    "version": 3
   },
   "file_extension": ".py",
   "mimetype": "text/x-python",
   "name": "python",
   "nbconvert_exporter": "python",
   "pygments_lexer": "ipython3",
   "version": "3.8.0"
  }
 },
 "nbformat": 4,
 "nbformat_minor": 2
}
