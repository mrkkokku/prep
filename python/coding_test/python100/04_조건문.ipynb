{
 "cells": [
  {
   "cell_type": "code",
   "execution_count": 1,
   "metadata": {},
   "outputs": [
    {
     "name": "stdout",
     "output_type": "stream",
     "text": [
      "양수, 홀수\n"
     ]
    }
   ],
   "source": [
    "# 035 양수, 음수, 홀수, 짝수 구분하기\n",
    "\n",
    "'''\n",
    "0 이외의 정수를 한개 입력받고 구분하기\n",
    "'''\n",
    "\n",
    "t = int(input())\n",
    "\n",
    "if t > 0 and t % 2 == 0:\n",
    "    print(\"양수, 짝수\")\n",
    "elif t > 0 and t % 2 == 1:\n",
    "    print(\"양수, 홀수\")\n",
    "elif t < 0 and t % 2 == 0:\n",
    "    print(\"음수, 짝수\")\n",
    "elif t < 0 and t % 2 == 1:\n",
    "    print(\"움수, 홀수\")"
   ]
  },
  {
   "cell_type": "code",
   "execution_count": 4,
   "metadata": {},
   "outputs": [
    {
     "name": "stdout",
     "output_type": "stream",
     "text": [
      "2020는 윤년 입니다\n"
     ]
    }
   ],
   "source": [
    "# 044 올해는 윤년일까?\n",
    "\n",
    "'''\n",
    "2월에 29일까지 있는 해가 윤년.\n",
    "\n",
    "윤년의 조건은\n",
    "4의 배수 AND (100의 배수가 아님 OR 400의 배수)\n",
    "'''\n",
    "\n",
    "i = int(input(\"연도를 입력하세요: \"))\n",
    "\n",
    "if i % 4 == 0 and (i % 100 != 0 or i % 400 == 0):\n",
    "    print(f\"{i}는 윤년 입니다\")\n",
    "else:\n",
    "    print(f\"{i}는 윤년이 아닙니다\")"
   ]
  },
  {
   "cell_type": "code",
   "execution_count": 1,
   "metadata": {},
   "outputs": [],
   "source": [
    "# 045 주민등록번호 분석기\n",
    "\n",
    "'''\n",
    "주민번호 뒷자리가\n",
    "1, 2로 시작하면 1900년대 출생한 남자 여자.\n",
    "3, 4로 시작하면 2000년대 출생한 남자 여자.\n",
    "\n",
    "이를 이용해 주민번호를 모두 입력받아 (200101-3111111)\n",
    "태어난 해를 표기하라\n",
    "'''\n",
    "\n",
    "i = str(input(\"주민등록번호 입력 : \"))\n",
    "\n",
    "i2 = int(i[7])\n",
    "\n",
    "if i2 == 1:\n",
    "    print(\"1900년대 출생 남자\")\n",
    "elif i2 == 2:\n",
    "    print(\"1900년대 출생 여자\")\n",
    "elif i2 == 3:\n",
    "    print(\"2000년대 출생 남자\")\n",
    "elif i2 == 4:\n",
    "    print(\"2000년대 출생 여자\")\n"
   ]
  },
  {
   "cell_type": "code",
   "execution_count": 13,
   "metadata": {},
   "outputs": [
    {
     "name": "stdout",
     "output_type": "stream",
     "text": [
      "윷\n"
     ]
    }
   ],
   "source": [
    "# 046 윷놀이\n",
    "\n",
    "'''\n",
    "문자열을 아래와 같이 윷놀이를 도식화한 형태로 입력받았을 때\n",
    "그 결과값을 텍스트로 출력\n",
    "1 1 1 0 \n",
    "이 입려되면\n",
    "걸 출력\n",
    "'''\n",
    "# split의 내부에 \" \"을 쓰든, 안쓰든 결과값이 같음에 주목\n",
    "i = list(map(int, input(\"input : \").split(\" \")))\n",
    "\n",
    "if sum(i) == 0:\n",
    "    print(\"빽 도\")\n",
    "elif sum(i) == 1:\n",
    "    print(\"도\")\n",
    "elif sum(i) == 2:\n",
    "    print(\"개\")\n",
    "elif sum(i) == 3:\n",
    "    print(\"걸\")\n",
    "elif sum(i) == 4:\n",
    "    print(\"윷\")"
   ]
  },
  {
   "cell_type": "code",
   "execution_count": 17,
   "metadata": {},
   "outputs": [
    {
     "name": "stdout",
     "output_type": "stream",
     "text": [
      "['1', '1', '1', '1']\n",
      "<class 'list'>\n"
     ]
    }
   ],
   "source": [
    "# split의 진실\n",
    "\n",
    "a = \"1 1 1 1\".split()\n",
    "\n",
    "print(a)\n",
    "print(type(a))\n",
    "\n",
    "# split은 사실 그 반환값이 list였던 것임.\n",
    "# 다만 위의 046 문제와 달리 아래는 str로 들어가있고\n",
    "# 046 문제에서 int로 직접 변환해줬다는 것에 주목"
   ]
  },
  {
   "cell_type": "code",
   "execution_count": 1,
   "metadata": {},
   "outputs": [
    {
     "name": "stdout",
     "output_type": "stream",
     "text": [
      "4\n"
     ]
    }
   ],
   "source": [
    "# 또한 아래와 같은 용법이 가능함도 기억하자\n",
    "\n",
    "a = list(map(int, \"1 1 1 1\".split(\" \")))\n",
    "\n",
    "n = a.count(1)  # 숫자 1을 갯수를 세어서 반환해 줌\n",
    "\n",
    "print(n)"
   ]
  },
  {
   "cell_type": "code",
   "execution_count": 10,
   "metadata": {},
   "outputs": [
    {
     "name": "stdout",
     "output_type": "stream",
     "text": [
      "BII 지수는 23.37472607742878이고 과체중입니다.\n"
     ]
    }
   ],
   "source": [
    "# 047 BMI측정하기\n",
    "\n",
    "'''\n",
    "키와 몸무게를 입력받고 BMI 계산값을 출력해주기\n",
    "'''\n",
    "\n",
    "height, weight = map(int, input(\"키와 뭄무게를 입력해주세요\").split())\n",
    "\n",
    "value_bmi = weight / (height/100)**2\n",
    "\n",
    "\n",
    "if value_bmi <= 18.5:\n",
    "    text_bmi = \"저체중\"\n",
    "elif value_bmi <= 22.9:\n",
    "    text_bmi = \"정상\"\n",
    "elif value_bmi <= 24.9:\n",
    "    text_bmi = \"과체중\"\n",
    "elif value_bmi <= 29.9:\n",
    "    text_bmi = \"경도 비만\"\n",
    "elif value_bmi >= 30:\n",
    "    text_bmi = \"고도비만\"\n",
    "\n",
    "print(f\"BII 지수는 {value_bmi}이고 {text_bmi}입니다.\")"
   ]
  },
  {
   "cell_type": "code",
   "execution_count": 19,
   "metadata": {},
   "outputs": [
    {
     "name": "stdout",
     "output_type": "stream",
     "text": [
      "[5, 9, 3]\n",
      "[3, 5, 9]\n",
      "삼각형을 만들 수 없습니다.\n"
     ]
    }
   ],
   "source": [
    "# 048 삼각형 만들기\n",
    "'''\n",
    "세 개의 직선으로 이루어진 삼각형을 떠올려보자\n",
    "각 변은 a, b, c 이고 가장 긴 변이 c 라면,\n",
    "a + b > c를 만족하게 된다.\n",
    "\n",
    "세 직선의 길이가 차례대로 입력된다면\n",
    "이 길이들로 삼각형을 이룰 수 있는지 확인 하는 코드를 작성해보자\n",
    "'''\n",
    "\n",
    "a, b, c = map(int, input(\"세 변의 길이를 입력해주세요: \").split())\n",
    "\n",
    "i_list = []\n",
    "i_list.append(a)\n",
    "i_list.append(b)\n",
    "i_list.append(c)\n",
    "\n",
    "print(i_list)\n",
    "i_list.sort()\n",
    "print(i_list)\n",
    "\n",
    "if i_list[2] < i_list[0] + i_list[1]:\n",
    "    print(\"삼각형을 만들 수 있습니다.\")\n",
    "else:\n",
    "    print(\"삼각형을 만들 수 없습니다.\")"
   ]
  },
  {
   "cell_type": "code",
   "execution_count": 23,
   "metadata": {},
   "outputs": [
    {
     "name": "stdout",
     "output_type": "stream",
     "text": [
      "[5, 9, 3]\n",
      "삼각형을 만들 수 없습니다.\n"
     ]
    }
   ],
   "source": [
    "# 위 문제의 이상적인 코드를 다시 써보자\n",
    "\n",
    "i_list = list(map(int, input(\"세 변의 길이를 입력해주세요: \").split()))\n",
    "print(i_list)\n",
    "\n",
    "max_val = max(i_list)\n",
    "\n",
    "# index는, 해당 값이 리스트의 몇번째에서 첫 등장하는 지를 확인해줌\n",
    "max_idx = i_list.index(max_val)\n",
    "\n",
    "# 이 부분은 리턴값이 없음\n",
    "# 만일 i_list.pop(max_idx) 라고 했다면 결과는 같지만, 지워진 value를 리턴해줌\n",
    "del i_list[max_idx]\n",
    "\n",
    "\n",
    "if max_val < sum(i_list):\n",
    "    print(\"삼각형을 만들 수 있습니다.\")\n",
    "else:\n",
    "    print(\"삼각형을 만들 수 없습니다.\")"
   ]
  }
 ],
 "metadata": {
  "kernelspec": {
   "display_name": "Python 3",
   "language": "python",
   "name": "python3"
  },
  "language_info": {
   "codemirror_mode": {
    "name": "ipython",
    "version": 3
   },
   "file_extension": ".py",
   "mimetype": "text/x-python",
   "name": "python",
   "nbconvert_exporter": "python",
   "pygments_lexer": "ipython3",
   "version": "3.8.0"
  }
 },
 "nbformat": 4,
 "nbformat_minor": 2
}
