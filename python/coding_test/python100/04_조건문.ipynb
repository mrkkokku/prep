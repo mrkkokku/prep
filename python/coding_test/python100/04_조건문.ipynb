{
 "cells": [
  {
   "cell_type": "code",
   "execution_count": 6,
   "metadata": {},
   "outputs": [],
   "source": [
    "# 035 양수, 음수, 홀수, 짝수 구분하기\n",
    "\n",
    "'''\n",
    "0 이외의 정수를 한개 입력받고 구분하기\n",
    "'''\n",
    "\n",
    "t = int(input())\n",
    "\n",
    "if t > 0 and t % 2 == 0:\n",
    "    print(\"양수, 짝수\")\n",
    "elif t > 0 and t % 2 == 1:\n",
    "    print(\"양수, 홀수\")\n",
    "elif t < 0 and t % 2 == 0:\n",
    "    print(\"음수, 짝수\")\n",
    "elif t < 0 and t % 2 == 1:\n",
    "    print(\"움수, 홀수\")"
   ]
  }
 ],
 "metadata": {
  "kernelspec": {
   "display_name": "Python 3",
   "language": "python",
   "name": "python3"
  },
  "language_info": {
   "codemirror_mode": {
    "name": "ipython",
    "version": 3
   },
   "file_extension": ".py",
   "mimetype": "text/x-python",
   "name": "python",
   "nbconvert_exporter": "python",
   "pygments_lexer": "ipython3",
   "version": "3.8.0"
  }
 },
 "nbformat": 4,
 "nbformat_minor": 2
}
