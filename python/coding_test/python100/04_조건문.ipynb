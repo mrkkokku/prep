{
 "cells": [
  {
   "cell_type": "code",
   "execution_count": 1,
   "metadata": {},
   "outputs": [
    {
     "name": "stdout",
     "output_type": "stream",
     "text": [
      "양수, 홀수\n"
     ]
    }
   ],
   "source": [
    "# 035 양수, 음수, 홀수, 짝수 구분하기\n",
    "\n",
    "'''\n",
    "0 이외의 정수를 한개 입력받고 구분하기\n",
    "'''\n",
    "\n",
    "t = int(input())\n",
    "\n",
    "if t > 0 and t % 2 == 0:\n",
    "    print(\"양수, 짝수\")\n",
    "elif t > 0 and t % 2 == 1:\n",
    "    print(\"양수, 홀수\")\n",
    "elif t < 0 and t % 2 == 0:\n",
    "    print(\"음수, 짝수\")\n",
    "elif t < 0 and t % 2 == 1:\n",
    "    print(\"움수, 홀수\")"
   ]
  },
  {
   "cell_type": "code",
   "execution_count": 4,
   "metadata": {},
   "outputs": [
    {
     "name": "stdout",
     "output_type": "stream",
     "text": [
      "2020는 윤년 입니다\n"
     ]
    }
   ],
   "source": [
    "# 044 올해는 윤년일까?\n",
    "\n",
    "'''\n",
    "2월에 29일까지 있는 해가 윤년.\n",
    "\n",
    "윤년의 조건은\n",
    "4의 배수 AND (100의 배수가 아님 OR 400의 배수)\n",
    "'''\n",
    "\n",
    "i = int(input(\"연도를 입력하세요: \"))\n",
    "\n",
    "if i % 4 == 0 and (i % 100 != 0 or i % 400 == 0):\n",
    "    print(f\"{i}는 윤년 입니다\")\n",
    "else:\n",
    "    print(f\"{i}는 윤년이 아닙니다\")"
   ]
  },
  {
   "cell_type": "code",
   "execution_count": 7,
   "metadata": {},
   "outputs": [
    {
     "name": "stdout",
     "output_type": "stream",
     "text": [
      "1900년대 출생 남자\n"
     ]
    }
   ],
   "source": [
    "# 045 주민등록번호 분석기\n",
    "\n",
    "'''\n",
    "주민번호 뒷자리가\n",
    "1, 2로 시작하면 1900년대 출생한 남자 여자.\n",
    "3, 4로 시작하면 2000년대 출생한 남자 여자.\n",
    "\n",
    "이를 이용해 주민번호를 모두 입력받아 (200101-3111111)\n",
    "태어난 해를 표기하라\n",
    "'''\n",
    "\n",
    "i = str(input(\"주민등록번호 입력 : \"))\n",
    "\n",
    "i2 = int(i[7])\n",
    "\n",
    "if i2 == 1:\n",
    "    print(\"1900년대 출생 남자\")\n",
    "elif i2 == 2:\n",
    "    print(\"1900년대 출생 여자\")\n",
    "elif i2 == 3:\n",
    "    print(\"2000년대 출생 남자\")\n",
    "elif i2 == 4:\n",
    "    print(\"2000년대 출생 여자\")\n"
   ]
  }
 ],
 "metadata": {
  "kernelspec": {
   "display_name": "Python 3",
   "language": "python",
   "name": "python3"
  },
  "language_info": {
   "codemirror_mode": {
    "name": "ipython",
    "version": 3
   },
   "file_extension": ".py",
   "mimetype": "text/x-python",
   "name": "python",
   "nbconvert_exporter": "python",
   "pygments_lexer": "ipython3",
   "version": "3.8.0"
  }
 },
 "nbformat": 4,
 "nbformat_minor": 2
}
