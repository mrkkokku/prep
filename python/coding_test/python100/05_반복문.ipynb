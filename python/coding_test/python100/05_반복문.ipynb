{
 "cells": [
  {
   "cell_type": "code",
   "execution_count": 9,
   "metadata": {},
   "outputs": [
    {
     "name": "stdout",
     "output_type": "stream",
     "text": [
      "입력값 : 5초\n",
      "\n",
      "발사 5초 전\n",
      "발사 4초 전\n",
      "발사 3초 전\n",
      "발사 2초 전\n",
      "발사 1초 전\n",
      "발사!\n"
     ]
    }
   ],
   "source": [
    "# 051 로켓 카운트 다운\n",
    "'''\n",
    "숫자 하나를 입력받고, 해당 시간 후 \"발사\" 텍스트 출력\n",
    "'''\n",
    "\n",
    "count = int(input(\"카운트다운 몇 초 전인가요?\"))\n",
    "print(f\"입력값 : {count}초\\n\")\n",
    "\n",
    "# i의 값이 아래 문장에서 어떻게 처리되는지 주목\n",
    "for i in range(count, 0, -1):\n",
    "    print(f\"발사 {i}초 전\")\n",
    "print(\"발사!\")\n"
   ]
  },
  {
   "cell_type": "code",
   "execution_count": 12,
   "metadata": {},
   "outputs": [
    {
     "name": "stdout",
     "output_type": "stream",
     "text": [
      "입력값 : 5초\n",
      "\n",
      "발사 5초 전\n",
      "발사 4초 전\n",
      "발사 3초 전\n",
      "발사 2초 전\n",
      "발사 1초 전\n",
      "발사!\n"
     ]
    }
   ],
   "source": [
    "# 위 문제를 while로 처리하면 다음과 같음\n",
    "\n",
    "count = int(input(\"카운트다운 몇 초 전인가요?\"))\n",
    "print(f\"입력값 : {count}초\\n\")\n",
    "\n",
    "while count > 0:\n",
    "    print(f\"발사 {count}초 전\")\n",
    "    count -= 1\n",
    "print(\"발사!\")"
   ]
  },
  {
   "cell_type": "code",
   "execution_count": 21,
   "metadata": {},
   "outputs": [
    {
     "name": "stdout",
     "output_type": "stream",
     "text": [
      "입력값은 15 입니다\n",
      "\n",
      "합은 120 입니다\n"
     ]
    }
   ],
   "source": [
    "# 052 1부터 100까지 모두 합한 수\n",
    "\n",
    "'''\n",
    "1이상의 수를 입력받은 뒤\n",
    "1부터 해당 수 까지의 합을 구하시오\n",
    "(for문 이용)\n",
    "'''\n",
    "\n",
    "data = int(input(\"마지막 숫자를 입력하세요 : \"))\n",
    "print(f\"입력값은 {data} 입니다\\n\")\n",
    "\n",
    "# for문 설정에 사용되는 값이 아니므로 초기화 해주고 진행해야함\n",
    "sum = 0 \n",
    "\n",
    "for i in range(1, data + 1, 1):\n",
    "    sum += i\n",
    "\n",
    "print(f\"합은 {sum} 입니다\")"
   ]
  },
  {
   "cell_type": "code",
   "execution_count": 4,
   "metadata": {},
   "outputs": [
    {
     "name": "stdout",
     "output_type": "stream",
     "text": [
      "총 박수를 친 횟수는 : 3회 입니다\n"
     ]
    }
   ],
   "source": [
    "# 유사한 추가 문제\n",
    "\n",
    "'''\n",
    "숫자에 3, 6, 9가 포함된 수 만큼 박수를 치는 게임을 한다고하자.\n",
    "입력된 숫자까지 진행하는 동안 박수를 친 횟수는 총 몇번인지 구하라\n",
    "'''\n",
    "\n",
    "a = int(input(\"숫자를 입력하세요 : \"))\n",
    "\n",
    "result = 0 # python도 이런 때엔 초기화 하는 것으로 하자\n",
    "\n",
    "for i in range(a+1):\n",
    "    i = str(i)\n",
    "\n",
    "    result += i.count('3')\n",
    "    result += i.count('6')\n",
    "    result += i.count('9')\n",
    "\n",
    "print(f\"총 박수를 친 횟수는 : {result}회 입니다\")"
   ]
  },
  {
   "cell_type": "code",
   "execution_count": 1,
   "metadata": {},
   "outputs": [
    {
     "name": "stdout",
     "output_type": "stream",
     "text": [
      "입력값은 15 입니다\n",
      "\n",
      "1부터 15까지의 총 합은 120입니다.\n"
     ]
    }
   ],
   "source": [
    "# 053 52번 문제를 while 문으로 구현하기\n",
    "\n",
    "data = int(input(\"마지막 숫자를 입력하세요 : \"))\n",
    "print(f\"입력값은 {data} 입니다\\n\")\n",
    "\n",
    "i = 1\n",
    "sum = 0\n",
    "\n",
    "while data >= i:\n",
    "    sum += i\n",
    "    i += 1\n",
    "\n",
    "print(f\"1부터 {data}까지의 총 합은 {sum}입니다.\")"
   ]
  },
  {
   "cell_type": "code",
   "execution_count": 4,
   "metadata": {},
   "outputs": [
    {
     "name": "stdout",
     "output_type": "stream",
     "text": [
      "입력된 숫자는 10 입니다.\n",
      "입력된 숫자는 9 입니다.\n",
      "입력된 숫자는 5 입니다.\n",
      "종료합니다\n"
     ]
    }
   ],
   "source": [
    "# 054 음수가 나올 때까지 반복하기\n",
    "\n",
    "'''\n",
    "입력된 수가 0 이상이면 입력값을 그대로 출력하고\n",
    "음수가 입력되면 프로그램을 종료하는 코드를\n",
    "while문 활용해 작성하세요\n",
    "'''\n",
    "\n",
    "while True:\n",
    "    a = int(input(\"숫자를 입력하세요 : \"))\n",
    "\n",
    "    if a >= 0:\n",
    "        print(f\"입력된 숫자는 {a} 입니다.\")\n",
    "    else:\n",
    "        print(\"종료합니다\")\n",
    "        break"
   ]
  },
  {
   "cell_type": "code",
   "execution_count": 7,
   "metadata": {},
   "outputs": [
    {
     "name": "stdout",
     "output_type": "stream",
     "text": [
      "1 2 3 4 5 6 7 8 9 10 "
     ]
    }
   ],
   "source": [
    "# 055 옆으로 출력하기\n",
    "\n",
    "'''\n",
    "1부터 10까지 공백을 포함해서 한줄로 출력하는 코드를 작성하세요\n",
    "'''\n",
    "\n",
    "# print함수가 기본적으로 \\n를 포함하는데,\n",
    "# 아래와 같이 end 옵션을 통해 조절하여 처리\n",
    "\n",
    "for i in range(1, 11, 1):\n",
    "    print(f\"{i}\", end=\" \")"
   ]
  },
  {
   "cell_type": "code",
   "execution_count": 15,
   "metadata": {},
   "outputs": [
    {
     "name": "stdout",
     "output_type": "stream",
     "text": [
      "1 + 2 + 3 + 4 + 5 + 6 + 7 + 8 + 9 + 10 = 55\n"
     ]
    }
   ],
   "source": [
    "# 056 두개의 양수 두개를 입력 받고 그 합을 구하는 것\n",
    "\n",
    "'''\n",
    "작은 양수 먼저 입력받고\n",
    "큰 양수 입력 받은 뒤\n",
    "두 사이의 모든 정수를 더한 값을 표기하는 프로그램\n",
    "'''\n",
    "\n",
    "a = int(input(\"첫 번째 숫자를 입력하세요 : \"))\n",
    "b = int(input(\"두 번째 숫자를 입력하세요 : \"))\n",
    "sum = 0\n",
    "\n",
    "for i in range(a, b+1, 1):\n",
    "    sum += i\n",
    "\n",
    "    # 더하기 부호 표기를 처리하기 위해 분기처리한 것 주목\n",
    "    if i != b:\n",
    "        print(f\"{i}\", end=' + ')\n",
    "    else:\n",
    "        print(f\"{i}\", end='')\n",
    "\n",
    "print(f\" = {sum}\")"
   ]
  },
  {
   "cell_type": "code",
   "execution_count": 2,
   "metadata": {},
   "outputs": [
    {
     "name": "stdout",
     "output_type": "stream",
     "text": [
      "1부터 200까지 중 짝수들만의 합은 10100 입니다\n"
     ]
    }
   ],
   "source": [
    "# 057 짝수들만 합하기\n",
    "\n",
    "'''\n",
    "양수 두개 입력받아서 \n",
    "두 숫자 사이의 짝수들의 숫자만 모두 합하는 코드를 작성하시오\n",
    "'''\n",
    "\n",
    "a, b = map(int, input(\"숫자 두개를 한칸 띄고 입력하세요 : \").split())\n",
    "sum = 0\n",
    "\n",
    "for i in range(a, b+1, 1):\n",
    "    if i % 2 == 0:\n",
    "        sum += i\n",
    "    else:\n",
    "        pass\n",
    "\n",
    "print(f\"{a}부터 {b}까지 중 짝수들만의 합은 {sum} 입니다\")"
   ]
  },
  {
   "cell_type": "code",
   "execution_count": 11,
   "metadata": {},
   "outputs": [
    {
     "name": "stdout",
     "output_type": "stream",
     "text": [
      "첫번째 주사위 값 : 1, 두번째 주사위 값 : 1, 둘의 합 : 5\n",
      "첫번째 주사위 값 : 1, 두번째 주사위 값 : 2, 둘의 합 : 6\n",
      "첫번째 주사위 값 : 1, 두번째 주사위 값 : 3, 둘의 합 : 7\n",
      "첫번째 주사위 값 : 1, 두번째 주사위 값 : 4, 둘의 합 : 8\n",
      "첫번째 주사위 값 : 2, 두번째 주사위 값 : 1, 둘의 합 : 6\n",
      "첫번째 주사위 값 : 2, 두번째 주사위 값 : 2, 둘의 합 : 7\n",
      "첫번째 주사위 값 : 2, 두번째 주사위 값 : 3, 둘의 합 : 8\n",
      "첫번째 주사위 값 : 2, 두번째 주사위 값 : 4, 둘의 합 : 9\n",
      "첫번째 주사위 값 : 3, 두번째 주사위 값 : 1, 둘의 합 : 7\n",
      "첫번째 주사위 값 : 3, 두번째 주사위 값 : 2, 둘의 합 : 8\n",
      "첫번째 주사위 값 : 3, 두번째 주사위 값 : 3, 둘의 합 : 9\n",
      "첫번째 주사위 값 : 3, 두번째 주사위 값 : 4, 둘의 합 : 10\n",
      "첫번째 주사위 값 : 4, 두번째 주사위 값 : 1, 둘의 합 : 8\n",
      "첫번째 주사위 값 : 4, 두번째 주사위 값 : 2, 둘의 합 : 9\n",
      "첫번째 주사위 값 : 4, 두번째 주사위 값 : 3, 둘의 합 : 10\n",
      "첫번째 주사위 값 : 4, 두번째 주사위 값 : 4, 둘의 합 : 11\n",
      "\n",
      "모든 경우의 수는 : 16 가지\n"
     ]
    }
   ],
   "source": [
    "# 058 삼각뿔 주사위\n",
    "\n",
    "'''\n",
    "1부터 4까지 숫자가 적힌 삼각뿔 모양 주사위와\n",
    "4부터 7까지 적힌 주사위가 있다.\n",
    "\n",
    "던져서 나온 숫자는 바닥과 닿는 면이라고 정할 때,\n",
    "\n",
    "두개 동시에 던져서 나올 수 있는 모든 경우의 수와 합을\n",
    "출력하는 코드를 작성하시오\n",
    "\n",
    "+ 모든 경우의 수도 출력해보자\n",
    "'''\n",
    "\n",
    "a = [1, 2, 3, 4]\n",
    "b = [4, 5, 6, 7]\n",
    "cnt = 0\n",
    "\n",
    "for i in range(len(a)):\n",
    "    for j in range(len(b)):\n",
    "        print(f\"첫번째 주사위 값 : {a[i]}, 두번째 주사위 값 : {a[j]}, 둘의 합 : {a[i] + b[j]}\")\n",
    "        cnt += 1\n",
    "\n",
    "print(f\"\\n모든 경우의 수는 : {cnt} 가지\")"
   ]
  },
  {
   "cell_type": "code",
   "execution_count": 1,
   "metadata": {},
   "outputs": [
    {
     "name": "stdout",
     "output_type": "stream",
     "text": [
      "a : 1, b: 1, c: 5\n",
      "a : 1, b: 2, c: 4\n",
      "a : 1, b: 3, c: 3\n",
      "a : 1, b: 4, c: 2\n",
      "a : 1, b: 5, c: 1\n",
      "a : 2, b: 1, c: 4\n",
      "a : 2, b: 2, c: 3\n",
      "a : 2, b: 3, c: 2\n",
      "a : 2, b: 4, c: 1\n",
      "a : 3, b: 1, c: 3\n",
      "a : 3, b: 2, c: 2\n",
      "a : 3, b: 3, c: 1\n",
      "a : 4, b: 1, c: 2\n",
      "a : 4, b: 2, c: 1\n",
      "a : 5, b: 1, c: 1\n",
      "모든 경우의 수는 15가지 입니다\n"
     ]
    }
   ],
   "source": [
    "# 059 추가문제\n",
    "\n",
    "'''\n",
    "1부터 6까지 있는 주사위 3개를 던져서\n",
    "숫자 합이 7이되는 경우를 모두 출력하는 코드 작성\n",
    "'''\n",
    "\n",
    "a = [1, 2, 3, 4, 5, 6]\n",
    "b = [1, 2, 3, 4, 5, 6]\n",
    "c = [1, 2, 3, 4, 5, 6]\n",
    "cnt = 0\n",
    "\n",
    "for i in range(len(a)):\n",
    "    for j in range(len(b)):\n",
    "        for k in range(len(c)):\n",
    "            if a[i] + b[j] + c[k] == 7:\n",
    "                print(f\"a : {a[i]}, b: {b[j]}, c: {c[k]}\")\n",
    "                cnt += 1\n",
    "print(f\"모든 경우의 수는 {cnt}가지 입니다\")"
   ]
  },
  {
   "cell_type": "code",
   "execution_count": 20,
   "metadata": {},
   "outputs": [
    {
     "data": {
      "text/plain": [
       "'\\n이거 나중에 다시 풀자\\n'"
      ]
     },
     "execution_count": 20,
     "metadata": {},
     "output_type": "execute_result"
    }
   ],
   "source": [
    "# 065 X 모양 별 찍기\n",
    "\n",
    "'''\n",
    "큰 X 모양의 별을 그리는 코드를 작성해보자\n",
    "'''\n",
    "\n",
    "a_star = '*'\n",
    "b_space = ' '\n",
    "\n",
    "'''\n",
    "이거 나중에 다시 풀자\n",
    "'''"
   ]
  },
  {
   "cell_type": "code",
   "execution_count": 21,
   "metadata": {},
   "outputs": [
    {
     "name": "stdout",
     "output_type": "stream",
     "text": [
      "*        *\n",
      " *      * \n",
      "  *    *  \n",
      "   *  *   \n",
      "    **    \n",
      "    **    \n",
      "   *  *   \n",
      "  *    *  \n",
      " *      * \n",
      "*        *\n"
     ]
    }
   ],
   "source": [
    "'''\n",
    "위의 것의 책 답안\n",
    "'''\n",
    "\n",
    "for i in range(10):\n",
    "    for j in range(10):\n",
    "        if i == j or i + j == 9:\n",
    "            print('*', end='')\n",
    "        else:\n",
    "            print(' ', end='')\n",
    "    print()"
   ]
  },
  {
   "cell_type": "code",
   "execution_count": 24,
   "metadata": {},
   "outputs": [
    {
     "name": "stdout",
     "output_type": "stream",
     "text": [
      "입력 받은 값은 아래와 같다\n",
      "apple banana\n",
      "\n",
      "'a'를 제거한 값은 아래와 같다\n",
      "pple bnn"
     ]
    }
   ],
   "source": [
    "# 066 for문과 문자열의 만남\n",
    "\n",
    "'''\n",
    "다음과 같이 문자열을 입력받아서 문자열에 포함된 문자 중 \n",
    "'a'는 제외하고 출력하는 코드를 작성해보자\n",
    "'''\n",
    "\n",
    "in_str = list(map(str, input(\"하나의 문자열을 입력하세요 : \")))\n",
    "\n",
    "\n",
    "print(\"입력 받은 값은 아래와 같다\")\n",
    "\n",
    "for i in in_str:\n",
    "    print(i, end='')\n",
    "print()\n",
    "print()\n",
    "\n",
    "print(\"'a'를 제거한 값은 아래와 같다\")\n",
    "\n",
    "for i in in_str:\n",
    "    if i != 'a':\n",
    "        print(i, end='')"
   ]
  }
 ],
 "metadata": {
  "kernelspec": {
   "display_name": "Python 3",
   "language": "python",
   "name": "python3"
  },
  "language_info": {
   "codemirror_mode": {
    "name": "ipython",
    "version": 3
   },
   "file_extension": ".py",
   "mimetype": "text/x-python",
   "name": "python",
   "nbconvert_exporter": "python",
   "pygments_lexer": "ipython3",
   "version": "3.8.0"
  }
 },
 "nbformat": 4,
 "nbformat_minor": 2
}
