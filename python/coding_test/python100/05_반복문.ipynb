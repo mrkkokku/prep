{
 "cells": [
  {
   "cell_type": "code",
   "execution_count": 9,
   "metadata": {},
   "outputs": [
    {
     "name": "stdout",
     "output_type": "stream",
     "text": [
      "입력값 : 5초\n",
      "\n",
      "발사 5초 전\n",
      "발사 4초 전\n",
      "발사 3초 전\n",
      "발사 2초 전\n",
      "발사 1초 전\n",
      "발사!\n"
     ]
    }
   ],
   "source": [
    "# 051 로켓 카운트 다운\n",
    "'''\n",
    "숫자 하나를 입력받고, 해당 시간 후 \"발사\" 텍스트 출력\n",
    "'''\n",
    "\n",
    "count = int(input(\"카운트다운 몇 초 전인가요?\"))\n",
    "print(f\"입력값 : {count}초\\n\")\n",
    "\n",
    "# i의 값이 아래 문장에서 어떻게 처리되는지 주목\n",
    "for i in range(count, 0, -1):\n",
    "    print(f\"발사 {i}초 전\")\n",
    "print(\"발사!\")\n"
   ]
  },
  {
   "cell_type": "code",
   "execution_count": 12,
   "metadata": {},
   "outputs": [
    {
     "name": "stdout",
     "output_type": "stream",
     "text": [
      "입력값 : 5초\n",
      "\n",
      "발사 5초 전\n",
      "발사 4초 전\n",
      "발사 3초 전\n",
      "발사 2초 전\n",
      "발사 1초 전\n",
      "발사!\n"
     ]
    }
   ],
   "source": [
    "# 위 문제를 while로 처리하면 다음과 같음\n",
    "\n",
    "count = int(input(\"카운트다운 몇 초 전인가요?\"))\n",
    "print(f\"입력값 : {count}초\\n\")\n",
    "\n",
    "while count > 0:\n",
    "    print(f\"발사 {count}초 전\")\n",
    "    count -= 1\n",
    "print(\"발사!\")"
   ]
  },
  {
   "cell_type": "code",
   "execution_count": 21,
   "metadata": {},
   "outputs": [
    {
     "name": "stdout",
     "output_type": "stream",
     "text": [
      "입력값은 15 입니다\n",
      "\n",
      "합은 120 입니다\n"
     ]
    }
   ],
   "source": [
    "# 052 1부터 100까지 모두 합한 수\n",
    "\n",
    "'''\n",
    "1이상의 수를 입력받은 뒤\n",
    "1부터 해당 수 까지의 합을 구하시오\n",
    "(for문 이용)\n",
    "'''\n",
    "\n",
    "data = int(input(\"마지막 숫자를 입력하세요 : \"))\n",
    "print(f\"입력값은 {data} 입니다\\n\")\n",
    "\n",
    "# for문 설정에 사용되는 값이 아니므로 초기화 해주고 진행해야함\n",
    "sum = 0 \n",
    "\n",
    "for i in range(1, data + 1, 1):\n",
    "    sum += i\n",
    "\n",
    "print(f\"합은 {sum} 입니다\")"
   ]
  },
  {
   "cell_type": "code",
   "execution_count": 4,
   "metadata": {},
   "outputs": [
    {
     "name": "stdout",
     "output_type": "stream",
     "text": [
      "총 박수를 친 횟수는 : 3회 입니다\n"
     ]
    }
   ],
   "source": [
    "# 유사한 추가 문제\n",
    "\n",
    "'''\n",
    "숫자에 3, 6, 9가 포함된 수 만큼 박수를 치는 게임을 한다고하자.\n",
    "입력된 숫자까지 진행하는 동안 박수를 친 횟수는 총 몇번인지 구하라\n",
    "'''\n",
    "\n",
    "a = int(input(\"숫자를 입력하세요 : \"))\n",
    "\n",
    "result = 0 # python도 이런 때엔 초기화 하는 것으로 하자\n",
    "\n",
    "for i in range(a+1):\n",
    "    i = str(i)\n",
    "\n",
    "    result += i.count('3')\n",
    "    result += i.count('6')\n",
    "    result += i.count('9')\n",
    "\n",
    "print(f\"총 박수를 친 횟수는 : {result}회 입니다\")"
   ]
  },
  {
   "cell_type": "code",
   "execution_count": 1,
   "metadata": {},
   "outputs": [
    {
     "name": "stdout",
     "output_type": "stream",
     "text": [
      "입력값은 15 입니다\n",
      "\n",
      "1부터 15까지의 총 합은 120입니다.\n"
     ]
    }
   ],
   "source": [
    "# 053 52번 문제를 while 문으로 구현하기\n",
    "\n",
    "data = int(input(\"마지막 숫자를 입력하세요 : \"))\n",
    "print(f\"입력값은 {data} 입니다\\n\")\n",
    "\n",
    "i = 1\n",
    "sum = 0\n",
    "\n",
    "while data >= i:\n",
    "    sum += i\n",
    "    i += 1\n",
    "\n",
    "print(f\"1부터 {data}까지의 총 합은 {sum}입니다.\")"
   ]
  },
  {
   "cell_type": "code",
   "execution_count": 4,
   "metadata": {},
   "outputs": [
    {
     "name": "stdout",
     "output_type": "stream",
     "text": [
      "입력된 숫자는 10 입니다.\n",
      "입력된 숫자는 9 입니다.\n",
      "입력된 숫자는 5 입니다.\n",
      "종료합니다\n"
     ]
    }
   ],
   "source": [
    "# 054 음수가 나올 때까지 반복하기\n",
    "\n",
    "'''\n",
    "입력된 수가 0 이상이면 입력값을 그대로 출력하고\n",
    "음수가 입력되면 프로그램을 종료하는 코드를\n",
    "while문 활용해 작성하세요\n",
    "'''\n",
    "\n",
    "while True:\n",
    "    a = int(input(\"숫자를 입력하세요 : \"))\n",
    "\n",
    "    if a >= 0:\n",
    "        print(f\"입력된 숫자는 {a} 입니다.\")\n",
    "    else:\n",
    "        print(\"종료합니다\")\n",
    "        break"
   ]
  },
  {
   "cell_type": "code",
   "execution_count": 7,
   "metadata": {},
   "outputs": [
    {
     "name": "stdout",
     "output_type": "stream",
     "text": [
      "1 2 3 4 5 6 7 8 9 10 "
     ]
    }
   ],
   "source": [
    "# 055 옆으로 출력하기\n",
    "\n",
    "'''\n",
    "1부터 10까지 공백을 포함해서 한줄로 출력하는 코드를 작성하세요\n",
    "'''\n",
    "\n",
    "# print함수가 기본적으로 \\n를 포함하는데,\n",
    "# 아래와 같이 end 옵션을 통해 조절하여 처리\n",
    "\n",
    "for i in range(1, 11, 1):\n",
    "    print(f\"{i}\", end=\" \")"
   ]
  },
  {
   "cell_type": "code",
   "execution_count": 15,
   "metadata": {},
   "outputs": [
    {
     "name": "stdout",
     "output_type": "stream",
     "text": [
      "1 + 2 + 3 + 4 + 5 + 6 + 7 + 8 + 9 + 10 = 55\n"
     ]
    }
   ],
   "source": [
    "# 056 두개의 양수 두개를 입력 받고 그 합을 구하는 것\n",
    "\n",
    "'''\n",
    "작은 양수 먼저 입력받고\n",
    "큰 양수 입력 받은 뒤\n",
    "두 사이의 모든 정수를 더한 값을 표기하는 프로그램\n",
    "'''\n",
    "\n",
    "a = int(input(\"첫 번째 숫자를 입력하세요 : \"))\n",
    "b = int(input(\"두 번째 숫자를 입력하세요 : \"))\n",
    "sum = 0\n",
    "\n",
    "for i in range(a, b+1, 1):\n",
    "    sum += i\n",
    "\n",
    "    # 더하기 부호 표기를 처리하기 위해 분기처리한 것 주목\n",
    "    if i != b:\n",
    "        print(f\"{i}\", end=' + ')\n",
    "    else:\n",
    "        print(f\"{i}\", end='')\n",
    "\n",
    "print(f\" = {sum}\")"
   ]
  },
  {
   "cell_type": "code",
   "execution_count": 2,
   "metadata": {},
   "outputs": [
    {
     "name": "stdout",
     "output_type": "stream",
     "text": [
      "1부터 200까지 중 짝수들만의 합은 10100 입니다\n"
     ]
    }
   ],
   "source": [
    "# 057 짝수들만 합하기\n",
    "\n",
    "'''\n",
    "양수 두개 입력받아서 \n",
    "두 숫자 사이의 짝수들의 숫자만 모두 합하는 코드를 작성하시오\n",
    "'''\n",
    "\n",
    "a, b = map(int, input(\"숫자 두개를 한칸 띄고 입력하세요 : \").split())\n",
    "sum = 0\n",
    "\n",
    "for i in range(a, b+1, 1):\n",
    "    if i % 2 == 0:\n",
    "        sum += i\n",
    "    else:\n",
    "        pass\n",
    "\n",
    "print(f\"{a}부터 {b}까지 중 짝수들만의 합은 {sum} 입니다\")"
   ]
  },
  {
   "cell_type": "code",
   "execution_count": 11,
   "metadata": {},
   "outputs": [
    {
     "name": "stdout",
     "output_type": "stream",
     "text": [
      "첫번째 주사위 값 : 1, 두번째 주사위 값 : 1, 둘의 합 : 5\n",
      "첫번째 주사위 값 : 1, 두번째 주사위 값 : 2, 둘의 합 : 6\n",
      "첫번째 주사위 값 : 1, 두번째 주사위 값 : 3, 둘의 합 : 7\n",
      "첫번째 주사위 값 : 1, 두번째 주사위 값 : 4, 둘의 합 : 8\n",
      "첫번째 주사위 값 : 2, 두번째 주사위 값 : 1, 둘의 합 : 6\n",
      "첫번째 주사위 값 : 2, 두번째 주사위 값 : 2, 둘의 합 : 7\n",
      "첫번째 주사위 값 : 2, 두번째 주사위 값 : 3, 둘의 합 : 8\n",
      "첫번째 주사위 값 : 2, 두번째 주사위 값 : 4, 둘의 합 : 9\n",
      "첫번째 주사위 값 : 3, 두번째 주사위 값 : 1, 둘의 합 : 7\n",
      "첫번째 주사위 값 : 3, 두번째 주사위 값 : 2, 둘의 합 : 8\n",
      "첫번째 주사위 값 : 3, 두번째 주사위 값 : 3, 둘의 합 : 9\n",
      "첫번째 주사위 값 : 3, 두번째 주사위 값 : 4, 둘의 합 : 10\n",
      "첫번째 주사위 값 : 4, 두번째 주사위 값 : 1, 둘의 합 : 8\n",
      "첫번째 주사위 값 : 4, 두번째 주사위 값 : 2, 둘의 합 : 9\n",
      "첫번째 주사위 값 : 4, 두번째 주사위 값 : 3, 둘의 합 : 10\n",
      "첫번째 주사위 값 : 4, 두번째 주사위 값 : 4, 둘의 합 : 11\n",
      "\n",
      "모든 경우의 수는 : 16 가지\n"
     ]
    }
   ],
   "source": [
    "# 058 삼각뿔 주사위\n",
    "\n",
    "'''\n",
    "1부터 4까지 숫자가 적힌 삼각뿔 모양 주사위와\n",
    "4부터 7까지 적힌 주사위가 있다.\n",
    "\n",
    "던져서 나온 숫자는 바닥과 닿는 면이라고 정할 때,\n",
    "\n",
    "두개 동시에 던져서 나올 수 있는 모든 경우의 수와 합을\n",
    "출력하는 코드를 작성하시오\n",
    "\n",
    "+ 모든 경우의 수도 출력해보자\n",
    "'''\n",
    "\n",
    "a = [1, 2, 3, 4]\n",
    "b = [4, 5, 6, 7]\n",
    "cnt = 0\n",
    "\n",
    "for i in range(len(a)):\n",
    "    for j in range(len(b)):\n",
    "        print(f\"첫번째 주사위 값 : {a[i]}, 두번째 주사위 값 : {a[j]}, 둘의 합 : {a[i] + b[j]}\")\n",
    "        cnt += 1\n",
    "\n",
    "print(f\"\\n모든 경우의 수는 : {cnt} 가지\")"
   ]
  },
  {
   "cell_type": "code",
   "execution_count": 1,
   "metadata": {},
   "outputs": [
    {
     "name": "stdout",
     "output_type": "stream",
     "text": [
      "a : 1, b: 1, c: 5\n",
      "a : 1, b: 2, c: 4\n",
      "a : 1, b: 3, c: 3\n",
      "a : 1, b: 4, c: 2\n",
      "a : 1, b: 5, c: 1\n",
      "a : 2, b: 1, c: 4\n",
      "a : 2, b: 2, c: 3\n",
      "a : 2, b: 3, c: 2\n",
      "a : 2, b: 4, c: 1\n",
      "a : 3, b: 1, c: 3\n",
      "a : 3, b: 2, c: 2\n",
      "a : 3, b: 3, c: 1\n",
      "a : 4, b: 1, c: 2\n",
      "a : 4, b: 2, c: 1\n",
      "a : 5, b: 1, c: 1\n",
      "모든 경우의 수는 15가지 입니다\n"
     ]
    }
   ],
   "source": [
    "# 059 추가문제\n",
    "\n",
    "'''\n",
    "1부터 6까지 있는 주사위 3개를 던져서\n",
    "숫자 합이 7이되는 경우를 모두 출력하는 코드 작성\n",
    "'''\n",
    "\n",
    "a = [1, 2, 3, 4, 5, 6]\n",
    "b = [1, 2, 3, 4, 5, 6]\n",
    "c = [1, 2, 3, 4, 5, 6]\n",
    "cnt = 0\n",
    "\n",
    "for i in range(len(a)):\n",
    "    for j in range(len(b)):\n",
    "        for k in range(len(c)):\n",
    "            if a[i] + b[j] + c[k] == 7:\n",
    "                print(f\"a : {a[i]}, b: {b[j]}, c: {c[k]}\")\n",
    "                cnt += 1\n",
    "print(f\"모든 경우의 수는 {cnt}가지 입니다\")"
   ]
  },
  {
   "cell_type": "code",
   "execution_count": 20,
   "metadata": {},
   "outputs": [
    {
     "data": {
      "text/plain": [
       "'\\n이거 나중에 다시 풀자\\n'"
      ]
     },
     "execution_count": 20,
     "metadata": {},
     "output_type": "execute_result"
    }
   ],
   "source": [
    "# 065 X 모양 별 찍기\n",
    "\n",
    "'''\n",
    "큰 X 모양의 별을 그리는 코드를 작성해보자\n",
    "'''\n",
    "\n",
    "a_star = '*'\n",
    "b_space = ' '\n",
    "\n",
    "'''\n",
    "이거 나중에 다시 풀자\n",
    "'''"
   ]
  },
  {
   "cell_type": "code",
   "execution_count": 21,
   "metadata": {},
   "outputs": [
    {
     "name": "stdout",
     "output_type": "stream",
     "text": [
      "*        *\n",
      " *      * \n",
      "  *    *  \n",
      "   *  *   \n",
      "    **    \n",
      "    **    \n",
      "   *  *   \n",
      "  *    *  \n",
      " *      * \n",
      "*        *\n"
     ]
    }
   ],
   "source": [
    "'''\n",
    "위의 것의 책 답안\n",
    "'''\n",
    "\n",
    "for i in range(10):\n",
    "    for j in range(10):\n",
    "        if i == j or i + j == 9:\n",
    "            print('*', end='')\n",
    "        else:\n",
    "            print(' ', end='')\n",
    "    print()"
   ]
  },
  {
   "cell_type": "code",
   "execution_count": 1,
   "metadata": {},
   "outputs": [
    {
     "name": "stdout",
     "output_type": "stream",
     "text": [
      "입력 받은 값은 아래와 같다\n",
      "banana apple\n",
      "\n",
      "'a'를 제거한 값은 아래와 같다\n",
      "bnn pple"
     ]
    }
   ],
   "source": [
    "# 066 for문과 문자열의 만남\n",
    "\n",
    "'''\n",
    "다음과 같이 문자열을 입력받아서 문자열에 포함된 문자 중 \n",
    "'a'는 제외하고 출력하는 코드를 작성해보자\n",
    "'''\n",
    "\n",
    "in_str = list(map(str, input(\"하나의 문자열을 입력하세요 : \")))\n",
    "\n",
    "\n",
    "print(\"입력 받은 값은 아래와 같다\")\n",
    "\n",
    "for i in in_str:\n",
    "    print(i, end='')\n",
    "print()\n",
    "print()\n",
    "\n",
    "print(\"'a'를 제거한 값은 아래와 같다\")\n",
    "\n",
    "for i in in_str:\n",
    "    if i != 'a':\n",
    "        print(i, end='')"
   ]
  },
  {
   "cell_type": "code",
   "execution_count": 7,
   "metadata": {},
   "outputs": [
    {
     "name": "stdout",
     "output_type": "stream",
     "text": [
      "1번 친구 우진을 소개합니다!\n",
      "2번 친구 시은을 소개합니다!\n",
      "3번 친구 지연을 소개합니다!\n",
      "4번 친구 지훈을 소개합니다!\n"
     ]
    }
   ],
   "source": [
    "# 067 for문과 list의 만남\n",
    "\n",
    "'''\n",
    "친구 이름 명단을 활용해\n",
    "소개하는 문장을 출력하기\n",
    "'''\n",
    "\n",
    "f_list = ['우진', '시은', '지연','지훈']\n",
    "cnt = 1\n",
    "\n",
    "for i in f_list:\n",
    "    print(f\"{cnt}번 친구 {i}을 소개합니다!\")\n",
    "    cnt += 1"
   ]
  },
  {
   "cell_type": "code",
   "execution_count": 11,
   "metadata": {},
   "outputs": [
    {
     "name": "stdout",
     "output_type": "stream",
     "text": [
      "1 2 3 4 6 7 8 9 11 12 13 14 16 17 18 19 21 22 23 24 26 27 28 29 "
     ]
    }
   ],
   "source": [
    "# 068 continue 활용하기\n",
    "\n",
    "'''\n",
    "다음과 같이 1부터 30까지 출력하되\n",
    "5의 배수는 생략하는 코드를 작성\n",
    "'''\n",
    "\n",
    "for i in range(1, 30, 1):\n",
    "    if i % 5 == 0:\n",
    "        continue\n",
    "    else:\n",
    "        print(i, end=' ')"
   ]
  },
  {
   "cell_type": "code",
   "execution_count": 14,
   "metadata": {},
   "outputs": [
    {
     "name": "stdout",
     "output_type": "stream",
     "text": [
      "100번째 숫자는 498입니다\n"
     ]
    }
   ],
   "source": [
    "# 069 continue 활용하기2\n",
    "\n",
    "'''\n",
    "3부터 시작해서 5씩 더해지는 공차수열에서,\n",
    "100번째 숫자는 무엇인지 구하는 코드 작성 (for 이용)\n",
    "'''\n",
    "\n",
    "cnt = 0\n",
    "\n",
    "for i in range(3, 1000, 5):\n",
    "    \n",
    "    cnt += 1\n",
    "    \n",
    "    if cnt == 100:\n",
    "        print(f\"{cnt}번째 숫자는 {i}입니다\")\n",
    "        break\n",
    "    else:\n",
    "        continue"
   ]
  },
  {
   "cell_type": "code",
   "execution_count": 1,
   "metadata": {},
   "outputs": [
    {
     "name": "stdout",
     "output_type": "stream",
     "text": [
      "498\n"
     ]
    }
   ],
   "source": [
    "'''\n",
    "사실 위의 문제에선 while 쓰는게 더 적합한데,\n",
    "왜냐면 몇번 수행해야할지 알 수 없는 상태에서\n",
    "시작하기 때문.\n",
    "'''\n",
    "\n",
    "a = 3\n",
    "d = 5\n",
    "i = 0\n",
    "cnt = 1\n",
    "\n",
    "while True:\n",
    "    x = a + (i * d)\n",
    "\n",
    "    if cnt == 100:\n",
    "        print(x)\n",
    "        break\n",
    "\n",
    "    i += 1\n",
    "    cnt += 1\n"
   ]
  },
  {
   "cell_type": "code",
   "execution_count": 6,
   "metadata": {},
   "outputs": [
    {
     "name": "stdout",
     "output_type": "stream",
     "text": [
      "1\n"
     ]
    }
   ],
   "source": [
    "# 070 세개의 숫자를 입력받고 가장 작은 숫자 출력하기\n",
    "\n",
    "a = list(map(int, input(\"숫자 3개 입력하세요 : \").split()))\n",
    "\n",
    "print(f\"min : {min(a)}\")"
   ]
  },
  {
   "cell_type": "code",
   "execution_count": 22,
   "metadata": {},
   "outputs": [
    {
     "name": "stdout",
     "output_type": "stream",
     "text": [
      "\n",
      "\n",
      "[1]에서 통과 불가능\n"
     ]
    }
   ],
   "source": [
    "# 071 터널 통과하기\n",
    "\n",
    "'''\n",
    "첫 입력은 트럭의 높기\n",
    "두번째 입력은 터널의 높이 3개 입력받고\n",
    "\n",
    "결과적으로 통과 가능한지 불가한지 출력하기\n",
    "'''\n",
    "\n",
    "t = int(input(\"트럭의 높이 : \"))\n",
    "print(\"\\n\")\n",
    "tunnel = list(map(int, input(\"터널의 높이 3개 : \").split()))\n",
    "\n",
    "result = [] # 통과안되는 터널의 높이 기록\n",
    "\n",
    "for i in range(len(tunnel)):\n",
    "    if tunnel[i] <= t:\n",
    "        result.append(tunnel[i])\n",
    "\n",
    "if result == []:\n",
    "    print(\"통과 가능\")\n",
    "else:\n",
    "    print(f\"{result}에서 통과 불가능\")"
   ]
  },
  {
   "cell_type": "code",
   "execution_count": 13,
   "metadata": {},
   "outputs": [
    {
     "name": "stdout",
     "output_type": "stream",
     "text": [
      "<map object at 0x0000014C0453DA60>\n",
      "<class 'map'>\n",
      "[1, 2, 3]\n",
      "<class 'list'>\n"
     ]
    }
   ],
   "source": [
    "# 알아둬야할 부분\n",
    "\n",
    "a = map(int, input(\"3개 띄워서 입력 : \").split())\n",
    "\n",
    "print(a)\n",
    "print(type(a)) # 이건 type이 map임\n",
    "\n",
    "print(list(a))\n",
    "print(type(list(a))) # 이렇게 받아야 list됨"
   ]
  },
  {
   "cell_type": "code",
   "execution_count": 8,
   "metadata": {},
   "outputs": [
    {
     "name": "stdout",
     "output_type": "stream",
     "text": [
      "['1', '2', '4', '1', '6', '7', '2', '4', '2', '4']\n",
      "사용된 횟수는 1\n",
      "사용된 횟수는 1\n"
     ]
    }
   ],
   "source": [
    "# 072 행운의 숫자 7 찾기\n",
    "\n",
    "'''\n",
    "숫자하나 입력받고 거기서 7이 사용된 횟수 구하기\n",
    "'''\n",
    "\n",
    "# str로 변환 후 리스트로 받으면 각각 들어가는 것\n",
    "inin = list(str(input(\"숫자 입력하세요 : \")))\n",
    "print(inin)\n",
    "\n",
    "cnt = 0\n",
    "\n",
    "for i in inin:\n",
    "    if i == '7':\n",
    "        cnt += 1\n",
    "\n",
    "print(f\"사용된 횟수는 {cnt}\")\n",
    "\n",
    "cnt = 0 \n",
    "\n",
    "# 이렇게도 가능함\n",
    "cnt = inin.count('7')\n",
    "print(f\"사용된 횟수는 {cnt}\")"
   ]
  },
  {
   "cell_type": "code",
   "execution_count": 1,
   "metadata": {},
   "outputs": [
    {
     "name": "stdout",
     "output_type": "stream",
     "text": [
      "오름차순으론\n",
      "1 2 47 94 131 262 6157 12314 \n",
      "\n",
      "내린차순으론\n",
      "12314 6157 262 131 94 47 2 1 "
     ]
    }
   ],
   "source": [
    "# 073 약수 구하기\n",
    "\n",
    "'''\n",
    "자연수 하나 입력받아서\n",
    "그것의 약수를 오름차순으로, 내림차순으로\n",
    "각각 출력하기\n",
    "'''\n",
    "rList = []\n",
    "a = int(input(\"숫자 하나 입력하세요 : \"))\n",
    "\n",
    "for i in range(1, a + 1):\n",
    "    if a % i == 0:\n",
    "        rList.append(i)\n",
    "\n",
    "print(\"오름차순으론\")\n",
    "for i in rList:\n",
    "    print(i, end=' ')\n",
    "\n",
    "print(\"\\n\")\n",
    "\n",
    "print(\"내린차순으론\")\n",
    "for i in sorted(rList, reverse=True):\n",
    "    print(i, end=' ')"
   ]
  },
  {
   "cell_type": "code",
   "execution_count": 7,
   "metadata": {},
   "outputs": [
    {
     "name": "stdout",
     "output_type": "stream",
     "text": [
      "최소는 -20, type : <class 'int'>\n",
      "최대는 100, type : <class 'int'>\n",
      "평균은 24.0, type : <class 'float'>\n"
     ]
    }
   ],
   "source": [
    "# 074 리스트 내 최대, 최소, 평균 구하기\n",
    "\n",
    "'''\n",
    "정수 n개를 입력받아 입력받은 수 중 \n",
    "최대, 최소, 평균을 출력하는 코드\n",
    "'''\n",
    "\n",
    "n = int(input(\"몇개 입력할래요? : \"))\n",
    "\n",
    "iList = list(map(int, input(f\"{n}개 입력하세요 : \").split()))\n",
    "\n",
    "print(f\"최소는 {min(iList)}, type : {type(min(iList))}\")\n",
    "print(f\"최대는 {max(iList)}, type : {type(max(iList))}\")\n",
    "print(f\"평균은 {sum(iList)/n}, type : {type(sum(iList)/n)}\")"
   ]
  },
  {
   "cell_type": "code",
   "execution_count": 18,
   "metadata": {},
   "outputs": [
    {
     "name": "stdout",
     "output_type": "stream",
     "text": [
      "최소값은 -20 입니다, type : <class 'int'>\n",
      "최대값은 100 입니다, type : <class 'int'>\n",
      "평균은 24.0 입니다, type : <class 'float'>\n"
     ]
    }
   ],
   "source": [
    "# 075 위의 것과 같지만, 내장함수 없이 구현하기\n",
    "\n",
    "n = int(input(\"몇개 입력할래요? : \"))\n",
    "\n",
    "iList = list(map(int, input(f\"{n}개 입력하세요 : \").split()))\n",
    "\n",
    "min, max, avg, sum = None, None, None, 0\n",
    "\n",
    "\n",
    "min = iList[0]\n",
    "for i in range(len(iList)):\n",
    "    if min > iList[i]:\n",
    "        min = iList[i]\n",
    "print(f\"최소값은 {min} 입니다, type : {type(min)}\")\n",
    "\n",
    "\n",
    "max = iList[0]\n",
    "for i in range(len(iList)):\n",
    "    if max < iList[i]:\n",
    "        max = iList[i]\n",
    "print(f\"최대값은 {max} 입니다, type : {type(max)}\")\n",
    "\n",
    "\n",
    "for i in iList:\n",
    "    sum += i\n",
    "avg = sum / len(iList)\n",
    "\n",
    "print(f\"평균은 {avg} 입니다, type : {type(avg)}\")"
   ]
  },
  {
   "cell_type": "code",
   "execution_count": 27,
   "metadata": {},
   "outputs": [
    {
     "name": "stdout",
     "output_type": "stream",
     "text": [
      "입력된 1234의 각 자릿수를 모두 더하면 "
     ]
    }
   ],
   "source": [
    "# 076 각 자릿수의 합 구하기\n",
    "\n",
    "'''\n",
    "숫자하나를 입력받은 뒤\n",
    "각 자리의 숫자를 모두 더한 값을 출력\n",
    "'''\n",
    "\n",
    "a = int(input(\"숫자 하나를 입력하세요 : \"))\n",
    "\n",
    "print(f\"입력된 {a}의 각 자릿수를 모두 더하면 \", end='')\n",
    "\n",
    "aList = list(str(a))\n"
   ]
  }
 ],
 "metadata": {
  "kernelspec": {
   "display_name": "Python 3",
   "language": "python",
   "name": "python3"
  },
  "language_info": {
   "codemirror_mode": {
    "name": "ipython",
    "version": 3
   },
   "file_extension": ".py",
   "mimetype": "text/x-python",
   "name": "python",
   "nbconvert_exporter": "python",
   "pygments_lexer": "ipython3",
   "version": "3.8.0"
  }
 },
 "nbformat": 4,
 "nbformat_minor": 2
}
