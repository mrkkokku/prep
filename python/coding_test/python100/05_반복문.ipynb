{
 "cells": [
  {
   "cell_type": "code",
   "execution_count": 9,
   "metadata": {},
   "outputs": [
    {
     "name": "stdout",
     "output_type": "stream",
     "text": [
      "입력값 : 5초\n",
      "\n",
      "발사 5초 전\n",
      "발사 4초 전\n",
      "발사 3초 전\n",
      "발사 2초 전\n",
      "발사 1초 전\n",
      "발사!\n"
     ]
    }
   ],
   "source": [
    "# 051 로켓 카운트 다운\n",
    "'''\n",
    "숫자 하나를 입력받고, 해당 시간 후 \"발사\" 텍스트 출력\n",
    "'''\n",
    "\n",
    "count = int(input(\"카운트다운 몇 초 전인가요?\"))\n",
    "print(f\"입력값 : {count}초\\n\")\n",
    "\n",
    "# i의 값이 아래 문장에서 어떻게 처리되는지 주목\n",
    "for i in range(count, 0, -1):\n",
    "    print(f\"발사 {i}초 전\")\n",
    "print(\"발사!\")\n"
   ]
  },
  {
   "cell_type": "code",
   "execution_count": 12,
   "metadata": {},
   "outputs": [
    {
     "name": "stdout",
     "output_type": "stream",
     "text": [
      "입력값 : 5초\n",
      "\n",
      "발사 5초 전\n",
      "발사 4초 전\n",
      "발사 3초 전\n",
      "발사 2초 전\n",
      "발사 1초 전\n",
      "발사!\n"
     ]
    }
   ],
   "source": [
    "# 위 문제를 while로 처리하면 다음과 같음\n",
    "\n",
    "count = int(input(\"카운트다운 몇 초 전인가요?\"))\n",
    "print(f\"입력값 : {count}초\\n\")\n",
    "\n",
    "while count > 0:\n",
    "    print(f\"발사 {count}초 전\")\n",
    "    count -= 1\n",
    "print(\"발사!\")"
   ]
  },
  {
   "cell_type": "code",
   "execution_count": 21,
   "metadata": {},
   "outputs": [
    {
     "name": "stdout",
     "output_type": "stream",
     "text": [
      "입력값은 15 입니다\n",
      "\n",
      "합은 120 입니다\n"
     ]
    }
   ],
   "source": [
    "# 052 1부터 100까지 모두 합한 수\n",
    "\n",
    "'''\n",
    "1이상의 수를 입력받은 뒤\n",
    "1부터 해당 수 까지의 합을 구하시오\n",
    "(for문 이용)\n",
    "'''\n",
    "\n",
    "data = int(input(\"마지막 숫자를 입력하세요 : \"))\n",
    "print(f\"입력값은 {data} 입니다\\n\")\n",
    "\n",
    "# for문 설정에 사용되는 값이 아니므로 초기화 해주고 진행해야함\n",
    "sum = 0 \n",
    "\n",
    "for i in range(1, data + 1, 1):\n",
    "    sum += i\n",
    "\n",
    "print(f\"합은 {sum} 입니다\")"
   ]
  },
  {
   "cell_type": "code",
   "execution_count": null,
   "metadata": {},
   "outputs": [],
   "source": [
    "# 유사한 추가 문제\n",
    "\n",
    "'''\n",
    "숫자에 3, 6, 9가 포함된 수 만큼 박수를 치는 게임을 한다고하자.\n",
    "입력된 숫자까지 진행하는 동안 박수를 친 횟수는 총 몇번인지 구하라\n",
    "'''"
   ]
  }
 ],
 "metadata": {
  "kernelspec": {
   "display_name": "Python 3",
   "language": "python",
   "name": "python3"
  },
  "language_info": {
   "codemirror_mode": {
    "name": "ipython",
    "version": 3
   },
   "file_extension": ".py",
   "mimetype": "text/x-python",
   "name": "python",
   "nbconvert_exporter": "python",
   "pygments_lexer": "ipython3",
   "version": "3.8.0"
  }
 },
 "nbformat": 4,
 "nbformat_minor": 2
}
