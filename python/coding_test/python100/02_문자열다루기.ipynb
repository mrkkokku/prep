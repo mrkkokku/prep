{
 "cells": [
  {
   "cell_type": "code",
   "execution_count": 2,
   "metadata": {},
   "outputs": [
    {
     "name": "stdout",
     "output_type": "stream",
     "text": [
      "46\n",
      "1234\n",
      "8\n"
     ]
    }
   ],
   "source": [
    "# 006 문자열 이어 붙이기\n",
    "\n",
    "print(12 + 34)\n",
    "\n",
    "print(\"12\" + \"34\")\n",
    "\n",
    "print(2**3)"
   ]
  },
  {
   "cell_type": "code",
   "execution_count": 4,
   "metadata": {},
   "outputs": [
    {
     "name": "stdout",
     "output_type": "stream",
     "text": [
      "batmanbatmanbatman\n"
     ]
    }
   ],
   "source": [
    "a = \"bat\"\n",
    "b = \"man\"\n",
    "\n",
    "a = a + b\n",
    "\n",
    "print(a * 3)"
   ]
  },
  {
   "cell_type": "code",
   "execution_count": 8,
   "metadata": {},
   "outputs": [
    {
     "name": "stdout",
     "output_type": "stream",
     "text": [
      "메이킷님은 내년에 19살이 됩니다\n"
     ]
    }
   ],
   "source": [
    "# 008 입력받은 값 출력하기\n",
    "\n",
    "'''\n",
    "이름과 나이를 키보드로 입력받고 적당히 출력하기\n",
    "'''\n",
    "\n",
    "name = input(\"이름이 무엇인가요?\")\n",
    "age = int(input(\"몇 살인가요?\"))\n",
    "\n",
    "print(f\"{name}님은 내년에 {age + 1}살이 됩니다\")"
   ]
  },
  {
   "cell_type": "code",
   "execution_count": 14,
   "metadata": {},
   "outputs": [
    {
     "name": "stdout",
     "output_type": "stream",
     "text": [
      "a와 b의 합은 5.5\n",
      "a와 b의 평균값은 2.75\n"
     ]
    }
   ],
   "source": [
    "# 009 두 수를 입력받고 합과 평균 구하기\n",
    "\n",
    "'''\n",
    "정수와 실수를 각 변수 a, b에 입력받가 두 숫자의 합과 평균을 출력\n",
    "'''\n",
    "\n",
    "a = int(input(a))\n",
    "b = float(input(b))\n",
    "\n",
    "print(f\"a와 b의 합은 {a+b}\")\n",
    "\n",
    "print(f\"a와 b의 평균값은 {(a+b)/2}\")"
   ]
  },
  {
   "cell_type": "code",
   "execution_count": 17,
   "metadata": {},
   "outputs": [
    {
     "name": "stdout",
     "output_type": "stream",
     "text": [
      "H   d\n",
      "H d\n"
     ]
    }
   ],
   "source": [
    "# 010 문자열에서 하나의 문자 뽑아내기\n",
    "\n",
    "s = \"Hello World\"\n",
    "\n",
    "print(s[0], s[5], s[-1])\n",
    "\n",
    "print(s[0] + s[5] + s[-1])"
   ]
  },
  {
   "cell_type": "code",
   "execution_count": 20,
   "metadata": {},
   "outputs": [
    {
     "name": "stdout",
     "output_type": "stream",
     "text": [
      "동동동\n",
      "남남남\n"
     ]
    }
   ],
   "source": [
    "# 012 \"동\"을 찾아라\n",
    "\n",
    "'''\n",
    "동서남북동서남북동서남북\n",
    "이라는 텍스트에서 동만 찾아서 출력하기\n",
    "'''\n",
    "\n",
    "text = \"동서남북동서남북동서남북\"\n",
    "\n",
    "print(text[::4])\n",
    "\n",
    "print(text[2::4])"
   ]
  },
  {
   "cell_type": "code",
   "execution_count": 29,
   "metadata": {},
   "outputs": [
    {
     "name": "stdout",
     "output_type": "stream",
     "text": [
      "북남서동\n",
      "북남서동\n",
      "동\n"
     ]
    }
   ],
   "source": [
    "# 013 문자열 뒤집기\n",
    "\n",
    "text = \"동서남북\"\n",
    "\n",
    "print(text[::-1])\n",
    "print(text[-1::-1])\n",
    "print(text[0::-1])"
   ]
  },
  {
   "cell_type": "code",
   "execution_count": 32,
   "metadata": {},
   "outputs": [
    {
     "name": "stdout",
     "output_type": "stream",
     "text": [
      "010-1234-5678\n"
     ]
    }
   ],
   "source": [
    "# 014 문자열 바꾸기\n",
    "\n",
    "text = \"010.1234.5678\"\n",
    "# .를 -로 변경하기\n",
    "\n",
    "print(text.replace('.','-'))"
   ]
  },
  {
   "cell_type": "code",
   "execution_count": 50,
   "metadata": {},
   "outputs": [
    {
     "name": "stdout",
     "output_type": "stream",
     "text": [
      "맞음\n",
      "아님\n"
     ]
    }
   ],
   "source": [
    "# 펠린드럼 : 앞에서 읽는것과 뒤에서 읽는 것이 같은 문자열\n",
    "\n",
    "# 아래의 텍스트가 펠린드럼인지 판별하라\n",
    "\n",
    "a = \"abbcbba\"\n",
    "\n",
    "if(a == a[::-1]):\n",
    "    print(\"맞음\")\n",
    "else:\n",
    "    print(\"아님\")\n",
    "\n",
    "c = \"abcab\"\n",
    "\n",
    "if(c == c[::-1]):\n",
    "    print(\"맞음\")\n",
    "else:\n",
    "    print(\"아님\")"
   ]
  },
  {
   "cell_type": "code",
   "execution_count": 52,
   "metadata": {},
   "outputs": [
    {
     "name": "stdout",
     "output_type": "stream",
     "text": [
      "1234초는 20분 34초 입니다\n"
     ]
    }
   ],
   "source": [
    "# 017 1234초는 몇분, 몇초일까\n",
    "\n",
    "'''\n",
    "초를 입력하면 몇분 몇초로 환상해주는 코드\n",
    "'''\n",
    "\n",
    "i = int(input(\"초를 입력하세요: \"))\n",
    "\n",
    "mm = i // 60\n",
    "ss = i % 60\n",
    "\n",
    "print(f\"{i}초는 {mm}분 {ss}초 입니다\")"
   ]
  },
  {
   "cell_type": "code",
   "execution_count": 54,
   "metadata": {},
   "outputs": [
    {
     "name": "stdout",
     "output_type": "stream",
     "text": [
      "7512분은 5일, 5시, 12분 입니다\n"
     ]
    }
   ],
   "source": [
    "# 018 7512분은 몇일 몇시간 몇분일까\n",
    "\n",
    "i = int(input(\"분을 입력하세요: \"))\n",
    "t = i\n",
    "\n",
    "dd = t // (60 * 24)\n",
    "t = t % (60 * 24)\n",
    "\n",
    "hh = t // 60\n",
    "t = t % 60\n",
    "\n",
    "mm = t % 60\n",
    "\n",
    "print(f\"{i}분은 {dd}일, {hh}시, {mm}분 입니다\")"
   ]
  }
 ],
 "metadata": {
  "kernelspec": {
   "display_name": "Python 3",
   "language": "python",
   "name": "python3"
  },
  "language_info": {
   "codemirror_mode": {
    "name": "ipython",
    "version": 3
   },
   "file_extension": ".py",
   "mimetype": "text/x-python",
   "name": "python",
   "nbconvert_exporter": "python",
   "pygments_lexer": "ipython3",
   "version": "3.8.0"
  },
  "orig_nbformat": 4
 },
 "nbformat": 4,
 "nbformat_minor": 2
}
