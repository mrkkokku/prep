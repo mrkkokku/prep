{
 "cells": [
  {
   "cell_type": "code",
   "execution_count": 2,
   "metadata": {},
   "outputs": [
    {
     "name": "stdout",
     "output_type": "stream",
     "text": [
      "[1, 2, 3, 4, 5]\n"
     ]
    }
   ],
   "source": [
    "# 089 집합 특성 이해하기\n",
    "\n",
    "'''\n",
    "다음의 리스트가 있을 때 중복을 제거 해보자\n",
    "'''\n",
    "\n",
    "a = [1, 2, 1, 1, 2, 3, 4, 1, 5, 2, 1, 5]\n",
    "\n",
    "b = list(set(a))\n",
    "\n",
    "print(b)"
   ]
  },
  {
   "cell_type": "code",
   "execution_count": 9,
   "metadata": {},
   "outputs": [
    {
     "name": "stdout",
     "output_type": "stream",
     "text": [
      "{'시은', '메이킷', '우진', '소피아'}\n",
      "<class 'set'>\n",
      "{'하워드', '메이킷', '우진', '시은'}\n"
     ]
    }
   ],
   "source": [
    "# 090 집합 추가, 삭제하기\n",
    "\n",
    "a = {'메이킷', '우진', '시은', '소피아'} # set의 초기화 방법임에 유의\n",
    "\n",
    "print(a)\n",
    "print(type(a))\n",
    "\n",
    "a.add('하워드')\n",
    "a.discard('소피아')\n",
    "\n",
    "print(a)"
   ]
  },
  {
   "cell_type": "code",
   "execution_count": 14,
   "metadata": {},
   "outputs": [
    {
     "name": "stdout",
     "output_type": "stream",
     "text": [
      "위 3곳 모두 여행 다녀온 사람은? \n",
      "{'시은'}\n",
      "하와이 또는 이탈리아 여행을 다녀온 사람은?\n",
      "{'우진', '윤진', '형우', '시은'}\n",
      "두바이 여행은 다녀왔고, 하와이와 이탈리아 여행 경험이 없는 사람은?\n",
      "{'메이킷'}\n"
     ]
    }
   ],
   "source": [
    "# 091 집합으로 연산하기\n",
    "\n",
    "'''\n",
    "아래와 같은 집합이 있을 때에\n",
    "연산작업을 수행해 보자\n",
    "'''\n",
    "\n",
    "hawaii = {'윤진', '시은', '우진'}\n",
    "italia = {'형우', '윤진', '시은'}\n",
    "dubai = {'시은', '우진', '메이킷'}\n",
    "\n",
    "print(\"위 3곳 모두 여행 다녀온 사람은? \")\n",
    "print(hawaii & italia & dubai) # A.intersection(B) 로도 사용 가능\n",
    "\n",
    "print(\"하와이 또는 이탈리아 여행을 다녀온 사람은?\")\n",
    "print(hawaii | italia) # A.union(B) 로도 사용 가능\n",
    "\n",
    "print(\"두바이 여행은 다녀왔고, 하와이와 이탈리아 여행 경험이 없는 사람은?\")\n",
    "print(dubai - hawaii - italia) # A.difference(B) 로도 사용 가능"
   ]
  },
  {
   "cell_type": "code",
   "execution_count": 18,
   "metadata": {},
   "outputs": [
    {
     "name": "stdout",
     "output_type": "stream",
     "text": [
      "55\n",
      "5050\n"
     ]
    }
   ],
   "source": [
    "# 92 사용자 정의 함수\n",
    "\n",
    "'''\n",
    "1 이상인 숫자 n을 입력받아\n",
    "1부터 n까지의 합을 구하는 함수를 작성\n",
    "'''\n",
    "\n",
    "def makit(n):\n",
    "    if n < 1:\n",
    "        print(\"올바른 숫자를 입력하세요\")\n",
    "    else:\n",
    "        sum = 0\n",
    "        for i in range(1, n+1):\n",
    "            sum += i\n",
    "        \n",
    "        print(sum)\n",
    "\n",
    "makit(10)\n",
    "makit(100)"
   ]
  },
  {
   "cell_type": "code",
   "execution_count": 20,
   "metadata": {},
   "outputs": [
    {
     "name": "stdout",
     "output_type": "stream",
     "text": [
      "1 + ... + 10 = 55 입니다\n"
     ]
    }
   ],
   "source": [
    "# 093 함수 값 리턴하기\n",
    "\n",
    "'''\n",
    "두개의 자연수 n1, n2를 입력받고\n",
    "n1 < n2 일때, \n",
    "\n",
    "n1부터 n2까지의 합을 리턴하는 함수 만들기\n",
    "'''\n",
    "\n",
    "def makit2(n1, n2):\n",
    "    sum = 0\n",
    "    while n1 <= n2:\n",
    "        sum += n1\n",
    "        n1 += 1\n",
    "    return sum\n",
    "\n",
    "n1 = int(input(\"첫번째 숫자를 입력하세요 : \"))\n",
    "n2 = int(input(\"두번째 숫자를 입력하세요 : \"))\n",
    "\n",
    "print(f\"{n1} + ... + {n2} = {makit2(n1, n2)} 입니다\")"
   ]
  }
 ],
 "metadata": {
  "kernelspec": {
   "display_name": "Python 3",
   "language": "python",
   "name": "python3"
  },
  "language_info": {
   "codemirror_mode": {
    "name": "ipython",
    "version": 3
   },
   "file_extension": ".py",
   "mimetype": "text/x-python",
   "name": "python",
   "nbconvert_exporter": "python",
   "pygments_lexer": "ipython3",
   "version": "3.8.0"
  }
 },
 "nbformat": 4,
 "nbformat_minor": 2
}
