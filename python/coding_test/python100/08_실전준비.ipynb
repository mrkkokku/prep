{
 "cells": [
  {
   "cell_type": "code",
   "execution_count": 2,
   "metadata": {},
   "outputs": [
    {
     "name": "stdout",
     "output_type": "stream",
     "text": [
      "[1, 2, 3, 4, 5]\n"
     ]
    }
   ],
   "source": [
    "# 089 집합 특성 이해하기\n",
    "\n",
    "'''\n",
    "다음의 리스트가 있을 때 중복을 제거 해보자\n",
    "'''\n",
    "\n",
    "a = [1, 2, 1, 1, 2, 3, 4, 1, 5, 2, 1, 5]\n",
    "\n",
    "b = list(set(a))\n",
    "\n",
    "print(b)"
   ]
  },
  {
   "cell_type": "code",
   "execution_count": 9,
   "metadata": {},
   "outputs": [
    {
     "name": "stdout",
     "output_type": "stream",
     "text": [
      "{'시은', '메이킷', '우진', '소피아'}\n",
      "<class 'set'>\n",
      "{'하워드', '메이킷', '우진', '시은'}\n"
     ]
    }
   ],
   "source": [
    "# 090 집합 추가, 삭제하기\n",
    "\n",
    "a = {'메이킷', '우진', '시은', '소피아'} # set의 초기화 방법임에 유의\n",
    "\n",
    "print(a)\n",
    "print(type(a))\n",
    "\n",
    "a.add('하워드')\n",
    "a.discard('소피아')\n",
    "\n",
    "print(a)"
   ]
  },
  {
   "cell_type": "code",
   "execution_count": 14,
   "metadata": {},
   "outputs": [
    {
     "name": "stdout",
     "output_type": "stream",
     "text": [
      "위 3곳 모두 여행 다녀온 사람은? \n",
      "{'시은'}\n",
      "하와이 또는 이탈리아 여행을 다녀온 사람은?\n",
      "{'우진', '윤진', '형우', '시은'}\n",
      "두바이 여행은 다녀왔고, 하와이와 이탈리아 여행 경험이 없는 사람은?\n",
      "{'메이킷'}\n"
     ]
    }
   ],
   "source": [
    "# 091 집합으로 연산하기\n",
    "\n",
    "'''\n",
    "아래와 같은 집합이 있을 때에\n",
    "연산작업을 수행해 보자\n",
    "'''\n",
    "\n",
    "hawaii = {'윤진', '시은', '우진'}\n",
    "italia = {'형우', '윤진', '시은'}\n",
    "dubai = {'시은', '우진', '메이킷'}\n",
    "\n",
    "print(\"위 3곳 모두 여행 다녀온 사람은? \")\n",
    "print(hawaii & italia & dubai) # A.intersection(B) 로도 사용 가능\n",
    "\n",
    "print(\"하와이 또는 이탈리아 여행을 다녀온 사람은?\")\n",
    "print(hawaii | italia) # A.union(B) 로도 사용 가능\n",
    "\n",
    "print(\"두바이 여행은 다녀왔고, 하와이와 이탈리아 여행 경험이 없는 사람은?\")\n",
    "print(dubai - hawaii - italia) # A.difference(B) 로도 사용 가능"
   ]
  },
  {
   "cell_type": "code",
   "execution_count": 18,
   "metadata": {},
   "outputs": [
    {
     "name": "stdout",
     "output_type": "stream",
     "text": [
      "55\n",
      "5050\n"
     ]
    }
   ],
   "source": [
    "# 92 사용자 정의 함수\n",
    "\n",
    "'''\n",
    "1 이상인 숫자 n을 입력받아\n",
    "1부터 n까지의 합을 구하는 함수를 작성\n",
    "'''\n",
    "\n",
    "def makit(n):\n",
    "    if n < 1:\n",
    "        print(\"올바른 숫자를 입력하세요\")\n",
    "    else:\n",
    "        sum = 0\n",
    "        for i in range(1, n+1):\n",
    "            sum += i\n",
    "        \n",
    "        print(sum)\n",
    "\n",
    "makit(10)\n",
    "makit(100)"
   ]
  },
  {
   "cell_type": "code",
   "execution_count": 1,
   "metadata": {},
   "outputs": [
    {
     "name": "stdout",
     "output_type": "stream",
     "text": [
      "3 + ... + 10 = 52 입니다\n"
     ]
    }
   ],
   "source": [
    "# 093 함수 값 리턴하기\n",
    "\n",
    "'''\n",
    "두개의 자연수 n1, n2를 입력받고\n",
    "n1 < n2 일때, \n",
    "\n",
    "n1부터 n2까지의 합을 리턴하는 함수 만들기\n",
    "'''\n",
    "\n",
    "def makit2(n1, n2):\n",
    "    sum = 0\n",
    "    while n1 <= n2:\n",
    "        sum += n1\n",
    "        n1 += 1\n",
    "    return sum\n",
    "\n",
    "n1 = int(input(\"첫번째 숫자를 입력하세요 : \"))\n",
    "n2 = int(input(\"두번째 숫자를 입력하세요 : \"))\n",
    "\n",
    "print(f\"{n1} + ... + {n2} = {makit2(n1, n2)} 입니다\")"
   ]
  },
  {
   "cell_type": "code",
   "execution_count": 3,
   "metadata": {},
   "outputs": [
    {
     "name": "stdout",
     "output_type": "stream",
     "text": [
      "11, -13 중 절대값이 큰 수는 -13 입니다\n",
      "15, 79 중 절대값이 큰 수는 79 입니다\n"
     ]
    }
   ],
   "source": [
    "# 094 함수에서 또 다른 함수 콜 하기\n",
    "\n",
    "'''\n",
    "숫자 두개 입력받고 처리하는 함수 구현하기\n",
    "'''\n",
    "\n",
    "def makit(n1, n2):\n",
    "    x = makit_abs(n1)\n",
    "    y = makit_abs(n2)\n",
    "\n",
    "    if x > y:\n",
    "        print(f\"{n1}, {n2} 중 절대값이 큰 수는 {n1} 입니다\")\n",
    "    else:\n",
    "        print(f\"{n1}, {n2} 중 절대값이 큰 수는 {n2} 입니다\")\n",
    "\n",
    "def makit_abs(n):\n",
    "    return abs(n)\n",
    "\n",
    "\n",
    "makit(11, -13)\n",
    "makit(15, 79)"
   ]
  },
  {
   "cell_type": "code",
   "execution_count": 4,
   "metadata": {},
   "outputs": [
    {
     "name": "stdout",
     "output_type": "stream",
     "text": [
      "빨강색으로 만들 수 있는 장갑은 1개 입니다\n",
      "주황색으로 만들 수 있는 장갑은 0개 입니다\n",
      "노랑색으로 만들 수 있는 장갑은 1개 입니다\n",
      "초록색으로 만들 수 있는 장갑은 2개 입니다\n",
      "파랑색으로 만들 수 있는 장갑은 1개 입니다\n",
      "남색색으로 만들 수 있는 장갑은 0개 입니다\n",
      "보라색으로 만들 수 있는 장갑은 1개 입니다\n",
      "최대로 만들 수 있는 장갑 쌍은 6개 입니다\n"
     ]
    }
   ],
   "source": [
    "# 095 무지개 색깔의 스키 장갑\n",
    "\n",
    "'''\n",
    "빨주노초파남보 7개의 스키 장갑이 있을 때,\n",
    "\n",
    "왼손용은\n",
    "초초빨노노파남보\n",
    "\n",
    "오른손용은\n",
    "파초초보보노빨빨파\n",
    "\n",
    "이면.\n",
    "\n",
    "같은 색으로 구성된 왼손 오른손 장갑 짝을 최대 몇쌍\n",
    "만들 수 있는지 모든 경우의 수 출력하는 코드 작성\n",
    "'''\n",
    "\n",
    "left = [\"초록\", \"초록\", \"빨강\", \"노랑\", \"노랑\", \"파랑\", \"남색\", \"보라\"]\n",
    "right = [\"파랑\", \"초록\", \"초록\", \"보라\", \"보라\", \"노랑\", \"빨강\", \"빨강\", \"파랑\"]\n",
    "\n",
    "def colors(left, right):\n",
    "    color = [\"빨강\", \"주황\", \"노랑\", \"초록\", \"파랑\", \"남색\", \"보라\"]\n",
    "\n",
    "    left_num = [0, 0, 0, 0, 0, 0, 0]\n",
    "    right_num = [0, 0, 0, 0, 0, 0, 0]\n",
    "\n",
    "    for i in left:\n",
    "        idx = color.index(i)\n",
    "\n",
    "        left_num[idx] += 1\n",
    "    \n",
    "    for j in right:\n",
    "        idx = color.index(j)\n",
    "\n",
    "        right_num[idx] += 1\n",
    "    \n",
    "    total = 0\n",
    "\n",
    "    for i in range(len(color)):\n",
    "        cnt = min(left_num[i], right_num[i])\n",
    "        print(f\"{color[i]}색으로 만들 수 있는 장갑은 {cnt}개 입니다\")\n",
    "        total += cnt\n",
    "\n",
    "    return total\n",
    "\n",
    "\n",
    "print(f\"최대로 만들 수 있는 장갑 쌍은 {colors(left, right)}개 입니다\")"
   ]
  },
  {
   "cell_type": "code",
   "execution_count": 9,
   "metadata": {},
   "outputs": [
    {
     "name": "stdout",
     "output_type": "stream",
     "text": [
      "['(', ')', '(', ')']\n",
      "성공\n"
     ]
    }
   ],
   "source": [
    "# 096 괄호검사기 만들기\n",
    "\n",
    "'''\n",
    "괄호 여러개를 입력받아서\n",
    "열고 닫는 수가 맞아떨어지면 통과, 아니면 실패 처리\n",
    "열지 않고 닫아버리면 안됨\n",
    "'''\n",
    "\n",
    "st = list(map(str, input(\"괄호들을 입력하세요 : \")))\n",
    "\n",
    "print(st)\n",
    "\n",
    "if st[0] == ')':\n",
    "    print(\"실패\")\n",
    "else:\n",
    "    a = st.count('(')\n",
    "    b = st.count(')')\n",
    "    if a == b:\n",
    "        print(\"성공\")\n",
    "    else:\n",
    "        print(\"실패\")"
   ]
  },
  {
   "cell_type": "code",
   "execution_count": 1,
   "metadata": {},
   "outputs": [
    {
     "name": "stdout",
     "output_type": "stream",
     "text": [
      "()((()(()()()))()\n",
      "실패\n"
     ]
    }
   ],
   "source": [
    "# 위의 문제를 스택 형식으로 처리하기\n",
    "\n",
    "def cc(n):\n",
    "    s = [] # 얘를 스택으로 두고 처리함\n",
    "           # \"(\"일때 push\n",
    "           # \")\"일때 pop 하는 방식\n",
    "           # 쭉 진행 후 s에 비어있는지 여부로 정답 여부 판단\n",
    "\n",
    "    for i in n:\n",
    "        if i == '(':\n",
    "            s.append(i)\n",
    "        else:\n",
    "            if s == []:\n",
    "                return False\n",
    "            s.pop()\n",
    "    \n",
    "    if s == []:\n",
    "        return True\n",
    "    else:\n",
    "        return False\n",
    "\n",
    "\n",
    "n = input(\"괄호들을 입력하세요\")\n",
    "\n",
    "print(n)\n",
    "\n",
    "if cc(n):\n",
    "    print(\"성공\")\n",
    "else:\n",
    "    print(\"실패\")"
   ]
  },
  {
   "cell_type": "code",
   "execution_count": 9,
   "metadata": {},
   "outputs": [
    {
     "name": "stdout",
     "output_type": "stream",
     "text": [
      "오름차순 : [1, 12, 15, 19, 23, 75, 79]\n",
      "내림차순 : [79, 75, 23, 19, 15, 12, 1]\n"
     ]
    }
   ],
   "source": [
    "# 097 내장함수 이용해서 숫자 정렬하기\n",
    "\n",
    "'''\n",
    "아래 리스트를 정렬하라\n",
    "1 : 오름차순\n",
    "2 : 내림차순\n",
    "'''\n",
    "\n",
    "a = [12, 23, 1, 15, 75, 79, 19]\n",
    "\n",
    "print(f\"오름차순 : {sorted(a)}\")\n",
    "\n",
    "print(f\"내림차순 : {sorted(a, reverse=True)}\")\n"
   ]
  },
  {
   "cell_type": "code",
   "execution_count": 6,
   "metadata": {},
   "outputs": [
    {
     "name": "stdout",
     "output_type": "stream",
     "text": [
      "3등 학생은 92점이고, 이름은 메이킷 입니다.\n"
     ]
    }
   ],
   "source": [
    "# 099 정렬을 통한 문제 해결\n",
    "\n",
    "name = [\"메이킷\",\"소피아\",\"우진\",\"시은\",\"하워드\"]\n",
    "\n",
    "score = [\"92\",\"75\",\"95\",\"96\",\"89\"]\n",
    "\n",
    "n = int(input(\"몇 등 학생의 자료를 알고있나요? : \"))\n",
    "\n",
    "score2 = sorted(score, reverse=True)\n",
    "a = score2[n-1]\n",
    "idx = score.index(a)\n",
    "\n",
    "print(f\"{n}등 학생은 {a}점이고, 이름은 {name[idx]} 입니다.\")"
   ]
  },
  {
   "cell_type": "code",
   "execution_count": 8,
   "metadata": {},
   "outputs": [
    {
     "name": "stdout",
     "output_type": "stream",
     "text": [
      "[13, 7, 2, 199, 24, 5]\n",
      "[2, 7, 13, 199, 24, 5]\n",
      "[2, 5, 13, 199, 24, 7]\n",
      "[2, 5, 7, 199, 24, 13]\n",
      "[2, 5, 7, 13, 24, 199]\n",
      "[2, 5, 7, 13, 24, 199]\n",
      "최종 정렬 결과는 [2, 5, 7, 13, 24, 199] 입니다\n"
     ]
    }
   ],
   "source": [
    "# 100 선택정렬\n",
    "\n",
    "'''\n",
    "주어진 리스트의 숫자들을 패스마다 출력하며\n",
    "Selection Sort 하는 코드를 작성하라\n",
    "'''\n",
    "\n",
    "a = [13, 7, 2, 199, 24, 5]\n",
    "\n",
    "def selSort(a):\n",
    "    print(a)\n",
    "\n",
    "    for i in range(len(a) - 1):\n",
    "        idx = i\n",
    "\n",
    "        for j in range(i+1, len(a)):\n",
    "            if a[j] < a[idx]:\n",
    "                idx = j\n",
    "        \n",
    "        a[i], a[idx] = a[idx], a[i]\n",
    "        print(a)\n",
    "\n",
    "    return a\n",
    "\n",
    "print(f\"최종 정렬 결과는 {selSort(a)} 입니다\")"
   ]
  }
 ],
 "metadata": {
  "kernelspec": {
   "display_name": "Python 3",
   "language": "python",
   "name": "python3"
  },
  "language_info": {
   "codemirror_mode": {
    "name": "ipython",
    "version": 3
   },
   "file_extension": ".py",
   "mimetype": "text/x-python",
   "name": "python",
   "nbconvert_exporter": "python",
   "pygments_lexer": "ipython3",
   "version": "3.8.0"
  }
 },
 "nbformat": 4,
 "nbformat_minor": 2
}
