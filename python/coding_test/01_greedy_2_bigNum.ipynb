{
 "cells": [
  {
   "cell_type": "code",
   "execution_count": 1,
   "metadata": {},
   "outputs": [
    {
     "ename": "ValueError",
     "evalue": "not enough values to unpack (expected 3, got 2)",
     "output_type": "error",
     "traceback": [
      "\u001b[1;31m---------------------------------------------------------------------------\u001b[0m",
      "\u001b[1;31mValueError\u001b[0m                                Traceback (most recent call last)",
      "\u001b[1;32m~\\AppData\\Local\\Temp\\ipykernel_3900\\3121985913.py\u001b[0m in \u001b[0;36m<module>\u001b[1;34m\u001b[0m\n\u001b[0;32m     15\u001b[0m '''\n\u001b[0;32m     16\u001b[0m \u001b[1;33m\u001b[0m\u001b[0m\n\u001b[1;32m---> 17\u001b[1;33m \u001b[0mn\u001b[0m\u001b[1;33m,\u001b[0m \u001b[0mm\u001b[0m\u001b[1;33m,\u001b[0m \u001b[0mk\u001b[0m \u001b[1;33m=\u001b[0m \u001b[0mmap\u001b[0m\u001b[1;33m(\u001b[0m\u001b[0mint\u001b[0m\u001b[1;33m,\u001b[0m \u001b[0minput\u001b[0m\u001b[1;33m(\u001b[0m\u001b[1;33m)\u001b[0m\u001b[1;33m.\u001b[0m\u001b[0msplit\u001b[0m\u001b[1;33m(\u001b[0m\u001b[1;33m)\u001b[0m\u001b[1;33m)\u001b[0m\u001b[1;33m\u001b[0m\u001b[1;33m\u001b[0m\u001b[0m\n\u001b[0m\u001b[0;32m     18\u001b[0m \u001b[1;33m\u001b[0m\u001b[0m\n\u001b[0;32m     19\u001b[0m \u001b[0mlistA\u001b[0m \u001b[1;33m=\u001b[0m \u001b[0mlist\u001b[0m\u001b[1;33m(\u001b[0m\u001b[0mmap\u001b[0m\u001b[1;33m(\u001b[0m\u001b[0mint\u001b[0m\u001b[1;33m,\u001b[0m \u001b[0minput\u001b[0m\u001b[1;33m(\u001b[0m\u001b[1;33m)\u001b[0m\u001b[1;33m.\u001b[0m\u001b[0msplit\u001b[0m\u001b[1;33m(\u001b[0m\u001b[1;33m)\u001b[0m\u001b[1;33m)\u001b[0m\u001b[1;33m)\u001b[0m\u001b[1;33m\u001b[0m\u001b[1;33m\u001b[0m\u001b[0m\n",
      "\u001b[1;31mValueError\u001b[0m: not enough values to unpack (expected 3, got 2)"
     ]
    }
   ],
   "source": [
    "'''\n",
    "'큰 수의 법칙은 일반적으로 통계 분야에서 다루어지는 내용이지만 동빈이는 본인만의 방식으로 다 \n",
    "르게 시용하고 있다 동빈이의 큰 수의 법칙은 다%냐} 수로 이루어진 배열이 있을 때 주어진 수들을 \n",
    "M번 더하여 가장 큰 수를 만드는 법칙이다. 단, 배열의 특정한 인덱스(번호)에 해당하는 수가 연속 \n",
    "해서 K번을 초과하여 더하질 수 없는 것이 이 법칙의 특징이다. \n",
    "예를 들어 순서대로 2, 4, 5, 4, 6으로 이루어진 배열이 있을 때 M이 8이고, K가 3이라고 가정하자. \n",
    "이 경우 특정한 인덱스의 수가 연속해서 세 번까지만 더해질 수 있으므로 큰 수의 법칙에 따른 결과 \n",
    "는 6+6+6+5 +6+6+6+5인46이된다. \n",
    "단, 서로 다른 인덱스에 해당하는 수가 같은 경우에도 서로 다른 것으로 간주한다 예를 들어 순서 \n",
    "대로 3, 4, 3.4. 3으로 이루어진 배열이 있을 때 M이 7이고, K가2라고 가정하자. 이 경우 두 번째 \n",
    "원소에 해당하는 4와 네 번째 원소에 해당하는 4를 번갈아 두 번씩 더하는 것이 기능하다. 결과적으 \n",
    "로 4十4十4十4 十4十4十 4인 28이 도출된다. \n",
    "배열의 크기 N, 숫자가 더해지는 횟수 M. 그리고 K가 주어질 때 동빈이의 큰 수의 법칙에 따른 결 \n",
    "괴를 출력 하시오. \n",
    "'''\n",
    "\n",
    "n, m, k = map(int, input().split())\n",
    "\n",
    "listA = list(map(int, input().split()))\n",
    "\n",
    "listA.sort()\n",
    "first = listA[n-1]\n",
    "second = listA[n-2]\n",
    "print(first, second)\n",
    "\n",
    "'''\n",
    "# first가 더해지는 횟수 계산\n",
    "cnt = int(m / (k + 1)) * k\n",
    "cnt += m % (k + 1)\n",
    "\n",
    "result = 0\n",
    "result += (cnt) * first # first 더하기\n",
    "result += (m - cnt) * second # second 더하기\n",
    "'''\n",
    "\n",
    "result = 0\n",
    "\n",
    "while(True):\n",
    "    if(m == 0):\n",
    "        break\n",
    "    for i in range(k):\n",
    "        result += first\n",
    "        m -= 1\n",
    "    if(m == 0):\n",
    "        break\n",
    "    result += second\n",
    "    m -= 1\n",
    "\n",
    "print(result)"
   ]
  }
 ],
 "metadata": {
  "kernelspec": {
   "display_name": "Python 3",
   "language": "python",
   "name": "python3"
  },
  "language_info": {
   "codemirror_mode": {
    "name": "ipython",
    "version": 3
   },
   "file_extension": ".py",
   "mimetype": "text/x-python",
   "name": "python",
   "nbconvert_exporter": "python",
   "pygments_lexer": "ipython3",
   "version": "3.8.0"
  },
  "orig_nbformat": 4
 },
 "nbformat": 4,
 "nbformat_minor": 2
}
