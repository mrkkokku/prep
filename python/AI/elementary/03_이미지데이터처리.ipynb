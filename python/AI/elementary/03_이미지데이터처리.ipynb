{
 "cells": [
  {
   "cell_type": "code",
   "execution_count": 5,
   "metadata": {},
   "outputs": [
    {
     "name": "stdout",
     "output_type": "stream",
     "text": [
      "<class 'numpy.ndarray'>\n"
     ]
    }
   ],
   "source": [
    "import cv2\n",
    "import numpy as np\n",
    "\n",
    "path = \"yoon.jpg\"\n",
    "\n",
    "img = cv2.imread(path) # 이미지를 ndarray로 저장했다\n",
    "print(type(img))"
   ]
  },
  {
   "cell_type": "code",
   "execution_count": 6,
   "metadata": {},
   "outputs": [
    {
     "name": "stdout",
     "output_type": "stream",
     "text": [
      "(600, 900, 3)\n",
      "\n",
      "1620000\n",
      "\n",
      "uint8\n",
      "\n"
     ]
    }
   ],
   "source": [
    "# 이미지를 와 크기를 출력\n",
    "\n",
    "# 아래 3라인을 세트처럼 써야 작동 함\n",
    "cv2.imshow('Image', img)\n",
    "cv2.waitKey(0)\n",
    "cv2.destroyAllWindows()\n",
    "\n",
    "print(img.shape) # y, x, 채널 수 출력\n",
    "print()\n",
    "\n",
    "print(img.size) # y, x, 채널수를 곱한 값\n",
    "print()\n",
    "\n",
    "print(img.dtype) # img의 데이터타입\n",
    "print()"
   ]
  },
  {
   "cell_type": "code",
   "execution_count": 8,
   "metadata": {},
   "outputs": [
    {
     "name": "stdout",
     "output_type": "stream",
     "text": [
      "(600, 900)\n"
     ]
    }
   ],
   "source": [
    "# 이미지 색상 변경 후 출력하기\n",
    "\n",
    "gray = cv2.imread(path, cv2.IMREAD_GRAYSCALE)\n",
    "\n",
    "cv2.imshow('Image', gray)\n",
    "cv2.waitKey(0)\n",
    "cv2.destroyAllWindows()\n",
    "\n",
    "print(gray.shape) # 채널수는 출력되지 않은 것 확인"
   ]
  },
  {
   "cell_type": "code",
   "execution_count": 11,
   "metadata": {},
   "outputs": [
    {
     "name": "stdout",
     "output_type": "stream",
     "text": [
      "[[[249 247 247]\n",
      "  [250 248 248]\n",
      "  [251 249 249]\n",
      "  ...\n",
      "  [249 247 247]\n",
      "  [249 247 247]\n",
      "  [249 247 247]]\n",
      "\n",
      " [[250 248 248]\n",
      "  [250 248 248]\n",
      "  [250 248 248]\n",
      "  ...\n",
      "  [249 247 247]\n",
      "  [249 247 247]\n",
      "  [249 247 247]]\n",
      "\n",
      " [[251 249 249]\n",
      "  [251 249 249]\n",
      "  [250 248 248]\n",
      "  ...\n",
      "  [247 247 247]\n",
      "  [247 247 247]\n",
      "  [247 247 247]]\n",
      "\n",
      " ...\n",
      "\n",
      " [[251 249 249]\n",
      "  [251 249 249]\n",
      "  [251 249 249]\n",
      "  ...\n",
      "  [249 249 249]\n",
      "  [251 249 249]\n",
      "  [250 248 248]]\n",
      "\n",
      " [[251 249 249]\n",
      "  [251 249 249]\n",
      "  [251 249 249]\n",
      "  ...\n",
      "  [248 248 248]\n",
      "  [248 248 248]\n",
      "  [248 248 248]]\n",
      "\n",
      " [[251 249 249]\n",
      "  [251 249 249]\n",
      "  [251 249 249]\n",
      "  ...\n",
      "  [248 248 248]\n",
      "  [247 247 247]\n",
      "  [248 248 248]]]\n"
     ]
    }
   ],
   "source": [
    "# 이미지 데이터의 픽셀값을 확인\n",
    "\n",
    "print(img) # ndarray형태인 것 확인"
   ]
  },
  {
   "cell_type": "code",
   "execution_count": null,
   "metadata": {},
   "outputs": [],
   "source": [
    "# 이미지의 최소, 최대값 출력\n",
    "\n",
    "print(img.min())\n",
    "\n",
    "print(img.max())"
   ]
  }
 ],
 "metadata": {
  "kernelspec": {
   "display_name": "Python 3",
   "language": "python",
   "name": "python3"
  },
  "language_info": {
   "codemirror_mode": {
    "name": "ipython",
    "version": 3
   },
   "file_extension": ".py",
   "mimetype": "text/x-python",
   "name": "python",
   "nbconvert_exporter": "python",
   "pygments_lexer": "ipython3",
   "version": "3.8.0"
  }
 },
 "nbformat": 4,
 "nbformat_minor": 2
}
